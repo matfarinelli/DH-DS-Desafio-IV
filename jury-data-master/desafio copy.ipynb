{
 "cells": [
  {
   "cell_type": "code",
   "execution_count": null,
   "metadata": {},
   "outputs": [],
   "source": [
    "import pandas as pd\n",
    "import numpy as np\n",
    "import seaborn as sns\n",
    "import matplotlib.pyplot as plt"
   ]
  },
  {
   "cell_type": "code",
   "execution_count": null,
   "metadata": {},
   "outputs": [],
   "source": [
    "data_jurors = pd.read_csv(\"jurors.csv\")\n",
    "data_jurors.head(2)"
   ]
  },
  {
   "cell_type": "code",
   "execution_count": null,
   "metadata": {},
   "outputs": [],
   "source": [
    "data_jurors.shape"
   ]
  },
  {
   "cell_type": "code",
   "execution_count": null,
   "metadata": {},
   "outputs": [],
   "source": [
    "#cant de jurados\n",
    "print(f'Cantidad de jurados: {len(data_jurors.id.unique())}')"
   ]
  },
  {
   "cell_type": "code",
   "execution_count": null,
   "metadata": {},
   "outputs": [],
   "source": [
    "#cant de juicios\n",
    "print(f'Cantidad de juicios: {len(data_jurors.trial__id.unique())}')"
   ]
  },
  {
   "cell_type": "code",
   "execution_count": null,
   "metadata": {},
   "outputs": [],
   "source": [
    "# cantidad de jurados por juicio\n",
    "\n",
    "juror_x_trial = data_jurors.groupby('trial__id').agg(\n",
    "    count_juror=pd.NamedAgg(column=\"id\", aggfunc=\"count\")\n",
    ")\n",
    "\n",
    "# juror_x_trial['count_juror'].hist(bins=30) #--> graficar serie directamente\n",
    "sns.histplot(data=juror_x_trial, x='count_juror', bins=30)\n",
    "\n",
    "plt.xlabel('Cantidad de jurados por juicio')\n",
    "plt.ylabel('Frecuencia')\n",
    "plt.title('Histograma de la cantidad de jurados por juicio')\n",
    "plt.show()"
   ]
  },
  {
   "cell_type": "code",
   "execution_count": null,
   "metadata": {},
   "outputs": [],
   "source": [
    "juror_x_trial.sort_values(by='count_juror').describe()"
   ]
  },
  {
   "attachments": {},
   "cell_type": "markdown",
   "metadata": {},
   "source": [
    "-Promedio de jurados por juicio: 48\n",
    "\n",
    "-Mínimo de jurados en un juicios : 19\n",
    "\n",
    "-Máximo de jurados en un juicios : 130\n"
   ]
  },
  {
   "cell_type": "code",
   "execution_count": null,
   "metadata": {},
   "outputs": [],
   "source": [
    "#descartar valores fuera del rango intercuartílico para observar posible variación en promedio\n",
    "# q = np.percentile(juror_x_trial, [25, 50, 75])\n",
    "# mask_interq = (juror_x_trial > q[0.25]) & (juror_x_trial < q[0.75])\n",
    "# juror_x_trial_iqr = juror_x_trial[mask_interq]\n",
    "# juror_x_trial_iqr.describe()"
   ]
  },
  {
   "cell_type": "code",
   "execution_count": null,
   "metadata": {},
   "outputs": [],
   "source": [
    "# fig, ax = plt.subplots(nrows=1 , ncols=2, figsize=(10, 5))\n",
    "# sns.boxplot(data = juror_x_trial, showmeans=True, meanprops={\"marker\":\"o\", \"markerfacecolor\":\"cyan\", \"markersize\":\"5\"}, ax =ax[0])\n",
    "# ax[0].set_title('Jurados por Juicio')\n",
    "# sns.boxplot(data = juror_x_trial_iqr, showmeans=True, meanprops={\"marker\":\"o\", \"markerfacecolor\":\"cyan\", \"markersize\":\"5\"}, ax =ax[1] )\n",
    "# ax[1].set_title('Jurados por Juicio (IQR)')\n",
    "\n",
    "# ymax = max(juror_x_trial['count_juror'].max(), juror_x_trial_iqr['count_juror'].max())\n",
    "# ax[0].set_ylim(0, ymax)\n",
    "# ax[1].set_ylim(0, ymax)"
   ]
  },
  {
   "cell_type": "code",
   "execution_count": null,
   "metadata": {},
   "outputs": [],
   "source": [
    "list(data_jurors.strike_eligibility.unique())"
   ]
  },
  {
   "cell_type": "code",
   "execution_count": null,
   "metadata": {},
   "outputs": [],
   "source": [
    "print(data_jurors.strike_eligibility.value_counts())\n",
    "print(f'Valores nulos ' , data_jurors.strike_eligibility.isna().sum())\n",
    "print(f'Total de datos ', data_jurors.strike_eligibility.shape[0])\n",
    "\n",
    "sns.countplot(x='strike_eligibility', data=data_jurors)"
   ]
  },
  {
   "cell_type": "code",
   "execution_count": null,
   "metadata": {},
   "outputs": [],
   "source": [
    "print(f'Valores nulos ' , data_jurors.struck_by.isna().sum())\n",
    "print(f'Total de datos ', data_jurors.struck_by.shape[0])\n",
    "\n",
    "sns.countplot(y='struck_by', data=data_jurors)\n",
    "\n",
    "print(data_jurors.struck_by.value_counts())"
   ]
  },
  {
   "cell_type": "code",
   "execution_count": null,
   "metadata": {},
   "outputs": [],
   "source": [
    "data_jurors.info()"
   ]
  },
  {
   "cell_type": "code",
   "execution_count": null,
   "metadata": {},
   "outputs": [],
   "source": [
    "data_trials = pd.read_csv(\"trials.csv\")\n",
    "data_trials.head(5)"
   ]
  },
  {
   "cell_type": "code",
   "execution_count": null,
   "metadata": {},
   "outputs": [],
   "source": [
    "import plotly.express as px\n",
    "\n",
    "fig = px.histogram(data_trials, x=\"defendant_race\", title=\"Distribución de la raza de los acusados\", color_discrete_sequence=['#1f77b4'])\n",
    "fig.show()"
   ]
  },
  {
   "cell_type": "code",
   "execution_count": null,
   "metadata": {},
   "outputs": [],
   "source": [
    "data_trials.info()"
   ]
  },
  {
   "cell_type": "code",
   "execution_count": null,
   "metadata": {},
   "outputs": [],
   "source": [
    "data_voir_dire_answers = pd.read_csv(\"voir_dire_answers.csv\")\n",
    "data_voir_dire_answers.head(1)"
   ]
  },
  {
   "cell_type": "code",
   "execution_count": null,
   "metadata": {},
   "outputs": [],
   "source": [
    "data_voir_dire_answers.info()"
   ]
  },
  {
   "cell_type": "code",
   "execution_count": null,
   "metadata": {},
   "outputs": [],
   "source": [
    "#unión jueces con juicios\n",
    "\n",
    "merged_jurors_trials = pd.merge(data_jurors, data_trials, left_on='trial__id', right_on='id')\n",
    "print(merged_jurors_trials.shape)"
   ]
  },
  {
   "cell_type": "code",
   "execution_count": null,
   "metadata": {},
   "outputs": [],
   "source": [
    "merged_jurors_trials.columns"
   ]
  },
  {
   "cell_type": "code",
   "execution_count": null,
   "metadata": {},
   "outputs": [],
   "source": [
    "print(f'Jurados:',data_jurors.columns)\n",
    "print(f'Juicios:',data_trials.columns)\n",
    "print(f'Encuesta:',data_voir_dire_answers.columns)"
   ]
  },
  {
   "cell_type": "code",
   "execution_count": null,
   "metadata": {},
   "outputs": [],
   "source": [
    "# busqueda de columnas en comun\n",
    "common_cols = set(data_jurors.columns).intersection(set(data_trials.columns)).intersection(set(data_voir_dire_answers.columns))\n",
    "common_cols"
   ]
  },
  {
   "cell_type": "code",
   "execution_count": null,
   "metadata": {},
   "outputs": [],
   "source": [
    "import networkx as nx\n",
    "\n",
    "# Crear el grafo\n",
    "G = nx.Graph()\n",
    "\n",
    "# Agregar nodos (tablas)\n",
    "G.add_node('Jurors')\n",
    "G.add_node('Trials')\n",
    "G.add_node('Survey')\n",
    "\n",
    "# Agregar conexiones (columnas)\n",
    "G.add_edge('Jurors', 'Trials', column='trial__id')\n",
    "G.add_edge('Survey', 'Jurors', column='juror_id')\n",
    "\n",
    "# Dibujar el grafo\n",
    "pos = nx.spring_layout(G)\n",
    "nx.draw(G, pos, with_labels=True)\n",
    "\n",
    "# Agregar etiquetas a las conexiones (columnas)\n",
    "labels = {('Jurors', 'Trials'): 'trial__id', ('Survey', 'Jurors'): 'juror_id'}\n",
    "nx.draw_networkx_edge_labels(G, pos, edge_labels=labels)\n",
    "\n",
    "plt.show()\n"
   ]
  },
  {
   "attachments": {},
   "cell_type": "markdown",
   "metadata": {},
   "source": [
    "-id_x ---> id jurado\n",
    "\n",
    "-id_y ---> id juicio\n",
    "\n",
    "-id ---> id cuestionario"
   ]
  },
  {
   "cell_type": "code",
   "execution_count": null,
   "metadata": {},
   "outputs": [],
   "source": [
    "#unión merge con voir\n",
    "\n",
    "#para ver todas las columnas\n",
    "# pd.set_option('display.max_columns', None)\n",
    "\n",
    "#merge con todos los jurados aunque no conozcamos sus datos de encuesta ---> 14875\n",
    "# data = pd.merge(merged_data , data_voir_dire_answers, left_on='id_x', right_on='juror_id', how = 'outer')\n",
    "#merge con todos los jurados con sus datos de encuesta ---> 3545\n",
    "data = pd.merge(merged_jurors_trials , data_voir_dire_answers, left_on='id_x', right_on='juror_id')\n",
    "print(data.shape)\n",
    "\n",
    "data.head(5)"
   ]
  },
  {
   "cell_type": "code",
   "execution_count": null,
   "metadata": {},
   "outputs": [],
   "source": [
    "# Juror chosen to serve on jury    3640\n",
    "# Juror not struck                 3436\n",
    "# Struck by the defense            2301\n",
    "# Struck for cause                 2042\n",
    "# Struck by the state              1852\n",
    "# Struck without notation           571\n",
    "# Juror excused/absent              371\n",
    "# Juror chosen as alternate         370\n",
    "# Unknown                           291\n",
    "\n",
    "etiquetas = { \n",
    "             'Juror chosen to serve on jury': 1,\n",
    "             'Juror not struck':  1,\n",
    "             'Struck by the defense':  0,\n",
    "             'Struck for cause':  0,\n",
    "             'Struck by the state':  0,\n",
    "             'Struck without notation': 0,\n",
    "             'Juror excused/absent': 0,\n",
    "             'Juror chosen as alternate': 1,\n",
    "             'Unknown': 0\n",
    "             }\n",
    "\n",
    "\n",
    "#EMPROLIJAr!!\n",
    "\n",
    "data['struck_by_1'] = data['struck_by'].map(etiquetas)\n",
    "data['struck_by'] = data['struck_by_1']\n",
    "data.drop(['struck_by_1'], axis=1, inplace=True)\n",
    "data"
   ]
  },
  {
   "cell_type": "code",
   "execution_count": null,
   "metadata": {},
   "outputs": [],
   "source": [
    "# pd.set_option('display.max_rows', None)\n",
    "data.isnull().sum().sort_values(ascending=False)"
   ]
  },
  {
   "cell_type": "code",
   "execution_count": null,
   "metadata": {},
   "outputs": [],
   "source": [
    "data_1 = data.dropna(thresh=.15, axis= 1)\n",
    "data_1.shape"
   ]
  },
  {
   "cell_type": "code",
   "execution_count": null,
   "metadata": {},
   "outputs": [],
   "source": [
    "data_voir_dire_answers.head()"
   ]
  },
  {
   "cell_type": "code",
   "execution_count": null,
   "metadata": {},
   "outputs": [],
   "source": [
    "data_1 = pd.get_dummies(data_voir_dire_answers, drop_first=True)\n",
    "data_1.head()"
   ]
  },
  {
   "cell_type": "code",
   "execution_count": null,
   "metadata": {},
   "outputs": [],
   "source": [
    "print(data_voir_dire_answers.shape)\n",
    "print(round(data_voir_dire_answers.married.value_counts()/data.shape[0],4))\n",
    "print()\n",
    "print(round(data_voir_dire_answers.children.value_counts()/data.shape[0],4))\n",
    "print()\n",
    "print(round(data_voir_dire_answers.religious.value_counts()/data.shape[0],4))\n",
    "print()\n",
    "print(round(data_voir_dire_answers.education.value_counts()/data.shape[0],4))"
   ]
  }
 ],
 "metadata": {
  "kernelspec": {
   "display_name": "dhdsblend2021",
   "language": "python",
   "name": "python3"
  },
  "language_info": {
   "codemirror_mode": {
    "name": "ipython",
    "version": 3
   },
   "file_extension": ".py",
   "mimetype": "text/x-python",
   "name": "python",
   "nbconvert_exporter": "python",
   "pygments_lexer": "ipython3",
   "version": "3.8.13"
  },
  "orig_nbformat": 4,
  "vscode": {
   "interpreter": {
    "hash": "d0c48e0326c6c4056e4b4eb85894922d97351fe3ceca175dabbe7210b9ffcd7d"
   }
  }
 },
 "nbformat": 4,
 "nbformat_minor": 2
}
