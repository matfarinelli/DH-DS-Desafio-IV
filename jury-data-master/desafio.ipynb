{
 "cells": [
  {
   "cell_type": "code",
   "execution_count": 115,
   "metadata": {},
   "outputs": [],
   "source": [
    "import pandas as pd\n",
    "import numpy as np\n",
    "import seaborn as sns\n",
    "import matplotlib.pyplot as plt"
   ]
  },
  {
   "cell_type": "markdown",
   "metadata": {},
   "source": [
    "LECTURA DATOS DE JURADOS"
   ]
  },
  {
   "cell_type": "code",
   "execution_count": 116,
   "metadata": {},
   "outputs": [
    {
     "data": {
      "text/html": [
       "<div>\n",
       "<style scoped>\n",
       "    .dataframe tbody tr th:only-of-type {\n",
       "        vertical-align: middle;\n",
       "    }\n",
       "\n",
       "    .dataframe tbody tr th {\n",
       "        vertical-align: top;\n",
       "    }\n",
       "\n",
       "    .dataframe thead th {\n",
       "        text-align: right;\n",
       "    }\n",
       "</style>\n",
       "<table border=\"1\" class=\"dataframe\">\n",
       "  <thead>\n",
       "    <tr style=\"text-align: right;\">\n",
       "      <th></th>\n",
       "      <th>id</th>\n",
       "      <th>trial</th>\n",
       "      <th>trial__id</th>\n",
       "      <th>race</th>\n",
       "      <th>gender</th>\n",
       "      <th>race_source</th>\n",
       "      <th>gender_source</th>\n",
       "      <th>struck_by</th>\n",
       "      <th>strike_eligibility</th>\n",
       "    </tr>\n",
       "  </thead>\n",
       "  <tbody>\n",
       "    <tr>\n",
       "      <th>0</th>\n",
       "      <td>35</td>\n",
       "      <td>1993-9826--Terry L. Landingham</td>\n",
       "      <td>1</td>\n",
       "      <td>White</td>\n",
       "      <td>Male</td>\n",
       "      <td>Jury strike sheet</td>\n",
       "      <td>Jury strike sheet</td>\n",
       "      <td>Struck for cause</td>\n",
       "      <td>NaN</td>\n",
       "    </tr>\n",
       "    <tr>\n",
       "      <th>1</th>\n",
       "      <td>38</td>\n",
       "      <td>1993-9826--Terry L. Landingham</td>\n",
       "      <td>1</td>\n",
       "      <td>Black</td>\n",
       "      <td>Female</td>\n",
       "      <td>Jury strike sheet</td>\n",
       "      <td>Jury strike sheet</td>\n",
       "      <td>Struck for cause</td>\n",
       "      <td>NaN</td>\n",
       "    </tr>\n",
       "  </tbody>\n",
       "</table>\n",
       "</div>"
      ],
      "text/plain": [
       "   id                           trial  trial__id   race  gender  \\\n",
       "0  35  1993-9826--Terry L. Landingham          1  White    Male   \n",
       "1  38  1993-9826--Terry L. Landingham          1  Black  Female   \n",
       "\n",
       "         race_source      gender_source         struck_by strike_eligibility  \n",
       "0  Jury strike sheet  Jury strike sheet  Struck for cause                NaN  \n",
       "1  Jury strike sheet  Jury strike sheet  Struck for cause                NaN  "
      ]
     },
     "execution_count": 116,
     "metadata": {},
     "output_type": "execute_result"
    }
   ],
   "source": [
    "data_jurors = pd.read_csv(\"jurors.csv\")\n",
    "data_jurors.head(2)"
   ]
  },
  {
   "cell_type": "code",
   "execution_count": 117,
   "metadata": {},
   "outputs": [
    {
     "name": "stdout",
     "output_type": "stream",
     "text": [
      "<class 'pandas.core.frame.DataFrame'>\n",
      "RangeIndex: 14874 entries, 0 to 14873\n",
      "Data columns (total 9 columns):\n",
      " #   Column              Non-Null Count  Dtype \n",
      "---  ------              --------------  ----- \n",
      " 0   id                  14874 non-null  int64 \n",
      " 1   trial               14874 non-null  object\n",
      " 2   trial__id           14874 non-null  int64 \n",
      " 3   race                14874 non-null  object\n",
      " 4   gender              14874 non-null  object\n",
      " 5   race_source         14874 non-null  object\n",
      " 6   gender_source       14874 non-null  object\n",
      " 7   struck_by           14874 non-null  object\n",
      " 8   strike_eligibility  8111 non-null   object\n",
      "dtypes: int64(2), object(7)\n",
      "memory usage: 1.0+ MB\n"
     ]
    }
   ],
   "source": [
    "data_jurors.info()"
   ]
  },
  {
   "cell_type": "code",
   "execution_count": 118,
   "metadata": {},
   "outputs": [],
   "source": [
    "#Creación columna año\n",
    "data_jurors['year'] = data_jurors.trial.str[:4]\n",
    "data_jurors.year = data_jurors.year.astype('int')"
   ]
  },
  {
   "cell_type": "code",
   "execution_count": 119,
   "metadata": {},
   "outputs": [],
   "source": [
    "#Eliminación columnas redundantes o de fuentes de datos\n",
    "data_jurors.drop(columns=['trial','race_source','gender_source'], inplace=True)"
   ]
  },
  {
   "cell_type": "code",
   "execution_count": 120,
   "metadata": {},
   "outputs": [
    {
     "data": {
      "text/plain": [
       "White      6241\n",
       "Unknown    4752\n",
       "Black      3877\n",
       "Asian         3\n",
       "Latino        1\n",
       "Name: race, dtype: int64"
      ]
     },
     "execution_count": 120,
     "metadata": {},
     "output_type": "execute_result"
    }
   ],
   "source": [
    "data_jurors['race'].value_counts()"
   ]
  },
  {
   "cell_type": "code",
   "execution_count": 121,
   "metadata": {},
   "outputs": [],
   "source": [
    "#Selección de las categorías 'Black' y 'White' la columna 'race'\n",
    "mask_jurors_2 = ['Black', 'White']\n",
    "data_jurors_mask_2 = data_jurors['race']. apply(lambda x: x in mask_jurors_2)\n",
    "data_jurors_3 = data_jurors.loc[data_jurors_mask_2]\n",
    "data_jurors = data_jurors_3"
   ]
  },
  {
   "cell_type": "code",
   "execution_count": 122,
   "metadata": {},
   "outputs": [
    {
     "data": {
      "text/html": [
       "<div>\n",
       "<style scoped>\n",
       "    .dataframe tbody tr th:only-of-type {\n",
       "        vertical-align: middle;\n",
       "    }\n",
       "\n",
       "    .dataframe tbody tr th {\n",
       "        vertical-align: top;\n",
       "    }\n",
       "\n",
       "    .dataframe thead tr th {\n",
       "        text-align: left;\n",
       "    }\n",
       "\n",
       "    .dataframe thead tr:last-of-type th {\n",
       "        text-align: right;\n",
       "    }\n",
       "</style>\n",
       "<table border=\"1\" class=\"dataframe\">\n",
       "  <thead>\n",
       "    <tr>\n",
       "      <th></th>\n",
       "      <th colspan=\"3\" halign=\"left\">id</th>\n",
       "    </tr>\n",
       "    <tr>\n",
       "      <th>gender</th>\n",
       "      <th>Female</th>\n",
       "      <th>Male</th>\n",
       "      <th>Unknown</th>\n",
       "    </tr>\n",
       "    <tr>\n",
       "      <th>race</th>\n",
       "      <th></th>\n",
       "      <th></th>\n",
       "      <th></th>\n",
       "    </tr>\n",
       "  </thead>\n",
       "  <tbody>\n",
       "    <tr>\n",
       "      <th>Black</th>\n",
       "      <td>2221</td>\n",
       "      <td>1381</td>\n",
       "      <td>275</td>\n",
       "    </tr>\n",
       "    <tr>\n",
       "      <th>White</th>\n",
       "      <td>3217</td>\n",
       "      <td>2650</td>\n",
       "      <td>374</td>\n",
       "    </tr>\n",
       "  </tbody>\n",
       "</table>\n",
       "</div>"
      ],
      "text/plain": [
       "           id              \n",
       "gender Female  Male Unknown\n",
       "race                       \n",
       "Black    2221  1381     275\n",
       "White    3217  2650     374"
      ]
     },
     "execution_count": 122,
     "metadata": {},
     "output_type": "execute_result"
    }
   ],
   "source": [
    "data_jurors.pivot_table(index = 'race', columns = 'gender', aggfunc = {'id' : 'count'})"
   ]
  },
  {
   "cell_type": "code",
   "execution_count": 123,
   "metadata": {},
   "outputs": [],
   "source": [
    "#Creación de variables dummies para la tabla de jurados\n",
    "col_dummies = ['race', 'gender']\n",
    "dummy_df = pd.get_dummies(data_jurors[col_dummies], drop_first=True)\n",
    "data_jurors = pd.concat([data_jurors.drop(col_dummies, axis=1), dummy_df], axis=1)"
   ]
  },
  {
   "cell_type": "code",
   "execution_count": 124,
   "metadata": {},
   "outputs": [
    {
     "name": "stdout",
     "output_type": "stream",
     "text": [
      "Cantidad de jurados: 10118\n"
     ]
    }
   ],
   "source": [
    "#cantidad de jurados\n",
    "print(f'Cantidad de jurados: {len(data_jurors.id.unique())}')"
   ]
  },
  {
   "cell_type": "code",
   "execution_count": 125,
   "metadata": {},
   "outputs": [
    {
     "name": "stdout",
     "output_type": "stream",
     "text": [
      "Cantidad de juicios: 226\n"
     ]
    }
   ],
   "source": [
    "#cantidad de juicios\n",
    "print(f'Cantidad de juicios: {len(data_jurors.trial__id.unique())}')"
   ]
  },
  {
   "cell_type": "code",
   "execution_count": 126,
   "metadata": {},
   "outputs": [
    {
     "data": {
      "image/png": "[encoded data removed]",
      "text/plain": [
       "<Figure size 640x480 with 1 Axes>"
      ]
     },
     "metadata": {},
     "output_type": "display_data"
    }
   ],
   "source": [
    "# cantidad de potenciales jurados evaluados por juicio\n",
    "\n",
    "juror_x_trial = data_jurors.groupby('trial__id').agg(\n",
    "    count_juror=pd.NamedAgg(column=\"id\", aggfunc=\"count\")\n",
    ")\n",
    "\n",
    "# juror_x_trial['count_juror'].hist(bins=30) #--> graficar serie directamente\n",
    "sns.histplot(data=juror_x_trial, x='count_juror', bins=30)\n",
    "\n",
    "plt.xlabel('Cantidad')\n",
    "plt.ylabel('Frecuencia')\n",
    "plt.title('Jurados potenciales por juicio')\n",
    "plt.show()"
   ]
  },
  {
   "cell_type": "code",
   "execution_count": 127,
   "metadata": {},
   "outputs": [
    {
     "data": {
      "text/html": [
       "<div>\n",
       "<style scoped>\n",
       "    .dataframe tbody tr th:only-of-type {\n",
       "        vertical-align: middle;\n",
       "    }\n",
       "\n",
       "    .dataframe tbody tr th {\n",
       "        vertical-align: top;\n",
       "    }\n",
       "\n",
       "    .dataframe thead th {\n",
       "        text-align: right;\n",
       "    }\n",
       "</style>\n",
       "<table border=\"1\" class=\"dataframe\">\n",
       "  <thead>\n",
       "    <tr style=\"text-align: right;\">\n",
       "      <th></th>\n",
       "      <th>count_juror</th>\n",
       "    </tr>\n",
       "  </thead>\n",
       "  <tbody>\n",
       "    <tr>\n",
       "      <th>count</th>\n",
       "      <td>226.000000</td>\n",
       "    </tr>\n",
       "    <tr>\n",
       "      <th>mean</th>\n",
       "      <td>44.769912</td>\n",
       "    </tr>\n",
       "    <tr>\n",
       "      <th>std</th>\n",
       "      <td>18.286368</td>\n",
       "    </tr>\n",
       "    <tr>\n",
       "      <th>min</th>\n",
       "      <td>3.000000</td>\n",
       "    </tr>\n",
       "    <tr>\n",
       "      <th>25%</th>\n",
       "      <td>36.000000</td>\n",
       "    </tr>\n",
       "    <tr>\n",
       "      <th>50%</th>\n",
       "      <td>44.000000</td>\n",
       "    </tr>\n",
       "    <tr>\n",
       "      <th>75%</th>\n",
       "      <td>53.000000</td>\n",
       "    </tr>\n",
       "    <tr>\n",
       "      <th>max</th>\n",
       "      <td>125.000000</td>\n",
       "    </tr>\n",
       "  </tbody>\n",
       "</table>\n",
       "</div>"
      ],
      "text/plain": [
       "       count_juror\n",
       "count   226.000000\n",
       "mean     44.769912\n",
       "std      18.286368\n",
       "min       3.000000\n",
       "25%      36.000000\n",
       "50%      44.000000\n",
       "75%      53.000000\n",
       "max     125.000000"
      ]
     },
     "execution_count": 127,
     "metadata": {},
     "output_type": "execute_result"
    }
   ],
   "source": [
    "juror_x_trial.sort_values(by='count_juror').describe()"
   ]
  },
  {
   "cell_type": "markdown",
   "metadata": {},
   "source": [
    "-Promedio de jurados por juicio: 48\n",
    "\n",
    "-Mínimo de jurados en un juicios : 19\n",
    "\n",
    "-Máximo de jurados en un juicios : 130\n"
   ]
  },
  {
   "cell_type": "code",
   "execution_count": 128,
   "metadata": {},
   "outputs": [
    {
     "name": "stdout",
     "output_type": "stream",
     "text": [
      "Both State and Defense    3503\n",
      "State                     1626\n",
      "Defense                    155\n",
      "Neither                    136\n",
      "Name: strike_eligibility, dtype: int64\n",
      "Valores nulos  4698\n",
      "Total de datos  10118\n"
     ]
    },
    {
     "data": {
      "text/plain": [
       "<AxesSubplot:xlabel='strike_eligibility', ylabel='count'>"
      ]
     },
     "execution_count": 128,
     "metadata": {},
     "output_type": "execute_result"
    },
    {
     "data": {
      "image/png": "[encoded data removed]",
      "text/plain": [
       "<Figure size 640x480 with 1 Axes>"
      ]
     },
     "metadata": {},
     "output_type": "display_data"
    }
   ],
   "source": [
    "print(data_jurors.strike_eligibility.value_counts())\n",
    "print(f'Valores nulos ' , data_jurors.strike_eligibility.isna().sum())\n",
    "print(f'Total de datos ', data_jurors.strike_eligibility.shape[0])\n",
    "\n",
    "sns.countplot(x='strike_eligibility', data=data_jurors)"
   ]
  },
  {
   "cell_type": "code",
   "execution_count": 129,
   "metadata": {},
   "outputs": [],
   "source": [
    "data_jurors_struck_by=pd.DataFrame(data_jurors.struck_by)"
   ]
  },
  {
   "cell_type": "code",
   "execution_count": 130,
   "metadata": {},
   "outputs": [],
   "source": [
    "#Agrupamos los valores de la variable target (elegido o rechazado)\n",
    "\n",
    "etiquetas_struck_by = { \n",
    "             'Juror chosen to serve on jury': 'Elegido',\n",
    "             'Juror not struck':  'No rechazado',\n",
    "             'Struck by the defense':  'Por la defensa',\n",
    "             'Struck for cause':  'Por causa',\n",
    "             'Struck by the state':  'Por el estado',\n",
    "             'Struck without notation': 'Rechzada sin notación',\n",
    "             'Juror excused/absent': 'Exhimido/Ausente',\n",
    "             'Juror chosen as alternate': 'Suplente',\n",
    "             'Unknown': 'Desconocido'\n",
    "             }\n",
    "\n",
    "\n",
    "data_jurors_struck_by['struck_by'] = data_jurors_struck_by['struck_by'].map(etiquetas_struck_by)"
   ]
  },
  {
   "cell_type": "code",
   "execution_count": 131,
   "metadata": {},
   "outputs": [
    {
     "name": "stdout",
     "output_type": "stream",
     "text": [
      "Valores nulos  0\n",
      "Total de datos  10118\n",
      "No rechazado             2900\n",
      "Elegido                  2462\n",
      "Por la defensa           1466\n",
      "Por causa                1342\n",
      "Por el estado            1285\n",
      "Rechzada sin notación     362\n",
      "Suplente                  240\n",
      "Exhimido/Ausente           43\n",
      "Desconocido                18\n",
      "Name: struck_by, dtype: int64\n"
     ]
    },
    {
     "data": {
      "image/png": "[encoded data removed]",
      "text/plain": [
       "<Figure size 640x480 with 1 Axes>"
      ]
     },
     "metadata": {},
     "output_type": "display_data"
    }
   ],
   "source": [
    "print(f'Valores nulos ' , data_jurors_struck_by.struck_by.isna().sum())\n",
    "print(f'Total de datos ', data_jurors_struck_by.struck_by.shape[0])\n",
    "\n",
    "#Analizamos la correlación que existe entre algunas de las variables\n",
    "orden=data_jurors_struck_by.struck_by.value_counts().index\n",
    "sns.countplot(y='struck_by', data=data_jurors_struck_by, order=orden)\n",
    "\n",
    "print(data_jurors_struck_by.struck_by.value_counts())"
   ]
  },
  {
   "cell_type": "code",
   "execution_count": 132,
   "metadata": {},
   "outputs": [
    {
     "name": "stdout",
     "output_type": "stream",
     "text": [
      "<class 'pandas.core.frame.DataFrame'>\n",
      "Int64Index: 10118 entries, 0 to 14873\n",
      "Data columns (total 8 columns):\n",
      " #   Column              Non-Null Count  Dtype \n",
      "---  ------              --------------  ----- \n",
      " 0   id                  10118 non-null  int64 \n",
      " 1   trial__id           10118 non-null  int64 \n",
      " 2   struck_by           10118 non-null  object\n",
      " 3   strike_eligibility  5420 non-null   object\n",
      " 4   year                10118 non-null  int32 \n",
      " 5   race_White          10118 non-null  uint8 \n",
      " 6   gender_Male         10118 non-null  uint8 \n",
      " 7   gender_Unknown      10118 non-null  uint8 \n",
      "dtypes: int32(1), int64(2), object(2), uint8(3)\n",
      "memory usage: 784.4+ KB\n"
     ]
    }
   ],
   "source": [
    "data_jurors.info()"
   ]
  },
  {
   "cell_type": "markdown",
   "metadata": {},
   "source": [
    "------------------------"
   ]
  },
  {
   "cell_type": "markdown",
   "metadata": {},
   "source": [
    "LECTURA DATOS DE JUICIOS"
   ]
  },
  {
   "cell_type": "code",
   "execution_count": 133,
   "metadata": {},
   "outputs": [
    {
     "data": {
      "text/html": [
       "<div>\n",
       "<style scoped>\n",
       "    .dataframe tbody tr th:only-of-type {\n",
       "        vertical-align: middle;\n",
       "    }\n",
       "\n",
       "    .dataframe tbody tr th {\n",
       "        vertical-align: top;\n",
       "    }\n",
       "\n",
       "    .dataframe thead th {\n",
       "        text-align: right;\n",
       "    }\n",
       "</style>\n",
       "<table border=\"1\" class=\"dataframe\">\n",
       "  <thead>\n",
       "    <tr style=\"text-align: right;\">\n",
       "      <th></th>\n",
       "      <th>id</th>\n",
       "      <th>defendant_name</th>\n",
       "      <th>cause_number</th>\n",
       "      <th>state_strikes</th>\n",
       "      <th>defense_strikes</th>\n",
       "      <th>county</th>\n",
       "      <th>defendant_race</th>\n",
       "      <th>second_defendant_race</th>\n",
       "      <th>third_defendant_race</th>\n",
       "      <th>fourth_defendant_race</th>\n",
       "      <th>...</th>\n",
       "      <th>offense_code_5</th>\n",
       "      <th>offense_title_5</th>\n",
       "      <th>offense_code_6</th>\n",
       "      <th>offense_title_6</th>\n",
       "      <th>more_than_six</th>\n",
       "      <th>verdict</th>\n",
       "      <th>case_appealed</th>\n",
       "      <th>batson_claim_by_defense</th>\n",
       "      <th>batson_claim_by_state</th>\n",
       "      <th>voir_dire_present</th>\n",
       "    </tr>\n",
       "  </thead>\n",
       "  <tbody>\n",
       "    <tr>\n",
       "      <th>0</th>\n",
       "      <td>1</td>\n",
       "      <td>Terry L. Landingham</td>\n",
       "      <td>1993-9826</td>\n",
       "      <td>False</td>\n",
       "      <td>False</td>\n",
       "      <td>Attala</td>\n",
       "      <td>Black</td>\n",
       "      <td>NaN</td>\n",
       "      <td>NaN</td>\n",
       "      <td>NaN</td>\n",
       "      <td>...</td>\n",
       "      <td>NaN</td>\n",
       "      <td>NaN</td>\n",
       "      <td>NaN</td>\n",
       "      <td>NaN</td>\n",
       "      <td>False</td>\n",
       "      <td>Guilty on at least one offense</td>\n",
       "      <td>True</td>\n",
       "      <td>False</td>\n",
       "      <td>False</td>\n",
       "      <td>True</td>\n",
       "    </tr>\n",
       "    <tr>\n",
       "      <th>1</th>\n",
       "      <td>2</td>\n",
       "      <td>Donovan Johnson</td>\n",
       "      <td>2009-0023</td>\n",
       "      <td>False</td>\n",
       "      <td>True</td>\n",
       "      <td>Attala</td>\n",
       "      <td>Black</td>\n",
       "      <td>NaN</td>\n",
       "      <td>NaN</td>\n",
       "      <td>NaN</td>\n",
       "      <td>...</td>\n",
       "      <td>NaN</td>\n",
       "      <td>NaN</td>\n",
       "      <td>NaN</td>\n",
       "      <td>NaN</td>\n",
       "      <td>False</td>\n",
       "      <td>Guilty on at least one offense</td>\n",
       "      <td>True</td>\n",
       "      <td>False</td>\n",
       "      <td>False</td>\n",
       "      <td>True</td>\n",
       "    </tr>\n",
       "    <tr>\n",
       "      <th>2</th>\n",
       "      <td>3</td>\n",
       "      <td>Sparky Watson</td>\n",
       "      <td>2004-0257</td>\n",
       "      <td>True</td>\n",
       "      <td>True</td>\n",
       "      <td>Grenada</td>\n",
       "      <td>Black</td>\n",
       "      <td>NaN</td>\n",
       "      <td>NaN</td>\n",
       "      <td>NaN</td>\n",
       "      <td>...</td>\n",
       "      <td>NaN</td>\n",
       "      <td>NaN</td>\n",
       "      <td>NaN</td>\n",
       "      <td>NaN</td>\n",
       "      <td>False</td>\n",
       "      <td>Guilty on at least one offense</td>\n",
       "      <td>True</td>\n",
       "      <td>False</td>\n",
       "      <td>False</td>\n",
       "      <td>True</td>\n",
       "    </tr>\n",
       "    <tr>\n",
       "      <th>3</th>\n",
       "      <td>4</td>\n",
       "      <td>Phillip Knickel</td>\n",
       "      <td>1998-0020</td>\n",
       "      <td>False</td>\n",
       "      <td>True</td>\n",
       "      <td>Montgomery</td>\n",
       "      <td>White</td>\n",
       "      <td>NaN</td>\n",
       "      <td>NaN</td>\n",
       "      <td>NaN</td>\n",
       "      <td>...</td>\n",
       "      <td>NaN</td>\n",
       "      <td>NaN</td>\n",
       "      <td>NaN</td>\n",
       "      <td>NaN</td>\n",
       "      <td>False</td>\n",
       "      <td>Guilty on at least one offense</td>\n",
       "      <td>True</td>\n",
       "      <td>False</td>\n",
       "      <td>False</td>\n",
       "      <td>True</td>\n",
       "    </tr>\n",
       "    <tr>\n",
       "      <th>4</th>\n",
       "      <td>5</td>\n",
       "      <td>Donald Dotson</td>\n",
       "      <td>1994-9918</td>\n",
       "      <td>False</td>\n",
       "      <td>True</td>\n",
       "      <td>Attala</td>\n",
       "      <td>Black</td>\n",
       "      <td>NaN</td>\n",
       "      <td>NaN</td>\n",
       "      <td>NaN</td>\n",
       "      <td>...</td>\n",
       "      <td>NaN</td>\n",
       "      <td>NaN</td>\n",
       "      <td>NaN</td>\n",
       "      <td>NaN</td>\n",
       "      <td>False</td>\n",
       "      <td>Guilty on at least one offense</td>\n",
       "      <td>True</td>\n",
       "      <td>True</td>\n",
       "      <td>False</td>\n",
       "      <td>True</td>\n",
       "    </tr>\n",
       "  </tbody>\n",
       "</table>\n",
       "<p>5 rows × 38 columns</p>\n",
       "</div>"
      ],
      "text/plain": [
       "   id       defendant_name cause_number  state_strikes  defense_strikes  \\\n",
       "0   1  Terry L. Landingham    1993-9826          False            False   \n",
       "1   2      Donovan Johnson    2009-0023          False             True   \n",
       "2   3        Sparky Watson    2004-0257           True             True   \n",
       "3   4      Phillip Knickel    1998-0020          False             True   \n",
       "4   5        Donald Dotson    1994-9918          False             True   \n",
       "\n",
       "       county defendant_race second_defendant_race third_defendant_race  \\\n",
       "0      Attala          Black                   NaN                  NaN   \n",
       "1      Attala          Black                   NaN                  NaN   \n",
       "2     Grenada          Black                   NaN                  NaN   \n",
       "3  Montgomery          White                   NaN                  NaN   \n",
       "4      Attala          Black                   NaN                  NaN   \n",
       "\n",
       "   fourth_defendant_race  ...  offense_code_5 offense_title_5 offense_code_6  \\\n",
       "0                    NaN  ...             NaN             NaN            NaN   \n",
       "1                    NaN  ...             NaN             NaN            NaN   \n",
       "2                    NaN  ...             NaN             NaN            NaN   \n",
       "3                    NaN  ...             NaN             NaN            NaN   \n",
       "4                    NaN  ...             NaN             NaN            NaN   \n",
       "\n",
       "  offense_title_6 more_than_six                         verdict case_appealed  \\\n",
       "0             NaN         False  Guilty on at least one offense          True   \n",
       "1             NaN         False  Guilty on at least one offense          True   \n",
       "2             NaN         False  Guilty on at least one offense          True   \n",
       "3             NaN         False  Guilty on at least one offense          True   \n",
       "4             NaN         False  Guilty on at least one offense          True   \n",
       "\n",
       "  batson_claim_by_defense batson_claim_by_state  voir_dire_present  \n",
       "0                   False                 False               True  \n",
       "1                   False                 False               True  \n",
       "2                   False                 False               True  \n",
       "3                   False                 False               True  \n",
       "4                    True                 False               True  \n",
       "\n",
       "[5 rows x 38 columns]"
      ]
     },
     "execution_count": 133,
     "metadata": {},
     "output_type": "execute_result"
    }
   ],
   "source": [
    "data_trials = pd.read_csv(\"trials.csv\")\n",
    "data_trials.head(5)"
   ]
  },
  {
   "cell_type": "code",
   "execution_count": 134,
   "metadata": {},
   "outputs": [
    {
     "name": "stdout",
     "output_type": "stream",
     "text": [
      "<class 'pandas.core.frame.DataFrame'>\n",
      "RangeIndex: 305 entries, 0 to 304\n",
      "Data columns (total 38 columns):\n",
      " #   Column                       Non-Null Count  Dtype  \n",
      "---  ------                       --------------  -----  \n",
      " 0   id                           305 non-null    int64  \n",
      " 1   defendant_name               305 non-null    object \n",
      " 2   cause_number                 305 non-null    object \n",
      " 3   state_strikes                305 non-null    bool   \n",
      " 4   defense_strikes              305 non-null    bool   \n",
      " 5   county                       305 non-null    object \n",
      " 6   defendant_race               305 non-null    object \n",
      " 7   second_defendant_race        15 non-null     object \n",
      " 8   third_defendant_race         2 non-null      object \n",
      " 9   fourth_defendant_race        0 non-null      float64\n",
      " 10  more_than_four_defendants    305 non-null    bool   \n",
      " 11  judge                        305 non-null    object \n",
      " 12  prosecutor_1                 303 non-null    object \n",
      " 13  prosecutor_2                 189 non-null    object \n",
      " 14  prosecutor_3                 21 non-null     object \n",
      " 15  prosecutors_more_than_three  305 non-null    bool   \n",
      " 16  def_attny_1                  304 non-null    object \n",
      " 17  def_attny_2                  38 non-null     object \n",
      " 18  def_attny_3                  7 non-null      object \n",
      " 19  def_attnys_more_than_three   305 non-null    bool   \n",
      " 20  offense_code_1               305 non-null    object \n",
      " 21  offense_title_1              305 non-null    object \n",
      " 22  offense_code_2               124 non-null    object \n",
      " 23  offense_title_2              124 non-null    object \n",
      " 24  offense_code_3               53 non-null     object \n",
      " 25  offense_title_3              53 non-null     object \n",
      " 26  offense_code_4               21 non-null     object \n",
      " 27  offense_title_4              21 non-null     object \n",
      " 28  offense_code_5               8 non-null      object \n",
      " 29  offense_title_5              9 non-null      object \n",
      " 30  offense_code_6               3 non-null      object \n",
      " 31  offense_title_6              3 non-null      object \n",
      " 32  more_than_six                305 non-null    bool   \n",
      " 33  verdict                      305 non-null    object \n",
      " 34  case_appealed                305 non-null    bool   \n",
      " 35  batson_claim_by_defense      305 non-null    bool   \n",
      " 36  batson_claim_by_state        305 non-null    bool   \n",
      " 37  voir_dire_present            305 non-null    bool   \n",
      "dtypes: bool(10), float64(1), int64(1), object(26)\n",
      "memory usage: 69.8+ KB\n"
     ]
    }
   ],
   "source": [
    "data_trials.info()"
   ]
  },
  {
   "cell_type": "code",
   "execution_count": 135,
   "metadata": {},
   "outputs": [
    {
     "data": {
      "image/png": "[encoded data removed]",
      "text/plain": [
       "<Figure size 1000x1500 with 1 Axes>"
      ]
     },
     "metadata": {},
     "output_type": "display_data"
    }
   ],
   "source": [
    "import matplotlib.pyplot as plt\n",
    "\n",
    "# Calcular el conteo de cada valor único en la columna 'offense_title_1'\n",
    "value_counts = data_trials.offense_title_1.value_counts()\n",
    "\n",
    "# Crear una figura con un tamaño personalizado\n",
    "fig = plt.figure(figsize=(10, 15))\n",
    "\n",
    "# Crear un gráfico de barras horizontal dentro de la figura\n",
    "plt.barh(value_counts.index, value_counts.values)\n",
    "\n",
    "# Ajustar el tamaño de la fuente de las etiquetas en el eje y a 8 puntos\n",
    "plt.tick_params(axis='y', labelsize=8)\n",
    "\n",
    "# Añadir títulos y etiquetas de los ejes\n",
    "plt.title('Recuento de títulos de ofensas')\n",
    "plt.xlabel('Número de casos')\n",
    "plt.ylabel('Título de la ofensa')\n",
    "\n",
    "# Mostrar el gráfico\n",
    "plt.show()\n"
   ]
  },
  {
   "cell_type": "code",
   "execution_count": 136,
   "metadata": {},
   "outputs": [],
   "source": [
    "from collections import Counter"
   ]
  },
  {
   "cell_type": "code",
   "execution_count": 137,
   "metadata": {},
   "outputs": [],
   "source": [
    "all_words = []\n",
    "for row in data_trials['offense_title_1']:\n",
    "    words = row.lower().split()\n",
    "    all_words.extend(words)"
   ]
  },
  {
   "cell_type": "code",
   "execution_count": 138,
   "metadata": {},
   "outputs": [],
   "source": [
    "stopwords = ['manslaughter', 'murder','assault','possession','burglary','dwelling','robbery','substance','rape','marijuana','cocaine','battery', 'theft'] \n",
    "filtered_words = [word for word in all_words if word in stopwords]\n",
    "word_counts = Counter(filtered_words)"
   ]
  },
  {
   "cell_type": "code",
   "execution_count": 139,
   "metadata": {},
   "outputs": [
    {
     "name": "stdout",
     "output_type": "stream",
     "text": [
      "Cantidad de palabras encontradas: 13\n",
      "Palabras más utilizadas:\n",
      "murder: 65\n",
      "cocaine: 41\n",
      "assault: 40\n",
      "possession: 31\n",
      "burglary: 30\n",
      "dwelling: 24\n",
      "robbery: 23\n",
      "rape: 12\n",
      "battery: 11\n",
      "marijuana: 11\n",
      "substance: 10\n",
      "manslaughter: 4\n",
      "theft: 4\n"
     ]
    }
   ],
   "source": [
    "word_counts_list = list(word_counts.items())\n",
    "word_counts_list.sort(key=lambda x: x[1], reverse=True)\n",
    "\n",
    "print(\"Cantidad de palabras encontradas:\", len(word_counts_list))\n",
    "print(\"Palabras más utilizadas:\")\n",
    "\n",
    "words = []\n",
    "\n",
    "for word, count in word_counts_list:\n",
    "    words.append(word)\n",
    "    print(f\"{word}: {count}\")"
   ]
  },
  {
   "cell_type": "code",
   "execution_count": 140,
   "metadata": {},
   "outputs": [
    {
     "name": "stdout",
     "output_type": "stream",
     "text": [
      "['murder', 'cocaine', 'assault', 'possession', 'burglary', 'dwelling', 'robbery', 'rape', 'battery', 'marijuana', 'substance', 'manslaughter', 'theft']\n"
     ]
    }
   ],
   "source": [
    "print(words)"
   ]
  },
  {
   "cell_type": "code",
   "execution_count": 141,
   "metadata": {},
   "outputs": [
    {
     "name": "stderr",
     "output_type": "stream",
     "text": [
      "C:\\Users\\alejo\\AppData\\Local\\Temp\\ipykernel_1956\\3107046408.py:5: SettingWithCopyWarning:\n",
      "\n",
      "\n",
      "A value is trying to be set on a copy of a slice from a DataFrame.\n",
      "Try using .loc[row_indexer,col_indexer] = value instead\n",
      "\n",
      "See the caveats in the documentation: https://pandas.pydata.org/pandas-docs/stable/user_guide/indexing.html#returning-a-view-versus-a-copy\n",
      "\n"
     ]
    }
   ],
   "source": [
    "# Filtra las filas del DataFrame que contienen al menos una palabra de la lista \"words\"\n",
    "filtered_data = data_trials[data_trials['offense_title_1'].str.lower().str.contains('|'.join(words))]\n",
    "\n",
    "# Crea una nueva columna \"ofensa\" que contiene la palabra encontrada en la columna \"data_trials.offense_title_1\"\n",
    "filtered_data['ofensa'] = filtered_data['offense_title_1'].apply(lambda x: [word for word in words if word in x.lower()][0])\n",
    "\n",
    "# filtered_data[['offense_title_1','ofensa']].sample(10)\n"
   ]
  },
  {
   "cell_type": "code",
   "execution_count": 142,
   "metadata": {},
   "outputs": [
    {
     "data": {
      "text/html": [
       "<div>\n",
       "<style scoped>\n",
       "    .dataframe tbody tr th:only-of-type {\n",
       "        vertical-align: middle;\n",
       "    }\n",
       "\n",
       "    .dataframe tbody tr th {\n",
       "        vertical-align: top;\n",
       "    }\n",
       "\n",
       "    .dataframe thead th {\n",
       "        text-align: right;\n",
       "    }\n",
       "</style>\n",
       "<table border=\"1\" class=\"dataframe\">\n",
       "  <thead>\n",
       "    <tr style=\"text-align: right;\">\n",
       "      <th></th>\n",
       "      <th>id</th>\n",
       "      <th>defendant_name</th>\n",
       "      <th>cause_number</th>\n",
       "      <th>state_strikes</th>\n",
       "      <th>defense_strikes</th>\n",
       "      <th>county</th>\n",
       "      <th>defendant_race</th>\n",
       "      <th>second_defendant_race</th>\n",
       "      <th>third_defendant_race</th>\n",
       "      <th>fourth_defendant_race</th>\n",
       "      <th>...</th>\n",
       "      <th>offense_title_5</th>\n",
       "      <th>offense_code_6</th>\n",
       "      <th>offense_title_6</th>\n",
       "      <th>more_than_six</th>\n",
       "      <th>verdict</th>\n",
       "      <th>case_appealed</th>\n",
       "      <th>batson_claim_by_defense</th>\n",
       "      <th>batson_claim_by_state</th>\n",
       "      <th>voir_dire_present</th>\n",
       "      <th>offense</th>\n",
       "    </tr>\n",
       "  </thead>\n",
       "  <tbody>\n",
       "    <tr>\n",
       "      <th>144</th>\n",
       "      <td>145</td>\n",
       "      <td>James Booker</td>\n",
       "      <td>1995-7171</td>\n",
       "      <td>True</td>\n",
       "      <td>True</td>\n",
       "      <td>Montgomery</td>\n",
       "      <td>Black</td>\n",
       "      <td>NaN</td>\n",
       "      <td>NaN</td>\n",
       "      <td>NaN</td>\n",
       "      <td>...</td>\n",
       "      <td>NaN</td>\n",
       "      <td>NaN</td>\n",
       "      <td>NaN</td>\n",
       "      <td>False</td>\n",
       "      <td>Aquitted on all counts</td>\n",
       "      <td>False</td>\n",
       "      <td>False</td>\n",
       "      <td>False</td>\n",
       "      <td>False</td>\n",
       "      <td>burglary</td>\n",
       "    </tr>\n",
       "    <tr>\n",
       "      <th>73</th>\n",
       "      <td>74</td>\n",
       "      <td>Benjamin Redwine</td>\n",
       "      <td>1994-6777</td>\n",
       "      <td>False</td>\n",
       "      <td>True</td>\n",
       "      <td>Grenada</td>\n",
       "      <td>White</td>\n",
       "      <td>NaN</td>\n",
       "      <td>NaN</td>\n",
       "      <td>NaN</td>\n",
       "      <td>...</td>\n",
       "      <td>NaN</td>\n",
       "      <td>NaN</td>\n",
       "      <td>NaN</td>\n",
       "      <td>False</td>\n",
       "      <td>Guilty on at least one offense</td>\n",
       "      <td>True</td>\n",
       "      <td>False</td>\n",
       "      <td>False</td>\n",
       "      <td>False</td>\n",
       "      <td>robbery</td>\n",
       "    </tr>\n",
       "    <tr>\n",
       "      <th>259</th>\n",
       "      <td>261</td>\n",
       "      <td>Kenyoung Fair</td>\n",
       "      <td>2007-0024</td>\n",
       "      <td>False</td>\n",
       "      <td>False</td>\n",
       "      <td>Choctaw</td>\n",
       "      <td>Black</td>\n",
       "      <td>NaN</td>\n",
       "      <td>NaN</td>\n",
       "      <td>NaN</td>\n",
       "      <td>...</td>\n",
       "      <td>NaN</td>\n",
       "      <td>NaN</td>\n",
       "      <td>NaN</td>\n",
       "      <td>False</td>\n",
       "      <td>Guilty on at least one offense</td>\n",
       "      <td>True</td>\n",
       "      <td>False</td>\n",
       "      <td>False</td>\n",
       "      <td>True</td>\n",
       "      <td>murder</td>\n",
       "    </tr>\n",
       "    <tr>\n",
       "      <th>197</th>\n",
       "      <td>199</td>\n",
       "      <td>Melvin Woolie</td>\n",
       "      <td>1993-9818</td>\n",
       "      <td>False</td>\n",
       "      <td>True</td>\n",
       "      <td>Attala</td>\n",
       "      <td>Black</td>\n",
       "      <td>NaN</td>\n",
       "      <td>NaN</td>\n",
       "      <td>NaN</td>\n",
       "      <td>...</td>\n",
       "      <td>NaN</td>\n",
       "      <td>NaN</td>\n",
       "      <td>NaN</td>\n",
       "      <td>False</td>\n",
       "      <td>Guilty on at least one offense</td>\n",
       "      <td>True</td>\n",
       "      <td>False</td>\n",
       "      <td>False</td>\n",
       "      <td>True</td>\n",
       "      <td>NaN</td>\n",
       "    </tr>\n",
       "    <tr>\n",
       "      <th>240</th>\n",
       "      <td>242</td>\n",
       "      <td>Marvin Fields</td>\n",
       "      <td>2000-0288</td>\n",
       "      <td>True</td>\n",
       "      <td>True</td>\n",
       "      <td>Grenada</td>\n",
       "      <td>Black</td>\n",
       "      <td>NaN</td>\n",
       "      <td>NaN</td>\n",
       "      <td>NaN</td>\n",
       "      <td>...</td>\n",
       "      <td>NaN</td>\n",
       "      <td>NaN</td>\n",
       "      <td>NaN</td>\n",
       "      <td>False</td>\n",
       "      <td>Guilty on at least one offense</td>\n",
       "      <td>True</td>\n",
       "      <td>False</td>\n",
       "      <td>False</td>\n",
       "      <td>True</td>\n",
       "      <td>burglary</td>\n",
       "    </tr>\n",
       "  </tbody>\n",
       "</table>\n",
       "<p>5 rows × 39 columns</p>\n",
       "</div>"
      ],
      "text/plain": [
       "      id    defendant_name cause_number  state_strikes  defense_strikes  \\\n",
       "144  145      James Booker    1995-7171           True             True   \n",
       "73    74  Benjamin Redwine    1994-6777          False             True   \n",
       "259  261     Kenyoung Fair    2007-0024          False            False   \n",
       "197  199     Melvin Woolie    1993-9818          False             True   \n",
       "240  242     Marvin Fields    2000-0288           True             True   \n",
       "\n",
       "         county defendant_race second_defendant_race third_defendant_race  \\\n",
       "144  Montgomery          Black                   NaN                  NaN   \n",
       "73      Grenada          White                   NaN                  NaN   \n",
       "259     Choctaw          Black                   NaN                  NaN   \n",
       "197      Attala          Black                   NaN                  NaN   \n",
       "240     Grenada          Black                   NaN                  NaN   \n",
       "\n",
       "     fourth_defendant_race  ...  offense_title_5 offense_code_6  \\\n",
       "144                    NaN  ...              NaN            NaN   \n",
       "73                     NaN  ...              NaN            NaN   \n",
       "259                    NaN  ...              NaN            NaN   \n",
       "197                    NaN  ...              NaN            NaN   \n",
       "240                    NaN  ...              NaN            NaN   \n",
       "\n",
       "    offense_title_6 more_than_six                         verdict  \\\n",
       "144             NaN         False          Aquitted on all counts   \n",
       "73              NaN         False  Guilty on at least one offense   \n",
       "259             NaN         False  Guilty on at least one offense   \n",
       "197             NaN         False  Guilty on at least one offense   \n",
       "240             NaN         False  Guilty on at least one offense   \n",
       "\n",
       "     case_appealed batson_claim_by_defense batson_claim_by_state  \\\n",
       "144          False                   False                 False   \n",
       "73            True                   False                 False   \n",
       "259           True                   False                 False   \n",
       "197           True                   False                 False   \n",
       "240           True                   False                 False   \n",
       "\n",
       "    voir_dire_present   offense  \n",
       "144             False  burglary  \n",
       "73              False   robbery  \n",
       "259              True    murder  \n",
       "197              True       NaN  \n",
       "240              True  burglary  \n",
       "\n",
       "[5 rows x 39 columns]"
      ]
     },
     "execution_count": 142,
     "metadata": {},
     "output_type": "execute_result"
    }
   ],
   "source": [
    "#Creación columna de agrupamiento de delitos en dataframe de juicios\n",
    "data_trials['offense'] = filtered_data.loc[:,'ofensa']\n",
    "data_trials.sample(5)"
   ]
  },
  {
   "cell_type": "code",
   "execution_count": 143,
   "metadata": {},
   "outputs": [],
   "source": [
    "data_trials['offense'].fillna('other', inplace=True)"
   ]
  },
  {
   "cell_type": "code",
   "execution_count": 144,
   "metadata": {},
   "outputs": [],
   "source": [
    "#Hacemos un agrupamiento final por tipo de crimen\n",
    "etiquetas_ofensas = {\n",
    "    'murder': 'Homicide-related',\n",
    "    'manslaughter': 'Homicide-related',\n",
    "    'assault': 'Assault-related',\n",
    "    'possession': 'Drug-related',\n",
    "    'cocaine': 'Drug-related',\n",
    "    'marijuana': 'Drug-related',\n",
    "    'substance': 'Drug-related',\n",
    "    'robbery': 'Robbery-related',\n",
    "    'dwelling': 'Robbery-related',\n",
    "    'theft': 'Robbery-related',\n",
    "    'burglary': 'Robbery-related',\n",
    "    'rape': 'Sexual-related',\n",
    "    'battery': 'Sexual-related',\n",
    "    'other': 'Miscellaneous'\n",
    "}\n",
    "data_trials['offense'] = data_trials['offense'].map(etiquetas_ofensas)\n"
   ]
  },
  {
   "cell_type": "code",
   "execution_count": 145,
   "metadata": {},
   "outputs": [
    {
     "data": {
      "text/html": [
       "<div>\n",
       "<style scoped>\n",
       "    .dataframe tbody tr th:only-of-type {\n",
       "        vertical-align: middle;\n",
       "    }\n",
       "\n",
       "    .dataframe tbody tr th {\n",
       "        vertical-align: top;\n",
       "    }\n",
       "\n",
       "    .dataframe thead th {\n",
       "        text-align: right;\n",
       "    }\n",
       "</style>\n",
       "<table border=\"1\" class=\"dataframe\">\n",
       "  <thead>\n",
       "    <tr style=\"text-align: right;\">\n",
       "      <th></th>\n",
       "      <th>id</th>\n",
       "      <th>defendant_name</th>\n",
       "      <th>cause_number</th>\n",
       "      <th>state_strikes</th>\n",
       "      <th>defense_strikes</th>\n",
       "      <th>county</th>\n",
       "      <th>defendant_race</th>\n",
       "      <th>second_defendant_race</th>\n",
       "      <th>third_defendant_race</th>\n",
       "      <th>fourth_defendant_race</th>\n",
       "      <th>...</th>\n",
       "      <th>offense_title_5</th>\n",
       "      <th>offense_code_6</th>\n",
       "      <th>offense_title_6</th>\n",
       "      <th>more_than_six</th>\n",
       "      <th>verdict</th>\n",
       "      <th>case_appealed</th>\n",
       "      <th>batson_claim_by_defense</th>\n",
       "      <th>batson_claim_by_state</th>\n",
       "      <th>voir_dire_present</th>\n",
       "      <th>offense</th>\n",
       "    </tr>\n",
       "  </thead>\n",
       "  <tbody>\n",
       "    <tr>\n",
       "      <th>0</th>\n",
       "      <td>1</td>\n",
       "      <td>Terry L. Landingham</td>\n",
       "      <td>1993-9826</td>\n",
       "      <td>False</td>\n",
       "      <td>False</td>\n",
       "      <td>Attala</td>\n",
       "      <td>Black</td>\n",
       "      <td>NaN</td>\n",
       "      <td>NaN</td>\n",
       "      <td>NaN</td>\n",
       "      <td>...</td>\n",
       "      <td>NaN</td>\n",
       "      <td>NaN</td>\n",
       "      <td>NaN</td>\n",
       "      <td>False</td>\n",
       "      <td>Guilty on at least one offense</td>\n",
       "      <td>True</td>\n",
       "      <td>False</td>\n",
       "      <td>False</td>\n",
       "      <td>True</td>\n",
       "      <td>Assault-related</td>\n",
       "    </tr>\n",
       "    <tr>\n",
       "      <th>1</th>\n",
       "      <td>2</td>\n",
       "      <td>Donovan Johnson</td>\n",
       "      <td>2009-0023</td>\n",
       "      <td>False</td>\n",
       "      <td>True</td>\n",
       "      <td>Attala</td>\n",
       "      <td>Black</td>\n",
       "      <td>NaN</td>\n",
       "      <td>NaN</td>\n",
       "      <td>NaN</td>\n",
       "      <td>...</td>\n",
       "      <td>NaN</td>\n",
       "      <td>NaN</td>\n",
       "      <td>NaN</td>\n",
       "      <td>False</td>\n",
       "      <td>Guilty on at least one offense</td>\n",
       "      <td>True</td>\n",
       "      <td>False</td>\n",
       "      <td>False</td>\n",
       "      <td>True</td>\n",
       "      <td>Drug-related</td>\n",
       "    </tr>\n",
       "    <tr>\n",
       "      <th>2</th>\n",
       "      <td>3</td>\n",
       "      <td>Sparky Watson</td>\n",
       "      <td>2004-0257</td>\n",
       "      <td>True</td>\n",
       "      <td>True</td>\n",
       "      <td>Grenada</td>\n",
       "      <td>Black</td>\n",
       "      <td>NaN</td>\n",
       "      <td>NaN</td>\n",
       "      <td>NaN</td>\n",
       "      <td>...</td>\n",
       "      <td>NaN</td>\n",
       "      <td>NaN</td>\n",
       "      <td>NaN</td>\n",
       "      <td>False</td>\n",
       "      <td>Guilty on at least one offense</td>\n",
       "      <td>True</td>\n",
       "      <td>False</td>\n",
       "      <td>False</td>\n",
       "      <td>True</td>\n",
       "      <td>Miscellaneous</td>\n",
       "    </tr>\n",
       "    <tr>\n",
       "      <th>3</th>\n",
       "      <td>4</td>\n",
       "      <td>Phillip Knickel</td>\n",
       "      <td>1998-0020</td>\n",
       "      <td>False</td>\n",
       "      <td>True</td>\n",
       "      <td>Montgomery</td>\n",
       "      <td>White</td>\n",
       "      <td>NaN</td>\n",
       "      <td>NaN</td>\n",
       "      <td>NaN</td>\n",
       "      <td>...</td>\n",
       "      <td>NaN</td>\n",
       "      <td>NaN</td>\n",
       "      <td>NaN</td>\n",
       "      <td>False</td>\n",
       "      <td>Guilty on at least one offense</td>\n",
       "      <td>True</td>\n",
       "      <td>False</td>\n",
       "      <td>False</td>\n",
       "      <td>True</td>\n",
       "      <td>Robbery-related</td>\n",
       "    </tr>\n",
       "    <tr>\n",
       "      <th>4</th>\n",
       "      <td>5</td>\n",
       "      <td>Donald Dotson</td>\n",
       "      <td>1994-9918</td>\n",
       "      <td>False</td>\n",
       "      <td>True</td>\n",
       "      <td>Attala</td>\n",
       "      <td>Black</td>\n",
       "      <td>NaN</td>\n",
       "      <td>NaN</td>\n",
       "      <td>NaN</td>\n",
       "      <td>...</td>\n",
       "      <td>NaN</td>\n",
       "      <td>NaN</td>\n",
       "      <td>NaN</td>\n",
       "      <td>False</td>\n",
       "      <td>Guilty on at least one offense</td>\n",
       "      <td>True</td>\n",
       "      <td>True</td>\n",
       "      <td>False</td>\n",
       "      <td>True</td>\n",
       "      <td>Assault-related</td>\n",
       "    </tr>\n",
       "  </tbody>\n",
       "</table>\n",
       "<p>5 rows × 39 columns</p>\n",
       "</div>"
      ],
      "text/plain": [
       "   id       defendant_name cause_number  state_strikes  defense_strikes  \\\n",
       "0   1  Terry L. Landingham    1993-9826          False            False   \n",
       "1   2      Donovan Johnson    2009-0023          False             True   \n",
       "2   3        Sparky Watson    2004-0257           True             True   \n",
       "3   4      Phillip Knickel    1998-0020          False             True   \n",
       "4   5        Donald Dotson    1994-9918          False             True   \n",
       "\n",
       "       county defendant_race second_defendant_race third_defendant_race  \\\n",
       "0      Attala          Black                   NaN                  NaN   \n",
       "1      Attala          Black                   NaN                  NaN   \n",
       "2     Grenada          Black                   NaN                  NaN   \n",
       "3  Montgomery          White                   NaN                  NaN   \n",
       "4      Attala          Black                   NaN                  NaN   \n",
       "\n",
       "   fourth_defendant_race  ...  offense_title_5 offense_code_6 offense_title_6  \\\n",
       "0                    NaN  ...              NaN            NaN             NaN   \n",
       "1                    NaN  ...              NaN            NaN             NaN   \n",
       "2                    NaN  ...              NaN            NaN             NaN   \n",
       "3                    NaN  ...              NaN            NaN             NaN   \n",
       "4                    NaN  ...              NaN            NaN             NaN   \n",
       "\n",
       "  more_than_six                         verdict  case_appealed  \\\n",
       "0         False  Guilty on at least one offense           True   \n",
       "1         False  Guilty on at least one offense           True   \n",
       "2         False  Guilty on at least one offense           True   \n",
       "3         False  Guilty on at least one offense           True   \n",
       "4         False  Guilty on at least one offense           True   \n",
       "\n",
       "  batson_claim_by_defense batson_claim_by_state voir_dire_present  \\\n",
       "0                   False                 False              True   \n",
       "1                   False                 False              True   \n",
       "2                   False                 False              True   \n",
       "3                   False                 False              True   \n",
       "4                    True                 False              True   \n",
       "\n",
       "           offense  \n",
       "0  Assault-related  \n",
       "1     Drug-related  \n",
       "2    Miscellaneous  \n",
       "3  Robbery-related  \n",
       "4  Assault-related  \n",
       "\n",
       "[5 rows x 39 columns]"
      ]
     },
     "execution_count": 145,
     "metadata": {},
     "output_type": "execute_result"
    }
   ],
   "source": [
    "data_trials.head()"
   ]
  },
  {
   "cell_type": "code",
   "execution_count": 146,
   "metadata": {},
   "outputs": [],
   "source": [
    "data_trials.drop(['offense_code_1','offense_title_1'], axis=1,inplace= True)"
   ]
  },
  {
   "cell_type": "code",
   "execution_count": 147,
   "metadata": {},
   "outputs": [],
   "source": [
    "data_trials['offense'] = data_trials['offense'].astype(str)"
   ]
  },
  {
   "cell_type": "code",
   "execution_count": 148,
   "metadata": {},
   "outputs": [
    {
     "data": {
      "image/png": "[encoded data removed]",
      "text/plain": [
       "<Figure size 1000x500 with 1 Axes>"
      ]
     },
     "metadata": {},
     "output_type": "display_data"
    }
   ],
   "source": [
    "import matplotlib.pyplot as plt\n",
    "\n",
    "# Calcular el conteo de cada valor único en la columna 'offense_title_1'\n",
    "value_counts = data_trials.offense.value_counts()\n",
    "\n",
    "# Crear una figura con un tamaño personalizado\n",
    "fig = plt.figure(figsize=(10, 5))\n",
    "\n",
    "# Crear un gráfico de barras horizontal dentro de la figura\n",
    "plt.barh(value_counts.index, value_counts.values)\n",
    "\n",
    "# Ajustar el tamaño de la fuente de las etiquetas en el eje y a 8 puntos\n",
    "plt.tick_params(axis='y', labelsize=8)\n",
    "\n",
    "# Añadir títulos y etiquetas de los ejes\n",
    "plt.title('Recuento de títulos de ofensas')\n",
    "plt.xlabel('Número de casos')\n",
    "plt.ylabel('Título de la ofensa')\n",
    "\n",
    "# Mostrar el gráfico\n",
    "plt.show()\n"
   ]
  },
  {
   "cell_type": "code",
   "execution_count": 149,
   "metadata": {},
   "outputs": [
    {
     "data": {
      "text/plain": [
       "Drug-related        77\n",
       "Homicide-related    69\n",
       "Robbery-related     60\n",
       "Assault-related     40\n",
       "Miscellaneous       36\n",
       "Sexual-related      23\n",
       "Name: offense, dtype: int64"
      ]
     },
     "execution_count": 149,
     "metadata": {},
     "output_type": "execute_result"
    }
   ],
   "source": [
    "data_trials['offense'].value_counts()"
   ]
  },
  {
   "cell_type": "code",
   "execution_count": 150,
   "metadata": {},
   "outputs": [
    {
     "data": {
      "application/vnd.plotly.v1+json": {
       "config": {
        "plotlyServerURL": "https://plot.ly"
       },
       "data": [
        {
         "alignmentgroup": "True",
         "bingroup": "x",
         "hovertemplate": "defendant_race=%{x}<br>count=%{y}<extra></extra>",
         "legendgroup": "Black",
         "marker": {
          "color": "#636efa"
         },
         "name": "Black",
         "offsetgroup": "Black",
         "orientation": "v",
         "showlegend": true,
         "type": "histogram",
         "x": [
          "Black",
          "Black",
          "Black",
          "Black",
          "Black",
          "Black",
          "Black",
          "Black",
          "Black",
          "Black",
          "Black",
          "Black",
          "Black",
          "Black",
          "Black",
          "Black",
          "Black",
          "Black",
          "Black",
          "Black",
          "Black",
          "Black",
          "Black",
          "Black",
          "Black",
          "Black",
          "Black",
          "Black",
          "Black",
          "Black",
          "Black",
          "Black",
          "Black",
          "Black",
          "Black",
          "Black",
          "Black",
          "Black",
          "Black",
          "Black",
          "Black",
          "Black",
          "Black",
          "Black",
          "Black",
          "Black",
          "Black",
          "Black",
          "Black",
          "Black",
          "Black",
          "Black",
          "Black",
          "Black",
          "Black",
          "Black",
          "Black",
          "Black",
          "Black",
          "Black",
          "Black",
          "Black",
          "Black",
          "Black",
          "Black",
          "Black",
          "Black",
          "Black",
          "Black",
          "Black",
          "Black",
          "Black",
          "Black",
          "Black",
          "Black",
          "Black",
          "Black",
          "Black",
          "Black",
          "Black",
          "Black",
          "Black",
          "Black",
          "Black",
          "Black",
          "Black",
          "Black",
          "Black",
          "Black",
          "Black",
          "Black",
          "Black",
          "Black",
          "Black",
          "Black",
          "Black",
          "Black",
          "Black",
          "Black",
          "Black",
          "Black",
          "Black",
          "Black",
          "Black",
          "Black",
          "Black",
          "Black",
          "Black",
          "Black",
          "Black",
          "Black",
          "Black",
          "Black",
          "Black",
          "Black",
          "Black",
          "Black",
          "Black",
          "Black",
          "Black",
          "Black",
          "Black",
          "Black",
          "Black",
          "Black",
          "Black",
          "Black",
          "Black",
          "Black",
          "Black",
          "Black",
          "Black",
          "Black",
          "Black",
          "Black",
          "Black",
          "Black",
          "Black",
          "Black",
          "Black",
          "Black",
          "Black",
          "Black",
          "Black",
          "Black",
          "Black",
          "Black",
          "Black",
          "Black",
          "Black",
          "Black",
          "Black",
          "Black",
          "Black",
          "Black",
          "Black",
          "Black",
          "Black",
          "Black",
          "Black",
          "Black",
          "Black",
          "Black",
          "Black",
          "Black",
          "Black",
          "Black",
          "Black",
          "Black",
          "Black",
          "Black",
          "Black",
          "Black",
          "Black",
          "Black",
          "Black",
          "Black",
          "Black",
          "Black",
          "Black",
          "Black",
          "Black",
          "Black",
          "Black",
          "Black",
          "Black",
          "Black",
          "Black",
          "Black",
          "Black",
          "Black",
          "Black",
          "Black",
          "Black",
          "Black",
          "Black",
          "Black",
          "Black",
          "Black",
          "Black",
          "Black",
          "Black",
          "Black",
          "Black",
          "Black",
          "Black",
          "Black",
          "Black",
          "Black",
          "Black",
          "Black",
          "Black",
          "Black",
          "Black",
          "Black",
          "Black",
          "Black",
          "Black",
          "Black",
          "Black",
          "Black",
          "Black",
          "Black",
          "Black",
          "Black",
          "Black",
          "Black",
          "Black",
          "Black"
         ],
         "xaxis": "x",
         "yaxis": "y"
        },
        {
         "alignmentgroup": "True",
         "bingroup": "x",
         "hovertemplate": "defendant_race=%{x}<br>count=%{y}<extra></extra>",
         "legendgroup": "White",
         "marker": {
          "color": "#EF553B"
         },
         "name": "White",
         "offsetgroup": "White",
         "orientation": "v",
         "showlegend": true,
         "type": "histogram",
         "x": [
          "White",
          "White",
          "White",
          "White",
          "White",
          "White",
          "White",
          "White",
          "White",
          "White",
          "White",
          "White",
          "White",
          "White",
          "White",
          "White",
          "White",
          "White",
          "White",
          "White",
          "White",
          "White",
          "White",
          "White",
          "White",
          "White",
          "White",
          "White",
          "White",
          "White",
          "White",
          "White",
          "White",
          "White",
          "White",
          "White",
          "White",
          "White",
          "White",
          "White",
          "White",
          "White",
          "White",
          "White",
          "White",
          "White",
          "White",
          "White",
          "White",
          "White",
          "White",
          "White",
          "White",
          "White",
          "White",
          "White",
          "White",
          "White",
          "White",
          "White",
          "White",
          "White",
          "White"
         ],
         "xaxis": "x",
         "yaxis": "y"
        },
        {
         "alignmentgroup": "True",
         "bingroup": "x",
         "hovertemplate": "defendant_race=%{x}<br>count=%{y}<extra></extra>",
         "legendgroup": "Unknown",
         "marker": {
          "color": "#00cc96"
         },
         "name": "Unknown",
         "offsetgroup": "Unknown",
         "orientation": "v",
         "showlegend": true,
         "type": "histogram",
         "x": [
          "Unknown",
          "Unknown",
          "Unknown",
          "Unknown",
          "Unknown",
          "Unknown",
          "Unknown",
          "Unknown",
          "Unknown",
          "Unknown",
          "Unknown"
         ],
         "xaxis": "x",
         "yaxis": "y"
        },
        {
         "alignmentgroup": "True",
         "bingroup": "x",
         "hovertemplate": "defendant_race=%{x}<br>count=%{y}<extra></extra>",
         "legendgroup": "Asian",
         "marker": {
          "color": "#ab63fa"
         },
         "name": "Asian",
         "offsetgroup": "Asian",
         "orientation": "v",
         "showlegend": true,
         "type": "histogram",
         "x": [
          "Asian"
         ],
         "xaxis": "x",
         "yaxis": "y"
        },
        {
         "alignmentgroup": "True",
         "bingroup": "x",
         "hovertemplate": "defendant_race=%{x}<br>count=%{y}<extra></extra>",
         "legendgroup": "Latino",
         "marker": {
          "color": "#FFA15A"
         },
         "name": "Latino",
         "offsetgroup": "Latino",
         "orientation": "v",
         "showlegend": true,
         "type": "histogram",
         "x": [
          "Latino"
         ],
         "xaxis": "x",
         "yaxis": "y"
        }
       ],
       "layout": {
        "barmode": "relative",
        "legend": {
         "title": {
          "text": "defendant_race"
         },
         "tracegroupgap": 0
        },
        "template": {
         "data": {
          "bar": [
           {
            "error_x": {
             "color": "#2a3f5f"
            },
            "error_y": {
             "color": "#2a3f5f"
            },
            "marker": {
             "line": {
              "color": "#E5ECF6",
              "width": 0.5
             }
            },
            "type": "bar"
           }
          ],
          "barpolar": [
           {
            "marker": {
             "line": {
              "color": "#E5ECF6",
              "width": 0.5
             }
            },
            "type": "barpolar"
           }
          ],
          "carpet": [
           {
            "aaxis": {
             "endlinecolor": "#2a3f5f",
             "gridcolor": "white",
             "linecolor": "white",
             "minorgridcolor": "white",
             "startlinecolor": "#2a3f5f"
            },
            "baxis": {
             "endlinecolor": "#2a3f5f",
             "gridcolor": "white",
             "linecolor": "white",
             "minorgridcolor": "white",
             "startlinecolor": "#2a3f5f"
            },
            "type": "carpet"
           }
          ],
          "choropleth": [
           {
            "colorbar": {
             "outlinewidth": 0,
             "ticks": ""
            },
            "type": "choropleth"
           }
          ],
          "contour": [
           {
            "colorbar": {
             "outlinewidth": 0,
             "ticks": ""
            },
            "colorscale": [
             [
              0,
              "#0d0887"
             ],
             [
              0.1111111111111111,
              "#46039f"
             ],
             [
              0.2222222222222222,
              "#7201a8"
             ],
             [
              0.3333333333333333,
              "#9c179e"
             ],
             [
              0.4444444444444444,
              "#bd3786"
             ],
             [
              0.5555555555555556,
              "#d8576b"
             ],
             [
              0.6666666666666666,
              "#ed7953"
             ],
             [
              0.7777777777777778,
              "#fb9f3a"
             ],
             [
              0.8888888888888888,
              "#fdca26"
             ],
             [
              1,
              "#f0f921"
             ]
            ],
            "type": "contour"
           }
          ],
          "contourcarpet": [
           {
            "colorbar": {
             "outlinewidth": 0,
             "ticks": ""
            },
            "type": "contourcarpet"
           }
          ],
          "heatmap": [
           {
            "colorbar": {
             "outlinewidth": 0,
             "ticks": ""
            },
            "colorscale": [
             [
              0,
              "#0d0887"
             ],
             [
              0.1111111111111111,
              "#46039f"
             ],
             [
              0.2222222222222222,
              "#7201a8"
             ],
             [
              0.3333333333333333,
              "#9c179e"
             ],
             [
              0.4444444444444444,
              "#bd3786"
             ],
             [
              0.5555555555555556,
              "#d8576b"
             ],
             [
              0.6666666666666666,
              "#ed7953"
             ],
             [
              0.7777777777777778,
              "#fb9f3a"
             ],
             [
              0.8888888888888888,
              "#fdca26"
             ],
             [
              1,
              "#f0f921"
             ]
            ],
            "type": "heatmap"
           }
          ],
          "heatmapgl": [
           {
            "colorbar": {
             "outlinewidth": 0,
             "ticks": ""
            },
            "colorscale": [
             [
              0,
              "#0d0887"
             ],
             [
              0.1111111111111111,
              "#46039f"
             ],
             [
              0.2222222222222222,
              "#7201a8"
             ],
             [
              0.3333333333333333,
              "#9c179e"
             ],
             [
              0.4444444444444444,
              "#bd3786"
             ],
             [
              0.5555555555555556,
              "#d8576b"
             ],
             [
              0.6666666666666666,
              "#ed7953"
             ],
             [
              0.7777777777777778,
              "#fb9f3a"
             ],
             [
              0.8888888888888888,
              "#fdca26"
             ],
             [
              1,
              "#f0f921"
             ]
            ],
            "type": "heatmapgl"
           }
          ],
          "histogram": [
           {
            "marker": {
             "colorbar": {
              "outlinewidth": 0,
              "ticks": ""
             }
            },
            "type": "histogram"
           }
          ],
          "histogram2d": [
           {
            "colorbar": {
             "outlinewidth": 0,
             "ticks": ""
            },
            "colorscale": [
             [
              0,
              "#0d0887"
             ],
             [
              0.1111111111111111,
              "#46039f"
             ],
             [
              0.2222222222222222,
              "#7201a8"
             ],
             [
              0.3333333333333333,
              "#9c179e"
             ],
             [
              0.4444444444444444,
              "#bd3786"
             ],
             [
              0.5555555555555556,
              "#d8576b"
             ],
             [
              0.6666666666666666,
              "#ed7953"
             ],
             [
              0.7777777777777778,
              "#fb9f3a"
             ],
             [
              0.8888888888888888,
              "#fdca26"
             ],
             [
              1,
              "#f0f921"
             ]
            ],
            "type": "histogram2d"
           }
          ],
          "histogram2dcontour": [
           {
            "colorbar": {
             "outlinewidth": 0,
             "ticks": ""
            },
            "colorscale": [
             [
              0,
              "#0d0887"
             ],
             [
              0.1111111111111111,
              "#46039f"
             ],
             [
              0.2222222222222222,
              "#7201a8"
             ],
             [
              0.3333333333333333,
              "#9c179e"
             ],
             [
              0.4444444444444444,
              "#bd3786"
             ],
             [
              0.5555555555555556,
              "#d8576b"
             ],
             [
              0.6666666666666666,
              "#ed7953"
             ],
             [
              0.7777777777777778,
              "#fb9f3a"
             ],
             [
              0.8888888888888888,
              "#fdca26"
             ],
             [
              1,
              "#f0f921"
             ]
            ],
            "type": "histogram2dcontour"
           }
          ],
          "mesh3d": [
           {
            "colorbar": {
             "outlinewidth": 0,
             "ticks": ""
            },
            "type": "mesh3d"
           }
          ],
          "parcoords": [
           {
            "line": {
             "colorbar": {
              "outlinewidth": 0,
              "ticks": ""
             }
            },
            "type": "parcoords"
           }
          ],
          "pie": [
           {
            "automargin": true,
            "type": "pie"
           }
          ],
          "scatter": [
           {
            "marker": {
             "colorbar": {
              "outlinewidth": 0,
              "ticks": ""
             }
            },
            "type": "scatter"
           }
          ],
          "scatter3d": [
           {
            "line": {
             "colorbar": {
              "outlinewidth": 0,
              "ticks": ""
             }
            },
            "marker": {
             "colorbar": {
              "outlinewidth": 0,
              "ticks": ""
             }
            },
            "type": "scatter3d"
           }
          ],
          "scattercarpet": [
           {
            "marker": {
             "colorbar": {
              "outlinewidth": 0,
              "ticks": ""
             }
            },
            "type": "scattercarpet"
           }
          ],
          "scattergeo": [
           {
            "marker": {
             "colorbar": {
              "outlinewidth": 0,
              "ticks": ""
             }
            },
            "type": "scattergeo"
           }
          ],
          "scattergl": [
           {
            "marker": {
             "colorbar": {
              "outlinewidth": 0,
              "ticks": ""
             }
            },
            "type": "scattergl"
           }
          ],
          "scattermapbox": [
           {
            "marker": {
             "colorbar": {
              "outlinewidth": 0,
              "ticks": ""
             }
            },
            "type": "scattermapbox"
           }
          ],
          "scatterpolar": [
           {
            "marker": {
             "colorbar": {
              "outlinewidth": 0,
              "ticks": ""
             }
            },
            "type": "scatterpolar"
           }
          ],
          "scatterpolargl": [
           {
            "marker": {
             "colorbar": {
              "outlinewidth": 0,
              "ticks": ""
             }
            },
            "type": "scatterpolargl"
           }
          ],
          "scatterternary": [
           {
            "marker": {
             "colorbar": {
              "outlinewidth": 0,
              "ticks": ""
             }
            },
            "type": "scatterternary"
           }
          ],
          "surface": [
           {
            "colorbar": {
             "outlinewidth": 0,
             "ticks": ""
            },
            "colorscale": [
             [
              0,
              "#0d0887"
             ],
             [
              0.1111111111111111,
              "#46039f"
             ],
             [
              0.2222222222222222,
              "#7201a8"
             ],
             [
              0.3333333333333333,
              "#9c179e"
             ],
             [
              0.4444444444444444,
              "#bd3786"
             ],
             [
              0.5555555555555556,
              "#d8576b"
             ],
             [
              0.6666666666666666,
              "#ed7953"
             ],
             [
              0.7777777777777778,
              "#fb9f3a"
             ],
             [
              0.8888888888888888,
              "#fdca26"
             ],
             [
              1,
              "#f0f921"
             ]
            ],
            "type": "surface"
           }
          ],
          "table": [
           {
            "cells": {
             "fill": {
              "color": "#EBF0F8"
             },
             "line": {
              "color": "white"
             }
            },
            "header": {
             "fill": {
              "color": "#C8D4E3"
             },
             "line": {
              "color": "white"
             }
            },
            "type": "table"
           }
          ]
         },
         "layout": {
          "annotationdefaults": {
           "arrowcolor": "#2a3f5f",
           "arrowhead": 0,
           "arrowwidth": 1
          },
          "autotypenumbers": "strict",
          "coloraxis": {
           "colorbar": {
            "outlinewidth": 0,
            "ticks": ""
           }
          },
          "colorscale": {
           "diverging": [
            [
             0,
             "#8e0152"
            ],
            [
             0.1,
             "#c51b7d"
            ],
            [
             0.2,
             "#de77ae"
            ],
            [
             0.3,
             "#f1b6da"
            ],
            [
             0.4,
             "#fde0ef"
            ],
            [
             0.5,
             "#f7f7f7"
            ],
            [
             0.6,
             "#e6f5d0"
            ],
            [
             0.7,
             "#b8e186"
            ],
            [
             0.8,
             "#7fbc41"
            ],
            [
             0.9,
             "#4d9221"
            ],
            [
             1,
             "#276419"
            ]
           ],
           "sequential": [
            [
             0,
             "#0d0887"
            ],
            [
             0.1111111111111111,
             "#46039f"
            ],
            [
             0.2222222222222222,
             "#7201a8"
            ],
            [
             0.3333333333333333,
             "#9c179e"
            ],
            [
             0.4444444444444444,
             "#bd3786"
            ],
            [
             0.5555555555555556,
             "#d8576b"
            ],
            [
             0.6666666666666666,
             "#ed7953"
            ],
            [
             0.7777777777777778,
             "#fb9f3a"
            ],
            [
             0.8888888888888888,
             "#fdca26"
            ],
            [
             1,
             "#f0f921"
            ]
           ],
           "sequentialminus": [
            [
             0,
             "#0d0887"
            ],
            [
             0.1111111111111111,
             "#46039f"
            ],
            [
             0.2222222222222222,
             "#7201a8"
            ],
            [
             0.3333333333333333,
             "#9c179e"
            ],
            [
             0.4444444444444444,
             "#bd3786"
            ],
            [
             0.5555555555555556,
             "#d8576b"
            ],
            [
             0.6666666666666666,
             "#ed7953"
            ],
            [
             0.7777777777777778,
             "#fb9f3a"
            ],
            [
             0.8888888888888888,
             "#fdca26"
            ],
            [
             1,
             "#f0f921"
            ]
           ]
          },
          "colorway": [
           "#636efa",
           "#EF553B",
           "#00cc96",
           "#ab63fa",
           "#FFA15A",
           "#19d3f3",
           "#FF6692",
           "#B6E880",
           "#FF97FF",
           "#FECB52"
          ],
          "font": {
           "color": "#2a3f5f"
          },
          "geo": {
           "bgcolor": "white",
           "lakecolor": "white",
           "landcolor": "#E5ECF6",
           "showlakes": true,
           "showland": true,
           "subunitcolor": "white"
          },
          "hoverlabel": {
           "align": "left"
          },
          "hovermode": "closest",
          "mapbox": {
           "style": "light"
          },
          "paper_bgcolor": "white",
          "plot_bgcolor": "#E5ECF6",
          "polar": {
           "angularaxis": {
            "gridcolor": "white",
            "linecolor": "white",
            "ticks": ""
           },
           "bgcolor": "#E5ECF6",
           "radialaxis": {
            "gridcolor": "white",
            "linecolor": "white",
            "ticks": ""
           }
          },
          "scene": {
           "xaxis": {
            "backgroundcolor": "#E5ECF6",
            "gridcolor": "white",
            "gridwidth": 2,
            "linecolor": "white",
            "showbackground": true,
            "ticks": "",
            "zerolinecolor": "white"
           },
           "yaxis": {
            "backgroundcolor": "#E5ECF6",
            "gridcolor": "white",
            "gridwidth": 2,
            "linecolor": "white",
            "showbackground": true,
            "ticks": "",
            "zerolinecolor": "white"
           },
           "zaxis": {
            "backgroundcolor": "#E5ECF6",
            "gridcolor": "white",
            "gridwidth": 2,
            "linecolor": "white",
            "showbackground": true,
            "ticks": "",
            "zerolinecolor": "white"
           }
          },
          "shapedefaults": {
           "line": {
            "color": "#2a3f5f"
           }
          },
          "ternary": {
           "aaxis": {
            "gridcolor": "white",
            "linecolor": "white",
            "ticks": ""
           },
           "baxis": {
            "gridcolor": "white",
            "linecolor": "white",
            "ticks": ""
           },
           "bgcolor": "#E5ECF6",
           "caxis": {
            "gridcolor": "white",
            "linecolor": "white",
            "ticks": ""
           }
          },
          "title": {
           "x": 0.05
          },
          "xaxis": {
           "automargin": true,
           "gridcolor": "white",
           "linecolor": "white",
           "ticks": "",
           "title": {
            "standoff": 15
           },
           "zerolinecolor": "white",
           "zerolinewidth": 2
          },
          "yaxis": {
           "automargin": true,
           "gridcolor": "white",
           "linecolor": "white",
           "ticks": "",
           "title": {
            "standoff": 15
           },
           "zerolinecolor": "white",
           "zerolinewidth": 2
          }
         }
        },
        "title": {
         "text": "Distribución de la raza de los acusados"
        },
        "xaxis": {
         "anchor": "y",
         "categoryarray": [
          "Black",
          "White",
          "Unknown",
          "Asian",
          "Latino"
         ],
         "categoryorder": "array",
         "domain": [
          0,
          1
         ],
         "title": {
          "text": "defendant_race"
         }
        },
        "yaxis": {
         "anchor": "x",
         "domain": [
          0,
          1
         ],
         "title": {
          "text": "count"
         }
        }
       }
      }
     },
     "metadata": {},
     "output_type": "display_data"
    }
   ],
   "source": [
    "import plotly.express as px\n",
    "\n",
    "fig = px.histogram(data_trials, x=\"defendant_race\", title=\"Distribución de la raza de los acusados\",color='defendant_race')\n",
    "fig.show()"
   ]
  },
  {
   "cell_type": "code",
   "execution_count": 151,
   "metadata": {},
   "outputs": [],
   "source": [
    "#Selección de las categorías 'Black' y 'White' la columna 'race' para los juicios\n",
    "mask_trials = ['Black', 'White']\n",
    "data_trials_mask = data_trials['defendant_race']. apply(lambda x: x in mask_trials)\n",
    "data_trials_2 = data_trials.loc[data_trials_mask]\n",
    "data_trials = data_trials_2"
   ]
  },
  {
   "cell_type": "code",
   "execution_count": 152,
   "metadata": {},
   "outputs": [],
   "source": [
    "#Eliminación columnas irrelevantes o con pocos datos\n",
    "data_trials.drop(columns=['offense_code_2','offense_title_2','offense_code_3','offense_title_3','defendant_name','cause_number','second_defendant_race','third_defendant_race','fourth_defendant_race','prosecutor_1','prosecutor_2','prosecutor_3','def_attny_1','def_attny_2','def_attny_3','offense_code_4','offense_code_5','offense_code_6','offense_title_4','offense_title_5','offense_title_6','prosecutors_more_than_three','def_attnys_more_than_three','more_than_six','verdict','case_appealed','voir_dire_present','more_than_four_defendants'],inplace=True)"
   ]
  },
  {
   "cell_type": "code",
   "execution_count": 153,
   "metadata": {},
   "outputs": [
    {
     "data": {
      "text/plain": [
       "(292, 9)"
      ]
     },
     "execution_count": 153,
     "metadata": {},
     "output_type": "execute_result"
    }
   ],
   "source": [
    "#Conservamos 10 columnas de las 38 iniciales\n",
    "data_trials.shape"
   ]
  },
  {
   "cell_type": "code",
   "execution_count": 154,
   "metadata": {},
   "outputs": [
    {
     "data": {
      "application/vnd.plotly.v1+json": {
       "config": {
        "plotlyServerURL": "https://plot.ly"
       },
       "data": [
        {
         "alignmentgroup": "True",
         "bingroup": "x",
         "hovertemplate": "defendant_race=%{x}<br>count=%{y}<extra></extra>",
         "legendgroup": "Black",
         "marker": {
          "color": "#636efa"
         },
         "name": "Black",
         "offsetgroup": "Black",
         "orientation": "v",
         "showlegend": true,
         "type": "histogram",
         "x": [
          "Black",
          "Black",
          "Black",
          "Black",
          "Black",
          "Black",
          "Black",
          "Black",
          "Black",
          "Black",
          "Black",
          "Black",
          "Black",
          "Black",
          "Black",
          "Black",
          "Black",
          "Black",
          "Black",
          "Black",
          "Black",
          "Black",
          "Black",
          "Black",
          "Black",
          "Black",
          "Black",
          "Black",
          "Black",
          "Black",
          "Black",
          "Black",
          "Black",
          "Black",
          "Black",
          "Black",
          "Black",
          "Black",
          "Black",
          "Black",
          "Black",
          "Black",
          "Black",
          "Black",
          "Black",
          "Black",
          "Black",
          "Black",
          "Black",
          "Black",
          "Black",
          "Black",
          "Black",
          "Black",
          "Black",
          "Black",
          "Black",
          "Black",
          "Black",
          "Black",
          "Black",
          "Black",
          "Black",
          "Black",
          "Black",
          "Black",
          "Black",
          "Black",
          "Black",
          "Black",
          "Black",
          "Black",
          "Black",
          "Black",
          "Black",
          "Black",
          "Black",
          "Black",
          "Black",
          "Black",
          "Black",
          "Black",
          "Black",
          "Black",
          "Black",
          "Black",
          "Black",
          "Black",
          "Black",
          "Black",
          "Black",
          "Black",
          "Black",
          "Black",
          "Black",
          "Black",
          "Black",
          "Black",
          "Black",
          "Black",
          "Black",
          "Black",
          "Black",
          "Black",
          "Black",
          "Black",
          "Black",
          "Black",
          "Black",
          "Black",
          "Black",
          "Black",
          "Black",
          "Black",
          "Black",
          "Black",
          "Black",
          "Black",
          "Black",
          "Black",
          "Black",
          "Black",
          "Black",
          "Black",
          "Black",
          "Black",
          "Black",
          "Black",
          "Black",
          "Black",
          "Black",
          "Black",
          "Black",
          "Black",
          "Black",
          "Black",
          "Black",
          "Black",
          "Black",
          "Black",
          "Black",
          "Black",
          "Black",
          "Black",
          "Black",
          "Black",
          "Black",
          "Black",
          "Black",
          "Black",
          "Black",
          "Black",
          "Black",
          "Black",
          "Black",
          "Black",
          "Black",
          "Black",
          "Black",
          "Black",
          "Black",
          "Black",
          "Black",
          "Black",
          "Black",
          "Black",
          "Black",
          "Black",
          "Black",
          "Black",
          "Black",
          "Black",
          "Black",
          "Black",
          "Black",
          "Black",
          "Black",
          "Black",
          "Black",
          "Black",
          "Black",
          "Black",
          "Black",
          "Black",
          "Black",
          "Black",
          "Black",
          "Black",
          "Black",
          "Black",
          "Black",
          "Black",
          "Black",
          "Black",
          "Black",
          "Black",
          "Black",
          "Black",
          "Black",
          "Black",
          "Black",
          "Black",
          "Black",
          "Black",
          "Black",
          "Black",
          "Black",
          "Black",
          "Black",
          "Black",
          "Black",
          "Black",
          "Black",
          "Black",
          "Black",
          "Black",
          "Black",
          "Black",
          "Black",
          "Black",
          "Black",
          "Black",
          "Black",
          "Black",
          "Black",
          "Black",
          "Black",
          "Black",
          "Black"
         ],
         "xaxis": "x",
         "yaxis": "y"
        },
        {
         "alignmentgroup": "True",
         "bingroup": "x",
         "hovertemplate": "defendant_race=%{x}<br>count=%{y}<extra></extra>",
         "legendgroup": "White",
         "marker": {
          "color": "#EF553B"
         },
         "name": "White",
         "offsetgroup": "White",
         "orientation": "v",
         "showlegend": true,
         "type": "histogram",
         "x": [
          "White",
          "White",
          "White",
          "White",
          "White",
          "White",
          "White",
          "White",
          "White",
          "White",
          "White",
          "White",
          "White",
          "White",
          "White",
          "White",
          "White",
          "White",
          "White",
          "White",
          "White",
          "White",
          "White",
          "White",
          "White",
          "White",
          "White",
          "White",
          "White",
          "White",
          "White",
          "White",
          "White",
          "White",
          "White",
          "White",
          "White",
          "White",
          "White",
          "White",
          "White",
          "White",
          "White",
          "White",
          "White",
          "White",
          "White",
          "White",
          "White",
          "White",
          "White",
          "White",
          "White",
          "White",
          "White",
          "White",
          "White",
          "White",
          "White",
          "White",
          "White",
          "White",
          "White"
         ],
         "xaxis": "x",
         "yaxis": "y"
        }
       ],
       "layout": {
        "barmode": "relative",
        "legend": {
         "title": {
          "text": "defendant_race"
         },
         "tracegroupgap": 0
        },
        "template": {
         "data": {
          "bar": [
           {
            "error_x": {
             "color": "#2a3f5f"
            },
            "error_y": {
             "color": "#2a3f5f"
            },
            "marker": {
             "line": {
              "color": "#E5ECF6",
              "width": 0.5
             }
            },
            "type": "bar"
           }
          ],
          "barpolar": [
           {
            "marker": {
             "line": {
              "color": "#E5ECF6",
              "width": 0.5
             }
            },
            "type": "barpolar"
           }
          ],
          "carpet": [
           {
            "aaxis": {
             "endlinecolor": "#2a3f5f",
             "gridcolor": "white",
             "linecolor": "white",
             "minorgridcolor": "white",
             "startlinecolor": "#2a3f5f"
            },
            "baxis": {
             "endlinecolor": "#2a3f5f",
             "gridcolor": "white",
             "linecolor": "white",
             "minorgridcolor": "white",
             "startlinecolor": "#2a3f5f"
            },
            "type": "carpet"
           }
          ],
          "choropleth": [
           {
            "colorbar": {
             "outlinewidth": 0,
             "ticks": ""
            },
            "type": "choropleth"
           }
          ],
          "contour": [
           {
            "colorbar": {
             "outlinewidth": 0,
             "ticks": ""
            },
            "colorscale": [
             [
              0,
              "#0d0887"
             ],
             [
              0.1111111111111111,
              "#46039f"
             ],
             [
              0.2222222222222222,
              "#7201a8"
             ],
             [
              0.3333333333333333,
              "#9c179e"
             ],
             [
              0.4444444444444444,
              "#bd3786"
             ],
             [
              0.5555555555555556,
              "#d8576b"
             ],
             [
              0.6666666666666666,
              "#ed7953"
             ],
             [
              0.7777777777777778,
              "#fb9f3a"
             ],
             [
              0.8888888888888888,
              "#fdca26"
             ],
             [
              1,
              "#f0f921"
             ]
            ],
            "type": "contour"
           }
          ],
          "contourcarpet": [
           {
            "colorbar": {
             "outlinewidth": 0,
             "ticks": ""
            },
            "type": "contourcarpet"
           }
          ],
          "heatmap": [
           {
            "colorbar": {
             "outlinewidth": 0,
             "ticks": ""
            },
            "colorscale": [
             [
              0,
              "#0d0887"
             ],
             [
              0.1111111111111111,
              "#46039f"
             ],
             [
              0.2222222222222222,
              "#7201a8"
             ],
             [
              0.3333333333333333,
              "#9c179e"
             ],
             [
              0.4444444444444444,
              "#bd3786"
             ],
             [
              0.5555555555555556,
              "#d8576b"
             ],
             [
              0.6666666666666666,
              "#ed7953"
             ],
             [
              0.7777777777777778,
              "#fb9f3a"
             ],
             [
              0.8888888888888888,
              "#fdca26"
             ],
             [
              1,
              "#f0f921"
             ]
            ],
            "type": "heatmap"
           }
          ],
          "heatmapgl": [
           {
            "colorbar": {
             "outlinewidth": 0,
             "ticks": ""
            },
            "colorscale": [
             [
              0,
              "#0d0887"
             ],
             [
              0.1111111111111111,
              "#46039f"
             ],
             [
              0.2222222222222222,
              "#7201a8"
             ],
             [
              0.3333333333333333,
              "#9c179e"
             ],
             [
              0.4444444444444444,
              "#bd3786"
             ],
             [
              0.5555555555555556,
              "#d8576b"
             ],
             [
              0.6666666666666666,
              "#ed7953"
             ],
             [
              0.7777777777777778,
              "#fb9f3a"
             ],
             [
              0.8888888888888888,
              "#fdca26"
             ],
             [
              1,
              "#f0f921"
             ]
            ],
            "type": "heatmapgl"
           }
          ],
          "histogram": [
           {
            "marker": {
             "colorbar": {
              "outlinewidth": 0,
              "ticks": ""
             }
            },
            "type": "histogram"
           }
          ],
          "histogram2d": [
           {
            "colorbar": {
             "outlinewidth": 0,
             "ticks": ""
            },
            "colorscale": [
             [
              0,
              "#0d0887"
             ],
             [
              0.1111111111111111,
              "#46039f"
             ],
             [
              0.2222222222222222,
              "#7201a8"
             ],
             [
              0.3333333333333333,
              "#9c179e"
             ],
             [
              0.4444444444444444,
              "#bd3786"
             ],
             [
              0.5555555555555556,
              "#d8576b"
             ],
             [
              0.6666666666666666,
              "#ed7953"
             ],
             [
              0.7777777777777778,
              "#fb9f3a"
             ],
             [
              0.8888888888888888,
              "#fdca26"
             ],
             [
              1,
              "#f0f921"
             ]
            ],
            "type": "histogram2d"
           }
          ],
          "histogram2dcontour": [
           {
            "colorbar": {
             "outlinewidth": 0,
             "ticks": ""
            },
            "colorscale": [
             [
              0,
              "#0d0887"
             ],
             [
              0.1111111111111111,
              "#46039f"
             ],
             [
              0.2222222222222222,
              "#7201a8"
             ],
             [
              0.3333333333333333,
              "#9c179e"
             ],
             [
              0.4444444444444444,
              "#bd3786"
             ],
             [
              0.5555555555555556,
              "#d8576b"
             ],
             [
              0.6666666666666666,
              "#ed7953"
             ],
             [
              0.7777777777777778,
              "#fb9f3a"
             ],
             [
              0.8888888888888888,
              "#fdca26"
             ],
             [
              1,
              "#f0f921"
             ]
            ],
            "type": "histogram2dcontour"
           }
          ],
          "mesh3d": [
           {
            "colorbar": {
             "outlinewidth": 0,
             "ticks": ""
            },
            "type": "mesh3d"
           }
          ],
          "parcoords": [
           {
            "line": {
             "colorbar": {
              "outlinewidth": 0,
              "ticks": ""
             }
            },
            "type": "parcoords"
           }
          ],
          "pie": [
           {
            "automargin": true,
            "type": "pie"
           }
          ],
          "scatter": [
           {
            "marker": {
             "colorbar": {
              "outlinewidth": 0,
              "ticks": ""
             }
            },
            "type": "scatter"
           }
          ],
          "scatter3d": [
           {
            "line": {
             "colorbar": {
              "outlinewidth": 0,
              "ticks": ""
             }
            },
            "marker": {
             "colorbar": {
              "outlinewidth": 0,
              "ticks": ""
             }
            },
            "type": "scatter3d"
           }
          ],
          "scattercarpet": [
           {
            "marker": {
             "colorbar": {
              "outlinewidth": 0,
              "ticks": ""
             }
            },
            "type": "scattercarpet"
           }
          ],
          "scattergeo": [
           {
            "marker": {
             "colorbar": {
              "outlinewidth": 0,
              "ticks": ""
             }
            },
            "type": "scattergeo"
           }
          ],
          "scattergl": [
           {
            "marker": {
             "colorbar": {
              "outlinewidth": 0,
              "ticks": ""
             }
            },
            "type": "scattergl"
           }
          ],
          "scattermapbox": [
           {
            "marker": {
             "colorbar": {
              "outlinewidth": 0,
              "ticks": ""
             }
            },
            "type": "scattermapbox"
           }
          ],
          "scatterpolar": [
           {
            "marker": {
             "colorbar": {
              "outlinewidth": 0,
              "ticks": ""
             }
            },
            "type": "scatterpolar"
           }
          ],
          "scatterpolargl": [
           {
            "marker": {
             "colorbar": {
              "outlinewidth": 0,
              "ticks": ""
             }
            },
            "type": "scatterpolargl"
           }
          ],
          "scatterternary": [
           {
            "marker": {
             "colorbar": {
              "outlinewidth": 0,
              "ticks": ""
             }
            },
            "type": "scatterternary"
           }
          ],
          "surface": [
           {
            "colorbar": {
             "outlinewidth": 0,
             "ticks": ""
            },
            "colorscale": [
             [
              0,
              "#0d0887"
             ],
             [
              0.1111111111111111,
              "#46039f"
             ],
             [
              0.2222222222222222,
              "#7201a8"
             ],
             [
              0.3333333333333333,
              "#9c179e"
             ],
             [
              0.4444444444444444,
              "#bd3786"
             ],
             [
              0.5555555555555556,
              "#d8576b"
             ],
             [
              0.6666666666666666,
              "#ed7953"
             ],
             [
              0.7777777777777778,
              "#fb9f3a"
             ],
             [
              0.8888888888888888,
              "#fdca26"
             ],
             [
              1,
              "#f0f921"
             ]
            ],
            "type": "surface"
           }
          ],
          "table": [
           {
            "cells": {
             "fill": {
              "color": "#EBF0F8"
             },
             "line": {
              "color": "white"
             }
            },
            "header": {
             "fill": {
              "color": "#C8D4E3"
             },
             "line": {
              "color": "white"
             }
            },
            "type": "table"
           }
          ]
         },
         "layout": {
          "annotationdefaults": {
           "arrowcolor": "#2a3f5f",
           "arrowhead": 0,
           "arrowwidth": 1
          },
          "autotypenumbers": "strict",
          "coloraxis": {
           "colorbar": {
            "outlinewidth": 0,
            "ticks": ""
           }
          },
          "colorscale": {
           "diverging": [
            [
             0,
             "#8e0152"
            ],
            [
             0.1,
             "#c51b7d"
            ],
            [
             0.2,
             "#de77ae"
            ],
            [
             0.3,
             "#f1b6da"
            ],
            [
             0.4,
             "#fde0ef"
            ],
            [
             0.5,
             "#f7f7f7"
            ],
            [
             0.6,
             "#e6f5d0"
            ],
            [
             0.7,
             "#b8e186"
            ],
            [
             0.8,
             "#7fbc41"
            ],
            [
             0.9,
             "#4d9221"
            ],
            [
             1,
             "#276419"
            ]
           ],
           "sequential": [
            [
             0,
             "#0d0887"
            ],
            [
             0.1111111111111111,
             "#46039f"
            ],
            [
             0.2222222222222222,
             "#7201a8"
            ],
            [
             0.3333333333333333,
             "#9c179e"
            ],
            [
             0.4444444444444444,
             "#bd3786"
            ],
            [
             0.5555555555555556,
             "#d8576b"
            ],
            [
             0.6666666666666666,
             "#ed7953"
            ],
            [
             0.7777777777777778,
             "#fb9f3a"
            ],
            [
             0.8888888888888888,
             "#fdca26"
            ],
            [
             1,
             "#f0f921"
            ]
           ],
           "sequentialminus": [
            [
             0,
             "#0d0887"
            ],
            [
             0.1111111111111111,
             "#46039f"
            ],
            [
             0.2222222222222222,
             "#7201a8"
            ],
            [
             0.3333333333333333,
             "#9c179e"
            ],
            [
             0.4444444444444444,
             "#bd3786"
            ],
            [
             0.5555555555555556,
             "#d8576b"
            ],
            [
             0.6666666666666666,
             "#ed7953"
            ],
            [
             0.7777777777777778,
             "#fb9f3a"
            ],
            [
             0.8888888888888888,
             "#fdca26"
            ],
            [
             1,
             "#f0f921"
            ]
           ]
          },
          "colorway": [
           "#636efa",
           "#EF553B",
           "#00cc96",
           "#ab63fa",
           "#FFA15A",
           "#19d3f3",
           "#FF6692",
           "#B6E880",
           "#FF97FF",
           "#FECB52"
          ],
          "font": {
           "color": "#2a3f5f"
          },
          "geo": {
           "bgcolor": "white",
           "lakecolor": "white",
           "landcolor": "#E5ECF6",
           "showlakes": true,
           "showland": true,
           "subunitcolor": "white"
          },
          "hoverlabel": {
           "align": "left"
          },
          "hovermode": "closest",
          "mapbox": {
           "style": "light"
          },
          "paper_bgcolor": "white",
          "plot_bgcolor": "#E5ECF6",
          "polar": {
           "angularaxis": {
            "gridcolor": "white",
            "linecolor": "white",
            "ticks": ""
           },
           "bgcolor": "#E5ECF6",
           "radialaxis": {
            "gridcolor": "white",
            "linecolor": "white",
            "ticks": ""
           }
          },
          "scene": {
           "xaxis": {
            "backgroundcolor": "#E5ECF6",
            "gridcolor": "white",
            "gridwidth": 2,
            "linecolor": "white",
            "showbackground": true,
            "ticks": "",
            "zerolinecolor": "white"
           },
           "yaxis": {
            "backgroundcolor": "#E5ECF6",
            "gridcolor": "white",
            "gridwidth": 2,
            "linecolor": "white",
            "showbackground": true,
            "ticks": "",
            "zerolinecolor": "white"
           },
           "zaxis": {
            "backgroundcolor": "#E5ECF6",
            "gridcolor": "white",
            "gridwidth": 2,
            "linecolor": "white",
            "showbackground": true,
            "ticks": "",
            "zerolinecolor": "white"
           }
          },
          "shapedefaults": {
           "line": {
            "color": "#2a3f5f"
           }
          },
          "ternary": {
           "aaxis": {
            "gridcolor": "white",
            "linecolor": "white",
            "ticks": ""
           },
           "baxis": {
            "gridcolor": "white",
            "linecolor": "white",
            "ticks": ""
           },
           "bgcolor": "#E5ECF6",
           "caxis": {
            "gridcolor": "white",
            "linecolor": "white",
            "ticks": ""
           }
          },
          "title": {
           "x": 0.05
          },
          "xaxis": {
           "automargin": true,
           "gridcolor": "white",
           "linecolor": "white",
           "ticks": "",
           "title": {
            "standoff": 15
           },
           "zerolinecolor": "white",
           "zerolinewidth": 2
          },
          "yaxis": {
           "automargin": true,
           "gridcolor": "white",
           "linecolor": "white",
           "ticks": "",
           "title": {
            "standoff": 15
           },
           "zerolinecolor": "white",
           "zerolinewidth": 2
          }
         }
        },
        "title": {
         "text": "Distribución de la raza de los acusados"
        },
        "xaxis": {
         "anchor": "y",
         "categoryarray": [
          "Black",
          "White"
         ],
         "categoryorder": "array",
         "domain": [
          0,
          1
         ],
         "title": {
          "text": "defendant_race"
         }
        },
        "yaxis": {
         "anchor": "x",
         "domain": [
          0,
          1
         ],
         "title": {
          "text": "count"
         }
        }
       }
      }
     },
     "metadata": {},
     "output_type": "display_data"
    }
   ],
   "source": [
    "import plotly.express as px\n",
    "\n",
    "fig = px.histogram(data_trials, x=\"defendant_race\",labels=None,title=\"Distribución de la raza de los acusados\",color='defendant_race')\n",
    "fig.show()\n",
    "#color_discrete_sequence=['#1f77b4']"
   ]
  },
  {
   "cell_type": "code",
   "execution_count": 155,
   "metadata": {},
   "outputs": [
    {
     "data": {
      "text/plain": [
       "Grenada       75\n",
       "Attala        69\n",
       "Montgomery    47\n",
       "Winston       41\n",
       "Choctaw       32\n",
       "Carroll       16\n",
       "Webster       12\n",
       "Name: county, dtype: int64"
      ]
     },
     "execution_count": 155,
     "metadata": {},
     "output_type": "execute_result"
    }
   ],
   "source": [
    "#Distribución de los datos por condado\n",
    "data_trials.county.value_counts()"
   ]
  },
  {
   "cell_type": "code",
   "execution_count": 156,
   "metadata": {},
   "outputs": [
    {
     "data": {
      "text/plain": [
       "Joseph Loper, Jr    155\n",
       "C. Morgan, III      117\n",
       "Other                16\n",
       "George Mitchell       3\n",
       "C. Morgan, Jr         1\n",
       "Name: judge, dtype: int64"
      ]
     },
     "execution_count": 156,
     "metadata": {},
     "output_type": "execute_result"
    }
   ],
   "source": [
    "data_trials['judge'].value_counts()"
   ]
  },
  {
   "cell_type": "code",
   "execution_count": 157,
   "metadata": {},
   "outputs": [],
   "source": [
    "#Agrupamos los distintos jueces según cantidad de observaciones\n",
    "etiquetas = {\n",
    "    'Joseph Loper, Jr' :   'Joseph Loper, Jr',\n",
    "    'C. Morgan, III'    :  'C. Morgan, III',\n",
    "    'Other'              :  'Other',\n",
    "    'George Mitchell'     :  'Other',\n",
    "    'C. Morgan, Jr'        : 'Other'\n",
    "}\n",
    "\n",
    "\n",
    "data_trials['judge'] = data_trials['judge'].map(etiquetas)"
   ]
  },
  {
   "cell_type": "code",
   "execution_count": 158,
   "metadata": {},
   "outputs": [],
   "source": [
    "#Transformación de columnas booleanas a enteras\n",
    "data_trials['state_strikes'] = data_trials.state_strikes.astype('int')\n",
    "data_trials['defense_strikes'] = data_trials.defense_strikes.astype('int')\n",
    "data_trials['batson_claim_by_state'] = data_trials.batson_claim_by_state.astype('int')\n",
    "data_trials['batson_claim_by_defense'] = data_trials.batson_claim_by_defense.astype('int')"
   ]
  },
  {
   "cell_type": "code",
   "execution_count": 159,
   "metadata": {},
   "outputs": [
    {
     "data": {
      "text/html": [
       "<div>\n",
       "<style scoped>\n",
       "    .dataframe tbody tr th:only-of-type {\n",
       "        vertical-align: middle;\n",
       "    }\n",
       "\n",
       "    .dataframe tbody tr th {\n",
       "        vertical-align: top;\n",
       "    }\n",
       "\n",
       "    .dataframe thead th {\n",
       "        text-align: right;\n",
       "    }\n",
       "</style>\n",
       "<table border=\"1\" class=\"dataframe\">\n",
       "  <thead>\n",
       "    <tr style=\"text-align: right;\">\n",
       "      <th></th>\n",
       "      <th>id</th>\n",
       "      <th>state_strikes</th>\n",
       "      <th>defense_strikes</th>\n",
       "      <th>batson_claim_by_defense</th>\n",
       "      <th>batson_claim_by_state</th>\n",
       "      <th>county_Carroll</th>\n",
       "      <th>county_Choctaw</th>\n",
       "      <th>county_Grenada</th>\n",
       "      <th>county_Montgomery</th>\n",
       "      <th>county_Webster</th>\n",
       "      <th>county_Winston</th>\n",
       "      <th>defendant_race_White</th>\n",
       "      <th>judge_Joseph Loper, Jr</th>\n",
       "      <th>judge_Other</th>\n",
       "      <th>offense_Drug-related</th>\n",
       "      <th>offense_Homicide-related</th>\n",
       "      <th>offense_Miscellaneous</th>\n",
       "      <th>offense_Robbery-related</th>\n",
       "      <th>offense_Sexual-related</th>\n",
       "    </tr>\n",
       "  </thead>\n",
       "  <tbody>\n",
       "    <tr>\n",
       "      <th>0</th>\n",
       "      <td>1</td>\n",
       "      <td>0</td>\n",
       "      <td>0</td>\n",
       "      <td>0</td>\n",
       "      <td>0</td>\n",
       "      <td>0</td>\n",
       "      <td>0</td>\n",
       "      <td>0</td>\n",
       "      <td>0</td>\n",
       "      <td>0</td>\n",
       "      <td>0</td>\n",
       "      <td>0</td>\n",
       "      <td>1</td>\n",
       "      <td>0</td>\n",
       "      <td>0</td>\n",
       "      <td>0</td>\n",
       "      <td>0</td>\n",
       "      <td>0</td>\n",
       "      <td>0</td>\n",
       "    </tr>\n",
       "    <tr>\n",
       "      <th>1</th>\n",
       "      <td>2</td>\n",
       "      <td>0</td>\n",
       "      <td>1</td>\n",
       "      <td>0</td>\n",
       "      <td>0</td>\n",
       "      <td>0</td>\n",
       "      <td>0</td>\n",
       "      <td>0</td>\n",
       "      <td>0</td>\n",
       "      <td>0</td>\n",
       "      <td>0</td>\n",
       "      <td>0</td>\n",
       "      <td>1</td>\n",
       "      <td>0</td>\n",
       "      <td>1</td>\n",
       "      <td>0</td>\n",
       "      <td>0</td>\n",
       "      <td>0</td>\n",
       "      <td>0</td>\n",
       "    </tr>\n",
       "    <tr>\n",
       "      <th>2</th>\n",
       "      <td>3</td>\n",
       "      <td>1</td>\n",
       "      <td>1</td>\n",
       "      <td>0</td>\n",
       "      <td>0</td>\n",
       "      <td>0</td>\n",
       "      <td>0</td>\n",
       "      <td>1</td>\n",
       "      <td>0</td>\n",
       "      <td>0</td>\n",
       "      <td>0</td>\n",
       "      <td>0</td>\n",
       "      <td>0</td>\n",
       "      <td>0</td>\n",
       "      <td>0</td>\n",
       "      <td>0</td>\n",
       "      <td>1</td>\n",
       "      <td>0</td>\n",
       "      <td>0</td>\n",
       "    </tr>\n",
       "    <tr>\n",
       "      <th>3</th>\n",
       "      <td>4</td>\n",
       "      <td>0</td>\n",
       "      <td>1</td>\n",
       "      <td>0</td>\n",
       "      <td>0</td>\n",
       "      <td>0</td>\n",
       "      <td>0</td>\n",
       "      <td>0</td>\n",
       "      <td>1</td>\n",
       "      <td>0</td>\n",
       "      <td>0</td>\n",
       "      <td>1</td>\n",
       "      <td>1</td>\n",
       "      <td>0</td>\n",
       "      <td>0</td>\n",
       "      <td>0</td>\n",
       "      <td>0</td>\n",
       "      <td>1</td>\n",
       "      <td>0</td>\n",
       "    </tr>\n",
       "    <tr>\n",
       "      <th>4</th>\n",
       "      <td>5</td>\n",
       "      <td>0</td>\n",
       "      <td>1</td>\n",
       "      <td>1</td>\n",
       "      <td>0</td>\n",
       "      <td>0</td>\n",
       "      <td>0</td>\n",
       "      <td>0</td>\n",
       "      <td>0</td>\n",
       "      <td>0</td>\n",
       "      <td>0</td>\n",
       "      <td>0</td>\n",
       "      <td>1</td>\n",
       "      <td>0</td>\n",
       "      <td>0</td>\n",
       "      <td>0</td>\n",
       "      <td>0</td>\n",
       "      <td>0</td>\n",
       "      <td>0</td>\n",
       "    </tr>\n",
       "  </tbody>\n",
       "</table>\n",
       "</div>"
      ],
      "text/plain": [
       "   id  state_strikes  defense_strikes  batson_claim_by_defense  \\\n",
       "0   1              0                0                        0   \n",
       "1   2              0                1                        0   \n",
       "2   3              1                1                        0   \n",
       "3   4              0                1                        0   \n",
       "4   5              0                1                        1   \n",
       "\n",
       "   batson_claim_by_state  county_Carroll  county_Choctaw  county_Grenada  \\\n",
       "0                      0               0               0               0   \n",
       "1                      0               0               0               0   \n",
       "2                      0               0               0               1   \n",
       "3                      0               0               0               0   \n",
       "4                      0               0               0               0   \n",
       "\n",
       "   county_Montgomery  county_Webster  county_Winston  defendant_race_White  \\\n",
       "0                  0               0               0                     0   \n",
       "1                  0               0               0                     0   \n",
       "2                  0               0               0                     0   \n",
       "3                  1               0               0                     1   \n",
       "4                  0               0               0                     0   \n",
       "\n",
       "   judge_Joseph Loper, Jr  judge_Other  offense_Drug-related  \\\n",
       "0                       1            0                     0   \n",
       "1                       1            0                     1   \n",
       "2                       0            0                     0   \n",
       "3                       1            0                     0   \n",
       "4                       1            0                     0   \n",
       "\n",
       "   offense_Homicide-related  offense_Miscellaneous  offense_Robbery-related  \\\n",
       "0                         0                      0                        0   \n",
       "1                         0                      0                        0   \n",
       "2                         0                      1                        0   \n",
       "3                         0                      0                        1   \n",
       "4                         0                      0                        0   \n",
       "\n",
       "   offense_Sexual-related  \n",
       "0                       0  \n",
       "1                       0  \n",
       "2                       0  \n",
       "3                       0  \n",
       "4                       0  "
      ]
     },
     "execution_count": 159,
     "metadata": {},
     "output_type": "execute_result"
    }
   ],
   "source": [
    "#Creación de variables dummies para la tabla de juicios\n",
    "data_trials = pd.get_dummies(data_trials, drop_first=True)\n",
    "data_trials.head()"
   ]
  },
  {
   "cell_type": "markdown",
   "metadata": {},
   "source": [
    "-------------------------------------------"
   ]
  },
  {
   "cell_type": "markdown",
   "metadata": {},
   "source": [
    "LECTURA DATOS DE ENCUESTA A POSIBLES JURADOS"
   ]
  },
  {
   "cell_type": "code",
   "execution_count": 160,
   "metadata": {},
   "outputs": [
    {
     "data": {
      "text/html": [
       "<div>\n",
       "<style scoped>\n",
       "    .dataframe tbody tr th:only-of-type {\n",
       "        vertical-align: middle;\n",
       "    }\n",
       "\n",
       "    .dataframe tbody tr th {\n",
       "        vertical-align: top;\n",
       "    }\n",
       "\n",
       "    .dataframe thead th {\n",
       "        text-align: right;\n",
       "    }\n",
       "</style>\n",
       "<table border=\"1\" class=\"dataframe\">\n",
       "  <thead>\n",
       "    <tr style=\"text-align: right;\">\n",
       "      <th></th>\n",
       "      <th>id</th>\n",
       "      <th>juror_id</th>\n",
       "      <th>juror_id__trial__id</th>\n",
       "      <th>no_responses</th>\n",
       "      <th>married</th>\n",
       "      <th>children</th>\n",
       "      <th>religious</th>\n",
       "      <th>education</th>\n",
       "      <th>leans_state</th>\n",
       "      <th>leans_defense</th>\n",
       "      <th>...</th>\n",
       "      <th>witness_state</th>\n",
       "      <th>prior_info</th>\n",
       "      <th>death_hesitation</th>\n",
       "      <th>no_death</th>\n",
       "      <th>no_life</th>\n",
       "      <th>no_cops</th>\n",
       "      <th>yes_cops</th>\n",
       "      <th>legally_disqualified</th>\n",
       "      <th>witness_ambi</th>\n",
       "      <th>notes</th>\n",
       "    </tr>\n",
       "  </thead>\n",
       "  <tbody>\n",
       "    <tr>\n",
       "      <th>0</th>\n",
       "      <td>1521</td>\n",
       "      <td>107.0</td>\n",
       "      <td>3.0</td>\n",
       "      <td>False</td>\n",
       "      <td>unknown</td>\n",
       "      <td>unknown</td>\n",
       "      <td>unknown</td>\n",
       "      <td>unknown</td>\n",
       "      <td>False</td>\n",
       "      <td>False</td>\n",
       "      <td>...</td>\n",
       "      <td>False</td>\n",
       "      <td>False</td>\n",
       "      <td>False</td>\n",
       "      <td>False</td>\n",
       "      <td>False</td>\n",
       "      <td>False</td>\n",
       "      <td>False</td>\n",
       "      <td>False</td>\n",
       "      <td>False</td>\n",
       "      <td>NaN</td>\n",
       "    </tr>\n",
       "    <tr>\n",
       "      <th>1</th>\n",
       "      <td>1524</td>\n",
       "      <td>108.0</td>\n",
       "      <td>3.0</td>\n",
       "      <td>False</td>\n",
       "      <td>unknown</td>\n",
       "      <td>unknown</td>\n",
       "      <td>unknown</td>\n",
       "      <td>unknown</td>\n",
       "      <td>False</td>\n",
       "      <td>False</td>\n",
       "      <td>...</td>\n",
       "      <td>False</td>\n",
       "      <td>False</td>\n",
       "      <td>False</td>\n",
       "      <td>False</td>\n",
       "      <td>False</td>\n",
       "      <td>False</td>\n",
       "      <td>False</td>\n",
       "      <td>False</td>\n",
       "      <td>False</td>\n",
       "      <td>NaN</td>\n",
       "    </tr>\n",
       "    <tr>\n",
       "      <th>2</th>\n",
       "      <td>1525</td>\n",
       "      <td>109.0</td>\n",
       "      <td>3.0</td>\n",
       "      <td>True</td>\n",
       "      <td>unknown</td>\n",
       "      <td>unknown</td>\n",
       "      <td>unknown</td>\n",
       "      <td>unknown</td>\n",
       "      <td>False</td>\n",
       "      <td>False</td>\n",
       "      <td>...</td>\n",
       "      <td>False</td>\n",
       "      <td>False</td>\n",
       "      <td>False</td>\n",
       "      <td>False</td>\n",
       "      <td>False</td>\n",
       "      <td>False</td>\n",
       "      <td>False</td>\n",
       "      <td>False</td>\n",
       "      <td>False</td>\n",
       "      <td>NaN</td>\n",
       "    </tr>\n",
       "    <tr>\n",
       "      <th>3</th>\n",
       "      <td>1526</td>\n",
       "      <td>110.0</td>\n",
       "      <td>3.0</td>\n",
       "      <td>False</td>\n",
       "      <td>unknown</td>\n",
       "      <td>unknown</td>\n",
       "      <td>unknown</td>\n",
       "      <td>unknown</td>\n",
       "      <td>False</td>\n",
       "      <td>False</td>\n",
       "      <td>...</td>\n",
       "      <td>False</td>\n",
       "      <td>False</td>\n",
       "      <td>False</td>\n",
       "      <td>False</td>\n",
       "      <td>False</td>\n",
       "      <td>False</td>\n",
       "      <td>False</td>\n",
       "      <td>False</td>\n",
       "      <td>False</td>\n",
       "      <td>NaN</td>\n",
       "    </tr>\n",
       "    <tr>\n",
       "      <th>4</th>\n",
       "      <td>1527</td>\n",
       "      <td>111.0</td>\n",
       "      <td>3.0</td>\n",
       "      <td>False</td>\n",
       "      <td>unknown</td>\n",
       "      <td>unknown</td>\n",
       "      <td>unknown</td>\n",
       "      <td>unknown</td>\n",
       "      <td>False</td>\n",
       "      <td>False</td>\n",
       "      <td>...</td>\n",
       "      <td>False</td>\n",
       "      <td>False</td>\n",
       "      <td>False</td>\n",
       "      <td>False</td>\n",
       "      <td>False</td>\n",
       "      <td>False</td>\n",
       "      <td>False</td>\n",
       "      <td>False</td>\n",
       "      <td>False</td>\n",
       "      <td>NaN</td>\n",
       "    </tr>\n",
       "  </tbody>\n",
       "</table>\n",
       "<p>5 rows × 70 columns</p>\n",
       "</div>"
      ],
      "text/plain": [
       "     id  juror_id  juror_id__trial__id  no_responses  married children  \\\n",
       "0  1521     107.0                  3.0         False  unknown  unknown   \n",
       "1  1524     108.0                  3.0         False  unknown  unknown   \n",
       "2  1525     109.0                  3.0          True  unknown  unknown   \n",
       "3  1526     110.0                  3.0         False  unknown  unknown   \n",
       "4  1527     111.0                  3.0         False  unknown  unknown   \n",
       "\n",
       "  religious education  leans_state  leans_defense  ...  witness_state  \\\n",
       "0   unknown   unknown        False          False  ...          False   \n",
       "1   unknown   unknown        False          False  ...          False   \n",
       "2   unknown   unknown        False          False  ...          False   \n",
       "3   unknown   unknown        False          False  ...          False   \n",
       "4   unknown   unknown        False          False  ...          False   \n",
       "\n",
       "   prior_info  death_hesitation  no_death  no_life  no_cops  yes_cops  \\\n",
       "0       False             False     False    False    False     False   \n",
       "1       False             False     False    False    False     False   \n",
       "2       False             False     False    False    False     False   \n",
       "3       False             False     False    False    False     False   \n",
       "4       False             False     False    False    False     False   \n",
       "\n",
       "   legally_disqualified  witness_ambi  notes  \n",
       "0                 False         False    NaN  \n",
       "1                 False         False    NaN  \n",
       "2                 False         False    NaN  \n",
       "3                 False         False    NaN  \n",
       "4                 False         False    NaN  \n",
       "\n",
       "[5 rows x 70 columns]"
      ]
     },
     "execution_count": 160,
     "metadata": {},
     "output_type": "execute_result"
    }
   ],
   "source": [
    "data_voir_dire_answers = pd.read_csv(\"voir_dire_answers.csv\")\n",
    "data_voir_dire_answers.head()"
   ]
  },
  {
   "cell_type": "code",
   "execution_count": 161,
   "metadata": {},
   "outputs": [
    {
     "name": "stdout",
     "output_type": "stream",
     "text": [
      "<class 'pandas.core.frame.DataFrame'>\n",
      "RangeIndex: 3546 entries, 0 to 3545\n",
      "Data columns (total 70 columns):\n",
      " #   Column                Non-Null Count  Dtype  \n",
      "---  ------                --------------  -----  \n",
      " 0   id                    3546 non-null   int64  \n",
      " 1   juror_id              3545 non-null   float64\n",
      " 2   juror_id__trial__id   3545 non-null   float64\n",
      " 3   no_responses          3546 non-null   bool   \n",
      " 4   married               3546 non-null   object \n",
      " 5   children              3546 non-null   object \n",
      " 6   religious             3546 non-null   object \n",
      " 7   education             3546 non-null   object \n",
      " 8   leans_state           3546 non-null   bool   \n",
      " 9   leans_defense         3546 non-null   bool   \n",
      " 10  leans_ambi            3546 non-null   bool   \n",
      " 11  moral_hardship        3546 non-null   bool   \n",
      " 12  job_hardship          3546 non-null   bool   \n",
      " 13  caretaker             3546 non-null   bool   \n",
      " 14  communication         3546 non-null   bool   \n",
      " 15  medical               3546 non-null   bool   \n",
      " 16  employed              3546 non-null   bool   \n",
      " 17  social                3546 non-null   bool   \n",
      " 18  prior_jury            3546 non-null   bool   \n",
      " 19  crime_victim          3546 non-null   bool   \n",
      " 20  fam_crime_victim      3546 non-null   bool   \n",
      " 21  accused               3546 non-null   bool   \n",
      " 22  fam_accused           3546 non-null   bool   \n",
      " 23  eyewitness            3546 non-null   bool   \n",
      " 24  fam_eyewitness        3546 non-null   bool   \n",
      " 25  military              3546 non-null   bool   \n",
      " 26  law_enforcement       3546 non-null   bool   \n",
      " 27  fam_law_enforcement   3546 non-null   bool   \n",
      " 28  premature_verdict     3546 non-null   bool   \n",
      " 29  premature_guilt       3546 non-null   bool   \n",
      " 30  premature_innocence   3546 non-null   bool   \n",
      " 31  def_race              3546 non-null   bool   \n",
      " 32  vic_race              3546 non-null   bool   \n",
      " 33  def_gender            3546 non-null   bool   \n",
      " 34  vic_gender            3546 non-null   bool   \n",
      " 35  def_social            3546 non-null   bool   \n",
      " 36  vic_social            3546 non-null   bool   \n",
      " 37  def_age               3546 non-null   bool   \n",
      " 38  vic_age               3546 non-null   bool   \n",
      " 39  def_sexpref           3546 non-null   bool   \n",
      " 40  vic_sexpref           3546 non-null   bool   \n",
      " 41  def_incarcerated      3546 non-null   bool   \n",
      " 42  vic_incarcerated      3546 non-null   bool   \n",
      " 43  beliefs               3546 non-null   bool   \n",
      " 44  other_biases          3546 non-null   bool   \n",
      " 45  innocence             3546 non-null   bool   \n",
      " 46  take_stand            3546 non-null   bool   \n",
      " 47  arrest_is_guilt       3546 non-null   bool   \n",
      " 48  cant_decide           3546 non-null   bool   \n",
      " 49  cant_affirm           3546 non-null   bool   \n",
      " 50  cant_decide_evidence  3546 non-null   bool   \n",
      " 51  cant_follow           3546 non-null   bool   \n",
      " 52  know_def              3546 non-null   bool   \n",
      " 53  know_vic              3546 non-null   bool   \n",
      " 54  know_wit              3546 non-null   bool   \n",
      " 55  know_attny            3546 non-null   bool   \n",
      " 56  civil_plantiff        3546 non-null   bool   \n",
      " 57  civil_def             3546 non-null   bool   \n",
      " 58  civil_witness         3546 non-null   bool   \n",
      " 59  witness_defense       3546 non-null   bool   \n",
      " 60  witness_state         3546 non-null   bool   \n",
      " 61  prior_info            3546 non-null   bool   \n",
      " 62  death_hesitation      3546 non-null   bool   \n",
      " 63  no_death              3546 non-null   bool   \n",
      " 64  no_life               3546 non-null   bool   \n",
      " 65  no_cops               3546 non-null   bool   \n",
      " 66  yes_cops              3546 non-null   bool   \n",
      " 67  legally_disqualified  3546 non-null   bool   \n",
      " 68  witness_ambi          3546 non-null   bool   \n",
      " 69  notes                 150 non-null    object \n",
      "dtypes: bool(62), float64(2), int64(1), object(5)\n",
      "memory usage: 436.4+ KB\n"
     ]
    }
   ],
   "source": [
    "data_voir_dire_answers.info()"
   ]
  },
  {
   "cell_type": "code",
   "execution_count": 162,
   "metadata": {},
   "outputs": [],
   "source": [
    "#Seleccioón columnas booleanas y posterior transformación a enteras\n",
    "list_columns = list(data_voir_dire_answers.select_dtypes('bool').columns)\n",
    "list_columns\n",
    "\n",
    "for col in list_columns:\n",
    "    data_voir_dire_answers[col] = data_voir_dire_answers[col].astype(int)"
   ]
  },
  {
   "cell_type": "code",
   "execution_count": 163,
   "metadata": {},
   "outputs": [],
   "source": [
    "#Eliminación columnas irrelevantes\n",
    "data_voir_dire_answers.drop(['notes','juror_id__trial__id'], axis = 1, inplace = True)"
   ]
  },
  {
   "cell_type": "code",
   "execution_count": 164,
   "metadata": {},
   "outputs": [
    {
     "name": "stdout",
     "output_type": "stream",
     "text": [
      "(3546, 68)\n",
      "unknown                                    0.935\n",
      "married                                    0.048\n",
      "FALSE                                      0.011\n",
      "divorced                                   0.004\n",
      "widowed                                    0.001\n",
      "single                                     0.000\n",
      "living unmarried with significant other    0.000\n",
      "Name: married, dtype: float64\n",
      "\n",
      "unknown    0.951\n",
      "yes        0.036\n",
      "FALSE      0.011\n",
      "no         0.002\n",
      "Name: children, dtype: float64\n",
      "\n",
      "unknown    0.964\n",
      "yes        0.036\n",
      "Name: religious, dtype: float64\n",
      "\n",
      "unknown                     0.996\n",
      "attended college            0.002\n",
      "attended graduate school    0.002\n",
      "college graduate            0.000\n",
      "Name: education, dtype: float64\n"
     ]
    }
   ],
   "source": [
    "print(data_voir_dire_answers.shape)\n",
    "print(round(data_voir_dire_answers.married.value_counts()/data_voir_dire_answers.shape[0],3))\n",
    "print()\n",
    "print(round(data_voir_dire_answers.children.value_counts()/data_voir_dire_answers.shape[0],3))\n",
    "print()\n",
    "print(round(data_voir_dire_answers.religious.value_counts()/data_voir_dire_answers.shape[0],3))\n",
    "print()\n",
    "print(round(data_voir_dire_answers.education.value_counts()/data_voir_dire_answers.shape[0],3))"
   ]
  },
  {
   "cell_type": "code",
   "execution_count": 165,
   "metadata": {},
   "outputs": [
    {
     "name": "stdout",
     "output_type": "stream",
     "text": [
      "Jurados: Index(['id', 'trial__id', 'struck_by', 'strike_eligibility', 'year',\n",
      "       'race_White', 'gender_Male', 'gender_Unknown'],\n",
      "      dtype='object')\n",
      "Juicios: Index(['id', 'state_strikes', 'defense_strikes', 'batson_claim_by_defense',\n",
      "       'batson_claim_by_state', 'county_Carroll', 'county_Choctaw',\n",
      "       'county_Grenada', 'county_Montgomery', 'county_Webster',\n",
      "       'county_Winston', 'defendant_race_White', 'judge_Joseph Loper, Jr',\n",
      "       'judge_Other', 'offense_Drug-related', 'offense_Homicide-related',\n",
      "       'offense_Miscellaneous', 'offense_Robbery-related',\n",
      "       'offense_Sexual-related'],\n",
      "      dtype='object')\n",
      "Encuesta: Index(['id', 'juror_id', 'no_responses', 'married', 'children', 'religious',\n",
      "       'education', 'leans_state', 'leans_defense', 'leans_ambi',\n",
      "       'moral_hardship', 'job_hardship', 'caretaker', 'communication',\n",
      "       'medical', 'employed', 'social', 'prior_jury', 'crime_victim',\n",
      "       'fam_crime_victim', 'accused', 'fam_accused', 'eyewitness',\n",
      "       'fam_eyewitness', 'military', 'law_enforcement', 'fam_law_enforcement',\n",
      "       'premature_verdict', 'premature_guilt', 'premature_innocence',\n",
      "       'def_race', 'vic_race', 'def_gender', 'vic_gender', 'def_social',\n",
      "       'vic_social', 'def_age', 'vic_age', 'def_sexpref', 'vic_sexpref',\n",
      "       'def_incarcerated', 'vic_incarcerated', 'beliefs', 'other_biases',\n",
      "       'innocence', 'take_stand', 'arrest_is_guilt', 'cant_decide',\n",
      "       'cant_affirm', 'cant_decide_evidence', 'cant_follow', 'know_def',\n",
      "       'know_vic', 'know_wit', 'know_attny', 'civil_plantiff', 'civil_def',\n",
      "       'civil_witness', 'witness_defense', 'witness_state', 'prior_info',\n",
      "       'death_hesitation', 'no_death', 'no_life', 'no_cops', 'yes_cops',\n",
      "       'legally_disqualified', 'witness_ambi'],\n",
      "      dtype='object')\n"
     ]
    }
   ],
   "source": [
    "#Resumen de columnas por tablas\n",
    "print(f'Jurados:',data_jurors.columns)\n",
    "print(f'Juicios:',data_trials.columns)\n",
    "print(f'Encuesta:',data_voir_dire_answers.columns)"
   ]
  },
  {
   "cell_type": "markdown",
   "metadata": {},
   "source": [
    "-------------------------------------------"
   ]
  },
  {
   "cell_type": "markdown",
   "metadata": {},
   "source": [
    "UNIÓN DE TABLAS"
   ]
  },
  {
   "cell_type": "code",
   "execution_count": 166,
   "metadata": {},
   "outputs": [
    {
     "name": "stdout",
     "output_type": "stream",
     "text": [
      "(9871, 27)\n"
     ]
    }
   ],
   "source": [
    "#Unimos tablas de jurados con juicios\n",
    "\n",
    "merged_jurors_trials = pd.merge(data_jurors, data_trials, left_on='trial__id', right_on='id')\n",
    "print(merged_jurors_trials.shape)"
   ]
  },
  {
   "cell_type": "code",
   "execution_count": 167,
   "metadata": {},
   "outputs": [
    {
     "data": {
      "text/html": [
       "<div>\n",
       "<style scoped>\n",
       "    .dataframe tbody tr th:only-of-type {\n",
       "        vertical-align: middle;\n",
       "    }\n",
       "\n",
       "    .dataframe tbody tr th {\n",
       "        vertical-align: top;\n",
       "    }\n",
       "\n",
       "    .dataframe thead th {\n",
       "        text-align: right;\n",
       "    }\n",
       "</style>\n",
       "<table border=\"1\" class=\"dataframe\">\n",
       "  <thead>\n",
       "    <tr style=\"text-align: right;\">\n",
       "      <th></th>\n",
       "      <th>id_x</th>\n",
       "      <th>trial__id</th>\n",
       "      <th>struck_by</th>\n",
       "      <th>strike_eligibility</th>\n",
       "      <th>year</th>\n",
       "      <th>race_White</th>\n",
       "      <th>gender_Male</th>\n",
       "      <th>gender_Unknown</th>\n",
       "      <th>id_y</th>\n",
       "      <th>state_strikes</th>\n",
       "      <th>...</th>\n",
       "      <th>county_Webster</th>\n",
       "      <th>county_Winston</th>\n",
       "      <th>defendant_race_White</th>\n",
       "      <th>judge_Joseph Loper, Jr</th>\n",
       "      <th>judge_Other</th>\n",
       "      <th>offense_Drug-related</th>\n",
       "      <th>offense_Homicide-related</th>\n",
       "      <th>offense_Miscellaneous</th>\n",
       "      <th>offense_Robbery-related</th>\n",
       "      <th>offense_Sexual-related</th>\n",
       "    </tr>\n",
       "  </thead>\n",
       "  <tbody>\n",
       "    <tr>\n",
       "      <th>0</th>\n",
       "      <td>35</td>\n",
       "      <td>1</td>\n",
       "      <td>Struck for cause</td>\n",
       "      <td>NaN</td>\n",
       "      <td>1993</td>\n",
       "      <td>1</td>\n",
       "      <td>1</td>\n",
       "      <td>0</td>\n",
       "      <td>1</td>\n",
       "      <td>0</td>\n",
       "      <td>...</td>\n",
       "      <td>0</td>\n",
       "      <td>0</td>\n",
       "      <td>0</td>\n",
       "      <td>1</td>\n",
       "      <td>0</td>\n",
       "      <td>0</td>\n",
       "      <td>0</td>\n",
       "      <td>0</td>\n",
       "      <td>0</td>\n",
       "      <td>0</td>\n",
       "    </tr>\n",
       "    <tr>\n",
       "      <th>1</th>\n",
       "      <td>38</td>\n",
       "      <td>1</td>\n",
       "      <td>Struck for cause</td>\n",
       "      <td>NaN</td>\n",
       "      <td>1993</td>\n",
       "      <td>0</td>\n",
       "      <td>0</td>\n",
       "      <td>0</td>\n",
       "      <td>1</td>\n",
       "      <td>0</td>\n",
       "      <td>...</td>\n",
       "      <td>0</td>\n",
       "      <td>0</td>\n",
       "      <td>0</td>\n",
       "      <td>1</td>\n",
       "      <td>0</td>\n",
       "      <td>0</td>\n",
       "      <td>0</td>\n",
       "      <td>0</td>\n",
       "      <td>0</td>\n",
       "      <td>0</td>\n",
       "    </tr>\n",
       "    <tr>\n",
       "      <th>2</th>\n",
       "      <td>1</td>\n",
       "      <td>1</td>\n",
       "      <td>Juror chosen to serve on jury</td>\n",
       "      <td>Both State and Defense</td>\n",
       "      <td>1993</td>\n",
       "      <td>1</td>\n",
       "      <td>0</td>\n",
       "      <td>0</td>\n",
       "      <td>1</td>\n",
       "      <td>0</td>\n",
       "      <td>...</td>\n",
       "      <td>0</td>\n",
       "      <td>0</td>\n",
       "      <td>0</td>\n",
       "      <td>1</td>\n",
       "      <td>0</td>\n",
       "      <td>0</td>\n",
       "      <td>0</td>\n",
       "      <td>0</td>\n",
       "      <td>0</td>\n",
       "      <td>0</td>\n",
       "    </tr>\n",
       "    <tr>\n",
       "      <th>3</th>\n",
       "      <td>4</td>\n",
       "      <td>1</td>\n",
       "      <td>Juror chosen to serve on jury</td>\n",
       "      <td>Both State and Defense</td>\n",
       "      <td>1993</td>\n",
       "      <td>1</td>\n",
       "      <td>0</td>\n",
       "      <td>0</td>\n",
       "      <td>1</td>\n",
       "      <td>0</td>\n",
       "      <td>...</td>\n",
       "      <td>0</td>\n",
       "      <td>0</td>\n",
       "      <td>0</td>\n",
       "      <td>1</td>\n",
       "      <td>0</td>\n",
       "      <td>0</td>\n",
       "      <td>0</td>\n",
       "      <td>0</td>\n",
       "      <td>0</td>\n",
       "      <td>0</td>\n",
       "    </tr>\n",
       "    <tr>\n",
       "      <th>4</th>\n",
       "      <td>6</td>\n",
       "      <td>1</td>\n",
       "      <td>Juror chosen to serve on jury</td>\n",
       "      <td>Both State and Defense</td>\n",
       "      <td>1993</td>\n",
       "      <td>1</td>\n",
       "      <td>1</td>\n",
       "      <td>0</td>\n",
       "      <td>1</td>\n",
       "      <td>0</td>\n",
       "      <td>...</td>\n",
       "      <td>0</td>\n",
       "      <td>0</td>\n",
       "      <td>0</td>\n",
       "      <td>1</td>\n",
       "      <td>0</td>\n",
       "      <td>0</td>\n",
       "      <td>0</td>\n",
       "      <td>0</td>\n",
       "      <td>0</td>\n",
       "      <td>0</td>\n",
       "    </tr>\n",
       "    <tr>\n",
       "      <th>...</th>\n",
       "      <td>...</td>\n",
       "      <td>...</td>\n",
       "      <td>...</td>\n",
       "      <td>...</td>\n",
       "      <td>...</td>\n",
       "      <td>...</td>\n",
       "      <td>...</td>\n",
       "      <td>...</td>\n",
       "      <td>...</td>\n",
       "      <td>...</td>\n",
       "      <td>...</td>\n",
       "      <td>...</td>\n",
       "      <td>...</td>\n",
       "      <td>...</td>\n",
       "      <td>...</td>\n",
       "      <td>...</td>\n",
       "      <td>...</td>\n",
       "      <td>...</td>\n",
       "      <td>...</td>\n",
       "      <td>...</td>\n",
       "      <td>...</td>\n",
       "    </tr>\n",
       "    <tr>\n",
       "      <th>9866</th>\n",
       "      <td>12403</td>\n",
       "      <td>253</td>\n",
       "      <td>Struck by the state</td>\n",
       "      <td>State</td>\n",
       "      <td>1997</td>\n",
       "      <td>1</td>\n",
       "      <td>0</td>\n",
       "      <td>0</td>\n",
       "      <td>253</td>\n",
       "      <td>0</td>\n",
       "      <td>...</td>\n",
       "      <td>0</td>\n",
       "      <td>0</td>\n",
       "      <td>0</td>\n",
       "      <td>0</td>\n",
       "      <td>0</td>\n",
       "      <td>0</td>\n",
       "      <td>1</td>\n",
       "      <td>0</td>\n",
       "      <td>0</td>\n",
       "      <td>0</td>\n",
       "    </tr>\n",
       "    <tr>\n",
       "      <th>9867</th>\n",
       "      <td>12404</td>\n",
       "      <td>253</td>\n",
       "      <td>Struck by the state</td>\n",
       "      <td>State</td>\n",
       "      <td>1997</td>\n",
       "      <td>0</td>\n",
       "      <td>0</td>\n",
       "      <td>0</td>\n",
       "      <td>253</td>\n",
       "      <td>0</td>\n",
       "      <td>...</td>\n",
       "      <td>0</td>\n",
       "      <td>0</td>\n",
       "      <td>0</td>\n",
       "      <td>0</td>\n",
       "      <td>0</td>\n",
       "      <td>0</td>\n",
       "      <td>1</td>\n",
       "      <td>0</td>\n",
       "      <td>0</td>\n",
       "      <td>0</td>\n",
       "    </tr>\n",
       "    <tr>\n",
       "      <th>9868</th>\n",
       "      <td>12405</td>\n",
       "      <td>253</td>\n",
       "      <td>Struck by the state</td>\n",
       "      <td>State</td>\n",
       "      <td>1997</td>\n",
       "      <td>0</td>\n",
       "      <td>0</td>\n",
       "      <td>0</td>\n",
       "      <td>253</td>\n",
       "      <td>0</td>\n",
       "      <td>...</td>\n",
       "      <td>0</td>\n",
       "      <td>0</td>\n",
       "      <td>0</td>\n",
       "      <td>0</td>\n",
       "      <td>0</td>\n",
       "      <td>0</td>\n",
       "      <td>1</td>\n",
       "      <td>0</td>\n",
       "      <td>0</td>\n",
       "      <td>0</td>\n",
       "    </tr>\n",
       "    <tr>\n",
       "      <th>9869</th>\n",
       "      <td>12409</td>\n",
       "      <td>253</td>\n",
       "      <td>Struck by the state</td>\n",
       "      <td>State</td>\n",
       "      <td>1997</td>\n",
       "      <td>0</td>\n",
       "      <td>1</td>\n",
       "      <td>0</td>\n",
       "      <td>253</td>\n",
       "      <td>0</td>\n",
       "      <td>...</td>\n",
       "      <td>0</td>\n",
       "      <td>0</td>\n",
       "      <td>0</td>\n",
       "      <td>0</td>\n",
       "      <td>0</td>\n",
       "      <td>0</td>\n",
       "      <td>1</td>\n",
       "      <td>0</td>\n",
       "      <td>0</td>\n",
       "      <td>0</td>\n",
       "    </tr>\n",
       "    <tr>\n",
       "      <th>9870</th>\n",
       "      <td>12415</td>\n",
       "      <td>253</td>\n",
       "      <td>Struck by the state</td>\n",
       "      <td>State</td>\n",
       "      <td>1997</td>\n",
       "      <td>1</td>\n",
       "      <td>1</td>\n",
       "      <td>0</td>\n",
       "      <td>253</td>\n",
       "      <td>0</td>\n",
       "      <td>...</td>\n",
       "      <td>0</td>\n",
       "      <td>0</td>\n",
       "      <td>0</td>\n",
       "      <td>0</td>\n",
       "      <td>0</td>\n",
       "      <td>0</td>\n",
       "      <td>1</td>\n",
       "      <td>0</td>\n",
       "      <td>0</td>\n",
       "      <td>0</td>\n",
       "    </tr>\n",
       "  </tbody>\n",
       "</table>\n",
       "<p>9871 rows × 27 columns</p>\n",
       "</div>"
      ],
      "text/plain": [
       "       id_x  trial__id                      struck_by      strike_eligibility  \\\n",
       "0        35          1               Struck for cause                     NaN   \n",
       "1        38          1               Struck for cause                     NaN   \n",
       "2         1          1  Juror chosen to serve on jury  Both State and Defense   \n",
       "3         4          1  Juror chosen to serve on jury  Both State and Defense   \n",
       "4         6          1  Juror chosen to serve on jury  Both State and Defense   \n",
       "...     ...        ...                            ...                     ...   \n",
       "9866  12403        253            Struck by the state                   State   \n",
       "9867  12404        253            Struck by the state                   State   \n",
       "9868  12405        253            Struck by the state                   State   \n",
       "9869  12409        253            Struck by the state                   State   \n",
       "9870  12415        253            Struck by the state                   State   \n",
       "\n",
       "      year  race_White  gender_Male  gender_Unknown  id_y  state_strikes  ...  \\\n",
       "0     1993           1            1               0     1              0  ...   \n",
       "1     1993           0            0               0     1              0  ...   \n",
       "2     1993           1            0               0     1              0  ...   \n",
       "3     1993           1            0               0     1              0  ...   \n",
       "4     1993           1            1               0     1              0  ...   \n",
       "...    ...         ...          ...             ...   ...            ...  ...   \n",
       "9866  1997           1            0               0   253              0  ...   \n",
       "9867  1997           0            0               0   253              0  ...   \n",
       "9868  1997           0            0               0   253              0  ...   \n",
       "9869  1997           0            1               0   253              0  ...   \n",
       "9870  1997           1            1               0   253              0  ...   \n",
       "\n",
       "      county_Webster  county_Winston  defendant_race_White  \\\n",
       "0                  0               0                     0   \n",
       "1                  0               0                     0   \n",
       "2                  0               0                     0   \n",
       "3                  0               0                     0   \n",
       "4                  0               0                     0   \n",
       "...              ...             ...                   ...   \n",
       "9866               0               0                     0   \n",
       "9867               0               0                     0   \n",
       "9868               0               0                     0   \n",
       "9869               0               0                     0   \n",
       "9870               0               0                     0   \n",
       "\n",
       "      judge_Joseph Loper, Jr  judge_Other  offense_Drug-related  \\\n",
       "0                          1            0                     0   \n",
       "1                          1            0                     0   \n",
       "2                          1            0                     0   \n",
       "3                          1            0                     0   \n",
       "4                          1            0                     0   \n",
       "...                      ...          ...                   ...   \n",
       "9866                       0            0                     0   \n",
       "9867                       0            0                     0   \n",
       "9868                       0            0                     0   \n",
       "9869                       0            0                     0   \n",
       "9870                       0            0                     0   \n",
       "\n",
       "      offense_Homicide-related  offense_Miscellaneous  \\\n",
       "0                            0                      0   \n",
       "1                            0                      0   \n",
       "2                            0                      0   \n",
       "3                            0                      0   \n",
       "4                            0                      0   \n",
       "...                        ...                    ...   \n",
       "9866                         1                      0   \n",
       "9867                         1                      0   \n",
       "9868                         1                      0   \n",
       "9869                         1                      0   \n",
       "9870                         1                      0   \n",
       "\n",
       "      offense_Robbery-related  offense_Sexual-related  \n",
       "0                           0                       0  \n",
       "1                           0                       0  \n",
       "2                           0                       0  \n",
       "3                           0                       0  \n",
       "4                           0                       0  \n",
       "...                       ...                     ...  \n",
       "9866                        0                       0  \n",
       "9867                        0                       0  \n",
       "9868                        0                       0  \n",
       "9869                        0                       0  \n",
       "9870                        0                       0  \n",
       "\n",
       "[9871 rows x 27 columns]"
      ]
     },
     "execution_count": 167,
     "metadata": {},
     "output_type": "execute_result"
    }
   ],
   "source": [
    "merged_jurors_trials"
   ]
  },
  {
   "cell_type": "code",
   "execution_count": 168,
   "metadata": {},
   "outputs": [
    {
     "data": {
      "text/html": [
       "<div>\n",
       "<style scoped>\n",
       "    .dataframe tbody tr th:only-of-type {\n",
       "        vertical-align: middle;\n",
       "    }\n",
       "\n",
       "    .dataframe tbody tr th {\n",
       "        vertical-align: top;\n",
       "    }\n",
       "\n",
       "    .dataframe thead th {\n",
       "        text-align: right;\n",
       "    }\n",
       "</style>\n",
       "<table border=\"1\" class=\"dataframe\">\n",
       "  <thead>\n",
       "    <tr style=\"text-align: right;\">\n",
       "      <th></th>\n",
       "      <th>id_x</th>\n",
       "      <th>trial__id</th>\n",
       "      <th>struck_by</th>\n",
       "      <th>strike_eligibility</th>\n",
       "      <th>year</th>\n",
       "      <th>race_White</th>\n",
       "      <th>gender_Male</th>\n",
       "      <th>gender_Unknown</th>\n",
       "      <th>id_y</th>\n",
       "      <th>state_strikes</th>\n",
       "      <th>...</th>\n",
       "      <th>county_Webster</th>\n",
       "      <th>county_Winston</th>\n",
       "      <th>defendant_race_White</th>\n",
       "      <th>judge_Joseph Loper, Jr</th>\n",
       "      <th>judge_Other</th>\n",
       "      <th>offense_Drug-related</th>\n",
       "      <th>offense_Homicide-related</th>\n",
       "      <th>offense_Miscellaneous</th>\n",
       "      <th>offense_Robbery-related</th>\n",
       "      <th>offense_Sexual-related</th>\n",
       "    </tr>\n",
       "  </thead>\n",
       "  <tbody>\n",
       "    <tr>\n",
       "      <th>0</th>\n",
       "      <td>35</td>\n",
       "      <td>1</td>\n",
       "      <td>0</td>\n",
       "      <td>NaN</td>\n",
       "      <td>1993</td>\n",
       "      <td>1</td>\n",
       "      <td>1</td>\n",
       "      <td>0</td>\n",
       "      <td>1</td>\n",
       "      <td>0</td>\n",
       "      <td>...</td>\n",
       "      <td>0</td>\n",
       "      <td>0</td>\n",
       "      <td>0</td>\n",
       "      <td>1</td>\n",
       "      <td>0</td>\n",
       "      <td>0</td>\n",
       "      <td>0</td>\n",
       "      <td>0</td>\n",
       "      <td>0</td>\n",
       "      <td>0</td>\n",
       "    </tr>\n",
       "    <tr>\n",
       "      <th>1</th>\n",
       "      <td>38</td>\n",
       "      <td>1</td>\n",
       "      <td>0</td>\n",
       "      <td>NaN</td>\n",
       "      <td>1993</td>\n",
       "      <td>0</td>\n",
       "      <td>0</td>\n",
       "      <td>0</td>\n",
       "      <td>1</td>\n",
       "      <td>0</td>\n",
       "      <td>...</td>\n",
       "      <td>0</td>\n",
       "      <td>0</td>\n",
       "      <td>0</td>\n",
       "      <td>1</td>\n",
       "      <td>0</td>\n",
       "      <td>0</td>\n",
       "      <td>0</td>\n",
       "      <td>0</td>\n",
       "      <td>0</td>\n",
       "      <td>0</td>\n",
       "    </tr>\n",
       "    <tr>\n",
       "      <th>2</th>\n",
       "      <td>1</td>\n",
       "      <td>1</td>\n",
       "      <td>1</td>\n",
       "      <td>Both State and Defense</td>\n",
       "      <td>1993</td>\n",
       "      <td>1</td>\n",
       "      <td>0</td>\n",
       "      <td>0</td>\n",
       "      <td>1</td>\n",
       "      <td>0</td>\n",
       "      <td>...</td>\n",
       "      <td>0</td>\n",
       "      <td>0</td>\n",
       "      <td>0</td>\n",
       "      <td>1</td>\n",
       "      <td>0</td>\n",
       "      <td>0</td>\n",
       "      <td>0</td>\n",
       "      <td>0</td>\n",
       "      <td>0</td>\n",
       "      <td>0</td>\n",
       "    </tr>\n",
       "    <tr>\n",
       "      <th>3</th>\n",
       "      <td>4</td>\n",
       "      <td>1</td>\n",
       "      <td>1</td>\n",
       "      <td>Both State and Defense</td>\n",
       "      <td>1993</td>\n",
       "      <td>1</td>\n",
       "      <td>0</td>\n",
       "      <td>0</td>\n",
       "      <td>1</td>\n",
       "      <td>0</td>\n",
       "      <td>...</td>\n",
       "      <td>0</td>\n",
       "      <td>0</td>\n",
       "      <td>0</td>\n",
       "      <td>1</td>\n",
       "      <td>0</td>\n",
       "      <td>0</td>\n",
       "      <td>0</td>\n",
       "      <td>0</td>\n",
       "      <td>0</td>\n",
       "      <td>0</td>\n",
       "    </tr>\n",
       "    <tr>\n",
       "      <th>4</th>\n",
       "      <td>6</td>\n",
       "      <td>1</td>\n",
       "      <td>1</td>\n",
       "      <td>Both State and Defense</td>\n",
       "      <td>1993</td>\n",
       "      <td>1</td>\n",
       "      <td>1</td>\n",
       "      <td>0</td>\n",
       "      <td>1</td>\n",
       "      <td>0</td>\n",
       "      <td>...</td>\n",
       "      <td>0</td>\n",
       "      <td>0</td>\n",
       "      <td>0</td>\n",
       "      <td>1</td>\n",
       "      <td>0</td>\n",
       "      <td>0</td>\n",
       "      <td>0</td>\n",
       "      <td>0</td>\n",
       "      <td>0</td>\n",
       "      <td>0</td>\n",
       "    </tr>\n",
       "    <tr>\n",
       "      <th>...</th>\n",
       "      <td>...</td>\n",
       "      <td>...</td>\n",
       "      <td>...</td>\n",
       "      <td>...</td>\n",
       "      <td>...</td>\n",
       "      <td>...</td>\n",
       "      <td>...</td>\n",
       "      <td>...</td>\n",
       "      <td>...</td>\n",
       "      <td>...</td>\n",
       "      <td>...</td>\n",
       "      <td>...</td>\n",
       "      <td>...</td>\n",
       "      <td>...</td>\n",
       "      <td>...</td>\n",
       "      <td>...</td>\n",
       "      <td>...</td>\n",
       "      <td>...</td>\n",
       "      <td>...</td>\n",
       "      <td>...</td>\n",
       "      <td>...</td>\n",
       "    </tr>\n",
       "    <tr>\n",
       "      <th>9866</th>\n",
       "      <td>12403</td>\n",
       "      <td>253</td>\n",
       "      <td>0</td>\n",
       "      <td>State</td>\n",
       "      <td>1997</td>\n",
       "      <td>1</td>\n",
       "      <td>0</td>\n",
       "      <td>0</td>\n",
       "      <td>253</td>\n",
       "      <td>0</td>\n",
       "      <td>...</td>\n",
       "      <td>0</td>\n",
       "      <td>0</td>\n",
       "      <td>0</td>\n",
       "      <td>0</td>\n",
       "      <td>0</td>\n",
       "      <td>0</td>\n",
       "      <td>1</td>\n",
       "      <td>0</td>\n",
       "      <td>0</td>\n",
       "      <td>0</td>\n",
       "    </tr>\n",
       "    <tr>\n",
       "      <th>9867</th>\n",
       "      <td>12404</td>\n",
       "      <td>253</td>\n",
       "      <td>0</td>\n",
       "      <td>State</td>\n",
       "      <td>1997</td>\n",
       "      <td>0</td>\n",
       "      <td>0</td>\n",
       "      <td>0</td>\n",
       "      <td>253</td>\n",
       "      <td>0</td>\n",
       "      <td>...</td>\n",
       "      <td>0</td>\n",
       "      <td>0</td>\n",
       "      <td>0</td>\n",
       "      <td>0</td>\n",
       "      <td>0</td>\n",
       "      <td>0</td>\n",
       "      <td>1</td>\n",
       "      <td>0</td>\n",
       "      <td>0</td>\n",
       "      <td>0</td>\n",
       "    </tr>\n",
       "    <tr>\n",
       "      <th>9868</th>\n",
       "      <td>12405</td>\n",
       "      <td>253</td>\n",
       "      <td>0</td>\n",
       "      <td>State</td>\n",
       "      <td>1997</td>\n",
       "      <td>0</td>\n",
       "      <td>0</td>\n",
       "      <td>0</td>\n",
       "      <td>253</td>\n",
       "      <td>0</td>\n",
       "      <td>...</td>\n",
       "      <td>0</td>\n",
       "      <td>0</td>\n",
       "      <td>0</td>\n",
       "      <td>0</td>\n",
       "      <td>0</td>\n",
       "      <td>0</td>\n",
       "      <td>1</td>\n",
       "      <td>0</td>\n",
       "      <td>0</td>\n",
       "      <td>0</td>\n",
       "    </tr>\n",
       "    <tr>\n",
       "      <th>9869</th>\n",
       "      <td>12409</td>\n",
       "      <td>253</td>\n",
       "      <td>0</td>\n",
       "      <td>State</td>\n",
       "      <td>1997</td>\n",
       "      <td>0</td>\n",
       "      <td>1</td>\n",
       "      <td>0</td>\n",
       "      <td>253</td>\n",
       "      <td>0</td>\n",
       "      <td>...</td>\n",
       "      <td>0</td>\n",
       "      <td>0</td>\n",
       "      <td>0</td>\n",
       "      <td>0</td>\n",
       "      <td>0</td>\n",
       "      <td>0</td>\n",
       "      <td>1</td>\n",
       "      <td>0</td>\n",
       "      <td>0</td>\n",
       "      <td>0</td>\n",
       "    </tr>\n",
       "    <tr>\n",
       "      <th>9870</th>\n",
       "      <td>12415</td>\n",
       "      <td>253</td>\n",
       "      <td>0</td>\n",
       "      <td>State</td>\n",
       "      <td>1997</td>\n",
       "      <td>1</td>\n",
       "      <td>1</td>\n",
       "      <td>0</td>\n",
       "      <td>253</td>\n",
       "      <td>0</td>\n",
       "      <td>...</td>\n",
       "      <td>0</td>\n",
       "      <td>0</td>\n",
       "      <td>0</td>\n",
       "      <td>0</td>\n",
       "      <td>0</td>\n",
       "      <td>0</td>\n",
       "      <td>1</td>\n",
       "      <td>0</td>\n",
       "      <td>0</td>\n",
       "      <td>0</td>\n",
       "    </tr>\n",
       "  </tbody>\n",
       "</table>\n",
       "<p>9871 rows × 27 columns</p>\n",
       "</div>"
      ],
      "text/plain": [
       "       id_x  trial__id  struck_by      strike_eligibility  year  race_White  \\\n",
       "0        35          1          0                     NaN  1993           1   \n",
       "1        38          1          0                     NaN  1993           0   \n",
       "2         1          1          1  Both State and Defense  1993           1   \n",
       "3         4          1          1  Both State and Defense  1993           1   \n",
       "4         6          1          1  Both State and Defense  1993           1   \n",
       "...     ...        ...        ...                     ...   ...         ...   \n",
       "9866  12403        253          0                   State  1997           1   \n",
       "9867  12404        253          0                   State  1997           0   \n",
       "9868  12405        253          0                   State  1997           0   \n",
       "9869  12409        253          0                   State  1997           0   \n",
       "9870  12415        253          0                   State  1997           1   \n",
       "\n",
       "      gender_Male  gender_Unknown  id_y  state_strikes  ...  county_Webster  \\\n",
       "0               1               0     1              0  ...               0   \n",
       "1               0               0     1              0  ...               0   \n",
       "2               0               0     1              0  ...               0   \n",
       "3               0               0     1              0  ...               0   \n",
       "4               1               0     1              0  ...               0   \n",
       "...           ...             ...   ...            ...  ...             ...   \n",
       "9866            0               0   253              0  ...               0   \n",
       "9867            0               0   253              0  ...               0   \n",
       "9868            0               0   253              0  ...               0   \n",
       "9869            1               0   253              0  ...               0   \n",
       "9870            1               0   253              0  ...               0   \n",
       "\n",
       "      county_Winston  defendant_race_White  judge_Joseph Loper, Jr  \\\n",
       "0                  0                     0                       1   \n",
       "1                  0                     0                       1   \n",
       "2                  0                     0                       1   \n",
       "3                  0                     0                       1   \n",
       "4                  0                     0                       1   \n",
       "...              ...                   ...                     ...   \n",
       "9866               0                     0                       0   \n",
       "9867               0                     0                       0   \n",
       "9868               0                     0                       0   \n",
       "9869               0                     0                       0   \n",
       "9870               0                     0                       0   \n",
       "\n",
       "      judge_Other  offense_Drug-related  offense_Homicide-related  \\\n",
       "0               0                     0                         0   \n",
       "1               0                     0                         0   \n",
       "2               0                     0                         0   \n",
       "3               0                     0                         0   \n",
       "4               0                     0                         0   \n",
       "...           ...                   ...                       ...   \n",
       "9866            0                     0                         1   \n",
       "9867            0                     0                         1   \n",
       "9868            0                     0                         1   \n",
       "9869            0                     0                         1   \n",
       "9870            0                     0                         1   \n",
       "\n",
       "      offense_Miscellaneous  offense_Robbery-related  offense_Sexual-related  \n",
       "0                         0                        0                       0  \n",
       "1                         0                        0                       0  \n",
       "2                         0                        0                       0  \n",
       "3                         0                        0                       0  \n",
       "4                         0                        0                       0  \n",
       "...                     ...                      ...                     ...  \n",
       "9866                      0                        0                       0  \n",
       "9867                      0                        0                       0  \n",
       "9868                      0                        0                       0  \n",
       "9869                      0                        0                       0  \n",
       "9870                      0                        0                       0  \n",
       "\n",
       "[9871 rows x 27 columns]"
      ]
     },
     "execution_count": 168,
     "metadata": {},
     "output_type": "execute_result"
    }
   ],
   "source": [
    "#Agrupamos los valores de la variable target (elegido o rechazado)\n",
    "\n",
    "etiquetas = { \n",
    "             'Juror chosen to serve on jury': 1,\n",
    "             'Juror not struck':  1,\n",
    "             'Struck by the defense':  0,\n",
    "             'Struck for cause':  0,\n",
    "             'Struck by the state':  0,\n",
    "             'Struck without notation': 0,\n",
    "             'Juror excused/absent': 0,\n",
    "             'Juror chosen as alternate': 1,\n",
    "             'Unknown': 0\n",
    "             }\n",
    "\n",
    "\n",
    "merged_jurors_trials['struck_by_1'] = merged_jurors_trials['struck_by'].map(etiquetas)\n",
    "merged_jurors_trials['struck_by'] = merged_jurors_trials['struck_by_1']\n",
    "merged_jurors_trials.drop(['struck_by_1'], axis=1, inplace=True)\n",
    "merged_jurors_trials"
   ]
  },
  {
   "cell_type": "code",
   "execution_count": 169,
   "metadata": {},
   "outputs": [],
   "source": [
    "#Renombramos la variable target para que guarde sentido con la agrupación anterior\n",
    "\n",
    "merged_jurors_trials = merged_jurors_trials.rename(columns={'struck_by': 'chosen'})"
   ]
  },
  {
   "cell_type": "code",
   "execution_count": 170,
   "metadata": {},
   "outputs": [],
   "source": [
    "merged_jurors_trials.drop('strike_eligibility',axis=1, inplace = True)"
   ]
  },
  {
   "cell_type": "code",
   "execution_count": 171,
   "metadata": {},
   "outputs": [],
   "source": [
    "#Creación feature que discrimina según si el jurado es de la misma raza que en defendido o no\n",
    "\n",
    "merged_jurors_trials['same_race'] = np.where(merged_jurors_trials['race_White'] == merged_jurors_trials['defendant_race_White'], 1, 0)"
   ]
  },
  {
   "cell_type": "code",
   "execution_count": 172,
   "metadata": {},
   "outputs": [
    {
     "data": {
      "text/plain": [
       "Index(['id_x', 'trial__id', 'chosen', 'year', 'race_White', 'gender_Male',\n",
       "       'gender_Unknown', 'id_y', 'state_strikes', 'defense_strikes',\n",
       "       'batson_claim_by_defense', 'batson_claim_by_state', 'county_Carroll',\n",
       "       'county_Choctaw', 'county_Grenada', 'county_Montgomery',\n",
       "       'county_Webster', 'county_Winston', 'defendant_race_White',\n",
       "       'judge_Joseph Loper, Jr', 'judge_Other', 'offense_Drug-related',\n",
       "       'offense_Homicide-related', 'offense_Miscellaneous',\n",
       "       'offense_Robbery-related', 'offense_Sexual-related', 'same_race'],\n",
       "      dtype='object')"
      ]
     },
     "execution_count": 172,
     "metadata": {},
     "output_type": "execute_result"
    }
   ],
   "source": [
    "merged_jurors_trials.columns"
   ]
  },
  {
   "cell_type": "code",
   "execution_count": 173,
   "metadata": {},
   "outputs": [
    {
     "data": {
      "text/plain": [
       "{'id'}"
      ]
     },
     "execution_count": 173,
     "metadata": {},
     "output_type": "execute_result"
    }
   ],
   "source": [
    "# busqueda de columnas en comun\n",
    "common_cols = set(data_jurors.columns).intersection(set(data_trials.columns)).intersection(set(data_voir_dire_answers.columns))\n",
    "common_cols"
   ]
  },
  {
   "cell_type": "code",
   "execution_count": 174,
   "metadata": {},
   "outputs": [
    {
     "data": {
      "image/png": "[encoded data removed]",
      "text/plain": [
       "<Figure size 640x480 with 1 Axes>"
      ]
     },
     "metadata": {},
     "output_type": "display_data"
    }
   ],
   "source": [
    "import networkx as nx\n",
    "\n",
    "# Crear el grafo\n",
    "G = nx.Graph()\n",
    "\n",
    "# Agregar nodos (tablas)\n",
    "G.add_node('Jurors')\n",
    "G.add_node('Trials')\n",
    "G.add_node('Survey')\n",
    "\n",
    "# Agregar conexiones (columnas)\n",
    "G.add_edge('Jurors', 'Trials', column='trial__id')\n",
    "G.add_edge('Survey', 'Jurors', column='juror_id')\n",
    "\n",
    "# Dibujar el grafo\n",
    "pos = nx.spring_layout(G)\n",
    "nx.draw(G, pos, with_labels=True)\n",
    "\n",
    "# Agregar etiquetas a las conexiones (columnas)\n",
    "labels = {('Jurors', 'Trials'): 'trial__id', ('Survey', 'Jurors'): 'juror_id'}\n",
    "nx.draw_networkx_edge_labels(G, pos, edge_labels=labels)\n",
    "\n",
    "plt.show()\n"
   ]
  },
  {
   "cell_type": "markdown",
   "metadata": {},
   "source": [
    "-id_x ---> id jurado\n",
    "\n",
    "-id_y ---> id juicio\n",
    "\n",
    "-id ---> id cuestionario"
   ]
  },
  {
   "cell_type": "code",
   "execution_count": 175,
   "metadata": {},
   "outputs": [
    {
     "name": "stdout",
     "output_type": "stream",
     "text": [
      "(3353, 95)\n"
     ]
    },
    {
     "data": {
      "text/html": [
       "<div>\n",
       "<style scoped>\n",
       "    .dataframe tbody tr th:only-of-type {\n",
       "        vertical-align: middle;\n",
       "    }\n",
       "\n",
       "    .dataframe tbody tr th {\n",
       "        vertical-align: top;\n",
       "    }\n",
       "\n",
       "    .dataframe thead th {\n",
       "        text-align: right;\n",
       "    }\n",
       "</style>\n",
       "<table border=\"1\" class=\"dataframe\">\n",
       "  <thead>\n",
       "    <tr style=\"text-align: right;\">\n",
       "      <th></th>\n",
       "      <th>id_x</th>\n",
       "      <th>trial__id</th>\n",
       "      <th>chosen</th>\n",
       "      <th>year</th>\n",
       "      <th>race_White</th>\n",
       "      <th>gender_Male</th>\n",
       "      <th>gender_Unknown</th>\n",
       "      <th>id_y</th>\n",
       "      <th>state_strikes</th>\n",
       "      <th>defense_strikes</th>\n",
       "      <th>...</th>\n",
       "      <th>witness_defense</th>\n",
       "      <th>witness_state</th>\n",
       "      <th>prior_info</th>\n",
       "      <th>death_hesitation</th>\n",
       "      <th>no_death</th>\n",
       "      <th>no_life</th>\n",
       "      <th>no_cops</th>\n",
       "      <th>yes_cops</th>\n",
       "      <th>legally_disqualified</th>\n",
       "      <th>witness_ambi</th>\n",
       "    </tr>\n",
       "  </thead>\n",
       "  <tbody>\n",
       "    <tr>\n",
       "      <th>0</th>\n",
       "      <td>1</td>\n",
       "      <td>1</td>\n",
       "      <td>1</td>\n",
       "      <td>1993</td>\n",
       "      <td>1</td>\n",
       "      <td>0</td>\n",
       "      <td>0</td>\n",
       "      <td>1</td>\n",
       "      <td>0</td>\n",
       "      <td>0</td>\n",
       "      <td>...</td>\n",
       "      <td>0</td>\n",
       "      <td>0</td>\n",
       "      <td>0</td>\n",
       "      <td>0</td>\n",
       "      <td>0</td>\n",
       "      <td>0</td>\n",
       "      <td>0</td>\n",
       "      <td>0</td>\n",
       "      <td>0</td>\n",
       "      <td>0</td>\n",
       "    </tr>\n",
       "    <tr>\n",
       "      <th>1</th>\n",
       "      <td>4</td>\n",
       "      <td>1</td>\n",
       "      <td>1</td>\n",
       "      <td>1993</td>\n",
       "      <td>1</td>\n",
       "      <td>0</td>\n",
       "      <td>0</td>\n",
       "      <td>1</td>\n",
       "      <td>0</td>\n",
       "      <td>0</td>\n",
       "      <td>...</td>\n",
       "      <td>0</td>\n",
       "      <td>0</td>\n",
       "      <td>0</td>\n",
       "      <td>0</td>\n",
       "      <td>0</td>\n",
       "      <td>0</td>\n",
       "      <td>0</td>\n",
       "      <td>0</td>\n",
       "      <td>0</td>\n",
       "      <td>0</td>\n",
       "    </tr>\n",
       "    <tr>\n",
       "      <th>2</th>\n",
       "      <td>6</td>\n",
       "      <td>1</td>\n",
       "      <td>1</td>\n",
       "      <td>1993</td>\n",
       "      <td>1</td>\n",
       "      <td>1</td>\n",
       "      <td>0</td>\n",
       "      <td>1</td>\n",
       "      <td>0</td>\n",
       "      <td>0</td>\n",
       "      <td>...</td>\n",
       "      <td>0</td>\n",
       "      <td>0</td>\n",
       "      <td>0</td>\n",
       "      <td>0</td>\n",
       "      <td>0</td>\n",
       "      <td>0</td>\n",
       "      <td>0</td>\n",
       "      <td>0</td>\n",
       "      <td>0</td>\n",
       "      <td>0</td>\n",
       "    </tr>\n",
       "    <tr>\n",
       "      <th>3</th>\n",
       "      <td>7</td>\n",
       "      <td>1</td>\n",
       "      <td>1</td>\n",
       "      <td>1993</td>\n",
       "      <td>0</td>\n",
       "      <td>0</td>\n",
       "      <td>0</td>\n",
       "      <td>1</td>\n",
       "      <td>0</td>\n",
       "      <td>0</td>\n",
       "      <td>...</td>\n",
       "      <td>0</td>\n",
       "      <td>0</td>\n",
       "      <td>0</td>\n",
       "      <td>0</td>\n",
       "      <td>0</td>\n",
       "      <td>0</td>\n",
       "      <td>0</td>\n",
       "      <td>0</td>\n",
       "      <td>0</td>\n",
       "      <td>0</td>\n",
       "    </tr>\n",
       "    <tr>\n",
       "      <th>4</th>\n",
       "      <td>9</td>\n",
       "      <td>1</td>\n",
       "      <td>0</td>\n",
       "      <td>1993</td>\n",
       "      <td>1</td>\n",
       "      <td>0</td>\n",
       "      <td>0</td>\n",
       "      <td>1</td>\n",
       "      <td>0</td>\n",
       "      <td>0</td>\n",
       "      <td>...</td>\n",
       "      <td>0</td>\n",
       "      <td>0</td>\n",
       "      <td>0</td>\n",
       "      <td>0</td>\n",
       "      <td>0</td>\n",
       "      <td>0</td>\n",
       "      <td>0</td>\n",
       "      <td>0</td>\n",
       "      <td>0</td>\n",
       "      <td>0</td>\n",
       "    </tr>\n",
       "  </tbody>\n",
       "</table>\n",
       "<p>5 rows × 95 columns</p>\n",
       "</div>"
      ],
      "text/plain": [
       "   id_x  trial__id  chosen  year  race_White  gender_Male  gender_Unknown  \\\n",
       "0     1          1       1  1993           1            0               0   \n",
       "1     4          1       1  1993           1            0               0   \n",
       "2     6          1       1  1993           1            1               0   \n",
       "3     7          1       1  1993           0            0               0   \n",
       "4     9          1       0  1993           1            0               0   \n",
       "\n",
       "   id_y  state_strikes  defense_strikes  ...  witness_defense  witness_state  \\\n",
       "0     1              0                0  ...                0              0   \n",
       "1     1              0                0  ...                0              0   \n",
       "2     1              0                0  ...                0              0   \n",
       "3     1              0                0  ...                0              0   \n",
       "4     1              0                0  ...                0              0   \n",
       "\n",
       "   prior_info  death_hesitation  no_death  no_life  no_cops  yes_cops  \\\n",
       "0           0                 0         0        0        0         0   \n",
       "1           0                 0         0        0        0         0   \n",
       "2           0                 0         0        0        0         0   \n",
       "3           0                 0         0        0        0         0   \n",
       "4           0                 0         0        0        0         0   \n",
       "\n",
       "   legally_disqualified  witness_ambi  \n",
       "0                     0             0  \n",
       "1                     0             0  \n",
       "2                     0             0  \n",
       "3                     0             0  \n",
       "4                     0             0  \n",
       "\n",
       "[5 rows x 95 columns]"
      ]
     },
     "execution_count": 175,
     "metadata": {},
     "output_type": "execute_result"
    }
   ],
   "source": [
    "#Unión tabla juradosxjuicios con encuesta\n",
    "\n",
    "data = pd.merge(merged_jurors_trials , data_voir_dire_answers, left_on='id_x', right_on='juror_id')\n",
    "print(data.shape)\n",
    "\n",
    "data.head(5)"
   ]
  },
  {
   "cell_type": "code",
   "execution_count": 176,
   "metadata": {},
   "outputs": [
    {
     "data": {
      "text/plain": [
       "Index(['id_x', 'trial__id', 'chosen', 'year', 'race_White', 'gender_Male',\n",
       "       'gender_Unknown', 'id_y', 'state_strikes', 'defense_strikes',\n",
       "       'batson_claim_by_defense', 'batson_claim_by_state', 'county_Carroll',\n",
       "       'county_Choctaw', 'county_Grenada', 'county_Montgomery',\n",
       "       'county_Webster', 'county_Winston', 'defendant_race_White',\n",
       "       'judge_Joseph Loper, Jr', 'judge_Other', 'offense_Drug-related',\n",
       "       'offense_Homicide-related', 'offense_Miscellaneous',\n",
       "       'offense_Robbery-related', 'offense_Sexual-related', 'same_race', 'id',\n",
       "       'juror_id', 'no_responses', 'married', 'children', 'religious',\n",
       "       'education', 'leans_state', 'leans_defense', 'leans_ambi',\n",
       "       'moral_hardship', 'job_hardship', 'caretaker', 'communication',\n",
       "       'medical', 'employed', 'social', 'prior_jury', 'crime_victim',\n",
       "       'fam_crime_victim', 'accused', 'fam_accused', 'eyewitness',\n",
       "       'fam_eyewitness', 'military', 'law_enforcement', 'fam_law_enforcement',\n",
       "       'premature_verdict', 'premature_guilt', 'premature_innocence',\n",
       "       'def_race', 'vic_race', 'def_gender', 'vic_gender', 'def_social',\n",
       "       'vic_social', 'def_age', 'vic_age', 'def_sexpref', 'vic_sexpref',\n",
       "       'def_incarcerated', 'vic_incarcerated', 'beliefs', 'other_biases',\n",
       "       'innocence', 'take_stand', 'arrest_is_guilt', 'cant_decide',\n",
       "       'cant_affirm', 'cant_decide_evidence', 'cant_follow', 'know_def',\n",
       "       'know_vic', 'know_wit', 'know_attny', 'civil_plantiff', 'civil_def',\n",
       "       'civil_witness', 'witness_defense', 'witness_state', 'prior_info',\n",
       "       'death_hesitation', 'no_death', 'no_life', 'no_cops', 'yes_cops',\n",
       "       'legally_disqualified', 'witness_ambi'],\n",
       "      dtype='object')"
      ]
     },
     "execution_count": 176,
     "metadata": {},
     "output_type": "execute_result"
    }
   ],
   "source": [
    "data.columns"
   ]
  },
  {
   "cell_type": "code",
   "execution_count": 177,
   "metadata": {},
   "outputs": [
    {
     "data": {
      "text/plain": [
       "same_race                   0\n",
       "county_Carroll              0\n",
       "trial__id                   0\n",
       "chosen                      0\n",
       "year                        0\n",
       "race_White                  0\n",
       "gender_Male                 0\n",
       "gender_Unknown              0\n",
       "id_y                        0\n",
       "state_strikes               0\n",
       "defense_strikes             0\n",
       "batson_claim_by_defense     0\n",
       "batson_claim_by_state       0\n",
       "county_Choctaw              0\n",
       "offense_Sexual-related      0\n",
       "county_Grenada              0\n",
       "county_Montgomery           0\n",
       "county_Webster              0\n",
       "county_Winston              0\n",
       "defendant_race_White        0\n",
       "judge_Joseph Loper, Jr      0\n",
       "judge_Other                 0\n",
       "offense_Drug-related        0\n",
       "offense_Homicide-related    0\n",
       "offense_Miscellaneous       0\n",
       "offense_Robbery-related     0\n",
       "id_x                        0\n",
       "dtype: int64"
      ]
     },
     "execution_count": 177,
     "metadata": {},
     "output_type": "execute_result"
    }
   ],
   "source": [
    "merged_jurors_trials.isnull().sum().sort_values(ascending=False)"
   ]
  },
  {
   "cell_type": "code",
   "execution_count": 178,
   "metadata": {},
   "outputs": [
    {
     "data": {
      "text/plain": [
       "0    0.636147\n",
       "1    0.363853\n",
       "Name: chosen, dtype: float64"
      ]
     },
     "execution_count": 178,
     "metadata": {},
     "output_type": "execute_result"
    }
   ],
   "source": [
    "#Distriución variable target\n",
    "\n",
    "data.chosen.value_counts(normalize=True)"
   ]
  },
  {
   "cell_type": "code",
   "execution_count": 179,
   "metadata": {},
   "outputs": [
    {
     "data": {
      "image/png": "[encoded data removed]",
      "text/plain": [
       "<Figure size 640x480 with 1 Axes>"
      ]
     },
     "metadata": {},
     "output_type": "display_data"
    }
   ],
   "source": [
    "counts = data.groupby('year')['chosen'].value_counts().unstack(fill_value=0)\n",
    "counts['total'] = counts.sum(axis=1)\n",
    "plt.plot(counts.loc[:, 0], 'o', label='0')\n",
    "plt.plot(counts.loc[:, 1], 'o', label='1')\n",
    "plt.plot(counts['total'], 'o', label='Total')\n",
    "plt.xlabel('Year')\n",
    "plt.ylabel('Counts')\n",
    "plt.title('Counts of 0 and 1 by Year')\n",
    "plt.legend()\n",
    "plt.show()"
   ]
  },
  {
   "cell_type": "markdown",
   "metadata": {},
   "source": [
    "------------------------"
   ]
  },
  {
   "cell_type": "markdown",
   "metadata": {},
   "source": [
    "MODELOS"
   ]
  },
  {
   "cell_type": "code",
   "execution_count": 180,
   "metadata": {},
   "outputs": [],
   "source": [
    "from sklearn.metrics import accuracy_score,confusion_matrix,recall_score\n",
    "from sklearn.metrics import roc_auc_score\n",
    "from sklearn.model_selection import train_test_split,cross_val_score, KFold, StratifiedKFold"
   ]
  },
  {
   "cell_type": "code",
   "execution_count": 181,
   "metadata": {},
   "outputs": [],
   "source": [
    "#Dividimos la data entre variabla target (y) y las features selecciondas para predecir (X)\n",
    "\n",
    "X = data.drop(['chosen', 'id_x','year', 'trial__id', 'id_y', 'id', 'juror_id', 'married', 'children', 'religious', 'education'], axis =1)\n",
    "y = data['chosen']"
   ]
  },
  {
   "cell_type": "code",
   "execution_count": 182,
   "metadata": {},
   "outputs": [],
   "source": [
    "#Separamos la muestra entre train y test\n",
    "\n",
    "X_train, X_test, y_train, y_test = train_test_split(X, y,test_size=0.3,random_state=0)"
   ]
  },
  {
   "cell_type": "code",
   "execution_count": 183,
   "metadata": {},
   "outputs": [],
   "source": [
    "cv = StratifiedKFold(n_splits=5, random_state=41, shuffle=True)"
   ]
  },
  {
   "cell_type": "markdown",
   "metadata": {},
   "source": [
    "MODELO  GAUSSIAN NB"
   ]
  },
  {
   "cell_type": "code",
   "execution_count": 184,
   "metadata": {},
   "outputs": [],
   "source": [
    "from sklearn.naive_bayes import GaussianNB"
   ]
  },
  {
   "cell_type": "code",
   "execution_count": 185,
   "metadata": {},
   "outputs": [
    {
     "data": {
      "text/plain": [
       "GaussianNB()"
      ]
     },
     "execution_count": 185,
     "metadata": {},
     "output_type": "execute_result"
    }
   ],
   "source": [
    "X_train_gnb, X_test_gnb, y_train_gnb, y_test_gnb = train_test_split(X, y, test_size = 0.3, random_state=42)\n",
    "gnb = GaussianNB()\n",
    "gnb.fit(X_train_gnb, y_train_gnb)"
   ]
  },
  {
   "cell_type": "code",
   "execution_count": 186,
   "metadata": {},
   "outputs": [
    {
     "data": {
      "text/plain": [
       "array([0, 1, 0, ..., 1, 1, 1], dtype=int64)"
      ]
     },
     "execution_count": 186,
     "metadata": {},
     "output_type": "execute_result"
    }
   ],
   "source": [
    "y_pred_gnb = gnb.predict(X_test_gnb)\n",
    "y_pred_gnb"
   ]
  },
  {
   "cell_type": "code",
   "execution_count": 187,
   "metadata": {},
   "outputs": [
    {
     "data": {
      "text/plain": [
       "0.6212185769066894"
      ]
     },
     "execution_count": 187,
     "metadata": {},
     "output_type": "execute_result"
    }
   ],
   "source": [
    "#Accuracy en train\n",
    "accuracy_score(y_train_gnb, gnb.predict(X_train_gnb).round(3))"
   ]
  },
  {
   "cell_type": "code",
   "execution_count": 188,
   "metadata": {},
   "outputs": [],
   "source": [
    "#paleta colores\n",
    "cmap = sns.color_palette(\"Greens_d\", as_cmap=True)\n",
    "vmin, vmax = 0, 500"
   ]
  },
  {
   "cell_type": "code",
   "execution_count": 226,
   "metadata": {},
   "outputs": [
    {
     "data": {
      "image/png": "[encoded data removed]",
      "text/plain": [
       "<Figure size 640x480 with 2 Axes>"
      ]
     },
     "metadata": {},
     "output_type": "display_data"
    }
   ],
   "source": [
    "conf_mat = confusion_matrix(y_test_gnb, y_pred_gnb)\n",
    "sns.heatmap(confusion_matrix(y_test_gnb, y_pred_gnb), annot=True, fmt='.0f',cmap=cmap, vmin=vmin, vmax=vmax)\n",
    "plt.ylabel('Etiquetas reales')\n",
    "plt.xlabel('Etiquetas predichas');"
   ]
  },
  {
   "cell_type": "markdown",
   "metadata": {},
   "source": [
    "MODELO KNN"
   ]
  },
  {
   "cell_type": "code",
   "execution_count": 190,
   "metadata": {},
   "outputs": [],
   "source": [
    "from sklearn.neighbors import KNeighborsClassifier"
   ]
  },
  {
   "cell_type": "code",
   "execution_count": 191,
   "metadata": {},
   "outputs": [],
   "source": [
    "# Definimos la estrategia de validación cruzada\n",
    "kf = KFold(n_splits=5, shuffle=True, random_state=12)\n",
    "\n",
    "scores_para_df = []\n",
    "\n",
    "X_train_knn, X_test_knn, y_train_knn, y_test_knn = train_test_split(X, y, test_size = 0.3, random_state=42)\n",
    "\n",
    "for i in range(1, 21):\n",
    "    \n",
    "    # En cada iteración, instanciamos el modelo con un hiperparámetro distinto\n",
    "    knn = KNeighborsClassifier(n_neighbors=i)\n",
    "    \n",
    "    # cross_val_scores nos devuelve un array de 5 resultados,\n",
    "    # uno por cada partición que hizo automáticamente CV\n",
    "    cv_scores = cross_val_score(knn, X_train_knn, y_train_knn, cv=kf)\n",
    "    # cv_scores = cross_val_score(knn, X_train_gnb, y_train_gnb, cv=kf)\n",
    "    \n",
    "    # Para cada valor de n_neighbours, creamos un diccionario con el valor\n",
    "    # de n_neighbours y la media y el desvío de los scores\n",
    "    dict_row_score = {'score_medio': np.mean(cv_scores),\n",
    "                      'score_std': np.std(cv_scores),\n",
    "                      'n_neighbors': i}\n",
    "    \n",
    "    # Guardamos cada uno en la lista de diccionarios\n",
    "    scores_para_df.append(dict_row_score)"
   ]
  },
  {
   "cell_type": "code",
   "execution_count": 192,
   "metadata": {},
   "outputs": [
    {
     "data": {
      "text/html": [
       "<div>\n",
       "<style scoped>\n",
       "    .dataframe tbody tr th:only-of-type {\n",
       "        vertical-align: middle;\n",
       "    }\n",
       "\n",
       "    .dataframe tbody tr th {\n",
       "        vertical-align: top;\n",
       "    }\n",
       "\n",
       "    .dataframe thead th {\n",
       "        text-align: right;\n",
       "    }\n",
       "</style>\n",
       "<table border=\"1\" class=\"dataframe\">\n",
       "  <thead>\n",
       "    <tr style=\"text-align: right;\">\n",
       "      <th></th>\n",
       "      <th>score_medio</th>\n",
       "      <th>score_std</th>\n",
       "      <th>n_neighbors</th>\n",
       "    </tr>\n",
       "  </thead>\n",
       "  <tbody>\n",
       "    <tr>\n",
       "      <th>0</th>\n",
       "      <td>0.630582</td>\n",
       "      <td>0.016209</td>\n",
       "      <td>1</td>\n",
       "    </tr>\n",
       "    <tr>\n",
       "      <th>1</th>\n",
       "      <td>0.649333</td>\n",
       "      <td>0.014526</td>\n",
       "      <td>2</td>\n",
       "    </tr>\n",
       "    <tr>\n",
       "      <th>2</th>\n",
       "      <td>0.635271</td>\n",
       "      <td>0.011709</td>\n",
       "      <td>3</td>\n",
       "    </tr>\n",
       "    <tr>\n",
       "      <th>3</th>\n",
       "      <td>0.652742</td>\n",
       "      <td>0.020808</td>\n",
       "      <td>4</td>\n",
       "    </tr>\n",
       "    <tr>\n",
       "      <th>4</th>\n",
       "      <td>0.643800</td>\n",
       "      <td>0.020074</td>\n",
       "      <td>5</td>\n",
       "    </tr>\n",
       "    <tr>\n",
       "      <th>5</th>\n",
       "      <td>0.642949</td>\n",
       "      <td>0.026193</td>\n",
       "      <td>6</td>\n",
       "    </tr>\n",
       "    <tr>\n",
       "      <th>6</th>\n",
       "      <td>0.636148</td>\n",
       "      <td>0.020093</td>\n",
       "      <td>7</td>\n",
       "    </tr>\n",
       "    <tr>\n",
       "      <th>7</th>\n",
       "      <td>0.651046</td>\n",
       "      <td>0.014120</td>\n",
       "      <td>8</td>\n",
       "    </tr>\n",
       "    <tr>\n",
       "      <th>8</th>\n",
       "      <td>0.642104</td>\n",
       "      <td>0.009699</td>\n",
       "      <td>9</td>\n",
       "    </tr>\n",
       "    <tr>\n",
       "      <th>9</th>\n",
       "      <td>0.643794</td>\n",
       "      <td>0.007345</td>\n",
       "      <td>10</td>\n",
       "    </tr>\n",
       "    <tr>\n",
       "      <th>10</th>\n",
       "      <td>0.629753</td>\n",
       "      <td>0.015372</td>\n",
       "      <td>11</td>\n",
       "    </tr>\n",
       "    <tr>\n",
       "      <th>11</th>\n",
       "      <td>0.644229</td>\n",
       "      <td>0.011892</td>\n",
       "      <td>12</td>\n",
       "    </tr>\n",
       "    <tr>\n",
       "      <th>12</th>\n",
       "      <td>0.635717</td>\n",
       "      <td>0.015878</td>\n",
       "      <td>13</td>\n",
       "    </tr>\n",
       "    <tr>\n",
       "      <th>13</th>\n",
       "      <td>0.648919</td>\n",
       "      <td>0.009829</td>\n",
       "      <td>14</td>\n",
       "    </tr>\n",
       "    <tr>\n",
       "      <th>14</th>\n",
       "      <td>0.635286</td>\n",
       "      <td>0.017031</td>\n",
       "      <td>15</td>\n",
       "    </tr>\n",
       "    <tr>\n",
       "      <th>15</th>\n",
       "      <td>0.652330</td>\n",
       "      <td>0.010268</td>\n",
       "      <td>16</td>\n",
       "    </tr>\n",
       "    <tr>\n",
       "      <th>16</th>\n",
       "      <td>0.648492</td>\n",
       "      <td>0.009029</td>\n",
       "      <td>17</td>\n",
       "    </tr>\n",
       "    <tr>\n",
       "      <th>17</th>\n",
       "      <td>0.659555</td>\n",
       "      <td>0.012812</td>\n",
       "      <td>18</td>\n",
       "    </tr>\n",
       "    <tr>\n",
       "      <th>18</th>\n",
       "      <td>0.660848</td>\n",
       "      <td>0.011323</td>\n",
       "      <td>19</td>\n",
       "    </tr>\n",
       "    <tr>\n",
       "      <th>19</th>\n",
       "      <td>0.660417</td>\n",
       "      <td>0.013654</td>\n",
       "      <td>20</td>\n",
       "    </tr>\n",
       "  </tbody>\n",
       "</table>\n",
       "</div>"
      ],
      "text/plain": [
       "    score_medio  score_std  n_neighbors\n",
       "0      0.630582   0.016209            1\n",
       "1      0.649333   0.014526            2\n",
       "2      0.635271   0.011709            3\n",
       "3      0.652742   0.020808            4\n",
       "4      0.643800   0.020074            5\n",
       "5      0.642949   0.026193            6\n",
       "6      0.636148   0.020093            7\n",
       "7      0.651046   0.014120            8\n",
       "8      0.642104   0.009699            9\n",
       "9      0.643794   0.007345           10\n",
       "10     0.629753   0.015372           11\n",
       "11     0.644229   0.011892           12\n",
       "12     0.635717   0.015878           13\n",
       "13     0.648919   0.009829           14\n",
       "14     0.635286   0.017031           15\n",
       "15     0.652330   0.010268           16\n",
       "16     0.648492   0.009029           17\n",
       "17     0.659555   0.012812           18\n",
       "18     0.660848   0.011323           19\n",
       "19     0.660417   0.013654           20"
      ]
     },
     "execution_count": 192,
     "metadata": {},
     "output_type": "execute_result"
    }
   ],
   "source": [
    "# Creamos el DataFrame a partir de la lista de diccionarios\n",
    "df_scores = pd.DataFrame(scores_para_df)\n",
    "df_scores"
   ]
  },
  {
   "cell_type": "code",
   "execution_count": 193,
   "metadata": {},
   "outputs": [
    {
     "data": {
      "text/html": [
       "<div>\n",
       "<style scoped>\n",
       "    .dataframe tbody tr th:only-of-type {\n",
       "        vertical-align: middle;\n",
       "    }\n",
       "\n",
       "    .dataframe tbody tr th {\n",
       "        vertical-align: top;\n",
       "    }\n",
       "\n",
       "    .dataframe thead th {\n",
       "        text-align: right;\n",
       "    }\n",
       "</style>\n",
       "<table border=\"1\" class=\"dataframe\">\n",
       "  <thead>\n",
       "    <tr style=\"text-align: right;\">\n",
       "      <th></th>\n",
       "      <th>score_medio</th>\n",
       "      <th>score_std</th>\n",
       "      <th>n_neighbors</th>\n",
       "      <th>limite_inferior</th>\n",
       "      <th>limite_superior</th>\n",
       "    </tr>\n",
       "  </thead>\n",
       "  <tbody>\n",
       "    <tr>\n",
       "      <th>0</th>\n",
       "      <td>0.630582</td>\n",
       "      <td>0.016209</td>\n",
       "      <td>1</td>\n",
       "      <td>0.614373</td>\n",
       "      <td>0.646791</td>\n",
       "    </tr>\n",
       "    <tr>\n",
       "      <th>1</th>\n",
       "      <td>0.649333</td>\n",
       "      <td>0.014526</td>\n",
       "      <td>2</td>\n",
       "      <td>0.634807</td>\n",
       "      <td>0.663859</td>\n",
       "    </tr>\n",
       "    <tr>\n",
       "      <th>2</th>\n",
       "      <td>0.635271</td>\n",
       "      <td>0.011709</td>\n",
       "      <td>3</td>\n",
       "      <td>0.623562</td>\n",
       "      <td>0.646980</td>\n",
       "    </tr>\n",
       "    <tr>\n",
       "      <th>3</th>\n",
       "      <td>0.652742</td>\n",
       "      <td>0.020808</td>\n",
       "      <td>4</td>\n",
       "      <td>0.631934</td>\n",
       "      <td>0.673550</td>\n",
       "    </tr>\n",
       "    <tr>\n",
       "      <th>4</th>\n",
       "      <td>0.643800</td>\n",
       "      <td>0.020074</td>\n",
       "      <td>5</td>\n",
       "      <td>0.623725</td>\n",
       "      <td>0.663874</td>\n",
       "    </tr>\n",
       "  </tbody>\n",
       "</table>\n",
       "</div>"
      ],
      "text/plain": [
       "   score_medio  score_std  n_neighbors  limite_inferior  limite_superior\n",
       "0     0.630582   0.016209            1         0.614373         0.646791\n",
       "1     0.649333   0.014526            2         0.634807         0.663859\n",
       "2     0.635271   0.011709            3         0.623562         0.646980\n",
       "3     0.652742   0.020808            4         0.631934         0.673550\n",
       "4     0.643800   0.020074            5         0.623725         0.663874"
      ]
     },
     "execution_count": 193,
     "metadata": {},
     "output_type": "execute_result"
    }
   ],
   "source": [
    "# Generamos los límites inferior y superior\n",
    "df_scores['limite_inferior'] = df_scores['score_medio'] - df_scores['score_std']\n",
    "df_scores['limite_superior'] = df_scores['score_medio'] + df_scores['score_std']\n",
    "df_scores.head()"
   ]
  },
  {
   "cell_type": "code",
   "execution_count": 194,
   "metadata": {},
   "outputs": [
    {
     "data": {
      "image/png": "[encoded data removed]",
      "text/plain": [
       "<Figure size 640x480 with 1 Axes>"
      ]
     },
     "metadata": {},
     "output_type": "display_data"
    }
   ],
   "source": [
    "# Graficamos los resultados\n",
    "plt.plot(df_scores['n_neighbors'], df_scores['limite_inferior'], color = 'r')\n",
    "plt.plot(df_scores['n_neighbors'], df_scores['score_medio'], color = 'b')\n",
    "plt.plot(df_scores['n_neighbors'], df_scores['limite_superior'], color = 'r')\n",
    "plt.ylim(0.5, 0.8);"
   ]
  },
  {
   "cell_type": "code",
   "execution_count": 195,
   "metadata": {},
   "outputs": [
    {
     "data": {
      "text/html": [
       "<div>\n",
       "<style scoped>\n",
       "    .dataframe tbody tr th:only-of-type {\n",
       "        vertical-align: middle;\n",
       "    }\n",
       "\n",
       "    .dataframe tbody tr th {\n",
       "        vertical-align: top;\n",
       "    }\n",
       "\n",
       "    .dataframe thead th {\n",
       "        text-align: right;\n",
       "    }\n",
       "</style>\n",
       "<table border=\"1\" class=\"dataframe\">\n",
       "  <thead>\n",
       "    <tr style=\"text-align: right;\">\n",
       "      <th></th>\n",
       "      <th>score_medio</th>\n",
       "      <th>score_std</th>\n",
       "      <th>n_neighbors</th>\n",
       "      <th>limite_inferior</th>\n",
       "      <th>limite_superior</th>\n",
       "    </tr>\n",
       "  </thead>\n",
       "  <tbody>\n",
       "    <tr>\n",
       "      <th>18</th>\n",
       "      <td>0.660848</td>\n",
       "      <td>0.011323</td>\n",
       "      <td>19</td>\n",
       "      <td>0.649525</td>\n",
       "      <td>0.672171</td>\n",
       "    </tr>\n",
       "  </tbody>\n",
       "</table>\n",
       "</div>"
      ],
      "text/plain": [
       "    score_medio  score_std  n_neighbors  limite_inferior  limite_superior\n",
       "18     0.660848   0.011323           19         0.649525         0.672171"
      ]
     },
     "execution_count": 195,
     "metadata": {},
     "output_type": "execute_result"
    }
   ],
   "source": [
    "# Identificamos el score máximo\n",
    "df_scores.loc[df_scores.score_medio == df_scores.score_medio.max()]"
   ]
  },
  {
   "cell_type": "code",
   "execution_count": 196,
   "metadata": {},
   "outputs": [
    {
     "data": {
      "text/plain": [
       "19"
      ]
     },
     "execution_count": 196,
     "metadata": {},
     "output_type": "execute_result"
    }
   ],
   "source": [
    "best_k = df_scores.loc[df_scores.score_medio == df_scores.score_medio.max(), 'n_neighbors'].values[0]\n",
    "best_k"
   ]
  },
  {
   "cell_type": "code",
   "execution_count": 197,
   "metadata": {},
   "outputs": [],
   "source": [
    "# Elegimos el modelo óptimo de acuerdo a las pruebas de cross validation\n",
    "knn = KNeighborsClassifier(n_neighbors=best_k)\n",
    "\n",
    "# Generamos los datasets de train y test.\n",
    "X_train_knn, X_test_knn, y_train_knn, y_test_knn = train_test_split(X, y, test_size = 0.3, random_state=42)\n",
    "\n",
    "# Lo ajustamos sobre los datos de entrenamiento\n",
    "knn.fit(X_train_knn, y_train_knn)\n",
    "y_pred_knn = knn.predict(X_test_knn)"
   ]
  },
  {
   "cell_type": "code",
   "execution_count": 198,
   "metadata": {},
   "outputs": [
    {
     "data": {
      "text/plain": [
       "0.7013208351086493"
      ]
     },
     "execution_count": 198,
     "metadata": {},
     "output_type": "execute_result"
    }
   ],
   "source": [
    "# Evaluamos qué accuracy obtenemos en train\n",
    "accuracy_score(y_train_knn, knn.predict(X_train_knn))\n"
   ]
  },
  {
   "cell_type": "code",
   "execution_count": 199,
   "metadata": {},
   "outputs": [
    {
     "data": {
      "text/plain": [
       "0.6540755467196819"
      ]
     },
     "execution_count": 199,
     "metadata": {},
     "output_type": "execute_result"
    }
   ],
   "source": [
    "# Evaluamos el accuracy del modelo en test\n",
    "accuracy_score(y_test_knn, y_pred_knn)"
   ]
  },
  {
   "cell_type": "code",
   "execution_count": 200,
   "metadata": {},
   "outputs": [
    {
     "data": {
      "image/png": "[encoded data removed]",
      "text/plain": [
       "<Figure size 640x480 with 2 Axes>"
      ]
     },
     "metadata": {},
     "output_type": "display_data"
    }
   ],
   "source": [
    "confusion_knn = confusion_matrix(y_test_knn, y_pred_knn)\n",
    "sns.heatmap(confusion_matrix(y_test_knn, y_pred_knn), annot=True, fmt='.0f', cmap=cmap, vmin=vmin)\n",
    "plt.ylabel('Etiquetas reales')\n",
    "plt.xlabel('Etiquetas predichas');"
   ]
  },
  {
   "cell_type": "code",
   "execution_count": 201,
   "metadata": {},
   "outputs": [
    {
     "name": "stdout",
     "output_type": "stream",
     "text": [
      "TP:  215  TN:  443  FP:  204  FN:  144\n"
     ]
    }
   ],
   "source": [
    "TP = confusion_knn[1, 1]; TN = confusion_knn[0, 0] ; FP = confusion_knn[0, 1] ; FN = confusion_knn[1, 0]\n",
    "print('TP: ', TP,' TN: ', TN,' FP: ',FP,' FN: ',FN )"
   ]
  },
  {
   "cell_type": "code",
   "execution_count": 202,
   "metadata": {},
   "outputs": [
    {
     "name": "stdout",
     "output_type": "stream",
     "text": [
      "Specificity= 0.6846986089644513\n",
      "Total de casos negativos predichos correctamente (TN) = 443\n",
      "Total de casos negativos (TN+FP) = 647\n"
     ]
    }
   ],
   "source": [
    "print('Specificity=', (TN)/ (TN+FP))\n",
    "print('Total de casos negativos predichos correctamente (TN) =',(TN))\n",
    "print('Total de casos negativos (TN+FP) =',(TN+FP))"
   ]
  },
  {
   "cell_type": "code",
   "execution_count": 203,
   "metadata": {},
   "outputs": [
    {
     "name": "stdout",
     "output_type": "stream",
     "text": [
      "0.6\n"
     ]
    }
   ],
   "source": [
    "print(recall_score(y_test_knn, y_pred_knn).round(2))"
   ]
  },
  {
   "cell_type": "markdown",
   "metadata": {},
   "source": [
    "LOGISTIC REGRESSION"
   ]
  },
  {
   "cell_type": "code",
   "execution_count": 204,
   "metadata": {},
   "outputs": [],
   "source": [
    "from sklearn.linear_model import LogisticRegression"
   ]
  },
  {
   "cell_type": "code",
   "execution_count": 205,
   "metadata": {},
   "outputs": [
    {
     "name": "stdout",
     "output_type": "stream",
     "text": [
      "Accuracy / Precisión =  0.7\n"
     ]
    }
   ],
   "source": [
    "X_train_lg, X_test_lg, y_train_lg, y_test_lg = train_test_split(X, y, test_size = 0.3, random_state= 42)\n",
    "lg = LogisticRegression()\n",
    "lg.fit(X_train_lg, y_train_lg)\n",
    "y_pred_lg = lg.predict(X_test_lg)\n",
    "print(\"Accuracy / Precisión = \", accuracy_score(y_test_lg, y_pred_lg).round(2))"
   ]
  },
  {
   "cell_type": "code",
   "execution_count": 206,
   "metadata": {},
   "outputs": [
    {
     "data": {
      "text/plain": [
       "0.72"
      ]
     },
     "execution_count": 206,
     "metadata": {},
     "output_type": "execute_result"
    }
   ],
   "source": [
    "# Evaluamos qué accuracy obtenemos en train\n",
    "accuracy_score(y_train_lg, lg.predict(X_train_lg)).round(2)"
   ]
  },
  {
   "cell_type": "code",
   "execution_count": 207,
   "metadata": {},
   "outputs": [
    {
     "data": {
      "image/png": "[encoded data removed]",
      "text/plain": [
       "<Figure size 640x480 with 2 Axes>"
      ]
     },
     "metadata": {},
     "output_type": "display_data"
    }
   ],
   "source": [
    "conf_mat_lg = confusion_matrix(y_test_lg, y_pred_lg)\n",
    "sns.heatmap(confusion_matrix(y_test_lg, y_pred_lg), annot=True, fmt='.0f', cmap = cmap)\n",
    "plt.ylabel('Etiquetas reales')\n",
    "plt.xlabel('Etiquetas predichas');"
   ]
  },
  {
   "cell_type": "markdown",
   "metadata": {},
   "source": [
    "XGBOOST"
   ]
  },
  {
   "cell_type": "code",
   "execution_count": 208,
   "metadata": {},
   "outputs": [],
   "source": [
    "from xgboost.sklearn import XGBClassifier\n",
    "model_xg = XGBClassifier(n_jobs=-1, use_label_encoder=False)"
   ]
  },
  {
   "cell_type": "code",
   "execution_count": 209,
   "metadata": {},
   "outputs": [],
   "source": [
    "from sklearn.model_selection import GridSearchCV\n",
    "params = {  \n",
    "    \"n_estimators\": [50,100,500],      # Number of boosted trees to fit.\n",
    "    \"max_depth\": [1,2,3,4],            # Maximum tree depth for base learners.\n",
    "    \"learning_rate\": [0.01, 0.1],      # Boosting learning rate (xgb’s “eta”)\n",
    "}"
   ]
  },
  {
   "cell_type": "code",
   "execution_count": 210,
   "metadata": {},
   "outputs": [],
   "source": [
    "xgb = GridSearchCV(model_xg, param_grid=params, cv=cv, verbose=1, n_jobs=-1)"
   ]
  },
  {
   "cell_type": "code",
   "execution_count": 211,
   "metadata": {},
   "outputs": [
    {
     "name": "stdout",
     "output_type": "stream",
     "text": [
      "Fitting 5 folds for each of 24 candidates, totalling 120 fits\n"
     ]
    },
    {
     "name": "stderr",
     "output_type": "stream",
     "text": [
      "[Parallel(n_jobs=-1)]: Using backend LokyBackend with 16 concurrent workers.\n",
      "[Parallel(n_jobs=-1)]: Done  18 tasks      | elapsed:    5.3s\n",
      "[Parallel(n_jobs=-1)]: Done 120 out of 120 | elapsed:   16.2s finished\n"
     ]
    },
    {
     "name": "stdout",
     "output_type": "stream",
     "text": [
      "[22:01:11] WARNING: ..\\src\\learner.cc:1095: Starting in XGBoost 1.3.0, the default evaluation metric used with the objective 'binary:logistic' was changed from 'error' to 'logloss'. Explicitly set eval_metric if you'd like to restore the old behavior.\n"
     ]
    },
    {
     "data": {
      "text/plain": [
       "GridSearchCV(cv=StratifiedKFold(n_splits=5, random_state=41, shuffle=True),\n",
       "             estimator=XGBClassifier(base_score=None, booster=None,\n",
       "                                     colsample_bylevel=None,\n",
       "                                     colsample_bynode=None,\n",
       "                                     colsample_bytree=None, gamma=None,\n",
       "                                     gpu_id=None, importance_type='gain',\n",
       "                                     interaction_constraints=None,\n",
       "                                     learning_rate=None, max_delta_step=None,\n",
       "                                     max_depth=None, min_child_weight=None,\n",
       "                                     missin...tone_constraints=None,\n",
       "                                     n_estimators=100, n_jobs=-1,\n",
       "                                     num_parallel_tree=None, random_state=None,\n",
       "                                     reg_alpha=None, reg_lambda=None,\n",
       "                                     scale_pos_weight=None, subsample=None,\n",
       "                                     tree_method=None, use_label_encoder=False,\n",
       "                                     validate_parameters=None, verbosity=None),\n",
       "             n_jobs=-1,\n",
       "             param_grid={'learning_rate': [0.01, 0.1],\n",
       "                         'max_depth': [1, 2, 3, 4],\n",
       "                         'n_estimators': [50, 100, 500]},\n",
       "             verbose=1)"
      ]
     },
     "execution_count": 211,
     "metadata": {},
     "output_type": "execute_result"
    }
   ],
   "source": [
    "xgb.fit(X_train,y_train)"
   ]
  },
  {
   "cell_type": "code",
   "execution_count": 212,
   "metadata": {},
   "outputs": [
    {
     "data": {
      "text/plain": [
       "{'learning_rate': 0.1, 'max_depth': 2, 'n_estimators': 500}"
      ]
     },
     "execution_count": 212,
     "metadata": {},
     "output_type": "execute_result"
    }
   ],
   "source": [
    "xgb.best_params_"
   ]
  },
  {
   "cell_type": "code",
   "execution_count": 213,
   "metadata": {},
   "outputs": [],
   "source": [
    "def evaluar_rendimiento(modelo, nombre, X, y, cv):\n",
    "    s = cross_val_score(modelo, X, y, cv=cv, n_jobs=-1)\n",
    "    print(\"Rendimiento de {}:\\t{:0.3} ± {:0.3}\".format( \\\n",
    "        nombre, s.mean().round(3), s.std().round(3)))"
   ]
  },
  {
   "cell_type": "code",
   "execution_count": 214,
   "metadata": {},
   "outputs": [
    {
     "name": "stdout",
     "output_type": "stream",
     "text": [
      "Rendimiento de XG Boost:\t0.709 ± 0.01\n"
     ]
    }
   ],
   "source": [
    "evaluar_rendimiento(xgb.best_estimator_,\"XG Boost\", X_train, y_train, cv)"
   ]
  },
  {
   "cell_type": "code",
   "execution_count": 215,
   "metadata": {},
   "outputs": [],
   "source": [
    "import warnings\n",
    "warnings.filterwarnings(action='ignore', category=UserWarning)"
   ]
  },
  {
   "cell_type": "code",
   "execution_count": 216,
   "metadata": {},
   "outputs": [
    {
     "name": "stdout",
     "output_type": "stream",
     "text": [
      "El valor del AUC es:  0.7029467042556048\n"
     ]
    }
   ],
   "source": [
    "from sklearn.metrics import roc_auc_score\n",
    "xgb_auc = roc_auc_score(y_test, xgb.predict(X_test))\n",
    "print(\"El valor del AUC es: \", xgb_auc)"
   ]
  },
  {
   "cell_type": "code",
   "execution_count": 217,
   "metadata": {},
   "outputs": [
    {
     "data": {
      "text/plain": [
       "array([0, 0, 0, ..., 0, 1, 1])"
      ]
     },
     "execution_count": 217,
     "metadata": {},
     "output_type": "execute_result"
    }
   ],
   "source": [
    "xgb.predict(X_test)"
   ]
  },
  {
   "cell_type": "code",
   "execution_count": 218,
   "metadata": {},
   "outputs": [
    {
     "data": {
      "text/plain": [
       "0.7127236580516899"
      ]
     },
     "execution_count": 218,
     "metadata": {},
     "output_type": "execute_result"
    }
   ],
   "source": [
    "accuracy_score(y_test, xgb.predict(X_test))"
   ]
  },
  {
   "cell_type": "code",
   "execution_count": 219,
   "metadata": {},
   "outputs": [
    {
     "data": {
      "text/plain": [
       "0.662303664921466"
      ]
     },
     "execution_count": 219,
     "metadata": {},
     "output_type": "execute_result"
    }
   ],
   "source": [
    "recall_score(y_test, xgb.predict(X_test))"
   ]
  },
  {
   "cell_type": "code",
   "execution_count": 220,
   "metadata": {},
   "outputs": [
    {
     "data": {
      "image/png": "[encoded data removed]",
      "text/plain": [
       "<Figure size 640x480 with 1 Axes>"
      ]
     },
     "metadata": {},
     "output_type": "display_data"
    }
   ],
   "source": [
    "from scikitplot.metrics import plot_roc\n",
    "plot_roc(y_test, xgb.predict_proba(X_test), plot_micro = False, plot_macro= False);"
   ]
  },
  {
   "cell_type": "code",
   "execution_count": 221,
   "metadata": {},
   "outputs": [
    {
     "data": {
      "image/png": "[encoded data removed]",
      "text/plain": [
       "<Figure size 640x480 with 1 Axes>"
      ]
     },
     "metadata": {},
     "output_type": "display_data"
    }
   ],
   "source": [
    "from xgboost import plot_importance\n",
    "plot_importance(xgb.best_estimator_, height = 0.8,max_num_features=10);"
   ]
  },
  {
   "cell_type": "code",
   "execution_count": 222,
   "metadata": {},
   "outputs": [
    {
     "data": {
      "text/plain": [
       "array([0, 0, 0, ..., 0, 1, 1])"
      ]
     },
     "execution_count": 222,
     "metadata": {},
     "output_type": "execute_result"
    }
   ],
   "source": [
    "y_pred = xgb.predict(X_test)\n",
    "y_pred"
   ]
  },
  {
   "cell_type": "code",
   "execution_count": 223,
   "metadata": {},
   "outputs": [],
   "source": [
    "#paleta colores\n",
    "cmap = sns.color_palette(\"Greens_d\", as_cmap=True)\n",
    "vmin, vmax = 100,900"
   ]
  },
  {
   "cell_type": "code",
   "execution_count": 224,
   "metadata": {},
   "outputs": [
    {
     "data": {
      "image/png": "[encoded data removed]",
      "text/plain": [
       "<Figure size 640x480 with 2 Axes>"
      ]
     },
     "metadata": {},
     "output_type": "display_data"
    }
   ],
   "source": [
    "conf_mat = confusion_matrix(y_test, y_pred)\n",
    "sns.heatmap(confusion_matrix(y_test, y_pred), annot=True, fmt='.0f',cmap=cmap, vmin=vmin, vmax=vmax)\n",
    "plt.ylabel('Etiquetas reales')\n",
    "plt.xlabel('Etiquetas predichas');"
   ]
  }
 ],
 "metadata": {
  "kernelspec": {
   "display_name": "Python 3 (ipykernel)",
   "language": "python",
   "name": "python3"
  },
  "language_info": {
   "codemirror_mode": {
    "name": "ipython",
    "version": 3
   },
   "file_extension": ".py",
   "mimetype": "text/x-python",
   "name": "python",
   "nbconvert_exporter": "python",
   "pygments_lexer": "ipython3",
   "version": "3.8.13"
  },
  "vscode": {
   "interpreter": {
    "hash": "d0c48e0326c6c4056e4b4eb85894922d97351fe3ceca175dabbe7210b9ffcd7d"
   }
  }
 },
 "nbformat": 4,
 "nbformat_minor": 4
}
