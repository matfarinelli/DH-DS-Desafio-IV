{
 "cells": [
  {
   "cell_type": "code",
   "execution_count": 41,
   "metadata": {},
   "outputs": [],
   "source": [
    "import pandas as pd\n",
    "import numpy as np\n",
    "import seaborn as sns\n",
    "import matplotlib.pyplot as plt"
   ]
  },
  {
   "cell_type": "markdown",
   "metadata": {},
   "source": [
    "LECTURA DATOS DE JURADOS"
   ]
  },
  {
   "cell_type": "code",
   "execution_count": 42,
   "metadata": {},
   "outputs": [
    {
     "data": {
      "text/html": [
       "<div>\n",
       "<style scoped>\n",
       "    .dataframe tbody tr th:only-of-type {\n",
       "        vertical-align: middle;\n",
       "    }\n",
       "\n",
       "    .dataframe tbody tr th {\n",
       "        vertical-align: top;\n",
       "    }\n",
       "\n",
       "    .dataframe thead th {\n",
       "        text-align: right;\n",
       "    }\n",
       "</style>\n",
       "<table border=\"1\" class=\"dataframe\">\n",
       "  <thead>\n",
       "    <tr style=\"text-align: right;\">\n",
       "      <th></th>\n",
       "      <th>id</th>\n",
       "      <th>trial</th>\n",
       "      <th>trial__id</th>\n",
       "      <th>race</th>\n",
       "      <th>gender</th>\n",
       "      <th>race_source</th>\n",
       "      <th>gender_source</th>\n",
       "      <th>struck_by</th>\n",
       "      <th>strike_eligibility</th>\n",
       "    </tr>\n",
       "  </thead>\n",
       "  <tbody>\n",
       "    <tr>\n",
       "      <th>0</th>\n",
       "      <td>35</td>\n",
       "      <td>1993-9826--Terry L. Landingham</td>\n",
       "      <td>1</td>\n",
       "      <td>White</td>\n",
       "      <td>Male</td>\n",
       "      <td>Jury strike sheet</td>\n",
       "      <td>Jury strike sheet</td>\n",
       "      <td>Struck for cause</td>\n",
       "      <td>NaN</td>\n",
       "    </tr>\n",
       "    <tr>\n",
       "      <th>1</th>\n",
       "      <td>38</td>\n",
       "      <td>1993-9826--Terry L. Landingham</td>\n",
       "      <td>1</td>\n",
       "      <td>Black</td>\n",
       "      <td>Female</td>\n",
       "      <td>Jury strike sheet</td>\n",
       "      <td>Jury strike sheet</td>\n",
       "      <td>Struck for cause</td>\n",
       "      <td>NaN</td>\n",
       "    </tr>\n",
       "  </tbody>\n",
       "</table>\n",
       "</div>"
      ],
      "text/plain": [
       "   id                           trial  trial__id   race  gender  \\\n",
       "0  35  1993-9826--Terry L. Landingham          1  White    Male   \n",
       "1  38  1993-9826--Terry L. Landingham          1  Black  Female   \n",
       "\n",
       "         race_source      gender_source         struck_by strike_eligibility  \n",
       "0  Jury strike sheet  Jury strike sheet  Struck for cause                NaN  \n",
       "1  Jury strike sheet  Jury strike sheet  Struck for cause                NaN  "
      ]
     },
     "execution_count": 42,
     "metadata": {},
     "output_type": "execute_result"
    }
   ],
   "source": [
    "data_jurors = pd.read_csv(\"jurors.csv\")\n",
    "data_jurors.head(2)"
   ]
  },
  {
   "cell_type": "code",
   "execution_count": 43,
   "metadata": {},
   "outputs": [
    {
     "name": "stdout",
     "output_type": "stream",
     "text": [
      "<class 'pandas.core.frame.DataFrame'>\n",
      "RangeIndex: 14874 entries, 0 to 14873\n",
      "Data columns (total 9 columns):\n",
      " #   Column              Non-Null Count  Dtype \n",
      "---  ------              --------------  ----- \n",
      " 0   id                  14874 non-null  int64 \n",
      " 1   trial               14874 non-null  object\n",
      " 2   trial__id           14874 non-null  int64 \n",
      " 3   race                14874 non-null  object\n",
      " 4   gender              14874 non-null  object\n",
      " 5   race_source         14874 non-null  object\n",
      " 6   gender_source       14874 non-null  object\n",
      " 7   struck_by           14874 non-null  object\n",
      " 8   strike_eligibility  8111 non-null   object\n",
      "dtypes: int64(2), object(7)\n",
      "memory usage: 1.0+ MB\n"
     ]
    }
   ],
   "source": [
    "data_jurors.info()"
   ]
  },
  {
   "cell_type": "code",
   "execution_count": 44,
   "metadata": {},
   "outputs": [],
   "source": [
    "#Creación columna año\n",
    "data_jurors['year'] = data_jurors.trial.str[:4]\n",
    "data_jurors.year = data_jurors.year.astype('int')"
   ]
  },
  {
   "cell_type": "code",
   "execution_count": 45,
   "metadata": {},
   "outputs": [],
   "source": [
    "#Eliminación columnas redundantes o de fuentes de datos\n",
    "data_jurors.drop(columns=['trial','race_source','gender_source'], inplace=True)"
   ]
  },
  {
   "cell_type": "code",
   "execution_count": 46,
   "metadata": {},
   "outputs": [
    {
     "data": {
      "text/plain": [
       "White      6241\n",
       "Unknown    4752\n",
       "Black      3877\n",
       "Asian         3\n",
       "Latino        1\n",
       "Name: race, dtype: int64"
      ]
     },
     "execution_count": 46,
     "metadata": {},
     "output_type": "execute_result"
    }
   ],
   "source": [
    "data_jurors['race'].value_counts()"
   ]
  },
  {
   "cell_type": "code",
   "execution_count": 47,
   "metadata": {},
   "outputs": [],
   "source": [
    "#Selección de las categorías 'Black' y 'White' la columna 'race'\n",
    "mask_jurors_2 = ['Black', 'White']\n",
    "data_jurors_mask_2 = data_jurors['race']. apply(lambda x: x in mask_jurors_2)\n",
    "data_jurors = data_jurors.loc[data_jurors_mask_2]\n",
    "# data_jurors = data_jurors_3"
   ]
  },
  {
   "cell_type": "code",
   "execution_count": 48,
   "metadata": {},
   "outputs": [
    {
     "data": {
      "image/png": "[encoded data removed]",
      "text/plain": [
       "<Figure size 576x432 with 1 Axes>"
      ]
     },
     "metadata": {
      "needs_background": "light"
     },
     "output_type": "display_data"
    }
   ],
   "source": [
    "sns.set_palette(\"YlOrBr\")\n",
    "plt.figure(figsize=(8,6))\n",
    "sns.countplot(x='race', data=data_jurors, hue='gender')\n",
    "plt.xlabel('Grupo étnico', fontsize=12)\n",
    "plt.ylabel('Cantidad', fontsize=12)\n",
    "plt.title(f'Distribución por etnia y sexo de los jurados ({len(data_jurors)})', fontsize=14)\n",
    "plt.show()"
   ]
  },
  {
   "cell_type": "code",
   "execution_count": 49,
   "metadata": {},
   "outputs": [
    {
     "data": {
      "text/html": [
       "<div>\n",
       "<style scoped>\n",
       "    .dataframe tbody tr th:only-of-type {\n",
       "        vertical-align: middle;\n",
       "    }\n",
       "\n",
       "    .dataframe tbody tr th {\n",
       "        vertical-align: top;\n",
       "    }\n",
       "\n",
       "    .dataframe thead tr th {\n",
       "        text-align: left;\n",
       "    }\n",
       "\n",
       "    .dataframe thead tr:last-of-type th {\n",
       "        text-align: right;\n",
       "    }\n",
       "</style>\n",
       "<table border=\"1\" class=\"dataframe\">\n",
       "  <thead>\n",
       "    <tr>\n",
       "      <th></th>\n",
       "      <th colspan=\"3\" halign=\"left\">id</th>\n",
       "    </tr>\n",
       "    <tr>\n",
       "      <th>gender</th>\n",
       "      <th>Female</th>\n",
       "      <th>Male</th>\n",
       "      <th>Unknown</th>\n",
       "    </tr>\n",
       "    <tr>\n",
       "      <th>race</th>\n",
       "      <th></th>\n",
       "      <th></th>\n",
       "      <th></th>\n",
       "    </tr>\n",
       "  </thead>\n",
       "  <tbody>\n",
       "    <tr>\n",
       "      <th>Black</th>\n",
       "      <td>2221</td>\n",
       "      <td>1381</td>\n",
       "      <td>275</td>\n",
       "    </tr>\n",
       "    <tr>\n",
       "      <th>White</th>\n",
       "      <td>3217</td>\n",
       "      <td>2650</td>\n",
       "      <td>374</td>\n",
       "    </tr>\n",
       "  </tbody>\n",
       "</table>\n",
       "</div>"
      ],
      "text/plain": [
       "           id              \n",
       "gender Female  Male Unknown\n",
       "race                       \n",
       "Black    2221  1381     275\n",
       "White    3217  2650     374"
      ]
     },
     "execution_count": 49,
     "metadata": {},
     "output_type": "execute_result"
    }
   ],
   "source": [
    "data_jurors.pivot_table(index = 'race', columns = 'gender', aggfunc = {'id' : 'count'})"
   ]
  },
  {
   "cell_type": "code",
   "execution_count": 50,
   "metadata": {},
   "outputs": [],
   "source": [
    "#Creación de variables dummies para la tabla de jurados\n",
    "col_dummies = ['race', 'gender']\n",
    "dummy_df = pd.get_dummies(data_jurors[col_dummies], drop_first=True)\n",
    "data_jurors = pd.concat([data_jurors.drop(col_dummies, axis=1), dummy_df], axis=1)"
   ]
  },
  {
   "cell_type": "code",
   "execution_count": 51,
   "metadata": {},
   "outputs": [
    {
     "name": "stdout",
     "output_type": "stream",
     "text": [
      "Cantidad de jurados: 10118\n"
     ]
    }
   ],
   "source": [
    "#cantidad de jurados\n",
    "print(f'Cantidad de jurados: {len(data_jurors.id.unique())}')"
   ]
  },
  {
   "cell_type": "code",
   "execution_count": 52,
   "metadata": {},
   "outputs": [
    {
     "name": "stdout",
     "output_type": "stream",
     "text": [
      "Cantidad de juicios: 226\n"
     ]
    }
   ],
   "source": [
    "#cantidad de juicios\n",
    "print(f'Cantidad de juicios: {len(data_jurors.trial__id.unique())}')"
   ]
  },
  {
   "cell_type": "code",
   "execution_count": 53,
   "metadata": {},
   "outputs": [
    {
     "data": {
      "image/png": "[encoded data removed]",
      "text/plain": [
       "<Figure size 432x288 with 1 Axes>"
      ]
     },
     "metadata": {
      "needs_background": "light"
     },
     "output_type": "display_data"
    }
   ],
   "source": [
    "# cantidad de potenciales jurados evaluados por juicio\n",
    "\n",
    "juror_x_trial = data_jurors.groupby('trial__id').agg(\n",
    "    count_juror=pd.NamedAgg(column=\"id\", aggfunc=\"count\")\n",
    ")\n",
    "\n",
    "# juror_x_trial['count_juror'].hist(bins=30) #--> graficar serie directamente\n",
    "sns.histplot(data=juror_x_trial, x='count_juror', bins=30)\n",
    "\n",
    "plt.xlabel('Cantidad')\n",
    "plt.ylabel('Frecuencia')\n",
    "plt.title('Jurados potenciales por juicio')\n",
    "plt.show()"
   ]
  },
  {
   "cell_type": "code",
   "execution_count": 54,
   "metadata": {},
   "outputs": [
    {
     "data": {
      "text/html": [
       "<div>\n",
       "<style scoped>\n",
       "    .dataframe tbody tr th:only-of-type {\n",
       "        vertical-align: middle;\n",
       "    }\n",
       "\n",
       "    .dataframe tbody tr th {\n",
       "        vertical-align: top;\n",
       "    }\n",
       "\n",
       "    .dataframe thead th {\n",
       "        text-align: right;\n",
       "    }\n",
       "</style>\n",
       "<table border=\"1\" class=\"dataframe\">\n",
       "  <thead>\n",
       "    <tr style=\"text-align: right;\">\n",
       "      <th></th>\n",
       "      <th>count_juror</th>\n",
       "    </tr>\n",
       "  </thead>\n",
       "  <tbody>\n",
       "    <tr>\n",
       "      <th>count</th>\n",
       "      <td>226.000000</td>\n",
       "    </tr>\n",
       "    <tr>\n",
       "      <th>mean</th>\n",
       "      <td>44.769912</td>\n",
       "    </tr>\n",
       "    <tr>\n",
       "      <th>std</th>\n",
       "      <td>18.286368</td>\n",
       "    </tr>\n",
       "    <tr>\n",
       "      <th>min</th>\n",
       "      <td>3.000000</td>\n",
       "    </tr>\n",
       "    <tr>\n",
       "      <th>25%</th>\n",
       "      <td>36.000000</td>\n",
       "    </tr>\n",
       "    <tr>\n",
       "      <th>50%</th>\n",
       "      <td>44.000000</td>\n",
       "    </tr>\n",
       "    <tr>\n",
       "      <th>75%</th>\n",
       "      <td>53.000000</td>\n",
       "    </tr>\n",
       "    <tr>\n",
       "      <th>max</th>\n",
       "      <td>125.000000</td>\n",
       "    </tr>\n",
       "  </tbody>\n",
       "</table>\n",
       "</div>"
      ],
      "text/plain": [
       "       count_juror\n",
       "count   226.000000\n",
       "mean     44.769912\n",
       "std      18.286368\n",
       "min       3.000000\n",
       "25%      36.000000\n",
       "50%      44.000000\n",
       "75%      53.000000\n",
       "max     125.000000"
      ]
     },
     "execution_count": 54,
     "metadata": {},
     "output_type": "execute_result"
    }
   ],
   "source": [
    "juror_x_trial.sort_values(by='count_juror').describe()"
   ]
  },
  {
   "cell_type": "markdown",
   "metadata": {},
   "source": [
    "-Promedio de jurados por juicio: 48\n",
    "\n",
    "-Mínimo de jurados en un juicios : 19\n",
    "\n",
    "-Máximo de jurados en un juicios : 130\n"
   ]
  },
  {
   "cell_type": "code",
   "execution_count": 55,
   "metadata": {},
   "outputs": [
    {
     "name": "stdout",
     "output_type": "stream",
     "text": [
      "Both State and Defense    3503\n",
      "State                     1626\n",
      "Defense                    155\n",
      "Neither                    136\n",
      "Name: strike_eligibility, dtype: int64\n",
      "Valores nulos  4698\n",
      "Total de datos  10118\n"
     ]
    },
    {
     "data": {
      "image/png": "[encoded data removed]",
      "text/plain": [
       "<Figure size 432x288 with 1 Axes>"
      ]
     },
     "metadata": {
      "needs_background": "light"
     },
     "output_type": "display_data"
    }
   ],
   "source": [
    "print(data_jurors.strike_eligibility.value_counts())\n",
    "print(f'Valores nulos ' , data_jurors.strike_eligibility.isna().sum())\n",
    "print(f'Total de datos ', data_jurors.strike_eligibility.shape[0])\n",
    "\n",
    "sns.countplot(x='strike_eligibility', data=data_jurors)\n",
    "plt.xlabel('Rechazado por')\n",
    "plt.ylabel('Cantidad')\n",
    "plt.title('Distribución de rechazos s/ actor')\n",
    "plt.show()"
   ]
  },
  {
   "cell_type": "code",
   "execution_count": 56,
   "metadata": {},
   "outputs": [],
   "source": [
    "data_jurors_struck_by=pd.DataFrame(data_jurors.struck_by)"
   ]
  },
  {
   "cell_type": "code",
   "execution_count": 57,
   "metadata": {},
   "outputs": [],
   "source": [
    "#Agrupamos los valores de la variable target (elegido o rechazado)\n",
    "\n",
    "etiquetas_struck_by = { \n",
    "             'Juror chosen to serve on jury': 'Elegido',\n",
    "             'Juror not struck':  'No rechazado',\n",
    "             'Struck by the defense':  'Por la defensa',\n",
    "             'Struck for cause':  'Por causa',\n",
    "             'Struck by the state':  'Por el estado',\n",
    "             'Struck without notation': 'Rechazada sin notación',\n",
    "             'Juror excused/absent': 'Exhimido/Ausente',\n",
    "             'Juror chosen as alternate': 'Suplente',\n",
    "             'Unknown': 'Desconocido'\n",
    "             }\n",
    "\n",
    "\n",
    "data_jurors_struck_by['struck_by'] = data_jurors_struck_by['struck_by'].map(etiquetas_struck_by)"
   ]
  },
  {
   "cell_type": "code",
   "execution_count": 78,
   "metadata": {},
   "outputs": [
    {
     "name": "stdout",
     "output_type": "stream",
     "text": [
      "Valores nulos  0\n",
      "Total de datos  10118\n"
     ]
    },
    {
     "data": {
      "image/png": "[encoded data removed]",
      "text/plain": [
       "<Figure size 432x288 with 1 Axes>"
      ]
     },
     "metadata": {
      "needs_background": "light"
     },
     "output_type": "display_data"
    },
    {
     "name": "stdout",
     "output_type": "stream",
     "text": [
      "No rechazado              2900\n",
      "Elegido                   2462\n",
      "Por la defensa            1466\n",
      "Por causa                 1342\n",
      "Por el estado             1285\n",
      "Rechazada sin notación     362\n",
      "Suplente                   240\n",
      "Exhimido/Ausente            43\n",
      "Desconocido                 18\n",
      "Name: struck_by, dtype: int64\n"
     ]
    }
   ],
   "source": [
    "print(f'Valores nulos ' , data_jurors_struck_by.struck_by.isna().sum())\n",
    "print(f'Total de datos ', data_jurors_struck_by.struck_by.shape[0])\n",
    "\n",
    "#Analizamos la correlación que existe entre algunas de las variables\n",
    "orden=data_jurors_struck_by.struck_by.value_counts().index\n",
    "\n",
    "sns.countplot(y='struck_by', data=data_jurors_struck_by, order=orden)\n",
    "plt.xlabel('Cantidad')\n",
    "plt.ylabel('Rechazado por')\n",
    "plt.title('Distribución de rechazos')\n",
    "plt.show()\n",
    "\n",
    "\n",
    "print(data_jurors_struck_by.struck_by.value_counts())"
   ]
  },
  {
   "cell_type": "code",
   "execution_count": 59,
   "metadata": {},
   "outputs": [
    {
     "name": "stdout",
     "output_type": "stream",
     "text": [
      "<class 'pandas.core.frame.DataFrame'>\n",
      "Int64Index: 10118 entries, 0 to 14873\n",
      "Data columns (total 8 columns):\n",
      " #   Column              Non-Null Count  Dtype \n",
      "---  ------              --------------  ----- \n",
      " 0   id                  10118 non-null  int64 \n",
      " 1   trial__id           10118 non-null  int64 \n",
      " 2   struck_by           10118 non-null  object\n",
      " 3   strike_eligibility  5420 non-null   object\n",
      " 4   year                10118 non-null  int32 \n",
      " 5   race_White          10118 non-null  uint8 \n",
      " 6   gender_Male         10118 non-null  uint8 \n",
      " 7   gender_Unknown      10118 non-null  uint8 \n",
      "dtypes: int32(1), int64(2), object(2), uint8(3)\n",
      "memory usage: 722.4+ KB\n"
     ]
    }
   ],
   "source": [
    "data_jurors.info()"
   ]
  },
  {
   "cell_type": "markdown",
   "metadata": {},
   "source": [
    "------------------------"
   ]
  },
  {
   "cell_type": "markdown",
   "metadata": {},
   "source": [
    "LECTURA DATOS DE JUICIOS"
   ]
  },
  {
   "cell_type": "code",
   "execution_count": 60,
   "metadata": {},
   "outputs": [
    {
     "data": {
      "text/html": [
       "<div>\n",
       "<style scoped>\n",
       "    .dataframe tbody tr th:only-of-type {\n",
       "        vertical-align: middle;\n",
       "    }\n",
       "\n",
       "    .dataframe tbody tr th {\n",
       "        vertical-align: top;\n",
       "    }\n",
       "\n",
       "    .dataframe thead th {\n",
       "        text-align: right;\n",
       "    }\n",
       "</style>\n",
       "<table border=\"1\" class=\"dataframe\">\n",
       "  <thead>\n",
       "    <tr style=\"text-align: right;\">\n",
       "      <th></th>\n",
       "      <th>id</th>\n",
       "      <th>defendant_name</th>\n",
       "      <th>cause_number</th>\n",
       "      <th>state_strikes</th>\n",
       "      <th>defense_strikes</th>\n",
       "      <th>county</th>\n",
       "      <th>defendant_race</th>\n",
       "      <th>second_defendant_race</th>\n",
       "      <th>third_defendant_race</th>\n",
       "      <th>fourth_defendant_race</th>\n",
       "      <th>...</th>\n",
       "      <th>offense_code_5</th>\n",
       "      <th>offense_title_5</th>\n",
       "      <th>offense_code_6</th>\n",
       "      <th>offense_title_6</th>\n",
       "      <th>more_than_six</th>\n",
       "      <th>verdict</th>\n",
       "      <th>case_appealed</th>\n",
       "      <th>batson_claim_by_defense</th>\n",
       "      <th>batson_claim_by_state</th>\n",
       "      <th>voir_dire_present</th>\n",
       "    </tr>\n",
       "  </thead>\n",
       "  <tbody>\n",
       "    <tr>\n",
       "      <th>0</th>\n",
       "      <td>1</td>\n",
       "      <td>Terry L. Landingham</td>\n",
       "      <td>1993-9826</td>\n",
       "      <td>False</td>\n",
       "      <td>False</td>\n",
       "      <td>Attala</td>\n",
       "      <td>Black</td>\n",
       "      <td>NaN</td>\n",
       "      <td>NaN</td>\n",
       "      <td>NaN</td>\n",
       "      <td>...</td>\n",
       "      <td>NaN</td>\n",
       "      <td>NaN</td>\n",
       "      <td>NaN</td>\n",
       "      <td>NaN</td>\n",
       "      <td>False</td>\n",
       "      <td>Guilty on at least one offense</td>\n",
       "      <td>True</td>\n",
       "      <td>False</td>\n",
       "      <td>False</td>\n",
       "      <td>True</td>\n",
       "    </tr>\n",
       "    <tr>\n",
       "      <th>1</th>\n",
       "      <td>2</td>\n",
       "      <td>Donovan Johnson</td>\n",
       "      <td>2009-0023</td>\n",
       "      <td>False</td>\n",
       "      <td>True</td>\n",
       "      <td>Attala</td>\n",
       "      <td>Black</td>\n",
       "      <td>NaN</td>\n",
       "      <td>NaN</td>\n",
       "      <td>NaN</td>\n",
       "      <td>...</td>\n",
       "      <td>NaN</td>\n",
       "      <td>NaN</td>\n",
       "      <td>NaN</td>\n",
       "      <td>NaN</td>\n",
       "      <td>False</td>\n",
       "      <td>Guilty on at least one offense</td>\n",
       "      <td>True</td>\n",
       "      <td>False</td>\n",
       "      <td>False</td>\n",
       "      <td>True</td>\n",
       "    </tr>\n",
       "    <tr>\n",
       "      <th>2</th>\n",
       "      <td>3</td>\n",
       "      <td>Sparky Watson</td>\n",
       "      <td>2004-0257</td>\n",
       "      <td>True</td>\n",
       "      <td>True</td>\n",
       "      <td>Grenada</td>\n",
       "      <td>Black</td>\n",
       "      <td>NaN</td>\n",
       "      <td>NaN</td>\n",
       "      <td>NaN</td>\n",
       "      <td>...</td>\n",
       "      <td>NaN</td>\n",
       "      <td>NaN</td>\n",
       "      <td>NaN</td>\n",
       "      <td>NaN</td>\n",
       "      <td>False</td>\n",
       "      <td>Guilty on at least one offense</td>\n",
       "      <td>True</td>\n",
       "      <td>False</td>\n",
       "      <td>False</td>\n",
       "      <td>True</td>\n",
       "    </tr>\n",
       "    <tr>\n",
       "      <th>3</th>\n",
       "      <td>4</td>\n",
       "      <td>Phillip Knickel</td>\n",
       "      <td>1998-0020</td>\n",
       "      <td>False</td>\n",
       "      <td>True</td>\n",
       "      <td>Montgomery</td>\n",
       "      <td>White</td>\n",
       "      <td>NaN</td>\n",
       "      <td>NaN</td>\n",
       "      <td>NaN</td>\n",
       "      <td>...</td>\n",
       "      <td>NaN</td>\n",
       "      <td>NaN</td>\n",
       "      <td>NaN</td>\n",
       "      <td>NaN</td>\n",
       "      <td>False</td>\n",
       "      <td>Guilty on at least one offense</td>\n",
       "      <td>True</td>\n",
       "      <td>False</td>\n",
       "      <td>False</td>\n",
       "      <td>True</td>\n",
       "    </tr>\n",
       "    <tr>\n",
       "      <th>4</th>\n",
       "      <td>5</td>\n",
       "      <td>Donald Dotson</td>\n",
       "      <td>1994-9918</td>\n",
       "      <td>False</td>\n",
       "      <td>True</td>\n",
       "      <td>Attala</td>\n",
       "      <td>Black</td>\n",
       "      <td>NaN</td>\n",
       "      <td>NaN</td>\n",
       "      <td>NaN</td>\n",
       "      <td>...</td>\n",
       "      <td>NaN</td>\n",
       "      <td>NaN</td>\n",
       "      <td>NaN</td>\n",
       "      <td>NaN</td>\n",
       "      <td>False</td>\n",
       "      <td>Guilty on at least one offense</td>\n",
       "      <td>True</td>\n",
       "      <td>True</td>\n",
       "      <td>False</td>\n",
       "      <td>True</td>\n",
       "    </tr>\n",
       "  </tbody>\n",
       "</table>\n",
       "<p>5 rows × 38 columns</p>\n",
       "</div>"
      ],
      "text/plain": [
       "   id       defendant_name cause_number  state_strikes  defense_strikes  \\\n",
       "0   1  Terry L. Landingham    1993-9826          False            False   \n",
       "1   2      Donovan Johnson    2009-0023          False             True   \n",
       "2   3        Sparky Watson    2004-0257           True             True   \n",
       "3   4      Phillip Knickel    1998-0020          False             True   \n",
       "4   5        Donald Dotson    1994-9918          False             True   \n",
       "\n",
       "       county defendant_race second_defendant_race third_defendant_race  \\\n",
       "0      Attala          Black                   NaN                  NaN   \n",
       "1      Attala          Black                   NaN                  NaN   \n",
       "2     Grenada          Black                   NaN                  NaN   \n",
       "3  Montgomery          White                   NaN                  NaN   \n",
       "4      Attala          Black                   NaN                  NaN   \n",
       "\n",
       "   fourth_defendant_race  ...  offense_code_5 offense_title_5 offense_code_6  \\\n",
       "0                    NaN  ...             NaN             NaN            NaN   \n",
       "1                    NaN  ...             NaN             NaN            NaN   \n",
       "2                    NaN  ...             NaN             NaN            NaN   \n",
       "3                    NaN  ...             NaN             NaN            NaN   \n",
       "4                    NaN  ...             NaN             NaN            NaN   \n",
       "\n",
       "  offense_title_6 more_than_six                         verdict case_appealed  \\\n",
       "0             NaN         False  Guilty on at least one offense          True   \n",
       "1             NaN         False  Guilty on at least one offense          True   \n",
       "2             NaN         False  Guilty on at least one offense          True   \n",
       "3             NaN         False  Guilty on at least one offense          True   \n",
       "4             NaN         False  Guilty on at least one offense          True   \n",
       "\n",
       "  batson_claim_by_defense batson_claim_by_state  voir_dire_present  \n",
       "0                   False                 False               True  \n",
       "1                   False                 False               True  \n",
       "2                   False                 False               True  \n",
       "3                   False                 False               True  \n",
       "4                    True                 False               True  \n",
       "\n",
       "[5 rows x 38 columns]"
      ]
     },
     "execution_count": 60,
     "metadata": {},
     "output_type": "execute_result"
    }
   ],
   "source": [
    "data_trials = pd.read_csv(\"trials.csv\")\n",
    "data_trials.head(5)"
   ]
  },
  {
   "cell_type": "code",
   "execution_count": 61,
   "metadata": {},
   "outputs": [
    {
     "name": "stdout",
     "output_type": "stream",
     "text": [
      "<class 'pandas.core.frame.DataFrame'>\n",
      "RangeIndex: 305 entries, 0 to 304\n",
      "Data columns (total 38 columns):\n",
      " #   Column                       Non-Null Count  Dtype  \n",
      "---  ------                       --------------  -----  \n",
      " 0   id                           305 non-null    int64  \n",
      " 1   defendant_name               305 non-null    object \n",
      " 2   cause_number                 305 non-null    object \n",
      " 3   state_strikes                305 non-null    bool   \n",
      " 4   defense_strikes              305 non-null    bool   \n",
      " 5   county                       305 non-null    object \n",
      " 6   defendant_race               305 non-null    object \n",
      " 7   second_defendant_race        15 non-null     object \n",
      " 8   third_defendant_race         2 non-null      object \n",
      " 9   fourth_defendant_race        0 non-null      float64\n",
      " 10  more_than_four_defendants    305 non-null    bool   \n",
      " 11  judge                        305 non-null    object \n",
      " 12  prosecutor_1                 303 non-null    object \n",
      " 13  prosecutor_2                 189 non-null    object \n",
      " 14  prosecutor_3                 21 non-null     object \n",
      " 15  prosecutors_more_than_three  305 non-null    bool   \n",
      " 16  def_attny_1                  304 non-null    object \n",
      " 17  def_attny_2                  38 non-null     object \n",
      " 18  def_attny_3                  7 non-null      object \n",
      " 19  def_attnys_more_than_three   305 non-null    bool   \n",
      " 20  offense_code_1               305 non-null    object \n",
      " 21  offense_title_1              305 non-null    object \n",
      " 22  offense_code_2               124 non-null    object \n",
      " 23  offense_title_2              124 non-null    object \n",
      " 24  offense_code_3               53 non-null     object \n",
      " 25  offense_title_3              53 non-null     object \n",
      " 26  offense_code_4               21 non-null     object \n",
      " 27  offense_title_4              21 non-null     object \n",
      " 28  offense_code_5               8 non-null      object \n",
      " 29  offense_title_5              9 non-null      object \n",
      " 30  offense_code_6               3 non-null      object \n",
      " 31  offense_title_6              3 non-null      object \n",
      " 32  more_than_six                305 non-null    bool   \n",
      " 33  verdict                      305 non-null    object \n",
      " 34  case_appealed                305 non-null    bool   \n",
      " 35  batson_claim_by_defense      305 non-null    bool   \n",
      " 36  batson_claim_by_state        305 non-null    bool   \n",
      " 37  voir_dire_present            305 non-null    bool   \n",
      "dtypes: bool(10), float64(1), int64(1), object(26)\n",
      "memory usage: 69.8+ KB\n"
     ]
    }
   ],
   "source": [
    "data_trials.info()"
   ]
  },
  {
   "cell_type": "code",
   "execution_count": 62,
   "metadata": {},
   "outputs": [
    {
     "data": {
      "image/png": "[encoded data removed]",
      "text/plain": [
       "<Figure size 720x1080 with 1 Axes>"
      ]
     },
     "metadata": {
      "needs_background": "light"
     },
     "output_type": "display_data"
    }
   ],
   "source": [
    "import matplotlib.pyplot as plt\n",
    "\n",
    "\n",
    "sns.set_palette(\"icefire\")\n",
    "# Calcular el conteo de cada valor único en la columna 'offense_title_1'\n",
    "value_counts = data_trials.offense_title_1.value_counts()\n",
    "\n",
    "# Crear una figura con un tamaño personalizado\n",
    "fig = plt.figure(figsize=(10, 15))\n",
    "\n",
    "# Crear un gráfico de barras horizontal dentro de la figura\n",
    "plt.barh(value_counts.index, value_counts.values)\n",
    "\n",
    "# Ajustar el tamaño de la fuente de las etiquetas en el eje y a 8 puntos\n",
    "plt.tick_params(axis='y', labelsize=8)\n",
    "\n",
    "# Añadir títulos y etiquetas de los ejes\n",
    "plt.title('Recuento de títulos de ofensas')\n",
    "plt.xlabel('Número de casos')\n",
    "plt.ylabel('Título de la ofensa')\n",
    "\n",
    "# Mostrar el gráfico\n",
    "plt.show()\n"
   ]
  },
  {
   "cell_type": "code",
   "execution_count": 63,
   "metadata": {},
   "outputs": [],
   "source": [
    "from collections import Counter"
   ]
  },
  {
   "cell_type": "code",
   "execution_count": 64,
   "metadata": {},
   "outputs": [],
   "source": [
    "all_words = []\n",
    "for row in data_trials['offense_title_1']:\n",
    "    words = row.lower().split()\n",
    "    all_words.extend(words)"
   ]
  },
  {
   "cell_type": "code",
   "execution_count": 65,
   "metadata": {},
   "outputs": [],
   "source": [
    "stopwords = ['manslaughter', 'murder','assault','possession','burglary','dwelling','robbery','substance','rape','marijuana','cocaine','battery', 'theft'] \n",
    "filtered_words = [word for word in all_words if word in stopwords]\n",
    "word_counts = Counter(filtered_words)"
   ]
  },
  {
   "cell_type": "code",
   "execution_count": 66,
   "metadata": {},
   "outputs": [
    {
     "name": "stdout",
     "output_type": "stream",
     "text": [
      "Cantidad de palabras encontradas: 13\n",
      "Palabras más utilizadas:\n",
      "murder: 65\n",
      "cocaine: 41\n",
      "assault: 40\n",
      "possession: 31\n",
      "burglary: 30\n",
      "dwelling: 24\n",
      "robbery: 23\n",
      "rape: 12\n",
      "battery: 11\n",
      "marijuana: 11\n",
      "substance: 10\n",
      "manslaughter: 4\n",
      "theft: 4\n"
     ]
    }
   ],
   "source": [
    "word_counts_list = list(word_counts.items())\n",
    "word_counts_list.sort(key=lambda x: x[1], reverse=True)\n",
    "\n",
    "print(\"Cantidad de palabras encontradas:\", len(word_counts_list))\n",
    "print(\"Palabras más utilizadas:\")\n",
    "\n",
    "words = []\n",
    "\n",
    "for word, count in word_counts_list:\n",
    "    words.append(word)\n",
    "    print(f\"{word}: {count}\")"
   ]
  },
  {
   "cell_type": "code",
   "execution_count": 67,
   "metadata": {},
   "outputs": [
    {
     "name": "stdout",
     "output_type": "stream",
     "text": [
      "['murder', 'cocaine', 'assault', 'possession', 'burglary', 'dwelling', 'robbery', 'rape', 'battery', 'marijuana', 'substance', 'manslaughter', 'theft']\n"
     ]
    }
   ],
   "source": [
    "print(words)"
   ]
  },
  {
   "cell_type": "code",
   "execution_count": 68,
   "metadata": {},
   "outputs": [
    {
     "name": "stderr",
     "output_type": "stream",
     "text": [
      "<ipython-input-68-858a7d6d4fb6>:5: SettingWithCopyWarning: \n",
      "A value is trying to be set on a copy of a slice from a DataFrame.\n",
      "Try using .loc[row_indexer,col_indexer] = value instead\n",
      "\n",
      "See the caveats in the documentation: https://pandas.pydata.org/pandas-docs/stable/user_guide/indexing.html#returning-a-view-versus-a-copy\n",
      "  filtered_data['ofensa'] = filtered_data['offense_title_1'].apply(lambda x: [word for word in words if word in x.lower()][0])\n"
     ]
    }
   ],
   "source": [
    "# Filtra las filas del DataFrame que contienen al menos una palabra de la lista \"words\"\n",
    "filtered_data = data_trials[data_trials['offense_title_1'].str.lower().str.contains('|'.join(words))]\n",
    "\n",
    "# Crea una nueva columna \"ofensa\" que contiene la palabra encontrada en la columna \"data_trials.offense_title_1\"\n",
    "filtered_data['ofensa'] = filtered_data['offense_title_1'].apply(lambda x: [word for word in words if word in x.lower()][0])\n",
    "\n",
    "# filtered_data[['offense_title_1','ofensa']].sample(10)\n"
   ]
  },
  {
   "cell_type": "code",
   "execution_count": 69,
   "metadata": {},
   "outputs": [
    {
     "data": {
      "text/html": [
       "<div>\n",
       "<style scoped>\n",
       "    .dataframe tbody tr th:only-of-type {\n",
       "        vertical-align: middle;\n",
       "    }\n",
       "\n",
       "    .dataframe tbody tr th {\n",
       "        vertical-align: top;\n",
       "    }\n",
       "\n",
       "    .dataframe thead th {\n",
       "        text-align: right;\n",
       "    }\n",
       "</style>\n",
       "<table border=\"1\" class=\"dataframe\">\n",
       "  <thead>\n",
       "    <tr style=\"text-align: right;\">\n",
       "      <th></th>\n",
       "      <th>id</th>\n",
       "      <th>defendant_name</th>\n",
       "      <th>cause_number</th>\n",
       "      <th>state_strikes</th>\n",
       "      <th>defense_strikes</th>\n",
       "      <th>county</th>\n",
       "      <th>defendant_race</th>\n",
       "      <th>second_defendant_race</th>\n",
       "      <th>third_defendant_race</th>\n",
       "      <th>fourth_defendant_race</th>\n",
       "      <th>...</th>\n",
       "      <th>offense_title_5</th>\n",
       "      <th>offense_code_6</th>\n",
       "      <th>offense_title_6</th>\n",
       "      <th>more_than_six</th>\n",
       "      <th>verdict</th>\n",
       "      <th>case_appealed</th>\n",
       "      <th>batson_claim_by_defense</th>\n",
       "      <th>batson_claim_by_state</th>\n",
       "      <th>voir_dire_present</th>\n",
       "      <th>offense</th>\n",
       "    </tr>\n",
       "  </thead>\n",
       "  <tbody>\n",
       "    <tr>\n",
       "      <th>28</th>\n",
       "      <td>29</td>\n",
       "      <td>Dewayne Price</td>\n",
       "      <td>2007-0099C</td>\n",
       "      <td>False</td>\n",
       "      <td>True</td>\n",
       "      <td>Attala</td>\n",
       "      <td>Black</td>\n",
       "      <td>NaN</td>\n",
       "      <td>NaN</td>\n",
       "      <td>NaN</td>\n",
       "      <td>...</td>\n",
       "      <td>NaN</td>\n",
       "      <td>NaN</td>\n",
       "      <td>NaN</td>\n",
       "      <td>False</td>\n",
       "      <td>Guilty on at least one offense</td>\n",
       "      <td>True</td>\n",
       "      <td>False</td>\n",
       "      <td>False</td>\n",
       "      <td>True</td>\n",
       "      <td>NaN</td>\n",
       "    </tr>\n",
       "    <tr>\n",
       "      <th>249</th>\n",
       "      <td>251</td>\n",
       "      <td>Curtis Flowers I</td>\n",
       "      <td>1997-7447</td>\n",
       "      <td>False</td>\n",
       "      <td>False</td>\n",
       "      <td>Montgomery</td>\n",
       "      <td>Black</td>\n",
       "      <td>NaN</td>\n",
       "      <td>NaN</td>\n",
       "      <td>NaN</td>\n",
       "      <td>...</td>\n",
       "      <td>NaN</td>\n",
       "      <td>NaN</td>\n",
       "      <td>NaN</td>\n",
       "      <td>False</td>\n",
       "      <td>Guilty on at least one offense</td>\n",
       "      <td>True</td>\n",
       "      <td>True</td>\n",
       "      <td>False</td>\n",
       "      <td>True</td>\n",
       "      <td>murder</td>\n",
       "    </tr>\n",
       "    <tr>\n",
       "      <th>87</th>\n",
       "      <td>88</td>\n",
       "      <td>Krishun Williams</td>\n",
       "      <td>1998-0011C-D</td>\n",
       "      <td>True</td>\n",
       "      <td>True</td>\n",
       "      <td>Grenada</td>\n",
       "      <td>Black</td>\n",
       "      <td>Black</td>\n",
       "      <td>NaN</td>\n",
       "      <td>NaN</td>\n",
       "      <td>...</td>\n",
       "      <td>NaN</td>\n",
       "      <td>NaN</td>\n",
       "      <td>NaN</td>\n",
       "      <td>False</td>\n",
       "      <td>Guilty on at least one offense</td>\n",
       "      <td>True</td>\n",
       "      <td>True</td>\n",
       "      <td>False</td>\n",
       "      <td>True</td>\n",
       "      <td>NaN</td>\n",
       "    </tr>\n",
       "    <tr>\n",
       "      <th>14</th>\n",
       "      <td>15</td>\n",
       "      <td>Oscar Fleming</td>\n",
       "      <td>1999-0015</td>\n",
       "      <td>False</td>\n",
       "      <td>True</td>\n",
       "      <td>Attala</td>\n",
       "      <td>Black</td>\n",
       "      <td>NaN</td>\n",
       "      <td>NaN</td>\n",
       "      <td>NaN</td>\n",
       "      <td>...</td>\n",
       "      <td>NaN</td>\n",
       "      <td>NaN</td>\n",
       "      <td>NaN</td>\n",
       "      <td>False</td>\n",
       "      <td>Guilty on at least one offense</td>\n",
       "      <td>True</td>\n",
       "      <td>False</td>\n",
       "      <td>False</td>\n",
       "      <td>True</td>\n",
       "      <td>cocaine</td>\n",
       "    </tr>\n",
       "    <tr>\n",
       "      <th>26</th>\n",
       "      <td>27</td>\n",
       "      <td>Frederick Miller</td>\n",
       "      <td>2007-0004A</td>\n",
       "      <td>False</td>\n",
       "      <td>True</td>\n",
       "      <td>Attala</td>\n",
       "      <td>Black</td>\n",
       "      <td>NaN</td>\n",
       "      <td>NaN</td>\n",
       "      <td>NaN</td>\n",
       "      <td>...</td>\n",
       "      <td>NaN</td>\n",
       "      <td>NaN</td>\n",
       "      <td>NaN</td>\n",
       "      <td>False</td>\n",
       "      <td>Guilty on at least one offense</td>\n",
       "      <td>True</td>\n",
       "      <td>False</td>\n",
       "      <td>False</td>\n",
       "      <td>True</td>\n",
       "      <td>murder</td>\n",
       "    </tr>\n",
       "  </tbody>\n",
       "</table>\n",
       "<p>5 rows × 39 columns</p>\n",
       "</div>"
      ],
      "text/plain": [
       "      id    defendant_name  cause_number  state_strikes  defense_strikes  \\\n",
       "28    29     Dewayne Price    2007-0099C          False             True   \n",
       "249  251  Curtis Flowers I     1997-7447          False            False   \n",
       "87    88  Krishun Williams  1998-0011C-D           True             True   \n",
       "14    15     Oscar Fleming     1999-0015          False             True   \n",
       "26    27  Frederick Miller    2007-0004A          False             True   \n",
       "\n",
       "         county defendant_race second_defendant_race third_defendant_race  \\\n",
       "28       Attala          Black                   NaN                  NaN   \n",
       "249  Montgomery          Black                   NaN                  NaN   \n",
       "87      Grenada          Black                 Black                  NaN   \n",
       "14       Attala          Black                   NaN                  NaN   \n",
       "26       Attala          Black                   NaN                  NaN   \n",
       "\n",
       "     fourth_defendant_race  ...  offense_title_5 offense_code_6  \\\n",
       "28                     NaN  ...              NaN            NaN   \n",
       "249                    NaN  ...              NaN            NaN   \n",
       "87                     NaN  ...              NaN            NaN   \n",
       "14                     NaN  ...              NaN            NaN   \n",
       "26                     NaN  ...              NaN            NaN   \n",
       "\n",
       "    offense_title_6 more_than_six                         verdict  \\\n",
       "28              NaN         False  Guilty on at least one offense   \n",
       "249             NaN         False  Guilty on at least one offense   \n",
       "87              NaN         False  Guilty on at least one offense   \n",
       "14              NaN         False  Guilty on at least one offense   \n",
       "26              NaN         False  Guilty on at least one offense   \n",
       "\n",
       "     case_appealed batson_claim_by_defense batson_claim_by_state  \\\n",
       "28            True                   False                 False   \n",
       "249           True                    True                 False   \n",
       "87            True                    True                 False   \n",
       "14            True                   False                 False   \n",
       "26            True                   False                 False   \n",
       "\n",
       "    voir_dire_present  offense  \n",
       "28               True      NaN  \n",
       "249              True   murder  \n",
       "87               True      NaN  \n",
       "14               True  cocaine  \n",
       "26               True   murder  \n",
       "\n",
       "[5 rows x 39 columns]"
      ]
     },
     "execution_count": 69,
     "metadata": {},
     "output_type": "execute_result"
    }
   ],
   "source": [
    "#Creación columna de agrupamiento de delitos en dataframe de juicios\n",
    "data_trials['offense'] = filtered_data.loc[:,'ofensa']\n",
    "data_trials.sample(5)"
   ]
  },
  {
   "cell_type": "code",
   "execution_count": 70,
   "metadata": {},
   "outputs": [],
   "source": [
    "data_trials['offense'].fillna('other', inplace=True)"
   ]
  },
  {
   "cell_type": "code",
   "execution_count": 71,
   "metadata": {},
   "outputs": [],
   "source": [
    "#Hacemos un agrupamiento final por tipo de crimen\n",
    "etiquetas_ofensas = {\n",
    "    'murder': 'Homicide-related',\n",
    "    'manslaughter': 'Homicide-related',\n",
    "    'assault': 'Assault-related',\n",
    "    'possession': 'Drug-related',\n",
    "    'cocaine': 'Drug-related',\n",
    "    'marijuana': 'Drug-related',\n",
    "    'substance': 'Drug-related',\n",
    "    'robbery': 'Robbery-related',\n",
    "    'dwelling': 'Robbery-related',\n",
    "    'theft': 'Robbery-related',\n",
    "    'burglary': 'Robbery-related',\n",
    "    'rape': 'Sexual-related',\n",
    "    'battery': 'Sexual-related',\n",
    "    'other': 'Miscellaneous'\n",
    "}\n",
    "data_trials['offense'] = data_trials['offense'].map(etiquetas_ofensas)\n"
   ]
  },
  {
   "cell_type": "code",
   "execution_count": 72,
   "metadata": {},
   "outputs": [
    {
     "data": {
      "text/html": [
       "<div>\n",
       "<style scoped>\n",
       "    .dataframe tbody tr th:only-of-type {\n",
       "        vertical-align: middle;\n",
       "    }\n",
       "\n",
       "    .dataframe tbody tr th {\n",
       "        vertical-align: top;\n",
       "    }\n",
       "\n",
       "    .dataframe thead th {\n",
       "        text-align: right;\n",
       "    }\n",
       "</style>\n",
       "<table border=\"1\" class=\"dataframe\">\n",
       "  <thead>\n",
       "    <tr style=\"text-align: right;\">\n",
       "      <th></th>\n",
       "      <th>id</th>\n",
       "      <th>defendant_name</th>\n",
       "      <th>cause_number</th>\n",
       "      <th>state_strikes</th>\n",
       "      <th>defense_strikes</th>\n",
       "      <th>county</th>\n",
       "      <th>defendant_race</th>\n",
       "      <th>second_defendant_race</th>\n",
       "      <th>third_defendant_race</th>\n",
       "      <th>fourth_defendant_race</th>\n",
       "      <th>...</th>\n",
       "      <th>offense_title_5</th>\n",
       "      <th>offense_code_6</th>\n",
       "      <th>offense_title_6</th>\n",
       "      <th>more_than_six</th>\n",
       "      <th>verdict</th>\n",
       "      <th>case_appealed</th>\n",
       "      <th>batson_claim_by_defense</th>\n",
       "      <th>batson_claim_by_state</th>\n",
       "      <th>voir_dire_present</th>\n",
       "      <th>offense</th>\n",
       "    </tr>\n",
       "  </thead>\n",
       "  <tbody>\n",
       "    <tr>\n",
       "      <th>0</th>\n",
       "      <td>1</td>\n",
       "      <td>Terry L. Landingham</td>\n",
       "      <td>1993-9826</td>\n",
       "      <td>False</td>\n",
       "      <td>False</td>\n",
       "      <td>Attala</td>\n",
       "      <td>Black</td>\n",
       "      <td>NaN</td>\n",
       "      <td>NaN</td>\n",
       "      <td>NaN</td>\n",
       "      <td>...</td>\n",
       "      <td>NaN</td>\n",
       "      <td>NaN</td>\n",
       "      <td>NaN</td>\n",
       "      <td>False</td>\n",
       "      <td>Guilty on at least one offense</td>\n",
       "      <td>True</td>\n",
       "      <td>False</td>\n",
       "      <td>False</td>\n",
       "      <td>True</td>\n",
       "      <td>Assault-related</td>\n",
       "    </tr>\n",
       "    <tr>\n",
       "      <th>1</th>\n",
       "      <td>2</td>\n",
       "      <td>Donovan Johnson</td>\n",
       "      <td>2009-0023</td>\n",
       "      <td>False</td>\n",
       "      <td>True</td>\n",
       "      <td>Attala</td>\n",
       "      <td>Black</td>\n",
       "      <td>NaN</td>\n",
       "      <td>NaN</td>\n",
       "      <td>NaN</td>\n",
       "      <td>...</td>\n",
       "      <td>NaN</td>\n",
       "      <td>NaN</td>\n",
       "      <td>NaN</td>\n",
       "      <td>False</td>\n",
       "      <td>Guilty on at least one offense</td>\n",
       "      <td>True</td>\n",
       "      <td>False</td>\n",
       "      <td>False</td>\n",
       "      <td>True</td>\n",
       "      <td>Drug-related</td>\n",
       "    </tr>\n",
       "    <tr>\n",
       "      <th>2</th>\n",
       "      <td>3</td>\n",
       "      <td>Sparky Watson</td>\n",
       "      <td>2004-0257</td>\n",
       "      <td>True</td>\n",
       "      <td>True</td>\n",
       "      <td>Grenada</td>\n",
       "      <td>Black</td>\n",
       "      <td>NaN</td>\n",
       "      <td>NaN</td>\n",
       "      <td>NaN</td>\n",
       "      <td>...</td>\n",
       "      <td>NaN</td>\n",
       "      <td>NaN</td>\n",
       "      <td>NaN</td>\n",
       "      <td>False</td>\n",
       "      <td>Guilty on at least one offense</td>\n",
       "      <td>True</td>\n",
       "      <td>False</td>\n",
       "      <td>False</td>\n",
       "      <td>True</td>\n",
       "      <td>Miscellaneous</td>\n",
       "    </tr>\n",
       "    <tr>\n",
       "      <th>3</th>\n",
       "      <td>4</td>\n",
       "      <td>Phillip Knickel</td>\n",
       "      <td>1998-0020</td>\n",
       "      <td>False</td>\n",
       "      <td>True</td>\n",
       "      <td>Montgomery</td>\n",
       "      <td>White</td>\n",
       "      <td>NaN</td>\n",
       "      <td>NaN</td>\n",
       "      <td>NaN</td>\n",
       "      <td>...</td>\n",
       "      <td>NaN</td>\n",
       "      <td>NaN</td>\n",
       "      <td>NaN</td>\n",
       "      <td>False</td>\n",
       "      <td>Guilty on at least one offense</td>\n",
       "      <td>True</td>\n",
       "      <td>False</td>\n",
       "      <td>False</td>\n",
       "      <td>True</td>\n",
       "      <td>Robbery-related</td>\n",
       "    </tr>\n",
       "    <tr>\n",
       "      <th>4</th>\n",
       "      <td>5</td>\n",
       "      <td>Donald Dotson</td>\n",
       "      <td>1994-9918</td>\n",
       "      <td>False</td>\n",
       "      <td>True</td>\n",
       "      <td>Attala</td>\n",
       "      <td>Black</td>\n",
       "      <td>NaN</td>\n",
       "      <td>NaN</td>\n",
       "      <td>NaN</td>\n",
       "      <td>...</td>\n",
       "      <td>NaN</td>\n",
       "      <td>NaN</td>\n",
       "      <td>NaN</td>\n",
       "      <td>False</td>\n",
       "      <td>Guilty on at least one offense</td>\n",
       "      <td>True</td>\n",
       "      <td>True</td>\n",
       "      <td>False</td>\n",
       "      <td>True</td>\n",
       "      <td>Assault-related</td>\n",
       "    </tr>\n",
       "  </tbody>\n",
       "</table>\n",
       "<p>5 rows × 39 columns</p>\n",
       "</div>"
      ],
      "text/plain": [
       "   id       defendant_name cause_number  state_strikes  defense_strikes  \\\n",
       "0   1  Terry L. Landingham    1993-9826          False            False   \n",
       "1   2      Donovan Johnson    2009-0023          False             True   \n",
       "2   3        Sparky Watson    2004-0257           True             True   \n",
       "3   4      Phillip Knickel    1998-0020          False             True   \n",
       "4   5        Donald Dotson    1994-9918          False             True   \n",
       "\n",
       "       county defendant_race second_defendant_race third_defendant_race  \\\n",
       "0      Attala          Black                   NaN                  NaN   \n",
       "1      Attala          Black                   NaN                  NaN   \n",
       "2     Grenada          Black                   NaN                  NaN   \n",
       "3  Montgomery          White                   NaN                  NaN   \n",
       "4      Attala          Black                   NaN                  NaN   \n",
       "\n",
       "   fourth_defendant_race  ...  offense_title_5 offense_code_6 offense_title_6  \\\n",
       "0                    NaN  ...              NaN            NaN             NaN   \n",
       "1                    NaN  ...              NaN            NaN             NaN   \n",
       "2                    NaN  ...              NaN            NaN             NaN   \n",
       "3                    NaN  ...              NaN            NaN             NaN   \n",
       "4                    NaN  ...              NaN            NaN             NaN   \n",
       "\n",
       "  more_than_six                         verdict  case_appealed  \\\n",
       "0         False  Guilty on at least one offense           True   \n",
       "1         False  Guilty on at least one offense           True   \n",
       "2         False  Guilty on at least one offense           True   \n",
       "3         False  Guilty on at least one offense           True   \n",
       "4         False  Guilty on at least one offense           True   \n",
       "\n",
       "  batson_claim_by_defense batson_claim_by_state voir_dire_present  \\\n",
       "0                   False                 False              True   \n",
       "1                   False                 False              True   \n",
       "2                   False                 False              True   \n",
       "3                   False                 False              True   \n",
       "4                    True                 False              True   \n",
       "\n",
       "           offense  \n",
       "0  Assault-related  \n",
       "1     Drug-related  \n",
       "2    Miscellaneous  \n",
       "3  Robbery-related  \n",
       "4  Assault-related  \n",
       "\n",
       "[5 rows x 39 columns]"
      ]
     },
     "execution_count": 72,
     "metadata": {},
     "output_type": "execute_result"
    }
   ],
   "source": [
    "data_trials.head()"
   ]
  },
  {
   "cell_type": "code",
   "execution_count": 73,
   "metadata": {},
   "outputs": [],
   "source": [
    "data_trials.drop(['offense_code_1','offense_title_1'], axis=1,inplace= True)"
   ]
  },
  {
   "cell_type": "code",
   "execution_count": 74,
   "metadata": {},
   "outputs": [],
   "source": [
    "data_trials['offense'] = data_trials['offense'].astype(str)"
   ]
  },
  {
   "cell_type": "code",
   "execution_count": 75,
   "metadata": {},
   "outputs": [
    {
     "data": {
      "image/png": "[encoded data removed]",
      "text/plain": [
       "<Figure size 720x360 with 1 Axes>"
      ]
     },
     "metadata": {
      "needs_background": "light"
     },
     "output_type": "display_data"
    }
   ],
   "source": [
    "import matplotlib.pyplot as plt\n",
    "\n",
    "# Calcular el conteo de cada valor único en la columna 'offense_title_1'\n",
    "value_counts = data_trials.offense.value_counts()\n",
    "\n",
    "# Crear una figura con un tamaño personalizado\n",
    "fig = plt.figure(figsize=(10, 5))\n",
    "\n",
    "# Crear un gráfico de barras horizontal dentro de la figura\n",
    "plt.barh(value_counts.index, value_counts.values)\n",
    "\n",
    "# Ajustar el tamaño de la fuente de las etiquetas en el eje y a 8 puntos\n",
    "plt.tick_params(axis='y', labelsize=8)\n",
    "\n",
    "# Añadir títulos y etiquetas de los ejes\n",
    "plt.title('Recuento de títulos de ofensas')\n",
    "plt.xlabel('Número de casos')\n",
    "plt.ylabel('Título de la ofensa')\n",
    "\n",
    "# Mostrar el gráfico\n",
    "plt.show()\n"
   ]
  },
  {
   "cell_type": "code",
   "execution_count": 76,
   "metadata": {},
   "outputs": [
    {
     "data": {
      "text/plain": [
       "Drug-related        77\n",
       "Homicide-related    69\n",
       "Robbery-related     60\n",
       "Assault-related     40\n",
       "Miscellaneous       36\n",
       "Sexual-related      23\n",
       "Name: offense, dtype: int64"
      ]
     },
     "execution_count": 76,
     "metadata": {},
     "output_type": "execute_result"
    }
   ],
   "source": [
    "data_trials['offense'].value_counts()"
   ]
  },
  {
   "cell_type": "code",
   "execution_count": 77,
   "metadata": {},
   "outputs": [
    {
     "ename": "ModuleNotFoundError",
     "evalue": "No module named 'plotly'",
     "output_type": "error",
     "traceback": [
      "\u001b[1;31m---------------------------------------------------------------------------\u001b[0m",
      "\u001b[1;31mModuleNotFoundError\u001b[0m                       Traceback (most recent call last)",
      "\u001b[1;32m<ipython-input-77-df12fcca9f96>\u001b[0m in \u001b[0;36m<module>\u001b[1;34m\u001b[0m\n\u001b[1;32m----> 1\u001b[1;33m \u001b[1;32mimport\u001b[0m \u001b[0mplotly\u001b[0m\u001b[1;33m.\u001b[0m\u001b[0mexpress\u001b[0m \u001b[1;32mas\u001b[0m \u001b[0mpx\u001b[0m\u001b[1;33m\u001b[0m\u001b[1;33m\u001b[0m\u001b[0m\n\u001b[0m\u001b[0;32m      2\u001b[0m \u001b[1;33m\u001b[0m\u001b[0m\n\u001b[0;32m      3\u001b[0m \u001b[0mfig\u001b[0m \u001b[1;33m=\u001b[0m \u001b[0mpx\u001b[0m\u001b[1;33m.\u001b[0m\u001b[0mhistogram\u001b[0m\u001b[1;33m(\u001b[0m\u001b[0mdata_trials\u001b[0m\u001b[1;33m,\u001b[0m \u001b[0mx\u001b[0m\u001b[1;33m=\u001b[0m\u001b[1;34m\"defendant_race\"\u001b[0m\u001b[1;33m,\u001b[0m \u001b[0mtitle\u001b[0m\u001b[1;33m=\u001b[0m\u001b[1;34m\"Distribución de la raza de los acusados\"\u001b[0m\u001b[1;33m,\u001b[0m\u001b[0mcolor\u001b[0m\u001b[1;33m=\u001b[0m\u001b[1;34m'defendant_race'\u001b[0m\u001b[1;33m)\u001b[0m\u001b[1;33m\u001b[0m\u001b[1;33m\u001b[0m\u001b[0m\n\u001b[0;32m      4\u001b[0m \u001b[0mfig\u001b[0m\u001b[1;33m.\u001b[0m\u001b[0mshow\u001b[0m\u001b[1;33m(\u001b[0m\u001b[1;33m)\u001b[0m\u001b[1;33m\u001b[0m\u001b[1;33m\u001b[0m\u001b[0m\n",
      "\u001b[1;31mModuleNotFoundError\u001b[0m: No module named 'plotly'"
     ]
    }
   ],
   "source": [
    "import plotly.express as px\n",
    "\n",
    "fig = px.histogram(data_trials, x=\"defendant_race\", title=\"Distribución de la raza de los acusados\",color='defendant_race')\n",
    "fig.show()"
   ]
  },
  {
   "cell_type": "code",
   "execution_count": null,
   "metadata": {},
   "outputs": [],
   "source": [
    "#Selección de las categorías 'Black' y 'White' la columna 'race' para los juicios\n",
    "mask_trials = ['Black', 'White']\n",
    "data_trials_mask = data_trials['defendant_race']. apply(lambda x: x in mask_trials)\n",
    "data_trials_2 = data_trials.loc[data_trials_mask]\n",
    "data_trials = data_trials_2"
   ]
  },
  {
   "cell_type": "code",
   "execution_count": null,
   "metadata": {},
   "outputs": [],
   "source": [
    "#Eliminación columnas irrelevantes o con pocos datos\n",
    "data_trials.drop(columns=['offense_code_2','offense_title_2','offense_code_3','offense_title_3','defendant_name','cause_number','second_defendant_race','third_defendant_race','fourth_defendant_race','prosecutor_1','prosecutor_2','prosecutor_3','def_attny_1','def_attny_2','def_attny_3','offense_code_4','offense_code_5','offense_code_6','offense_title_4','offense_title_5','offense_title_6','prosecutors_more_than_three','def_attnys_more_than_three','more_than_six','verdict','case_appealed','voir_dire_present','more_than_four_defendants'],inplace=True)"
   ]
  },
  {
   "cell_type": "code",
   "execution_count": null,
   "metadata": {},
   "outputs": [],
   "source": [
    "#Conservamos 10 columnas de las 38 iniciales\n",
    "data_trials.shape"
   ]
  },
  {
   "cell_type": "code",
   "execution_count": null,
   "metadata": {},
   "outputs": [],
   "source": [
    "import plotly.express as px\n",
    "\n",
    "fig = px.histogram(data_trials, x=\"defendant_race\",labels=None,title=\"Distribución de la raza de los acusados\",color='defendant_race')\n",
    "fig.show()\n",
    "#color_discrete_sequence=['#1f77b4']"
   ]
  },
  {
   "cell_type": "code",
   "execution_count": null,
   "metadata": {},
   "outputs": [],
   "source": [
    "#Distribución de los datos por condado\n",
    "data_trials.county.value_counts()"
   ]
  },
  {
   "cell_type": "code",
   "execution_count": null,
   "metadata": {},
   "outputs": [],
   "source": [
    "data_trials['judge'].value_counts()"
   ]
  },
  {
   "cell_type": "code",
   "execution_count": null,
   "metadata": {},
   "outputs": [],
   "source": [
    "#Agrupamos los distintos jueces según cantidad de observaciones\n",
    "etiquetas = {\n",
    "    'Joseph Loper, Jr' :   'Joseph Loper, Jr',\n",
    "    'C. Morgan, III'    :  'C. Morgan, III',\n",
    "    'Other'              :  'Other',\n",
    "    'George Mitchell'     :  'Other',\n",
    "    'C. Morgan, Jr'        : 'Other'\n",
    "}\n",
    "\n",
    "\n",
    "data_trials['judge'] = data_trials['judge'].map(etiquetas)"
   ]
  },
  {
   "cell_type": "code",
   "execution_count": null,
   "metadata": {},
   "outputs": [],
   "source": [
    "#Transformación de columnas booleanas a enteras\n",
    "data_trials['state_strikes'] = data_trials.state_strikes.astype('int')\n",
    "data_trials['defense_strikes'] = data_trials.defense_strikes.astype('int')\n",
    "data_trials['batson_claim_by_state'] = data_trials.batson_claim_by_state.astype('int')\n",
    "data_trials['batson_claim_by_defense'] = data_trials.batson_claim_by_defense.astype('int')"
   ]
  },
  {
   "cell_type": "code",
   "execution_count": null,
   "metadata": {},
   "outputs": [],
   "source": [
    "#Creación de variables dummies para la tabla de juicios\n",
    "data_trials = pd.get_dummies(data_trials, drop_first=True)\n",
    "data_trials.head()"
   ]
  },
  {
   "cell_type": "markdown",
   "metadata": {},
   "source": [
    "-------------------------------------------"
   ]
  },
  {
   "cell_type": "markdown",
   "metadata": {},
   "source": [
    "LECTURA DATOS DE ENCUESTA A POSIBLES JURADOS"
   ]
  },
  {
   "cell_type": "code",
   "execution_count": null,
   "metadata": {},
   "outputs": [],
   "source": [
    "data_voir_dire_answers = pd.read_csv(\"voir_dire_answers.csv\")\n",
    "data_voir_dire_answers.head()"
   ]
  },
  {
   "cell_type": "code",
   "execution_count": null,
   "metadata": {},
   "outputs": [],
   "source": [
    "data_voir_dire_answers.info()"
   ]
  },
  {
   "cell_type": "code",
   "execution_count": null,
   "metadata": {},
   "outputs": [],
   "source": [
    "#Seleccioón columnas booleanas y posterior transformación a enteras\n",
    "list_columns = list(data_voir_dire_answers.select_dtypes('bool').columns)\n",
    "list_columns\n",
    "\n",
    "for col in list_columns:\n",
    "    data_voir_dire_answers[col] = data_voir_dire_answers[col].astype(int)"
   ]
  },
  {
   "cell_type": "code",
   "execution_count": null,
   "metadata": {},
   "outputs": [],
   "source": [
    "#Eliminación columnas irrelevantes\n",
    "data_voir_dire_answers.drop(['notes','juror_id__trial__id'], axis = 1, inplace = True)"
   ]
  },
  {
   "cell_type": "code",
   "execution_count": null,
   "metadata": {},
   "outputs": [],
   "source": [
    "print(data_voir_dire_answers.shape)\n",
    "print(round(data_voir_dire_answers.married.value_counts()/data_voir_dire_answers.shape[0],3))\n",
    "print()\n",
    "print(round(data_voir_dire_answers.children.value_counts()/data_voir_dire_answers.shape[0],3))\n",
    "print()\n",
    "print(round(data_voir_dire_answers.religious.value_counts()/data_voir_dire_answers.shape[0],3))\n",
    "print()\n",
    "print(round(data_voir_dire_answers.education.value_counts()/data_voir_dire_answers.shape[0],3))"
   ]
  },
  {
   "cell_type": "code",
   "execution_count": null,
   "metadata": {},
   "outputs": [],
   "source": [
    "#Resumen de columnas por tablas\n",
    "print(f'Jurados:',data_jurors.columns)\n",
    "print(f'Juicios:',data_trials.columns)\n",
    "print(f'Encuesta:',data_voir_dire_answers.columns)"
   ]
  },
  {
   "cell_type": "markdown",
   "metadata": {},
   "source": [
    "-------------------------------------------"
   ]
  },
  {
   "cell_type": "markdown",
   "metadata": {},
   "source": [
    "UNIÓN DE TABLAS"
   ]
  },
  {
   "cell_type": "code",
   "execution_count": null,
   "metadata": {},
   "outputs": [],
   "source": [
    "#Unimos tablas de jurados con juicios\n",
    "\n",
    "merged_jurors_trials = pd.merge(data_jurors, data_trials, left_on='trial__id', right_on='id')\n",
    "print(merged_jurors_trials.shape)"
   ]
  },
  {
   "cell_type": "code",
   "execution_count": null,
   "metadata": {},
   "outputs": [],
   "source": [
    "merged_jurors_trials"
   ]
  },
  {
   "cell_type": "code",
   "execution_count": null,
   "metadata": {},
   "outputs": [],
   "source": [
    "#Agrupamos los valores de la variable target (elegido o rechazado)\n",
    "\n",
    "etiquetas = { \n",
    "             'Juror chosen to serve on jury': 1,\n",
    "             'Juror not struck':  1,\n",
    "             'Struck by the defense':  0,\n",
    "             'Struck for cause':  0,\n",
    "             'Struck by the state':  0,\n",
    "             'Struck without notation': 0,\n",
    "             'Juror excused/absent': 0,\n",
    "             'Juror chosen as alternate': 1,\n",
    "             'Unknown': 0\n",
    "             }\n",
    "\n",
    "\n",
    "merged_jurors_trials['struck_by_1'] = merged_jurors_trials['struck_by'].map(etiquetas)\n",
    "merged_jurors_trials['struck_by'] = merged_jurors_trials['struck_by_1']\n",
    "merged_jurors_trials.drop(['struck_by_1'], axis=1, inplace=True)\n",
    "merged_jurors_trials"
   ]
  },
  {
   "cell_type": "code",
   "execution_count": null,
   "metadata": {},
   "outputs": [],
   "source": [
    "#Renombramos la variable target para que guarde sentido con la agrupación anterior\n",
    "\n",
    "merged_jurors_trials = merged_jurors_trials.rename(columns={'struck_by': 'chosen'})"
   ]
  },
  {
   "cell_type": "code",
   "execution_count": null,
   "metadata": {},
   "outputs": [],
   "source": [
    "merged_jurors_trials.drop('strike_eligibility',axis=1, inplace = True)"
   ]
  },
  {
   "cell_type": "code",
   "execution_count": null,
   "metadata": {},
   "outputs": [],
   "source": [
    "#Creación feature que discrimina según si el jurado es de la misma raza que en defendido o no\n",
    "\n",
    "merged_jurors_trials['same_race'] = np.where(merged_jurors_trials['race_White'] == merged_jurors_trials['defendant_race_White'], 1, 0)"
   ]
  },
  {
   "cell_type": "code",
   "execution_count": null,
   "metadata": {},
   "outputs": [],
   "source": [
    "merged_jurors_trials.columns"
   ]
  },
  {
   "cell_type": "code",
   "execution_count": null,
   "metadata": {},
   "outputs": [],
   "source": [
    "# busqueda de columnas en comun\n",
    "common_cols = set(data_jurors.columns).intersection(set(data_trials.columns)).intersection(set(data_voir_dire_answers.columns))\n",
    "common_cols"
   ]
  },
  {
   "cell_type": "code",
   "execution_count": null,
   "metadata": {},
   "outputs": [],
   "source": [
    "import networkx as nx\n",
    "\n",
    "# Crear el grafo\n",
    "G = nx.Graph()\n",
    "\n",
    "# Agregar nodos (tablas)\n",
    "G.add_node('Jurors')\n",
    "G.add_node('Trials')\n",
    "G.add_node('Survey')\n",
    "\n",
    "# Agregar conexiones (columnas)\n",
    "G.add_edge('Jurors', 'Trials', column='trial__id')\n",
    "G.add_edge('Survey', 'Jurors', column='juror_id')\n",
    "\n",
    "# Dibujar el grafo\n",
    "pos = nx.spring_layout(G)\n",
    "nx.draw(G, pos, with_labels=True)\n",
    "\n",
    "# Agregar etiquetas a las conexiones (columnas)\n",
    "labels = {('Jurors', 'Trials'): 'trial__id', ('Survey', 'Jurors'): 'juror_id'}\n",
    "nx.draw_networkx_edge_labels(G, pos, edge_labels=labels)\n",
    "\n",
    "plt.show()\n"
   ]
  },
  {
   "cell_type": "markdown",
   "metadata": {},
   "source": [
    "-id_x ---> id jurado\n",
    "\n",
    "-id_y ---> id juicio\n",
    "\n",
    "-id ---> id cuestionario"
   ]
  },
  {
   "cell_type": "code",
   "execution_count": null,
   "metadata": {},
   "outputs": [],
   "source": [
    "#Unión tabla juradosxjuicios con encuesta\n",
    "\n",
    "data = pd.merge(merged_jurors_trials , data_voir_dire_answers, left_on='id_x', right_on='juror_id')\n",
    "print(data.shape)\n",
    "\n",
    "data.head(5)"
   ]
  },
  {
   "cell_type": "code",
   "execution_count": null,
   "metadata": {},
   "outputs": [],
   "source": [
    "data.columns"
   ]
  },
  {
   "cell_type": "code",
   "execution_count": null,
   "metadata": {},
   "outputs": [],
   "source": [
    "merged_jurors_trials.isnull().sum().sort_values(ascending=False)"
   ]
  },
  {
   "cell_type": "code",
   "execution_count": null,
   "metadata": {},
   "outputs": [],
   "source": [
    "#Distriución variable target\n",
    "\n",
    "data.chosen.value_counts(normalize=True)"
   ]
  },
  {
   "cell_type": "code",
   "execution_count": null,
   "metadata": {},
   "outputs": [],
   "source": [
    "counts = data.groupby('year')['chosen'].value_counts().unstack(fill_value=0)\n",
    "counts['total'] = counts.sum(axis=1)\n",
    "plt.plot(counts.loc[:, 0], 'o', label='0')\n",
    "plt.plot(counts.loc[:, 1], 'o', label='1')\n",
    "plt.plot(counts['total'], 'o', label='Total')\n",
    "plt.xlabel('Year')\n",
    "plt.ylabel('Counts')\n",
    "plt.title('Counts of 0 and 1 by Year')\n",
    "plt.legend()\n",
    "plt.show()"
   ]
  },
  {
   "cell_type": "markdown",
   "metadata": {},
   "source": [
    "------------------------"
   ]
  },
  {
   "cell_type": "markdown",
   "metadata": {},
   "source": [
    "MODELOS"
   ]
  },
  {
   "cell_type": "code",
   "execution_count": null,
   "metadata": {},
   "outputs": [],
   "source": [
    "from sklearn.metrics import accuracy_score,confusion_matrix,recall_score\n",
    "from sklearn.metrics import roc_auc_score\n",
    "from sklearn.model_selection import train_test_split,cross_val_score, KFold, StratifiedKFold"
   ]
  },
  {
   "cell_type": "code",
   "execution_count": null,
   "metadata": {},
   "outputs": [],
   "source": [
    "#Dividimos la data entre variabla target (y) y las features selecciondas para predecir (X)\n",
    "\n",
    "X = data.drop(['chosen', 'id_x','year', 'trial__id', 'id_y', 'id', 'juror_id', 'married', 'children', 'religious', 'education'], axis =1)\n",
    "y = data['chosen']"
   ]
  },
  {
   "cell_type": "code",
   "execution_count": null,
   "metadata": {},
   "outputs": [],
   "source": [
    "#Separamos la muestra entre train y test\n",
    "\n",
    "X_train, X_test, y_train, y_test = train_test_split(X, y,test_size=0.3,random_state=0)"
   ]
  },
  {
   "cell_type": "code",
   "execution_count": null,
   "metadata": {},
   "outputs": [],
   "source": [
    "cv = StratifiedKFold(n_splits=5, random_state=41, shuffle=True)"
   ]
  },
  {
   "cell_type": "markdown",
   "metadata": {},
   "source": [
    "MODELO  GAUSSIAN NB"
   ]
  },
  {
   "cell_type": "code",
   "execution_count": null,
   "metadata": {},
   "outputs": [],
   "source": [
    "from sklearn.naive_bayes import GaussianNB"
   ]
  },
  {
   "cell_type": "code",
   "execution_count": null,
   "metadata": {},
   "outputs": [],
   "source": [
    "X_train_gnb, X_test_gnb, y_train_gnb, y_test_gnb = train_test_split(X, y, test_size = 0.3, random_state=42)\n",
    "gnb = GaussianNB()\n",
    "gnb.fit(X_train_gnb, y_train_gnb)"
   ]
  },
  {
   "cell_type": "code",
   "execution_count": null,
   "metadata": {},
   "outputs": [],
   "source": [
    "y_pred_gnb = gnb.predict(X_test_gnb)\n",
    "y_pred_gnb"
   ]
  },
  {
   "cell_type": "code",
   "execution_count": null,
   "metadata": {},
   "outputs": [],
   "source": [
    "#Accuracy en train\n",
    "accuracy_score(y_train_gnb, gnb.predict(X_train_gnb).round(3))"
   ]
  },
  {
   "cell_type": "code",
   "execution_count": null,
   "metadata": {},
   "outputs": [],
   "source": [
    "#paleta colores\n",
    "cmap = sns.color_palette(\"Greens_d\", as_cmap=True)\n",
    "vmin, vmax = 0, 500"
   ]
  },
  {
   "cell_type": "code",
   "execution_count": null,
   "metadata": {},
   "outputs": [],
   "source": [
    "conf_mat = confusion_matrix(y_test_gnb, y_pred_gnb)\n",
    "sns.heatmap(confusion_matrix(y_test_gnb, y_pred_gnb), annot=True, fmt='.0f',cmap=cmap, vmin=vmin, vmax=vmax)\n",
    "plt.ylabel('Etiquetas reales')\n",
    "plt.xlabel('Etiquetas predichas');"
   ]
  },
  {
   "cell_type": "markdown",
   "metadata": {},
   "source": [
    "MODELO KNN"
   ]
  },
  {
   "cell_type": "code",
   "execution_count": null,
   "metadata": {},
   "outputs": [],
   "source": [
    "from sklearn.neighbors import KNeighborsClassifier"
   ]
  },
  {
   "cell_type": "code",
   "execution_count": null,
   "metadata": {},
   "outputs": [],
   "source": [
    "# Definimos la estrategia de validación cruzada\n",
    "kf = KFold(n_splits=5, shuffle=True, random_state=12)\n",
    "\n",
    "scores_para_df = []\n",
    "\n",
    "X_train_knn, X_test_knn, y_train_knn, y_test_knn = train_test_split(X, y, test_size = 0.3, random_state=42)\n",
    "\n",
    "for i in range(1, 21):\n",
    "    \n",
    "    # En cada iteración, instanciamos el modelo con un hiperparámetro distinto\n",
    "    knn = KNeighborsClassifier(n_neighbors=i)\n",
    "    \n",
    "    # cross_val_scores nos devuelve un array de 5 resultados,\n",
    "    # uno por cada partición que hizo automáticamente CV\n",
    "    cv_scores = cross_val_score(knn, X_train_knn, y_train_knn, cv=kf)\n",
    "    # cv_scores = cross_val_score(knn, X_train_gnb, y_train_gnb, cv=kf)\n",
    "    \n",
    "    # Para cada valor de n_neighbours, creamos un diccionario con el valor\n",
    "    # de n_neighbours y la media y el desvío de los scores\n",
    "    dict_row_score = {'score_medio': np.mean(cv_scores),\n",
    "                      'score_std': np.std(cv_scores),\n",
    "                      'n_neighbors': i}\n",
    "    \n",
    "    # Guardamos cada uno en la lista de diccionarios\n",
    "    scores_para_df.append(dict_row_score)"
   ]
  },
  {
   "cell_type": "code",
   "execution_count": null,
   "metadata": {},
   "outputs": [],
   "source": [
    "# Creamos el DataFrame a partir de la lista de diccionarios\n",
    "df_scores = pd.DataFrame(scores_para_df)\n",
    "df_scores"
   ]
  },
  {
   "cell_type": "code",
   "execution_count": null,
   "metadata": {},
   "outputs": [],
   "source": [
    "# Generamos los límites inferior y superior\n",
    "df_scores['limite_inferior'] = df_scores['score_medio'] - df_scores['score_std']\n",
    "df_scores['limite_superior'] = df_scores['score_medio'] + df_scores['score_std']\n",
    "df_scores.head()"
   ]
  },
  {
   "cell_type": "code",
   "execution_count": null,
   "metadata": {},
   "outputs": [],
   "source": [
    "# Graficamos los resultados\n",
    "plt.plot(df_scores['n_neighbors'], df_scores['limite_inferior'], color = 'r')\n",
    "plt.plot(df_scores['n_neighbors'], df_scores['score_medio'], color = 'b')\n",
    "plt.plot(df_scores['n_neighbors'], df_scores['limite_superior'], color = 'r')\n",
    "plt.ylim(0.5, 0.8);"
   ]
  },
  {
   "cell_type": "code",
   "execution_count": null,
   "metadata": {},
   "outputs": [],
   "source": [
    "# Identificamos el score máximo\n",
    "df_scores.loc[df_scores.score_medio == df_scores.score_medio.max()]"
   ]
  },
  {
   "cell_type": "code",
   "execution_count": null,
   "metadata": {},
   "outputs": [],
   "source": [
    "best_k = df_scores.loc[df_scores.score_medio == df_scores.score_medio.max(), 'n_neighbors'].values[0]\n",
    "best_k"
   ]
  },
  {
   "cell_type": "code",
   "execution_count": null,
   "metadata": {},
   "outputs": [],
   "source": [
    "# Elegimos el modelo óptimo de acuerdo a las pruebas de cross validation\n",
    "knn = KNeighborsClassifier(n_neighbors=best_k)\n",
    "\n",
    "# Generamos los datasets de train y test.\n",
    "X_train_knn, X_test_knn, y_train_knn, y_test_knn = train_test_split(X, y, test_size = 0.3, random_state=42)\n",
    "\n",
    "# Lo ajustamos sobre los datos de entrenamiento\n",
    "knn.fit(X_train_knn, y_train_knn)\n",
    "y_pred_knn = knn.predict(X_test_knn)"
   ]
  },
  {
   "cell_type": "code",
   "execution_count": null,
   "metadata": {},
   "outputs": [],
   "source": [
    "# Evaluamos qué accuracy obtenemos en train\n",
    "accuracy_score(y_train_knn, knn.predict(X_train_knn)).round(2)"
   ]
  },
  {
   "cell_type": "code",
   "execution_count": null,
   "metadata": {},
   "outputs": [],
   "source": [
    "# Evaluamos el accuracy del modelo en test\n",
    "accuracy_score(y_test_knn, y_pred_knn)"
   ]
  },
  {
   "cell_type": "code",
   "execution_count": null,
   "metadata": {},
   "outputs": [],
   "source": [
    "confusion_knn = confusion_matrix(y_test_knn, y_pred_knn)\n",
    "sns.heatmap(confusion_matrix(y_test_knn, y_pred_knn), annot=True, fmt='.0f', cmap=cmap, vmin=vmin)\n",
    "plt.ylabel('Etiquetas reales')\n",
    "plt.xlabel('Etiquetas predichas');"
   ]
  },
  {
   "cell_type": "code",
   "execution_count": null,
   "metadata": {},
   "outputs": [],
   "source": [
    "TP = confusion_knn[1, 1]; TN = confusion_knn[0, 0] ; FP = confusion_knn[0, 1] ; FN = confusion_knn[1, 0]\n",
    "print('TP: ', TP,' TN: ', TN,' FP: ',FP,' FN: ',FN )"
   ]
  },
  {
   "cell_type": "code",
   "execution_count": null,
   "metadata": {},
   "outputs": [],
   "source": [
    "print('Specificity=', (TN)/ (TN+FP))\n",
    "print('Total de casos negativos predichos correctamente (TN) =',(TN))\n",
    "print('Total de casos negativos (TN+FP) =',(TN+FP))"
   ]
  },
  {
   "cell_type": "code",
   "execution_count": null,
   "metadata": {},
   "outputs": [],
   "source": [
    "print(recall_score(y_test_knn, y_pred_knn).round(2))"
   ]
  },
  {
   "cell_type": "markdown",
   "metadata": {},
   "source": [
    "LOGISTIC REGRESSION"
   ]
  },
  {
   "cell_type": "code",
   "execution_count": null,
   "metadata": {},
   "outputs": [],
   "source": [
    "from sklearn.linear_model import LogisticRegression"
   ]
  },
  {
   "cell_type": "code",
   "execution_count": null,
   "metadata": {},
   "outputs": [],
   "source": [
    "X_train_lg, X_test_lg, y_train_lg, y_test_lg = train_test_split(X, y, test_size = 0.3, random_state= 42)\n",
    "lg = LogisticRegression()\n",
    "lg.fit(X_train_lg, y_train_lg)\n",
    "y_pred_lg = lg.predict(X_test_lg)\n",
    "print(\"Accuracy / Precisión = \", accuracy_score(y_test_lg, y_pred_lg).round(2))"
   ]
  },
  {
   "cell_type": "code",
   "execution_count": null,
   "metadata": {},
   "outputs": [],
   "source": [
    "# Evaluamos qué accuracy obtenemos en train\n",
    "accuracy_score(y_train_lg, lg.predict(X_train_lg)).round(2)"
   ]
  },
  {
   "cell_type": "code",
   "execution_count": null,
   "metadata": {},
   "outputs": [],
   "source": [
    "conf_mat_lg = confusion_matrix(y_test_lg, y_pred_lg)\n",
    "sns.heatmap(confusion_matrix(y_test_lg, y_pred_lg), annot=True, fmt='.0f', cmap = cmap)\n",
    "plt.ylabel('Etiquetas reales')\n",
    "plt.xlabel('Etiquetas predichas');"
   ]
  },
  {
   "cell_type": "markdown",
   "metadata": {},
   "source": [
    "XGBOOST"
   ]
  },
  {
   "cell_type": "code",
   "execution_count": null,
   "metadata": {},
   "outputs": [],
   "source": [
    "from xgboost.sklearn import XGBClassifier\n",
    "model_xg = XGBClassifier(n_jobs=-1, use_label_encoder=False)"
   ]
  },
  {
   "cell_type": "code",
   "execution_count": null,
   "metadata": {},
   "outputs": [],
   "source": [
    "from sklearn.model_selection import GridSearchCV\n",
    "params = {  \n",
    "    \"n_estimators\": [50,100,500],      # Number of boosted trees to fit.\n",
    "    \"max_depth\": [1,2,3,4],            # Maximum tree depth for base learners.\n",
    "    \"learning_rate\": [0.01, 0.1],      # Boosting learning rate (xgb’s “eta”)\n",
    "}"
   ]
  },
  {
   "cell_type": "code",
   "execution_count": null,
   "metadata": {},
   "outputs": [],
   "source": [
    "xgb = GridSearchCV(model_xg, param_grid=params, cv=cv, verbose=1, n_jobs=-1)"
   ]
  },
  {
   "cell_type": "code",
   "execution_count": null,
   "metadata": {},
   "outputs": [],
   "source": [
    "xgb.fit(X_train,y_train)"
   ]
  },
  {
   "cell_type": "code",
   "execution_count": null,
   "metadata": {},
   "outputs": [],
   "source": [
    "xgb.best_params_"
   ]
  },
  {
   "cell_type": "code",
   "execution_count": null,
   "metadata": {},
   "outputs": [],
   "source": [
    "def evaluar_rendimiento(modelo, nombre, X, y, cv):\n",
    "    s = cross_val_score(modelo, X, y, cv=cv, n_jobs=-1)\n",
    "    print(\"Rendimiento de {}:\\t{:0.3} ± {:0.3}\".format( \\\n",
    "        nombre, s.mean().round(3), s.std().round(3)))"
   ]
  },
  {
   "cell_type": "code",
   "execution_count": null,
   "metadata": {},
   "outputs": [],
   "source": [
    "evaluar_rendimiento(xgb.best_estimator_,\"XG Boost\", X_train, y_train, cv)"
   ]
  },
  {
   "cell_type": "code",
   "execution_count": null,
   "metadata": {},
   "outputs": [],
   "source": [
    "import warnings\n",
    "warnings.filterwarnings(action='ignore', category=UserWarning)"
   ]
  },
  {
   "cell_type": "code",
   "execution_count": null,
   "metadata": {},
   "outputs": [],
   "source": [
    "from sklearn.metrics import roc_auc_score\n",
    "xgb_auc = roc_auc_score(y_test, xgb.predict(X_test))\n",
    "print(\"El valor del AUC es: \", xgb_auc)"
   ]
  },
  {
   "cell_type": "code",
   "execution_count": null,
   "metadata": {},
   "outputs": [],
   "source": [
    "xgb.predict(X_test)"
   ]
  },
  {
   "cell_type": "code",
   "execution_count": null,
   "metadata": {},
   "outputs": [],
   "source": [
    "recall_score(y_test, xgb.predict(X_test))"
   ]
  },
  {
   "cell_type": "code",
   "execution_count": null,
   "metadata": {},
   "outputs": [],
   "source": [
    "from scikitplot.metrics import plot_roc\n",
    "plot_roc(y_test, xgb.predict_proba(X_test), plot_micro = False, plot_macro= False);"
   ]
  },
  {
   "cell_type": "code",
   "execution_count": null,
   "metadata": {},
   "outputs": [],
   "source": [
    "from xgboost import plot_importance\n",
    "plot_importance(xgb.best_estimator_, height = 0.8,max_num_features=10);"
   ]
  },
  {
   "cell_type": "code",
   "execution_count": null,
   "metadata": {},
   "outputs": [],
   "source": [
    "y_pred = xgb.predict(X_test)\n",
    "y_pred"
   ]
  },
  {
   "cell_type": "code",
   "execution_count": null,
   "metadata": {},
   "outputs": [],
   "source": [
    "#paleta colores\n",
    "cmap = sns.color_palette(\"Greens_d\", as_cmap=True)\n",
    "vmin, vmax = 100,900"
   ]
  },
  {
   "cell_type": "code",
   "execution_count": null,
   "metadata": {},
   "outputs": [],
   "source": [
    "conf_mat = confusion_matrix(y_test, y_pred)\n",
    "sns.heatmap(confusion_matrix(y_test, y_pred), annot=True, fmt='.0f',cmap=cmap, vmin=vmin, vmax=vmax)\n",
    "plt.ylabel('Etiquetas reales')\n",
    "plt.xlabel('Etiquetas predichas');"
   ]
  }
 ],
 "metadata": {
  "kernelspec": {
   "display_name": "Python 3 (ipykernel)",
   "language": "python",
   "name": "python3"
  },
  "language_info": {
   "codemirror_mode": {
    "name": "ipython",
    "version": 3
   },
   "file_extension": ".py",
   "mimetype": "text/x-python",
   "name": "python",
   "nbconvert_exporter": "python",
   "pygments_lexer": "ipython3",
   "version": "3.8.8"
  },
  "vscode": {
   "interpreter": {
    "hash": "d0c48e0326c6c4056e4b4eb85894922d97351fe3ceca175dabbe7210b9ffcd7d"
   }
  }
 },
 "nbformat": 4,
 "nbformat_minor": 4
}
