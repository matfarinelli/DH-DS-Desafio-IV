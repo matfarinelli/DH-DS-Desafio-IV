{
 "cells": [
  {
   "cell_type": "code",
   "execution_count": 230,
   "metadata": {},
   "outputs": [],
   "source": [
    "import pandas as pd\n",
    "import numpy as np\n",
    "import seaborn as sns\n",
    "import matplotlib.pyplot as plt"
   ]
  },
  {
   "cell_type": "code",
   "execution_count": 231,
   "metadata": {},
   "outputs": [
    {
     "data": {
      "text/html": [
       "<div>\n",
       "<style scoped>\n",
       "    .dataframe tbody tr th:only-of-type {\n",
       "        vertical-align: middle;\n",
       "    }\n",
       "\n",
       "    .dataframe tbody tr th {\n",
       "        vertical-align: top;\n",
       "    }\n",
       "\n",
       "    .dataframe thead th {\n",
       "        text-align: right;\n",
       "    }\n",
       "</style>\n",
       "<table border=\"1\" class=\"dataframe\">\n",
       "  <thead>\n",
       "    <tr style=\"text-align: right;\">\n",
       "      <th></th>\n",
       "      <th>id</th>\n",
       "      <th>trial</th>\n",
       "      <th>trial__id</th>\n",
       "      <th>race</th>\n",
       "      <th>gender</th>\n",
       "      <th>race_source</th>\n",
       "      <th>gender_source</th>\n",
       "      <th>struck_by</th>\n",
       "      <th>strike_eligibility</th>\n",
       "    </tr>\n",
       "  </thead>\n",
       "  <tbody>\n",
       "    <tr>\n",
       "      <th>0</th>\n",
       "      <td>35</td>\n",
       "      <td>1993-9826--Terry L. Landingham</td>\n",
       "      <td>1</td>\n",
       "      <td>White</td>\n",
       "      <td>Male</td>\n",
       "      <td>Jury strike sheet</td>\n",
       "      <td>Jury strike sheet</td>\n",
       "      <td>Struck for cause</td>\n",
       "      <td>NaN</td>\n",
       "    </tr>\n",
       "    <tr>\n",
       "      <th>1</th>\n",
       "      <td>38</td>\n",
       "      <td>1993-9826--Terry L. Landingham</td>\n",
       "      <td>1</td>\n",
       "      <td>Black</td>\n",
       "      <td>Female</td>\n",
       "      <td>Jury strike sheet</td>\n",
       "      <td>Jury strike sheet</td>\n",
       "      <td>Struck for cause</td>\n",
       "      <td>NaN</td>\n",
       "    </tr>\n",
       "  </tbody>\n",
       "</table>\n",
       "</div>"
      ],
      "text/plain": [
       "   id                           trial  trial__id   race  gender  \\\n",
       "0  35  1993-9826--Terry L. Landingham          1  White    Male   \n",
       "1  38  1993-9826--Terry L. Landingham          1  Black  Female   \n",
       "\n",
       "         race_source      gender_source         struck_by strike_eligibility  \n",
       "0  Jury strike sheet  Jury strike sheet  Struck for cause                NaN  \n",
       "1  Jury strike sheet  Jury strike sheet  Struck for cause                NaN  "
      ]
     },
     "execution_count": 231,
     "metadata": {},
     "output_type": "execute_result"
    }
   ],
   "source": [
    "data_jurors = pd.read_csv(\"jurors.csv\")\n",
    "data_jurors.head(2)"
   ]
  },
  {
   "cell_type": "code",
   "execution_count": 232,
   "metadata": {},
   "outputs": [
    {
     "data": {
      "text/plain": [
       "(14874, 9)"
      ]
     },
     "execution_count": 232,
     "metadata": {},
     "output_type": "execute_result"
    }
   ],
   "source": [
    "data_jurors.shape"
   ]
  },
  {
   "cell_type": "code",
   "execution_count": 233,
   "metadata": {},
   "outputs": [
    {
     "name": "stdout",
     "output_type": "stream",
     "text": [
      "Cantidad de jurados: 14874\n"
     ]
    }
   ],
   "source": [
    "#cant de jurados\n",
    "print(f'Cantidad de jurados: {len(data_jurors.id.unique())}')"
   ]
  },
  {
   "cell_type": "code",
   "execution_count": 234,
   "metadata": {},
   "outputs": [
    {
     "name": "stdout",
     "output_type": "stream",
     "text": [
      "Cantidad de juicios: 305\n"
     ]
    }
   ],
   "source": [
    "#cant de juicios\n",
    "print(f'Cantidad de juicios: {len(data_jurors.trial__id.unique())}')"
   ]
  },
  {
   "cell_type": "code",
   "execution_count": 235,
   "metadata": {},
   "outputs": [
    {
     "data": {
      "image/png": "[encoded data removed]",
      "text/plain": [
       "<Figure size 640x480 with 1 Axes>"
      ]
     },
     "metadata": {},
     "output_type": "display_data"
    }
   ],
   "source": [
    "# cantidad de jurados por juicio\n",
    "\n",
    "juror_x_trial = data_jurors.groupby('trial__id').agg(\n",
    "    count_juror=pd.NamedAgg(column=\"id\", aggfunc=\"count\")\n",
    ")\n",
    "\n",
    "# juror_x_trial['count_juror'].hist(bins=30) #--> graficar serie directamente\n",
    "sns.histplot(data=juror_x_trial, x='count_juror', bins=30)\n",
    "\n",
    "plt.xlabel('Cantidad de jurados por juicio')\n",
    "plt.ylabel('Frecuencia')\n",
    "plt.title('Histograma de la cantidad de jurados por juicio')\n",
    "plt.show()"
   ]
  },
  {
   "cell_type": "code",
   "execution_count": 236,
   "metadata": {},
   "outputs": [
    {
     "data": {
      "text/html": [
       "<div>\n",
       "<style scoped>\n",
       "    .dataframe tbody tr th:only-of-type {\n",
       "        vertical-align: middle;\n",
       "    }\n",
       "\n",
       "    .dataframe tbody tr th {\n",
       "        vertical-align: top;\n",
       "    }\n",
       "\n",
       "    .dataframe thead th {\n",
       "        text-align: right;\n",
       "    }\n",
       "</style>\n",
       "<table border=\"1\" class=\"dataframe\">\n",
       "  <thead>\n",
       "    <tr style=\"text-align: right;\">\n",
       "      <th></th>\n",
       "      <th>count_juror</th>\n",
       "    </tr>\n",
       "  </thead>\n",
       "  <tbody>\n",
       "    <tr>\n",
       "      <th>count</th>\n",
       "      <td>305.000000</td>\n",
       "    </tr>\n",
       "    <tr>\n",
       "      <th>mean</th>\n",
       "      <td>48.767213</td>\n",
       "    </tr>\n",
       "    <tr>\n",
       "      <th>std</th>\n",
       "      <td>15.907057</td>\n",
       "    </tr>\n",
       "    <tr>\n",
       "      <th>min</th>\n",
       "      <td>19.000000</td>\n",
       "    </tr>\n",
       "    <tr>\n",
       "      <th>25%</th>\n",
       "      <td>39.000000</td>\n",
       "    </tr>\n",
       "    <tr>\n",
       "      <th>50%</th>\n",
       "      <td>45.000000</td>\n",
       "    </tr>\n",
       "    <tr>\n",
       "      <th>75%</th>\n",
       "      <td>54.000000</td>\n",
       "    </tr>\n",
       "    <tr>\n",
       "      <th>max</th>\n",
       "      <td>130.000000</td>\n",
       "    </tr>\n",
       "  </tbody>\n",
       "</table>\n",
       "</div>"
      ],
      "text/plain": [
       "       count_juror\n",
       "count   305.000000\n",
       "mean     48.767213\n",
       "std      15.907057\n",
       "min      19.000000\n",
       "25%      39.000000\n",
       "50%      45.000000\n",
       "75%      54.000000\n",
       "max     130.000000"
      ]
     },
     "execution_count": 236,
     "metadata": {},
     "output_type": "execute_result"
    }
   ],
   "source": [
    "juror_x_trial.sort_values(by='count_juror').describe()"
   ]
  },
  {
   "attachments": {},
   "cell_type": "markdown",
   "metadata": {},
   "source": [
    "-Promedio de jurados por juicio: 48\n",
    "\n",
    "-Mínimo de jurados en un juicios : 19\n",
    "\n",
    "-Máximo de jurados en un juicios : 130\n"
   ]
  },
  {
   "cell_type": "code",
   "execution_count": 271,
   "metadata": {},
   "outputs": [
    {
     "data": {
      "text/html": [
       "<div>\n",
       "<style scoped>\n",
       "    .dataframe tbody tr th:only-of-type {\n",
       "        vertical-align: middle;\n",
       "    }\n",
       "\n",
       "    .dataframe tbody tr th {\n",
       "        vertical-align: top;\n",
       "    }\n",
       "\n",
       "    .dataframe thead th {\n",
       "        text-align: right;\n",
       "    }\n",
       "</style>\n",
       "<table border=\"1\" class=\"dataframe\">\n",
       "  <thead>\n",
       "    <tr style=\"text-align: right;\">\n",
       "      <th></th>\n",
       "      <th>count_juror</th>\n",
       "    </tr>\n",
       "  </thead>\n",
       "  <tbody>\n",
       "    <tr>\n",
       "      <th>count</th>\n",
       "      <td>141.000000</td>\n",
       "    </tr>\n",
       "    <tr>\n",
       "      <th>mean</th>\n",
       "      <td>45.503546</td>\n",
       "    </tr>\n",
       "    <tr>\n",
       "      <th>std</th>\n",
       "      <td>4.094638</td>\n",
       "    </tr>\n",
       "    <tr>\n",
       "      <th>min</th>\n",
       "      <td>40.000000</td>\n",
       "    </tr>\n",
       "    <tr>\n",
       "      <th>25%</th>\n",
       "      <td>42.000000</td>\n",
       "    </tr>\n",
       "    <tr>\n",
       "      <th>50%</th>\n",
       "      <td>45.000000</td>\n",
       "    </tr>\n",
       "    <tr>\n",
       "      <th>75%</th>\n",
       "      <td>49.000000</td>\n",
       "    </tr>\n",
       "    <tr>\n",
       "      <th>max</th>\n",
       "      <td>53.000000</td>\n",
       "    </tr>\n",
       "  </tbody>\n",
       "</table>\n",
       "</div>"
      ],
      "text/plain": [
       "       count_juror\n",
       "count   141.000000\n",
       "mean     45.503546\n",
       "std       4.094638\n",
       "min      40.000000\n",
       "25%      42.000000\n",
       "50%      45.000000\n",
       "75%      49.000000\n",
       "max      53.000000"
      ]
     },
     "execution_count": 271,
     "metadata": {},
     "output_type": "execute_result"
    }
   ],
   "source": [
    "#descartar valores fuera del rango intercuartílico para observar posible variación en promedio\n",
    "mask_interq = (juror_x_trial > q[0.25]) & (juror_x_trial < q[0.75])\n",
    "juror_x_trial_iqr = juror_x_trial[mask_interq]\n",
    "juror_x_trial_iqr.describe()"
   ]
  },
  {
   "cell_type": "code",
   "execution_count": 272,
   "metadata": {},
   "outputs": [
    {
     "data": {
      "text/plain": [
       "(0.0, 130.0)"
      ]
     },
     "execution_count": 272,
     "metadata": {},
     "output_type": "execute_result"
    },
    {
     "data": {
      "image/png": "[encoded data removed]",
      "text/plain": [
       "<Figure size 1000x500 with 2 Axes>"
      ]
     },
     "metadata": {},
     "output_type": "display_data"
    }
   ],
   "source": [
    "fig, ax = plt.subplots(nrows=1 , ncols=2, figsize=(10, 5))\n",
    "sns.boxplot(data = juror_x_trial, showmeans=True, meanprops={\"marker\":\"o\", \"markerfacecolor\":\"cyan\", \"markersize\":\"5\"}, ax =ax[0])\n",
    "ax[0].set_title('Jurados por Juicio')\n",
    "sns.boxplot(data = juror_x_trial_iqr, showmeans=True, meanprops={\"marker\":\"o\", \"markerfacecolor\":\"cyan\", \"markersize\":\"5\"}, ax =ax[1] )\n",
    "ax[1].set_title('Jurados por Juicio (IQR)')\n",
    "\n",
    "ymax = max(juror_x_trial['count_juror'].max(), juror_x_trial_iqr['count_juror'].max())\n",
    "ax[0].set_ylim(0, ymax)\n",
    "ax[1].set_ylim(0, ymax)"
   ]
  },
  {
   "cell_type": "code",
   "execution_count": 239,
   "metadata": {},
   "outputs": [
    {
     "data": {
      "text/plain": [
       "[nan, 'Both State and Defense', 'State', 'Neither', 'Defense']"
      ]
     },
     "execution_count": 239,
     "metadata": {},
     "output_type": "execute_result"
    }
   ],
   "source": [
    "list(data_jurors.strike_eligibility.unique())"
   ]
  },
  {
   "cell_type": "code",
   "execution_count": 240,
   "metadata": {},
   "outputs": [
    {
     "name": "stdout",
     "output_type": "stream",
     "text": [
      "Both State and Defense    5291\n",
      "State                     2350\n",
      "Neither                    235\n",
      "Defense                    235\n",
      "Name: strike_eligibility, dtype: int64\n",
      "Valores nulos  6763\n",
      "Total de datos  14874\n"
     ]
    },
    {
     "data": {
      "text/plain": [
       "<AxesSubplot:xlabel='strike_eligibility', ylabel='count'>"
      ]
     },
     "execution_count": 240,
     "metadata": {},
     "output_type": "execute_result"
    },
    {
     "data": {
      "image/png": "[encoded data removed]",
      "text/plain": [
       "<Figure size 640x480 with 1 Axes>"
      ]
     },
     "metadata": {},
     "output_type": "display_data"
    }
   ],
   "source": [
    "print(data_jurors.strike_eligibility.value_counts())\n",
    "print(f'Valores nulos ' , data_jurors.strike_eligibility.isna().sum())\n",
    "print(f'Total de datos ', data_jurors.strike_eligibility.shape[0])\n",
    "\n",
    "sns.countplot(x='strike_eligibility', data=data_jurors)"
   ]
  },
  {
   "cell_type": "code",
   "execution_count": 273,
   "metadata": {},
   "outputs": [
    {
     "name": "stdout",
     "output_type": "stream",
     "text": [
      "Valores nulos  0\n",
      "Total de datos  14874\n",
      "Juror chosen to serve on jury    3640\n",
      "Juror not struck                 3436\n",
      "Struck by the defense            2301\n",
      "Struck for cause                 2042\n",
      "Struck by the state              1852\n",
      "Struck without notation           571\n",
      "Juror excused/absent              371\n",
      "Juror chosen as alternate         370\n",
      "Unknown                           291\n",
      "Name: struck_by, dtype: int64\n"
     ]
    },
    {
     "data": {
      "image/png": "[encoded data removed]",
      "text/plain": [
       "<Figure size 640x480 with 1 Axes>"
      ]
     },
     "metadata": {},
     "output_type": "display_data"
    }
   ],
   "source": [
    "print(f'Valores nulos ' , data_jurors.struck_by.isna().sum())\n",
    "print(f'Total de datos ', data_jurors.struck_by.shape[0])\n",
    "\n",
    "sns.countplot(y='struck_by', data=data_jurors)\n",
    "\n",
    "print(data_jurors.struck_by.value_counts())"
   ]
  },
  {
   "cell_type": "code",
   "execution_count": 242,
   "metadata": {},
   "outputs": [
    {
     "name": "stdout",
     "output_type": "stream",
     "text": [
      "<class 'pandas.core.frame.DataFrame'>\n",
      "RangeIndex: 14874 entries, 0 to 14873\n",
      "Data columns (total 9 columns):\n",
      " #   Column              Non-Null Count  Dtype \n",
      "---  ------              --------------  ----- \n",
      " 0   id                  14874 non-null  int64 \n",
      " 1   trial               14874 non-null  object\n",
      " 2   trial__id           14874 non-null  int64 \n",
      " 3   race                14874 non-null  object\n",
      " 4   gender              14874 non-null  object\n",
      " 5   race_source         14874 non-null  object\n",
      " 6   gender_source       14874 non-null  object\n",
      " 7   struck_by           14874 non-null  object\n",
      " 8   strike_eligibility  8111 non-null   object\n",
      "dtypes: int64(2), object(7)\n",
      "memory usage: 1.0+ MB\n"
     ]
    }
   ],
   "source": [
    "data_jurors.info()"
   ]
  },
  {
   "cell_type": "code",
   "execution_count": 243,
   "metadata": {},
   "outputs": [
    {
     "data": {
      "text/html": [
       "<div>\n",
       "<style scoped>\n",
       "    .dataframe tbody tr th:only-of-type {\n",
       "        vertical-align: middle;\n",
       "    }\n",
       "\n",
       "    .dataframe tbody tr th {\n",
       "        vertical-align: top;\n",
       "    }\n",
       "\n",
       "    .dataframe thead th {\n",
       "        text-align: right;\n",
       "    }\n",
       "</style>\n",
       "<table border=\"1\" class=\"dataframe\">\n",
       "  <thead>\n",
       "    <tr style=\"text-align: right;\">\n",
       "      <th></th>\n",
       "      <th>id</th>\n",
       "      <th>defendant_name</th>\n",
       "      <th>cause_number</th>\n",
       "      <th>state_strikes</th>\n",
       "      <th>defense_strikes</th>\n",
       "      <th>county</th>\n",
       "      <th>defendant_race</th>\n",
       "      <th>second_defendant_race</th>\n",
       "      <th>third_defendant_race</th>\n",
       "      <th>fourth_defendant_race</th>\n",
       "      <th>more_than_four_defendants</th>\n",
       "      <th>judge</th>\n",
       "      <th>prosecutor_1</th>\n",
       "      <th>prosecutor_2</th>\n",
       "      <th>prosecutor_3</th>\n",
       "      <th>prosecutors_more_than_three</th>\n",
       "      <th>def_attny_1</th>\n",
       "      <th>def_attny_2</th>\n",
       "      <th>def_attny_3</th>\n",
       "      <th>def_attnys_more_than_three</th>\n",
       "      <th>offense_code_1</th>\n",
       "      <th>offense_title_1</th>\n",
       "      <th>offense_code_2</th>\n",
       "      <th>offense_title_2</th>\n",
       "      <th>offense_code_3</th>\n",
       "      <th>offense_title_3</th>\n",
       "      <th>offense_code_4</th>\n",
       "      <th>offense_title_4</th>\n",
       "      <th>offense_code_5</th>\n",
       "      <th>offense_title_5</th>\n",
       "      <th>offense_code_6</th>\n",
       "      <th>offense_title_6</th>\n",
       "      <th>more_than_six</th>\n",
       "      <th>verdict</th>\n",
       "      <th>case_appealed</th>\n",
       "      <th>batson_claim_by_defense</th>\n",
       "      <th>batson_claim_by_state</th>\n",
       "      <th>voir_dire_present</th>\n",
       "    </tr>\n",
       "  </thead>\n",
       "  <tbody>\n",
       "    <tr>\n",
       "      <th>0</th>\n",
       "      <td>1</td>\n",
       "      <td>Terry L. Landingham</td>\n",
       "      <td>1993-9826</td>\n",
       "      <td>False</td>\n",
       "      <td>False</td>\n",
       "      <td>Attala</td>\n",
       "      <td>Black</td>\n",
       "      <td>NaN</td>\n",
       "      <td>NaN</td>\n",
       "      <td>NaN</td>\n",
       "      <td>False</td>\n",
       "      <td>Joseph Loper, Jr</td>\n",
       "      <td>Kevin Horan</td>\n",
       "      <td>NaN</td>\n",
       "      <td>NaN</td>\n",
       "      <td>False</td>\n",
       "      <td>James H. Powell, III</td>\n",
       "      <td>NaN</td>\n",
       "      <td>NaN</td>\n",
       "      <td>False</td>\n",
       "      <td>97-3-7(2)(b)</td>\n",
       "      <td>Aggravated Assault</td>\n",
       "      <td>NaN</td>\n",
       "      <td>NaN</td>\n",
       "      <td>NaN</td>\n",
       "      <td>NaN</td>\n",
       "      <td>NaN</td>\n",
       "      <td>NaN</td>\n",
       "      <td>NaN</td>\n",
       "      <td>NaN</td>\n",
       "      <td>NaN</td>\n",
       "      <td>NaN</td>\n",
       "      <td>False</td>\n",
       "      <td>Guilty on at least one offense</td>\n",
       "      <td>True</td>\n",
       "      <td>False</td>\n",
       "      <td>False</td>\n",
       "      <td>True</td>\n",
       "    </tr>\n",
       "    <tr>\n",
       "      <th>1</th>\n",
       "      <td>2</td>\n",
       "      <td>Donovan Johnson</td>\n",
       "      <td>2009-0023</td>\n",
       "      <td>False</td>\n",
       "      <td>True</td>\n",
       "      <td>Attala</td>\n",
       "      <td>Black</td>\n",
       "      <td>NaN</td>\n",
       "      <td>NaN</td>\n",
       "      <td>NaN</td>\n",
       "      <td>False</td>\n",
       "      <td>Joseph Loper, Jr</td>\n",
       "      <td>Ryan M. Berry</td>\n",
       "      <td>Mike Howie</td>\n",
       "      <td>NaN</td>\n",
       "      <td>False</td>\n",
       "      <td>Rosalind H. Jordan</td>\n",
       "      <td>NaN</td>\n",
       "      <td>NaN</td>\n",
       "      <td>False</td>\n",
       "      <td>41-29-139(a)(1)(b)(1)</td>\n",
       "      <td>sale of cocaine</td>\n",
       "      <td>41-29-139(a)(1)(b)(1)</td>\n",
       "      <td>sale of cocaine</td>\n",
       "      <td>41-29-139(a)(1)(b)(1)</td>\n",
       "      <td>sale of cocaine</td>\n",
       "      <td>NaN</td>\n",
       "      <td>NaN</td>\n",
       "      <td>NaN</td>\n",
       "      <td>NaN</td>\n",
       "      <td>NaN</td>\n",
       "      <td>NaN</td>\n",
       "      <td>False</td>\n",
       "      <td>Guilty on at least one offense</td>\n",
       "      <td>True</td>\n",
       "      <td>False</td>\n",
       "      <td>False</td>\n",
       "      <td>True</td>\n",
       "    </tr>\n",
       "    <tr>\n",
       "      <th>2</th>\n",
       "      <td>3</td>\n",
       "      <td>Sparky Watson</td>\n",
       "      <td>2004-0257</td>\n",
       "      <td>True</td>\n",
       "      <td>True</td>\n",
       "      <td>Grenada</td>\n",
       "      <td>Black</td>\n",
       "      <td>NaN</td>\n",
       "      <td>NaN</td>\n",
       "      <td>NaN</td>\n",
       "      <td>False</td>\n",
       "      <td>C. Morgan, III</td>\n",
       "      <td>Susan Denley</td>\n",
       "      <td>Ryan Berry</td>\n",
       "      <td>NaN</td>\n",
       "      <td>False</td>\n",
       "      <td>M. Kevin Horan</td>\n",
       "      <td>Elizabeth Davis</td>\n",
       "      <td>NaN</td>\n",
       "      <td>False</td>\n",
       "      <td>41-29-139(a)(1)(b)(3)</td>\n",
       "      <td>sale of marihuana (less than 30 grams)</td>\n",
       "      <td>41-29-139(a)(1)(b)(1)</td>\n",
       "      <td>sale of cocaine</td>\n",
       "      <td>NaN</td>\n",
       "      <td>NaN</td>\n",
       "      <td>NaN</td>\n",
       "      <td>NaN</td>\n",
       "      <td>NaN</td>\n",
       "      <td>NaN</td>\n",
       "      <td>NaN</td>\n",
       "      <td>NaN</td>\n",
       "      <td>False</td>\n",
       "      <td>Guilty on at least one offense</td>\n",
       "      <td>True</td>\n",
       "      <td>False</td>\n",
       "      <td>False</td>\n",
       "      <td>True</td>\n",
       "    </tr>\n",
       "    <tr>\n",
       "      <th>3</th>\n",
       "      <td>4</td>\n",
       "      <td>Phillip Knickel</td>\n",
       "      <td>1998-0020</td>\n",
       "      <td>False</td>\n",
       "      <td>True</td>\n",
       "      <td>Montgomery</td>\n",
       "      <td>White</td>\n",
       "      <td>NaN</td>\n",
       "      <td>NaN</td>\n",
       "      <td>NaN</td>\n",
       "      <td>False</td>\n",
       "      <td>Joseph Loper, Jr</td>\n",
       "      <td>Doug Evans</td>\n",
       "      <td>Walter E. Bleck</td>\n",
       "      <td>NaN</td>\n",
       "      <td>False</td>\n",
       "      <td>Raymond M. Baum</td>\n",
       "      <td>NaN</td>\n",
       "      <td>NaN</td>\n",
       "      <td>False</td>\n",
       "      <td>97-3-79</td>\n",
       "      <td>armed robbery</td>\n",
       "      <td>NaN</td>\n",
       "      <td>NaN</td>\n",
       "      <td>NaN</td>\n",
       "      <td>NaN</td>\n",
       "      <td>NaN</td>\n",
       "      <td>NaN</td>\n",
       "      <td>NaN</td>\n",
       "      <td>NaN</td>\n",
       "      <td>NaN</td>\n",
       "      <td>NaN</td>\n",
       "      <td>False</td>\n",
       "      <td>Guilty on at least one offense</td>\n",
       "      <td>True</td>\n",
       "      <td>False</td>\n",
       "      <td>False</td>\n",
       "      <td>True</td>\n",
       "    </tr>\n",
       "    <tr>\n",
       "      <th>4</th>\n",
       "      <td>5</td>\n",
       "      <td>Donald Dotson</td>\n",
       "      <td>1994-9918</td>\n",
       "      <td>False</td>\n",
       "      <td>True</td>\n",
       "      <td>Attala</td>\n",
       "      <td>Black</td>\n",
       "      <td>NaN</td>\n",
       "      <td>NaN</td>\n",
       "      <td>NaN</td>\n",
       "      <td>False</td>\n",
       "      <td>Joseph Loper, Jr</td>\n",
       "      <td>Doug Evans</td>\n",
       "      <td>Kevin Horan</td>\n",
       "      <td>NaN</td>\n",
       "      <td>False</td>\n",
       "      <td>James H. Powell, III</td>\n",
       "      <td>NaN</td>\n",
       "      <td>NaN</td>\n",
       "      <td>False</td>\n",
       "      <td>97-3-7(2)(a)</td>\n",
       "      <td>Aggravated assault</td>\n",
       "      <td>97-3-7(2)(a)</td>\n",
       "      <td>Aggravated assault</td>\n",
       "      <td>NaN</td>\n",
       "      <td>NaN</td>\n",
       "      <td>NaN</td>\n",
       "      <td>NaN</td>\n",
       "      <td>NaN</td>\n",
       "      <td>NaN</td>\n",
       "      <td>NaN</td>\n",
       "      <td>NaN</td>\n",
       "      <td>False</td>\n",
       "      <td>Guilty on at least one offense</td>\n",
       "      <td>True</td>\n",
       "      <td>True</td>\n",
       "      <td>False</td>\n",
       "      <td>True</td>\n",
       "    </tr>\n",
       "  </tbody>\n",
       "</table>\n",
       "</div>"
      ],
      "text/plain": [
       "   id       defendant_name cause_number  state_strikes  defense_strikes  \\\n",
       "0   1  Terry L. Landingham    1993-9826          False            False   \n",
       "1   2      Donovan Johnson    2009-0023          False             True   \n",
       "2   3        Sparky Watson    2004-0257           True             True   \n",
       "3   4      Phillip Knickel    1998-0020          False             True   \n",
       "4   5        Donald Dotson    1994-9918          False             True   \n",
       "\n",
       "       county defendant_race second_defendant_race third_defendant_race  \\\n",
       "0      Attala          Black                   NaN                  NaN   \n",
       "1      Attala          Black                   NaN                  NaN   \n",
       "2     Grenada          Black                   NaN                  NaN   \n",
       "3  Montgomery          White                   NaN                  NaN   \n",
       "4      Attala          Black                   NaN                  NaN   \n",
       "\n",
       "   fourth_defendant_race  more_than_four_defendants             judge  \\\n",
       "0                    NaN                      False  Joseph Loper, Jr   \n",
       "1                    NaN                      False  Joseph Loper, Jr   \n",
       "2                    NaN                      False    C. Morgan, III   \n",
       "3                    NaN                      False  Joseph Loper, Jr   \n",
       "4                    NaN                      False  Joseph Loper, Jr   \n",
       "\n",
       "    prosecutor_1     prosecutor_2 prosecutor_3  prosecutors_more_than_three  \\\n",
       "0    Kevin Horan              NaN          NaN                        False   \n",
       "1  Ryan M. Berry       Mike Howie          NaN                        False   \n",
       "2   Susan Denley       Ryan Berry          NaN                        False   \n",
       "3     Doug Evans  Walter E. Bleck          NaN                        False   \n",
       "4     Doug Evans      Kevin Horan          NaN                        False   \n",
       "\n",
       "            def_attny_1      def_attny_2 def_attny_3  \\\n",
       "0  James H. Powell, III              NaN         NaN   \n",
       "1    Rosalind H. Jordan              NaN         NaN   \n",
       "2        M. Kevin Horan  Elizabeth Davis         NaN   \n",
       "3       Raymond M. Baum              NaN         NaN   \n",
       "4  James H. Powell, III              NaN         NaN   \n",
       "\n",
       "   def_attnys_more_than_three         offense_code_1  \\\n",
       "0                       False           97-3-7(2)(b)   \n",
       "1                       False  41-29-139(a)(1)(b)(1)   \n",
       "2                       False  41-29-139(a)(1)(b)(3)   \n",
       "3                       False                97-3-79   \n",
       "4                       False           97-3-7(2)(a)   \n",
       "\n",
       "                          offense_title_1         offense_code_2  \\\n",
       "0                      Aggravated Assault                    NaN   \n",
       "1                         sale of cocaine  41-29-139(a)(1)(b)(1)   \n",
       "2  sale of marihuana (less than 30 grams)  41-29-139(a)(1)(b)(1)   \n",
       "3                           armed robbery                    NaN   \n",
       "4                      Aggravated assault           97-3-7(2)(a)   \n",
       "\n",
       "      offense_title_2         offense_code_3  offense_title_3 offense_code_4  \\\n",
       "0                 NaN                    NaN              NaN            NaN   \n",
       "1     sale of cocaine  41-29-139(a)(1)(b)(1)  sale of cocaine            NaN   \n",
       "2     sale of cocaine                    NaN              NaN            NaN   \n",
       "3                 NaN                    NaN              NaN            NaN   \n",
       "4  Aggravated assault                    NaN              NaN            NaN   \n",
       "\n",
       "  offense_title_4 offense_code_5 offense_title_5 offense_code_6  \\\n",
       "0             NaN            NaN             NaN            NaN   \n",
       "1             NaN            NaN             NaN            NaN   \n",
       "2             NaN            NaN             NaN            NaN   \n",
       "3             NaN            NaN             NaN            NaN   \n",
       "4             NaN            NaN             NaN            NaN   \n",
       "\n",
       "  offense_title_6  more_than_six                         verdict  \\\n",
       "0             NaN          False  Guilty on at least one offense   \n",
       "1             NaN          False  Guilty on at least one offense   \n",
       "2             NaN          False  Guilty on at least one offense   \n",
       "3             NaN          False  Guilty on at least one offense   \n",
       "4             NaN          False  Guilty on at least one offense   \n",
       "\n",
       "   case_appealed  batson_claim_by_defense  batson_claim_by_state  \\\n",
       "0           True                    False                  False   \n",
       "1           True                    False                  False   \n",
       "2           True                    False                  False   \n",
       "3           True                    False                  False   \n",
       "4           True                     True                  False   \n",
       "\n",
       "   voir_dire_present  \n",
       "0               True  \n",
       "1               True  \n",
       "2               True  \n",
       "3               True  \n",
       "4               True  "
      ]
     },
     "execution_count": 243,
     "metadata": {},
     "output_type": "execute_result"
    }
   ],
   "source": [
    "data_trials = pd.read_csv(\"trials.csv\")\n",
    "data_trials.head(5)"
   ]
  },
  {
   "cell_type": "code",
   "execution_count": 291,
   "metadata": {},
   "outputs": [
    {
     "data": {
      "application/vnd.plotly.v1+json": {
       "config": {
        "plotlyServerURL": "https://plot.ly"
       },
       "data": [
        {
         "alignmentgroup": "True",
         "bingroup": "x",
         "hovertemplate": "defendant_race=%{x}<br>count=%{y}<extra></extra>",
         "legendgroup": "",
         "marker": {
          "color": "#1f77b4"
         },
         "name": "",
         "offsetgroup": "",
         "orientation": "v",
         "showlegend": false,
         "type": "histogram",
         "x": [
          "Black",
          "Black",
          "Black",
          "White",
          "Black",
          "White",
          "White",
          "Black",
          "Black",
          "White",
          "Black",
          "Black",
          "Black",
          "Black",
          "Black",
          "Black",
          "Black",
          "Black",
          "White",
          "White",
          "Black",
          "Black",
          "Black",
          "Black",
          "Black",
          "Black",
          "Black",
          "White",
          "Black",
          "Black",
          "White",
          "White",
          "Black",
          "White",
          "White",
          "White",
          "Black",
          "Black",
          "White",
          "Black",
          "Black",
          "White",
          "White",
          "Black",
          "Black",
          "White",
          "Black",
          "Black",
          "Unknown",
          "Black",
          "Black",
          "Black",
          "Black",
          "Black",
          "Black",
          "Black",
          "Black",
          "Black",
          "Black",
          "Black",
          "White",
          "White",
          "White",
          "White",
          "Black",
          "Black",
          "Black",
          "White",
          "Black",
          "Black",
          "Black",
          "Black",
          "Black",
          "White",
          "Black",
          "Black",
          "Black",
          "White",
          "Black",
          "White",
          "Black",
          "Black",
          "Black",
          "Black",
          "Black",
          "Black",
          "Black",
          "Black",
          "Black",
          "White",
          "Black",
          "Black",
          "Asian",
          "Black",
          "Black",
          "Black",
          "Black",
          "Black",
          "Black",
          "Black",
          "Black",
          "Black",
          "Black",
          "Black",
          "Black",
          "Black",
          "Black",
          "Black",
          "Black",
          "Black",
          "Black",
          "Black",
          "Black",
          "Black",
          "Black",
          "Black",
          "Black",
          "White",
          "Black",
          "Black",
          "White",
          "Black",
          "Black",
          "Black",
          "Black",
          "Black",
          "Black",
          "Black",
          "Black",
          "Black",
          "Black",
          "Black",
          "White",
          "Black",
          "Black",
          "Black",
          "White",
          "Black",
          "Black",
          "Black",
          "Black",
          "Black",
          "Black",
          "Black",
          "Black",
          "Black",
          "Black",
          "Black",
          "Black",
          "White",
          "Black",
          "Black",
          "Black",
          "Black",
          "White",
          "Black",
          "Black",
          "Black",
          "White",
          "White",
          "Black",
          "Unknown",
          "White",
          "Black",
          "White",
          "Black",
          "Black",
          "Black",
          "Black",
          "White",
          "Black",
          "Black",
          "White",
          "Black",
          "Black",
          "White",
          "White",
          "Unknown",
          "Black",
          "Black",
          "Black",
          "Black",
          "White",
          "Black",
          "Black",
          "Black",
          "White",
          "Black",
          "Black",
          "Black",
          "White",
          "Black",
          "Black",
          "Black",
          "Black",
          "Unknown",
          "Black",
          "Black",
          "White",
          "Black",
          "Black",
          "Black",
          "Black",
          "Black",
          "Black",
          "Latino",
          "Black",
          "Black",
          "Black",
          "Black",
          "Black",
          "Black",
          "Black",
          "Black",
          "White",
          "White",
          "Black",
          "White",
          "Black",
          "White",
          "Black",
          "Black",
          "Black",
          "Black",
          "White",
          "Black",
          "Black",
          "Black",
          "Black",
          "White",
          "Black",
          "Black",
          "Black",
          "White",
          "Black",
          "Black",
          "White",
          "Black",
          "Black",
          "Black",
          "Black",
          "Black",
          "Black",
          "Black",
          "Black",
          "Black",
          "Black",
          "Unknown",
          "Black",
          "Black",
          "Black",
          "Black",
          "Black",
          "Black",
          "Black",
          "Black",
          "Black",
          "White",
          "White",
          "Black",
          "White",
          "Black",
          "White",
          "White",
          "White",
          "Black",
          "Black",
          "Black",
          "Black",
          "Black",
          "Black",
          "Unknown",
          "Unknown",
          "Black",
          "Black",
          "Unknown",
          "Black",
          "Black",
          "Unknown",
          "Black",
          "Black",
          "Black",
          "Black",
          "Black",
          "White",
          "White",
          "White",
          "Black",
          "Black",
          "White",
          "Black",
          "Black",
          "Black",
          "Unknown",
          "Black",
          "Black",
          "Unknown",
          "White",
          "Black",
          "Black",
          "Black",
          "Black",
          "Black",
          "White",
          "Black"
         ],
         "xaxis": "x",
         "yaxis": "y"
        }
       ],
       "layout": {
        "barmode": "relative",
        "legend": {
         "tracegroupgap": 0
        },
        "template": {
         "data": {
          "bar": [
           {
            "error_x": {
             "color": "#2a3f5f"
            },
            "error_y": {
             "color": "#2a3f5f"
            },
            "marker": {
             "line": {
              "color": "#E5ECF6",
              "width": 0.5
             }
            },
            "type": "bar"
           }
          ],
          "barpolar": [
           {
            "marker": {
             "line": {
              "color": "#E5ECF6",
              "width": 0.5
             }
            },
            "type": "barpolar"
           }
          ],
          "carpet": [
           {
            "aaxis": {
             "endlinecolor": "#2a3f5f",
             "gridcolor": "white",
             "linecolor": "white",
             "minorgridcolor": "white",
             "startlinecolor": "#2a3f5f"
            },
            "baxis": {
             "endlinecolor": "#2a3f5f",
             "gridcolor": "white",
             "linecolor": "white",
             "minorgridcolor": "white",
             "startlinecolor": "#2a3f5f"
            },
            "type": "carpet"
           }
          ],
          "choropleth": [
           {
            "colorbar": {
             "outlinewidth": 0,
             "ticks": ""
            },
            "type": "choropleth"
           }
          ],
          "contour": [
           {
            "colorbar": {
             "outlinewidth": 0,
             "ticks": ""
            },
            "colorscale": [
             [
              0,
              "#0d0887"
             ],
             [
              0.1111111111111111,
              "#46039f"
             ],
             [
              0.2222222222222222,
              "#7201a8"
             ],
             [
              0.3333333333333333,
              "#9c179e"
             ],
             [
              0.4444444444444444,
              "#bd3786"
             ],
             [
              0.5555555555555556,
              "#d8576b"
             ],
             [
              0.6666666666666666,
              "#ed7953"
             ],
             [
              0.7777777777777778,
              "#fb9f3a"
             ],
             [
              0.8888888888888888,
              "#fdca26"
             ],
             [
              1,
              "#f0f921"
             ]
            ],
            "type": "contour"
           }
          ],
          "contourcarpet": [
           {
            "colorbar": {
             "outlinewidth": 0,
             "ticks": ""
            },
            "type": "contourcarpet"
           }
          ],
          "heatmap": [
           {
            "colorbar": {
             "outlinewidth": 0,
             "ticks": ""
            },
            "colorscale": [
             [
              0,
              "#0d0887"
             ],
             [
              0.1111111111111111,
              "#46039f"
             ],
             [
              0.2222222222222222,
              "#7201a8"
             ],
             [
              0.3333333333333333,
              "#9c179e"
             ],
             [
              0.4444444444444444,
              "#bd3786"
             ],
             [
              0.5555555555555556,
              "#d8576b"
             ],
             [
              0.6666666666666666,
              "#ed7953"
             ],
             [
              0.7777777777777778,
              "#fb9f3a"
             ],
             [
              0.8888888888888888,
              "#fdca26"
             ],
             [
              1,
              "#f0f921"
             ]
            ],
            "type": "heatmap"
           }
          ],
          "heatmapgl": [
           {
            "colorbar": {
             "outlinewidth": 0,
             "ticks": ""
            },
            "colorscale": [
             [
              0,
              "#0d0887"
             ],
             [
              0.1111111111111111,
              "#46039f"
             ],
             [
              0.2222222222222222,
              "#7201a8"
             ],
             [
              0.3333333333333333,
              "#9c179e"
             ],
             [
              0.4444444444444444,
              "#bd3786"
             ],
             [
              0.5555555555555556,
              "#d8576b"
             ],
             [
              0.6666666666666666,
              "#ed7953"
             ],
             [
              0.7777777777777778,
              "#fb9f3a"
             ],
             [
              0.8888888888888888,
              "#fdca26"
             ],
             [
              1,
              "#f0f921"
             ]
            ],
            "type": "heatmapgl"
           }
          ],
          "histogram": [
           {
            "marker": {
             "colorbar": {
              "outlinewidth": 0,
              "ticks": ""
             }
            },
            "type": "histogram"
           }
          ],
          "histogram2d": [
           {
            "colorbar": {
             "outlinewidth": 0,
             "ticks": ""
            },
            "colorscale": [
             [
              0,
              "#0d0887"
             ],
             [
              0.1111111111111111,
              "#46039f"
             ],
             [
              0.2222222222222222,
              "#7201a8"
             ],
             [
              0.3333333333333333,
              "#9c179e"
             ],
             [
              0.4444444444444444,
              "#bd3786"
             ],
             [
              0.5555555555555556,
              "#d8576b"
             ],
             [
              0.6666666666666666,
              "#ed7953"
             ],
             [
              0.7777777777777778,
              "#fb9f3a"
             ],
             [
              0.8888888888888888,
              "#fdca26"
             ],
             [
              1,
              "#f0f921"
             ]
            ],
            "type": "histogram2d"
           }
          ],
          "histogram2dcontour": [
           {
            "colorbar": {
             "outlinewidth": 0,
             "ticks": ""
            },
            "colorscale": [
             [
              0,
              "#0d0887"
             ],
             [
              0.1111111111111111,
              "#46039f"
             ],
             [
              0.2222222222222222,
              "#7201a8"
             ],
             [
              0.3333333333333333,
              "#9c179e"
             ],
             [
              0.4444444444444444,
              "#bd3786"
             ],
             [
              0.5555555555555556,
              "#d8576b"
             ],
             [
              0.6666666666666666,
              "#ed7953"
             ],
             [
              0.7777777777777778,
              "#fb9f3a"
             ],
             [
              0.8888888888888888,
              "#fdca26"
             ],
             [
              1,
              "#f0f921"
             ]
            ],
            "type": "histogram2dcontour"
           }
          ],
          "mesh3d": [
           {
            "colorbar": {
             "outlinewidth": 0,
             "ticks": ""
            },
            "type": "mesh3d"
           }
          ],
          "parcoords": [
           {
            "line": {
             "colorbar": {
              "outlinewidth": 0,
              "ticks": ""
             }
            },
            "type": "parcoords"
           }
          ],
          "pie": [
           {
            "automargin": true,
            "type": "pie"
           }
          ],
          "scatter": [
           {
            "marker": {
             "colorbar": {
              "outlinewidth": 0,
              "ticks": ""
             }
            },
            "type": "scatter"
           }
          ],
          "scatter3d": [
           {
            "line": {
             "colorbar": {
              "outlinewidth": 0,
              "ticks": ""
             }
            },
            "marker": {
             "colorbar": {
              "outlinewidth": 0,
              "ticks": ""
             }
            },
            "type": "scatter3d"
           }
          ],
          "scattercarpet": [
           {
            "marker": {
             "colorbar": {
              "outlinewidth": 0,
              "ticks": ""
             }
            },
            "type": "scattercarpet"
           }
          ],
          "scattergeo": [
           {
            "marker": {
             "colorbar": {
              "outlinewidth": 0,
              "ticks": ""
             }
            },
            "type": "scattergeo"
           }
          ],
          "scattergl": [
           {
            "marker": {
             "colorbar": {
              "outlinewidth": 0,
              "ticks": ""
             }
            },
            "type": "scattergl"
           }
          ],
          "scattermapbox": [
           {
            "marker": {
             "colorbar": {
              "outlinewidth": 0,
              "ticks": ""
             }
            },
            "type": "scattermapbox"
           }
          ],
          "scatterpolar": [
           {
            "marker": {
             "colorbar": {
              "outlinewidth": 0,
              "ticks": ""
             }
            },
            "type": "scatterpolar"
           }
          ],
          "scatterpolargl": [
           {
            "marker": {
             "colorbar": {
              "outlinewidth": 0,
              "ticks": ""
             }
            },
            "type": "scatterpolargl"
           }
          ],
          "scatterternary": [
           {
            "marker": {
             "colorbar": {
              "outlinewidth": 0,
              "ticks": ""
             }
            },
            "type": "scatterternary"
           }
          ],
          "surface": [
           {
            "colorbar": {
             "outlinewidth": 0,
             "ticks": ""
            },
            "colorscale": [
             [
              0,
              "#0d0887"
             ],
             [
              0.1111111111111111,
              "#46039f"
             ],
             [
              0.2222222222222222,
              "#7201a8"
             ],
             [
              0.3333333333333333,
              "#9c179e"
             ],
             [
              0.4444444444444444,
              "#bd3786"
             ],
             [
              0.5555555555555556,
              "#d8576b"
             ],
             [
              0.6666666666666666,
              "#ed7953"
             ],
             [
              0.7777777777777778,
              "#fb9f3a"
             ],
             [
              0.8888888888888888,
              "#fdca26"
             ],
             [
              1,
              "#f0f921"
             ]
            ],
            "type": "surface"
           }
          ],
          "table": [
           {
            "cells": {
             "fill": {
              "color": "#EBF0F8"
             },
             "line": {
              "color": "white"
             }
            },
            "header": {
             "fill": {
              "color": "#C8D4E3"
             },
             "line": {
              "color": "white"
             }
            },
            "type": "table"
           }
          ]
         },
         "layout": {
          "annotationdefaults": {
           "arrowcolor": "#2a3f5f",
           "arrowhead": 0,
           "arrowwidth": 1
          },
          "autotypenumbers": "strict",
          "coloraxis": {
           "colorbar": {
            "outlinewidth": 0,
            "ticks": ""
           }
          },
          "colorscale": {
           "diverging": [
            [
             0,
             "#8e0152"
            ],
            [
             0.1,
             "#c51b7d"
            ],
            [
             0.2,
             "#de77ae"
            ],
            [
             0.3,
             "#f1b6da"
            ],
            [
             0.4,
             "#fde0ef"
            ],
            [
             0.5,
             "#f7f7f7"
            ],
            [
             0.6,
             "#e6f5d0"
            ],
            [
             0.7,
             "#b8e186"
            ],
            [
             0.8,
             "#7fbc41"
            ],
            [
             0.9,
             "#4d9221"
            ],
            [
             1,
             "#276419"
            ]
           ],
           "sequential": [
            [
             0,
             "#0d0887"
            ],
            [
             0.1111111111111111,
             "#46039f"
            ],
            [
             0.2222222222222222,
             "#7201a8"
            ],
            [
             0.3333333333333333,
             "#9c179e"
            ],
            [
             0.4444444444444444,
             "#bd3786"
            ],
            [
             0.5555555555555556,
             "#d8576b"
            ],
            [
             0.6666666666666666,
             "#ed7953"
            ],
            [
             0.7777777777777778,
             "#fb9f3a"
            ],
            [
             0.8888888888888888,
             "#fdca26"
            ],
            [
             1,
             "#f0f921"
            ]
           ],
           "sequentialminus": [
            [
             0,
             "#0d0887"
            ],
            [
             0.1111111111111111,
             "#46039f"
            ],
            [
             0.2222222222222222,
             "#7201a8"
            ],
            [
             0.3333333333333333,
             "#9c179e"
            ],
            [
             0.4444444444444444,
             "#bd3786"
            ],
            [
             0.5555555555555556,
             "#d8576b"
            ],
            [
             0.6666666666666666,
             "#ed7953"
            ],
            [
             0.7777777777777778,
             "#fb9f3a"
            ],
            [
             0.8888888888888888,
             "#fdca26"
            ],
            [
             1,
             "#f0f921"
            ]
           ]
          },
          "colorway": [
           "#636efa",
           "#EF553B",
           "#00cc96",
           "#ab63fa",
           "#FFA15A",
           "#19d3f3",
           "#FF6692",
           "#B6E880",
           "#FF97FF",
           "#FECB52"
          ],
          "font": {
           "color": "#2a3f5f"
          },
          "geo": {
           "bgcolor": "white",
           "lakecolor": "white",
           "landcolor": "#E5ECF6",
           "showlakes": true,
           "showland": true,
           "subunitcolor": "white"
          },
          "hoverlabel": {
           "align": "left"
          },
          "hovermode": "closest",
          "mapbox": {
           "style": "light"
          },
          "paper_bgcolor": "white",
          "plot_bgcolor": "#E5ECF6",
          "polar": {
           "angularaxis": {
            "gridcolor": "white",
            "linecolor": "white",
            "ticks": ""
           },
           "bgcolor": "#E5ECF6",
           "radialaxis": {
            "gridcolor": "white",
            "linecolor": "white",
            "ticks": ""
           }
          },
          "scene": {
           "xaxis": {
            "backgroundcolor": "#E5ECF6",
            "gridcolor": "white",
            "gridwidth": 2,
            "linecolor": "white",
            "showbackground": true,
            "ticks": "",
            "zerolinecolor": "white"
           },
           "yaxis": {
            "backgroundcolor": "#E5ECF6",
            "gridcolor": "white",
            "gridwidth": 2,
            "linecolor": "white",
            "showbackground": true,
            "ticks": "",
            "zerolinecolor": "white"
           },
           "zaxis": {
            "backgroundcolor": "#E5ECF6",
            "gridcolor": "white",
            "gridwidth": 2,
            "linecolor": "white",
            "showbackground": true,
            "ticks": "",
            "zerolinecolor": "white"
           }
          },
          "shapedefaults": {
           "line": {
            "color": "#2a3f5f"
           }
          },
          "ternary": {
           "aaxis": {
            "gridcolor": "white",
            "linecolor": "white",
            "ticks": ""
           },
           "baxis": {
            "gridcolor": "white",
            "linecolor": "white",
            "ticks": ""
           },
           "bgcolor": "#E5ECF6",
           "caxis": {
            "gridcolor": "white",
            "linecolor": "white",
            "ticks": ""
           }
          },
          "title": {
           "x": 0.05
          },
          "xaxis": {
           "automargin": true,
           "gridcolor": "white",
           "linecolor": "white",
           "ticks": "",
           "title": {
            "standoff": 15
           },
           "zerolinecolor": "white",
           "zerolinewidth": 2
          },
          "yaxis": {
           "automargin": true,
           "gridcolor": "white",
           "linecolor": "white",
           "ticks": "",
           "title": {
            "standoff": 15
           },
           "zerolinecolor": "white",
           "zerolinewidth": 2
          }
         }
        },
        "title": {
         "text": "Distribución de la raza de los acusados"
        },
        "xaxis": {
         "anchor": "y",
         "domain": [
          0,
          1
         ],
         "title": {
          "text": "defendant_race"
         }
        },
        "yaxis": {
         "anchor": "x",
         "domain": [
          0,
          1
         ],
         "title": {
          "text": "count"
         }
        }
       }
      }
     },
     "metadata": {},
     "output_type": "display_data"
    }
   ],
   "source": [
    "import plotly.express as px\n",
    "\n",
    "fig = px.histogram(data_trials, x=\"defendant_race\", title=\"Distribución de la raza de los acusados\", color_discrete_sequence=['#1f77b4'])\n",
    "fig.show()"
   ]
  },
  {
   "cell_type": "code",
   "execution_count": 244,
   "metadata": {},
   "outputs": [
    {
     "name": "stdout",
     "output_type": "stream",
     "text": [
      "<class 'pandas.core.frame.DataFrame'>\n",
      "RangeIndex: 305 entries, 0 to 304\n",
      "Data columns (total 38 columns):\n",
      " #   Column                       Non-Null Count  Dtype  \n",
      "---  ------                       --------------  -----  \n",
      " 0   id                           305 non-null    int64  \n",
      " 1   defendant_name               305 non-null    object \n",
      " 2   cause_number                 305 non-null    object \n",
      " 3   state_strikes                305 non-null    bool   \n",
      " 4   defense_strikes              305 non-null    bool   \n",
      " 5   county                       305 non-null    object \n",
      " 6   defendant_race               305 non-null    object \n",
      " 7   second_defendant_race        15 non-null     object \n",
      " 8   third_defendant_race         2 non-null      object \n",
      " 9   fourth_defendant_race        0 non-null      float64\n",
      " 10  more_than_four_defendants    305 non-null    bool   \n",
      " 11  judge                        305 non-null    object \n",
      " 12  prosecutor_1                 303 non-null    object \n",
      " 13  prosecutor_2                 189 non-null    object \n",
      " 14  prosecutor_3                 21 non-null     object \n",
      " 15  prosecutors_more_than_three  305 non-null    bool   \n",
      " 16  def_attny_1                  304 non-null    object \n",
      " 17  def_attny_2                  38 non-null     object \n",
      " 18  def_attny_3                  7 non-null      object \n",
      " 19  def_attnys_more_than_three   305 non-null    bool   \n",
      " 20  offense_code_1               305 non-null    object \n",
      " 21  offense_title_1              305 non-null    object \n",
      " 22  offense_code_2               124 non-null    object \n",
      " 23  offense_title_2              124 non-null    object \n",
      " 24  offense_code_3               53 non-null     object \n",
      " 25  offense_title_3              53 non-null     object \n",
      " 26  offense_code_4               21 non-null     object \n",
      " 27  offense_title_4              21 non-null     object \n",
      " 28  offense_code_5               8 non-null      object \n",
      " 29  offense_title_5              9 non-null      object \n",
      " 30  offense_code_6               3 non-null      object \n",
      " 31  offense_title_6              3 non-null      object \n",
      " 32  more_than_six                305 non-null    bool   \n",
      " 33  verdict                      305 non-null    object \n",
      " 34  case_appealed                305 non-null    bool   \n",
      " 35  batson_claim_by_defense      305 non-null    bool   \n",
      " 36  batson_claim_by_state        305 non-null    bool   \n",
      " 37  voir_dire_present            305 non-null    bool   \n",
      "dtypes: bool(10), float64(1), int64(1), object(26)\n",
      "memory usage: 69.8+ KB\n"
     ]
    }
   ],
   "source": [
    "data_trials.info()"
   ]
  },
  {
   "cell_type": "code",
   "execution_count": 245,
   "metadata": {},
   "outputs": [
    {
     "data": {
      "text/html": [
       "<div>\n",
       "<style scoped>\n",
       "    .dataframe tbody tr th:only-of-type {\n",
       "        vertical-align: middle;\n",
       "    }\n",
       "\n",
       "    .dataframe tbody tr th {\n",
       "        vertical-align: top;\n",
       "    }\n",
       "\n",
       "    .dataframe thead th {\n",
       "        text-align: right;\n",
       "    }\n",
       "</style>\n",
       "<table border=\"1\" class=\"dataframe\">\n",
       "  <thead>\n",
       "    <tr style=\"text-align: right;\">\n",
       "      <th></th>\n",
       "      <th>id</th>\n",
       "      <th>juror_id</th>\n",
       "      <th>juror_id__trial__id</th>\n",
       "      <th>no_responses</th>\n",
       "      <th>married</th>\n",
       "      <th>children</th>\n",
       "      <th>religious</th>\n",
       "      <th>education</th>\n",
       "      <th>leans_state</th>\n",
       "      <th>leans_defense</th>\n",
       "      <th>leans_ambi</th>\n",
       "      <th>moral_hardship</th>\n",
       "      <th>job_hardship</th>\n",
       "      <th>caretaker</th>\n",
       "      <th>communication</th>\n",
       "      <th>medical</th>\n",
       "      <th>employed</th>\n",
       "      <th>social</th>\n",
       "      <th>prior_jury</th>\n",
       "      <th>crime_victim</th>\n",
       "      <th>fam_crime_victim</th>\n",
       "      <th>accused</th>\n",
       "      <th>fam_accused</th>\n",
       "      <th>eyewitness</th>\n",
       "      <th>fam_eyewitness</th>\n",
       "      <th>military</th>\n",
       "      <th>law_enforcement</th>\n",
       "      <th>fam_law_enforcement</th>\n",
       "      <th>premature_verdict</th>\n",
       "      <th>premature_guilt</th>\n",
       "      <th>premature_innocence</th>\n",
       "      <th>def_race</th>\n",
       "      <th>vic_race</th>\n",
       "      <th>def_gender</th>\n",
       "      <th>vic_gender</th>\n",
       "      <th>def_social</th>\n",
       "      <th>vic_social</th>\n",
       "      <th>def_age</th>\n",
       "      <th>vic_age</th>\n",
       "      <th>def_sexpref</th>\n",
       "      <th>vic_sexpref</th>\n",
       "      <th>def_incarcerated</th>\n",
       "      <th>vic_incarcerated</th>\n",
       "      <th>beliefs</th>\n",
       "      <th>other_biases</th>\n",
       "      <th>innocence</th>\n",
       "      <th>take_stand</th>\n",
       "      <th>arrest_is_guilt</th>\n",
       "      <th>cant_decide</th>\n",
       "      <th>cant_affirm</th>\n",
       "      <th>cant_decide_evidence</th>\n",
       "      <th>cant_follow</th>\n",
       "      <th>know_def</th>\n",
       "      <th>know_vic</th>\n",
       "      <th>know_wit</th>\n",
       "      <th>know_attny</th>\n",
       "      <th>civil_plantiff</th>\n",
       "      <th>civil_def</th>\n",
       "      <th>civil_witness</th>\n",
       "      <th>witness_defense</th>\n",
       "      <th>witness_state</th>\n",
       "      <th>prior_info</th>\n",
       "      <th>death_hesitation</th>\n",
       "      <th>no_death</th>\n",
       "      <th>no_life</th>\n",
       "      <th>no_cops</th>\n",
       "      <th>yes_cops</th>\n",
       "      <th>legally_disqualified</th>\n",
       "      <th>witness_ambi</th>\n",
       "      <th>notes</th>\n",
       "    </tr>\n",
       "  </thead>\n",
       "  <tbody>\n",
       "    <tr>\n",
       "      <th>0</th>\n",
       "      <td>1521</td>\n",
       "      <td>107.0</td>\n",
       "      <td>3.0</td>\n",
       "      <td>False</td>\n",
       "      <td>unknown</td>\n",
       "      <td>unknown</td>\n",
       "      <td>unknown</td>\n",
       "      <td>unknown</td>\n",
       "      <td>False</td>\n",
       "      <td>False</td>\n",
       "      <td>False</td>\n",
       "      <td>False</td>\n",
       "      <td>False</td>\n",
       "      <td>False</td>\n",
       "      <td>False</td>\n",
       "      <td>False</td>\n",
       "      <td>False</td>\n",
       "      <td>False</td>\n",
       "      <td>False</td>\n",
       "      <td>False</td>\n",
       "      <td>False</td>\n",
       "      <td>False</td>\n",
       "      <td>False</td>\n",
       "      <td>False</td>\n",
       "      <td>False</td>\n",
       "      <td>False</td>\n",
       "      <td>False</td>\n",
       "      <td>False</td>\n",
       "      <td>False</td>\n",
       "      <td>False</td>\n",
       "      <td>False</td>\n",
       "      <td>False</td>\n",
       "      <td>False</td>\n",
       "      <td>False</td>\n",
       "      <td>False</td>\n",
       "      <td>False</td>\n",
       "      <td>False</td>\n",
       "      <td>False</td>\n",
       "      <td>False</td>\n",
       "      <td>False</td>\n",
       "      <td>False</td>\n",
       "      <td>False</td>\n",
       "      <td>False</td>\n",
       "      <td>False</td>\n",
       "      <td>False</td>\n",
       "      <td>False</td>\n",
       "      <td>False</td>\n",
       "      <td>False</td>\n",
       "      <td>False</td>\n",
       "      <td>False</td>\n",
       "      <td>False</td>\n",
       "      <td>False</td>\n",
       "      <td>False</td>\n",
       "      <td>False</td>\n",
       "      <td>False</td>\n",
       "      <td>True</td>\n",
       "      <td>False</td>\n",
       "      <td>False</td>\n",
       "      <td>False</td>\n",
       "      <td>False</td>\n",
       "      <td>False</td>\n",
       "      <td>False</td>\n",
       "      <td>False</td>\n",
       "      <td>False</td>\n",
       "      <td>False</td>\n",
       "      <td>False</td>\n",
       "      <td>False</td>\n",
       "      <td>False</td>\n",
       "      <td>False</td>\n",
       "      <td>NaN</td>\n",
       "    </tr>\n",
       "  </tbody>\n",
       "</table>\n",
       "</div>"
      ],
      "text/plain": [
       "     id  juror_id  juror_id__trial__id  no_responses  married children  \\\n",
       "0  1521     107.0                  3.0         False  unknown  unknown   \n",
       "\n",
       "  religious education  leans_state  leans_defense  leans_ambi  moral_hardship  \\\n",
       "0   unknown   unknown        False          False       False           False   \n",
       "\n",
       "   job_hardship  caretaker  communication  medical  employed  social  \\\n",
       "0         False      False          False    False     False   False   \n",
       "\n",
       "   prior_jury  crime_victim  fam_crime_victim  accused  fam_accused  \\\n",
       "0       False         False             False    False        False   \n",
       "\n",
       "   eyewitness  fam_eyewitness  military  law_enforcement  fam_law_enforcement  \\\n",
       "0       False           False     False            False                False   \n",
       "\n",
       "   premature_verdict  premature_guilt  premature_innocence  def_race  \\\n",
       "0              False            False                False     False   \n",
       "\n",
       "   vic_race  def_gender  vic_gender  def_social  vic_social  def_age  vic_age  \\\n",
       "0     False       False       False       False       False    False    False   \n",
       "\n",
       "   def_sexpref  vic_sexpref  def_incarcerated  vic_incarcerated  beliefs  \\\n",
       "0        False        False             False             False    False   \n",
       "\n",
       "   other_biases  innocence  take_stand  arrest_is_guilt  cant_decide  \\\n",
       "0         False      False       False            False        False   \n",
       "\n",
       "   cant_affirm  cant_decide_evidence  cant_follow  know_def  know_vic  \\\n",
       "0        False                 False        False     False     False   \n",
       "\n",
       "   know_wit  know_attny  civil_plantiff  civil_def  civil_witness  \\\n",
       "0     False        True           False      False          False   \n",
       "\n",
       "   witness_defense  witness_state  prior_info  death_hesitation  no_death  \\\n",
       "0            False          False       False             False     False   \n",
       "\n",
       "   no_life  no_cops  yes_cops  legally_disqualified  witness_ambi notes  \n",
       "0    False    False     False                 False         False   NaN  "
      ]
     },
     "execution_count": 245,
     "metadata": {},
     "output_type": "execute_result"
    }
   ],
   "source": [
    "data_voir_dire_answers = pd.read_csv(\"voir_dire_answers.csv\")\n",
    "data_voir_dire_answers.head(1)"
   ]
  },
  {
   "cell_type": "code",
   "execution_count": 246,
   "metadata": {},
   "outputs": [
    {
     "name": "stdout",
     "output_type": "stream",
     "text": [
      "<class 'pandas.core.frame.DataFrame'>\n",
      "RangeIndex: 3546 entries, 0 to 3545\n",
      "Data columns (total 70 columns):\n",
      " #   Column                Non-Null Count  Dtype  \n",
      "---  ------                --------------  -----  \n",
      " 0   id                    3546 non-null   int64  \n",
      " 1   juror_id              3545 non-null   float64\n",
      " 2   juror_id__trial__id   3545 non-null   float64\n",
      " 3   no_responses          3546 non-null   bool   \n",
      " 4   married               3546 non-null   object \n",
      " 5   children              3546 non-null   object \n",
      " 6   religious             3546 non-null   object \n",
      " 7   education             3546 non-null   object \n",
      " 8   leans_state           3546 non-null   bool   \n",
      " 9   leans_defense         3546 non-null   bool   \n",
      " 10  leans_ambi            3546 non-null   bool   \n",
      " 11  moral_hardship        3546 non-null   bool   \n",
      " 12  job_hardship          3546 non-null   bool   \n",
      " 13  caretaker             3546 non-null   bool   \n",
      " 14  communication         3546 non-null   bool   \n",
      " 15  medical               3546 non-null   bool   \n",
      " 16  employed              3546 non-null   bool   \n",
      " 17  social                3546 non-null   bool   \n",
      " 18  prior_jury            3546 non-null   bool   \n",
      " 19  crime_victim          3546 non-null   bool   \n",
      " 20  fam_crime_victim      3546 non-null   bool   \n",
      " 21  accused               3546 non-null   bool   \n",
      " 22  fam_accused           3546 non-null   bool   \n",
      " 23  eyewitness            3546 non-null   bool   \n",
      " 24  fam_eyewitness        3546 non-null   bool   \n",
      " 25  military              3546 non-null   bool   \n",
      " 26  law_enforcement       3546 non-null   bool   \n",
      " 27  fam_law_enforcement   3546 non-null   bool   \n",
      " 28  premature_verdict     3546 non-null   bool   \n",
      " 29  premature_guilt       3546 non-null   bool   \n",
      " 30  premature_innocence   3546 non-null   bool   \n",
      " 31  def_race              3546 non-null   bool   \n",
      " 32  vic_race              3546 non-null   bool   \n",
      " 33  def_gender            3546 non-null   bool   \n",
      " 34  vic_gender            3546 non-null   bool   \n",
      " 35  def_social            3546 non-null   bool   \n",
      " 36  vic_social            3546 non-null   bool   \n",
      " 37  def_age               3546 non-null   bool   \n",
      " 38  vic_age               3546 non-null   bool   \n",
      " 39  def_sexpref           3546 non-null   bool   \n",
      " 40  vic_sexpref           3546 non-null   bool   \n",
      " 41  def_incarcerated      3546 non-null   bool   \n",
      " 42  vic_incarcerated      3546 non-null   bool   \n",
      " 43  beliefs               3546 non-null   bool   \n",
      " 44  other_biases          3546 non-null   bool   \n",
      " 45  innocence             3546 non-null   bool   \n",
      " 46  take_stand            3546 non-null   bool   \n",
      " 47  arrest_is_guilt       3546 non-null   bool   \n",
      " 48  cant_decide           3546 non-null   bool   \n",
      " 49  cant_affirm           3546 non-null   bool   \n",
      " 50  cant_decide_evidence  3546 non-null   bool   \n",
      " 51  cant_follow           3546 non-null   bool   \n",
      " 52  know_def              3546 non-null   bool   \n",
      " 53  know_vic              3546 non-null   bool   \n",
      " 54  know_wit              3546 non-null   bool   \n",
      " 55  know_attny            3546 non-null   bool   \n",
      " 56  civil_plantiff        3546 non-null   bool   \n",
      " 57  civil_def             3546 non-null   bool   \n",
      " 58  civil_witness         3546 non-null   bool   \n",
      " 59  witness_defense       3546 non-null   bool   \n",
      " 60  witness_state         3546 non-null   bool   \n",
      " 61  prior_info            3546 non-null   bool   \n",
      " 62  death_hesitation      3546 non-null   bool   \n",
      " 63  no_death              3546 non-null   bool   \n",
      " 64  no_life               3546 non-null   bool   \n",
      " 65  no_cops               3546 non-null   bool   \n",
      " 66  yes_cops              3546 non-null   bool   \n",
      " 67  legally_disqualified  3546 non-null   bool   \n",
      " 68  witness_ambi          3546 non-null   bool   \n",
      " 69  notes                 150 non-null    object \n",
      "dtypes: bool(62), float64(2), int64(1), object(5)\n",
      "memory usage: 436.4+ KB\n"
     ]
    }
   ],
   "source": [
    "data_voir_dire_answers.info()"
   ]
  },
  {
   "cell_type": "code",
   "execution_count": 293,
   "metadata": {},
   "outputs": [
    {
     "name": "stdout",
     "output_type": "stream",
     "text": [
      "(14874, 47)\n"
     ]
    }
   ],
   "source": [
    "#unión jueces con juicios\n",
    "\n",
    "merged_jurors_trials = pd.merge(data_jurors, data_trials, left_on='trial__id', right_on='id')\n",
    "print(merged_jurors_trials.shape)"
   ]
  },
  {
   "cell_type": "code",
   "execution_count": 294,
   "metadata": {},
   "outputs": [
    {
     "data": {
      "text/plain": [
       "Index(['id_x', 'trial', 'trial__id', 'race', 'gender', 'race_source',\n",
       "       'gender_source', 'struck_by', 'strike_eligibility', 'id_y',\n",
       "       'defendant_name', 'cause_number', 'state_strikes', 'defense_strikes',\n",
       "       'county', 'defendant_race', 'second_defendant_race',\n",
       "       'third_defendant_race', 'fourth_defendant_race',\n",
       "       'more_than_four_defendants', 'judge', 'prosecutor_1', 'prosecutor_2',\n",
       "       'prosecutor_3', 'prosecutors_more_than_three', 'def_attny_1',\n",
       "       'def_attny_2', 'def_attny_3', 'def_attnys_more_than_three',\n",
       "       'offense_code_1', 'offense_title_1', 'offense_code_2',\n",
       "       'offense_title_2', 'offense_code_3', 'offense_title_3',\n",
       "       'offense_code_4', 'offense_title_4', 'offense_code_5',\n",
       "       'offense_title_5', 'offense_code_6', 'offense_title_6', 'more_than_six',\n",
       "       'verdict', 'case_appealed', 'batson_claim_by_defense',\n",
       "       'batson_claim_by_state', 'voir_dire_present'],\n",
       "      dtype='object')"
      ]
     },
     "execution_count": 294,
     "metadata": {},
     "output_type": "execute_result"
    }
   ],
   "source": [
    "merged_jurors_trials.columns"
   ]
  },
  {
   "cell_type": "code",
   "execution_count": 295,
   "metadata": {},
   "outputs": [
    {
     "name": "stdout",
     "output_type": "stream",
     "text": [
      "Jurados: Index(['id', 'trial', 'trial__id', 'race', 'gender', 'race_source',\n",
      "       'gender_source', 'struck_by', 'strike_eligibility'],\n",
      "      dtype='object')\n",
      "Juicios: Index(['id', 'defendant_name', 'cause_number', 'state_strikes',\n",
      "       'defense_strikes', 'county', 'defendant_race', 'second_defendant_race',\n",
      "       'third_defendant_race', 'fourth_defendant_race',\n",
      "       'more_than_four_defendants', 'judge', 'prosecutor_1', 'prosecutor_2',\n",
      "       'prosecutor_3', 'prosecutors_more_than_three', 'def_attny_1',\n",
      "       'def_attny_2', 'def_attny_3', 'def_attnys_more_than_three',\n",
      "       'offense_code_1', 'offense_title_1', 'offense_code_2',\n",
      "       'offense_title_2', 'offense_code_3', 'offense_title_3',\n",
      "       'offense_code_4', 'offense_title_4', 'offense_code_5',\n",
      "       'offense_title_5', 'offense_code_6', 'offense_title_6', 'more_than_six',\n",
      "       'verdict', 'case_appealed', 'batson_claim_by_defense',\n",
      "       'batson_claim_by_state', 'voir_dire_present'],\n",
      "      dtype='object')\n",
      "Encuesta: Index(['id', 'juror_id', 'juror_id__trial__id', 'no_responses', 'married',\n",
      "       'children', 'religious', 'education', 'leans_state', 'leans_defense',\n",
      "       'leans_ambi', 'moral_hardship', 'job_hardship', 'caretaker',\n",
      "       'communication', 'medical', 'employed', 'social', 'prior_jury',\n",
      "       'crime_victim', 'fam_crime_victim', 'accused', 'fam_accused',\n",
      "       'eyewitness', 'fam_eyewitness', 'military', 'law_enforcement',\n",
      "       'fam_law_enforcement', 'premature_verdict', 'premature_guilt',\n",
      "       'premature_innocence', 'def_race', 'vic_race', 'def_gender',\n",
      "       'vic_gender', 'def_social', 'vic_social', 'def_age', 'vic_age',\n",
      "       'def_sexpref', 'vic_sexpref', 'def_incarcerated', 'vic_incarcerated',\n",
      "       'beliefs', 'other_biases', 'innocence', 'take_stand', 'arrest_is_guilt',\n",
      "       'cant_decide', 'cant_affirm', 'cant_decide_evidence', 'cant_follow',\n",
      "       'know_def', 'know_vic', 'know_wit', 'know_attny', 'civil_plantiff',\n",
      "       'civil_def', 'civil_witness', 'witness_defense', 'witness_state',\n",
      "       'prior_info', 'death_hesitation', 'no_death', 'no_life', 'no_cops',\n",
      "       'yes_cops', 'legally_disqualified', 'witness_ambi', 'notes'],\n",
      "      dtype='object')\n"
     ]
    }
   ],
   "source": [
    "print(f'Jurados:',data_jurors.columns)\n",
    "print(f'Juicios:',data_trials.columns)\n",
    "print(f'Encuesta:',data_voir_dire_answers.columns)"
   ]
  },
  {
   "cell_type": "code",
   "execution_count": 251,
   "metadata": {},
   "outputs": [
    {
     "data": {
      "text/plain": [
       "{'id'}"
      ]
     },
     "execution_count": 251,
     "metadata": {},
     "output_type": "execute_result"
    }
   ],
   "source": [
    "# busqueda de columnas en comun\n",
    "common_cols = set(data_jurors.columns).intersection(set(data_trials.columns)).intersection(set(data_voir_dire_answers.columns))\n",
    "common_cols"
   ]
  },
  {
   "cell_type": "code",
   "execution_count": 252,
   "metadata": {},
   "outputs": [
    {
     "data": {
      "image/png": "[encoded data removed]",
      "text/plain": [
       "<Figure size 640x480 with 1 Axes>"
      ]
     },
     "metadata": {},
     "output_type": "display_data"
    }
   ],
   "source": [
    "import networkx as nx\n",
    "\n",
    "# Crear el grafo\n",
    "G = nx.Graph()\n",
    "\n",
    "# Agregar nodos (tablas)\n",
    "G.add_node('Jurors')\n",
    "G.add_node('Trials')\n",
    "G.add_node('Survey')\n",
    "\n",
    "# Agregar conexiones (columnas)\n",
    "G.add_edge('Jurors', 'Trials', column='trial__id')\n",
    "G.add_edge('Survey', 'Jurors', column='juror_id')\n",
    "\n",
    "# Dibujar el grafo\n",
    "pos = nx.spring_layout(G)\n",
    "nx.draw(G, pos, with_labels=True)\n",
    "\n",
    "# Agregar etiquetas a las conexiones (columnas)\n",
    "labels = {('Jurors', 'Trials'): 'trial__id', ('Survey', 'Jurors'): 'juror_id'}\n",
    "nx.draw_networkx_edge_labels(G, pos, edge_labels=labels)\n",
    "\n",
    "plt.show()\n"
   ]
  },
  {
   "attachments": {},
   "cell_type": "markdown",
   "metadata": {},
   "source": [
    "-id_x ---> id jurado\n",
    "\n",
    "-id_y ---> id juicio\n",
    "\n",
    "-id ---> id cuestionario"
   ]
  },
  {
   "cell_type": "code",
   "execution_count": 296,
   "metadata": {},
   "outputs": [
    {
     "name": "stdout",
     "output_type": "stream",
     "text": [
      "(3545, 117)\n"
     ]
    },
    {
     "data": {
      "text/html": [
       "<div>\n",
       "<style scoped>\n",
       "    .dataframe tbody tr th:only-of-type {\n",
       "        vertical-align: middle;\n",
       "    }\n",
       "\n",
       "    .dataframe tbody tr th {\n",
       "        vertical-align: top;\n",
       "    }\n",
       "\n",
       "    .dataframe thead th {\n",
       "        text-align: right;\n",
       "    }\n",
       "</style>\n",
       "<table border=\"1\" class=\"dataframe\">\n",
       "  <thead>\n",
       "    <tr style=\"text-align: right;\">\n",
       "      <th></th>\n",
       "      <th>id_x</th>\n",
       "      <th>trial</th>\n",
       "      <th>trial__id</th>\n",
       "      <th>race</th>\n",
       "      <th>gender</th>\n",
       "      <th>race_source</th>\n",
       "      <th>gender_source</th>\n",
       "      <th>struck_by</th>\n",
       "      <th>strike_eligibility</th>\n",
       "      <th>id_y</th>\n",
       "      <th>defendant_name</th>\n",
       "      <th>cause_number</th>\n",
       "      <th>state_strikes</th>\n",
       "      <th>defense_strikes</th>\n",
       "      <th>county</th>\n",
       "      <th>defendant_race</th>\n",
       "      <th>second_defendant_race</th>\n",
       "      <th>third_defendant_race</th>\n",
       "      <th>fourth_defendant_race</th>\n",
       "      <th>more_than_four_defendants</th>\n",
       "      <th>judge</th>\n",
       "      <th>prosecutor_1</th>\n",
       "      <th>prosecutor_2</th>\n",
       "      <th>prosecutor_3</th>\n",
       "      <th>prosecutors_more_than_three</th>\n",
       "      <th>def_attny_1</th>\n",
       "      <th>def_attny_2</th>\n",
       "      <th>def_attny_3</th>\n",
       "      <th>def_attnys_more_than_three</th>\n",
       "      <th>offense_code_1</th>\n",
       "      <th>offense_title_1</th>\n",
       "      <th>offense_code_2</th>\n",
       "      <th>offense_title_2</th>\n",
       "      <th>offense_code_3</th>\n",
       "      <th>offense_title_3</th>\n",
       "      <th>offense_code_4</th>\n",
       "      <th>offense_title_4</th>\n",
       "      <th>offense_code_5</th>\n",
       "      <th>offense_title_5</th>\n",
       "      <th>offense_code_6</th>\n",
       "      <th>offense_title_6</th>\n",
       "      <th>more_than_six</th>\n",
       "      <th>verdict</th>\n",
       "      <th>case_appealed</th>\n",
       "      <th>batson_claim_by_defense</th>\n",
       "      <th>batson_claim_by_state</th>\n",
       "      <th>voir_dire_present</th>\n",
       "      <th>id</th>\n",
       "      <th>juror_id</th>\n",
       "      <th>juror_id__trial__id</th>\n",
       "      <th>no_responses</th>\n",
       "      <th>married</th>\n",
       "      <th>children</th>\n",
       "      <th>religious</th>\n",
       "      <th>education</th>\n",
       "      <th>leans_state</th>\n",
       "      <th>leans_defense</th>\n",
       "      <th>leans_ambi</th>\n",
       "      <th>moral_hardship</th>\n",
       "      <th>job_hardship</th>\n",
       "      <th>caretaker</th>\n",
       "      <th>communication</th>\n",
       "      <th>medical</th>\n",
       "      <th>employed</th>\n",
       "      <th>social</th>\n",
       "      <th>prior_jury</th>\n",
       "      <th>crime_victim</th>\n",
       "      <th>fam_crime_victim</th>\n",
       "      <th>accused</th>\n",
       "      <th>fam_accused</th>\n",
       "      <th>eyewitness</th>\n",
       "      <th>fam_eyewitness</th>\n",
       "      <th>military</th>\n",
       "      <th>law_enforcement</th>\n",
       "      <th>fam_law_enforcement</th>\n",
       "      <th>premature_verdict</th>\n",
       "      <th>premature_guilt</th>\n",
       "      <th>premature_innocence</th>\n",
       "      <th>def_race</th>\n",
       "      <th>vic_race</th>\n",
       "      <th>def_gender</th>\n",
       "      <th>vic_gender</th>\n",
       "      <th>def_social</th>\n",
       "      <th>vic_social</th>\n",
       "      <th>def_age</th>\n",
       "      <th>vic_age</th>\n",
       "      <th>def_sexpref</th>\n",
       "      <th>vic_sexpref</th>\n",
       "      <th>def_incarcerated</th>\n",
       "      <th>vic_incarcerated</th>\n",
       "      <th>beliefs</th>\n",
       "      <th>other_biases</th>\n",
       "      <th>innocence</th>\n",
       "      <th>take_stand</th>\n",
       "      <th>arrest_is_guilt</th>\n",
       "      <th>cant_decide</th>\n",
       "      <th>cant_affirm</th>\n",
       "      <th>cant_decide_evidence</th>\n",
       "      <th>cant_follow</th>\n",
       "      <th>know_def</th>\n",
       "      <th>know_vic</th>\n",
       "      <th>know_wit</th>\n",
       "      <th>know_attny</th>\n",
       "      <th>civil_plantiff</th>\n",
       "      <th>civil_def</th>\n",
       "      <th>civil_witness</th>\n",
       "      <th>witness_defense</th>\n",
       "      <th>witness_state</th>\n",
       "      <th>prior_info</th>\n",
       "      <th>death_hesitation</th>\n",
       "      <th>no_death</th>\n",
       "      <th>no_life</th>\n",
       "      <th>no_cops</th>\n",
       "      <th>yes_cops</th>\n",
       "      <th>legally_disqualified</th>\n",
       "      <th>witness_ambi</th>\n",
       "      <th>notes</th>\n",
       "    </tr>\n",
       "  </thead>\n",
       "  <tbody>\n",
       "    <tr>\n",
       "      <th>0</th>\n",
       "      <td>1</td>\n",
       "      <td>1993-9826--Terry L. Landingham</td>\n",
       "      <td>1</td>\n",
       "      <td>White</td>\n",
       "      <td>Female</td>\n",
       "      <td>Jury strike sheet</td>\n",
       "      <td>Jury strike sheet</td>\n",
       "      <td>Juror chosen to serve on jury</td>\n",
       "      <td>Both State and Defense</td>\n",
       "      <td>1</td>\n",
       "      <td>Terry L. Landingham</td>\n",
       "      <td>1993-9826</td>\n",
       "      <td>False</td>\n",
       "      <td>False</td>\n",
       "      <td>Attala</td>\n",
       "      <td>Black</td>\n",
       "      <td>NaN</td>\n",
       "      <td>NaN</td>\n",
       "      <td>NaN</td>\n",
       "      <td>False</td>\n",
       "      <td>Joseph Loper, Jr</td>\n",
       "      <td>Kevin Horan</td>\n",
       "      <td>NaN</td>\n",
       "      <td>NaN</td>\n",
       "      <td>False</td>\n",
       "      <td>James H. Powell, III</td>\n",
       "      <td>NaN</td>\n",
       "      <td>NaN</td>\n",
       "      <td>False</td>\n",
       "      <td>97-3-7(2)(b)</td>\n",
       "      <td>Aggravated Assault</td>\n",
       "      <td>NaN</td>\n",
       "      <td>NaN</td>\n",
       "      <td>NaN</td>\n",
       "      <td>NaN</td>\n",
       "      <td>NaN</td>\n",
       "      <td>NaN</td>\n",
       "      <td>NaN</td>\n",
       "      <td>NaN</td>\n",
       "      <td>NaN</td>\n",
       "      <td>NaN</td>\n",
       "      <td>False</td>\n",
       "      <td>Guilty on at least one offense</td>\n",
       "      <td>True</td>\n",
       "      <td>False</td>\n",
       "      <td>False</td>\n",
       "      <td>True</td>\n",
       "      <td>1</td>\n",
       "      <td>1.0</td>\n",
       "      <td>1.0</td>\n",
       "      <td>False</td>\n",
       "      <td>FALSE</td>\n",
       "      <td>FALSE</td>\n",
       "      <td>unknown</td>\n",
       "      <td>unknown</td>\n",
       "      <td>False</td>\n",
       "      <td>False</td>\n",
       "      <td>False</td>\n",
       "      <td>False</td>\n",
       "      <td>False</td>\n",
       "      <td>False</td>\n",
       "      <td>False</td>\n",
       "      <td>False</td>\n",
       "      <td>False</td>\n",
       "      <td>False</td>\n",
       "      <td>False</td>\n",
       "      <td>True</td>\n",
       "      <td>False</td>\n",
       "      <td>False</td>\n",
       "      <td>False</td>\n",
       "      <td>False</td>\n",
       "      <td>False</td>\n",
       "      <td>False</td>\n",
       "      <td>False</td>\n",
       "      <td>False</td>\n",
       "      <td>False</td>\n",
       "      <td>False</td>\n",
       "      <td>False</td>\n",
       "      <td>False</td>\n",
       "      <td>False</td>\n",
       "      <td>False</td>\n",
       "      <td>False</td>\n",
       "      <td>False</td>\n",
       "      <td>False</td>\n",
       "      <td>False</td>\n",
       "      <td>False</td>\n",
       "      <td>False</td>\n",
       "      <td>False</td>\n",
       "      <td>False</td>\n",
       "      <td>False</td>\n",
       "      <td>False</td>\n",
       "      <td>False</td>\n",
       "      <td>False</td>\n",
       "      <td>False</td>\n",
       "      <td>False</td>\n",
       "      <td>False</td>\n",
       "      <td>False</td>\n",
       "      <td>False</td>\n",
       "      <td>False</td>\n",
       "      <td>False</td>\n",
       "      <td>False</td>\n",
       "      <td>False</td>\n",
       "      <td>False</td>\n",
       "      <td>False</td>\n",
       "      <td>False</td>\n",
       "      <td>False</td>\n",
       "      <td>False</td>\n",
       "      <td>False</td>\n",
       "      <td>False</td>\n",
       "      <td>False</td>\n",
       "      <td>False</td>\n",
       "      <td>False</td>\n",
       "      <td>False</td>\n",
       "      <td>False</td>\n",
       "      <td>False</td>\n",
       "      <td>False</td>\n",
       "      <td>NaN</td>\n",
       "    </tr>\n",
       "    <tr>\n",
       "      <th>1</th>\n",
       "      <td>4</td>\n",
       "      <td>1993-9826--Terry L. Landingham</td>\n",
       "      <td>1</td>\n",
       "      <td>White</td>\n",
       "      <td>Female</td>\n",
       "      <td>Jury strike sheet</td>\n",
       "      <td>Jury strike sheet</td>\n",
       "      <td>Juror chosen to serve on jury</td>\n",
       "      <td>Both State and Defense</td>\n",
       "      <td>1</td>\n",
       "      <td>Terry L. Landingham</td>\n",
       "      <td>1993-9826</td>\n",
       "      <td>False</td>\n",
       "      <td>False</td>\n",
       "      <td>Attala</td>\n",
       "      <td>Black</td>\n",
       "      <td>NaN</td>\n",
       "      <td>NaN</td>\n",
       "      <td>NaN</td>\n",
       "      <td>False</td>\n",
       "      <td>Joseph Loper, Jr</td>\n",
       "      <td>Kevin Horan</td>\n",
       "      <td>NaN</td>\n",
       "      <td>NaN</td>\n",
       "      <td>False</td>\n",
       "      <td>James H. Powell, III</td>\n",
       "      <td>NaN</td>\n",
       "      <td>NaN</td>\n",
       "      <td>False</td>\n",
       "      <td>97-3-7(2)(b)</td>\n",
       "      <td>Aggravated Assault</td>\n",
       "      <td>NaN</td>\n",
       "      <td>NaN</td>\n",
       "      <td>NaN</td>\n",
       "      <td>NaN</td>\n",
       "      <td>NaN</td>\n",
       "      <td>NaN</td>\n",
       "      <td>NaN</td>\n",
       "      <td>NaN</td>\n",
       "      <td>NaN</td>\n",
       "      <td>NaN</td>\n",
       "      <td>False</td>\n",
       "      <td>Guilty on at least one offense</td>\n",
       "      <td>True</td>\n",
       "      <td>False</td>\n",
       "      <td>False</td>\n",
       "      <td>True</td>\n",
       "      <td>3</td>\n",
       "      <td>4.0</td>\n",
       "      <td>1.0</td>\n",
       "      <td>False</td>\n",
       "      <td>FALSE</td>\n",
       "      <td>FALSE</td>\n",
       "      <td>unknown</td>\n",
       "      <td>unknown</td>\n",
       "      <td>False</td>\n",
       "      <td>False</td>\n",
       "      <td>False</td>\n",
       "      <td>False</td>\n",
       "      <td>False</td>\n",
       "      <td>False</td>\n",
       "      <td>False</td>\n",
       "      <td>False</td>\n",
       "      <td>False</td>\n",
       "      <td>False</td>\n",
       "      <td>True</td>\n",
       "      <td>False</td>\n",
       "      <td>False</td>\n",
       "      <td>False</td>\n",
       "      <td>False</td>\n",
       "      <td>False</td>\n",
       "      <td>False</td>\n",
       "      <td>False</td>\n",
       "      <td>False</td>\n",
       "      <td>False</td>\n",
       "      <td>False</td>\n",
       "      <td>False</td>\n",
       "      <td>False</td>\n",
       "      <td>False</td>\n",
       "      <td>False</td>\n",
       "      <td>False</td>\n",
       "      <td>False</td>\n",
       "      <td>False</td>\n",
       "      <td>False</td>\n",
       "      <td>False</td>\n",
       "      <td>False</td>\n",
       "      <td>False</td>\n",
       "      <td>False</td>\n",
       "      <td>False</td>\n",
       "      <td>False</td>\n",
       "      <td>False</td>\n",
       "      <td>False</td>\n",
       "      <td>False</td>\n",
       "      <td>False</td>\n",
       "      <td>False</td>\n",
       "      <td>False</td>\n",
       "      <td>False</td>\n",
       "      <td>False</td>\n",
       "      <td>False</td>\n",
       "      <td>False</td>\n",
       "      <td>False</td>\n",
       "      <td>False</td>\n",
       "      <td>False</td>\n",
       "      <td>False</td>\n",
       "      <td>False</td>\n",
       "      <td>False</td>\n",
       "      <td>False</td>\n",
       "      <td>False</td>\n",
       "      <td>False</td>\n",
       "      <td>False</td>\n",
       "      <td>False</td>\n",
       "      <td>False</td>\n",
       "      <td>False</td>\n",
       "      <td>False</td>\n",
       "      <td>False</td>\n",
       "      <td>False</td>\n",
       "      <td>NaN</td>\n",
       "    </tr>\n",
       "    <tr>\n",
       "      <th>2</th>\n",
       "      <td>6</td>\n",
       "      <td>1993-9826--Terry L. Landingham</td>\n",
       "      <td>1</td>\n",
       "      <td>White</td>\n",
       "      <td>Male</td>\n",
       "      <td>Jury strike sheet</td>\n",
       "      <td>Jury strike sheet</td>\n",
       "      <td>Juror chosen to serve on jury</td>\n",
       "      <td>Both State and Defense</td>\n",
       "      <td>1</td>\n",
       "      <td>Terry L. Landingham</td>\n",
       "      <td>1993-9826</td>\n",
       "      <td>False</td>\n",
       "      <td>False</td>\n",
       "      <td>Attala</td>\n",
       "      <td>Black</td>\n",
       "      <td>NaN</td>\n",
       "      <td>NaN</td>\n",
       "      <td>NaN</td>\n",
       "      <td>False</td>\n",
       "      <td>Joseph Loper, Jr</td>\n",
       "      <td>Kevin Horan</td>\n",
       "      <td>NaN</td>\n",
       "      <td>NaN</td>\n",
       "      <td>False</td>\n",
       "      <td>James H. Powell, III</td>\n",
       "      <td>NaN</td>\n",
       "      <td>NaN</td>\n",
       "      <td>False</td>\n",
       "      <td>97-3-7(2)(b)</td>\n",
       "      <td>Aggravated Assault</td>\n",
       "      <td>NaN</td>\n",
       "      <td>NaN</td>\n",
       "      <td>NaN</td>\n",
       "      <td>NaN</td>\n",
       "      <td>NaN</td>\n",
       "      <td>NaN</td>\n",
       "      <td>NaN</td>\n",
       "      <td>NaN</td>\n",
       "      <td>NaN</td>\n",
       "      <td>NaN</td>\n",
       "      <td>False</td>\n",
       "      <td>Guilty on at least one offense</td>\n",
       "      <td>True</td>\n",
       "      <td>False</td>\n",
       "      <td>False</td>\n",
       "      <td>True</td>\n",
       "      <td>8</td>\n",
       "      <td>6.0</td>\n",
       "      <td>1.0</td>\n",
       "      <td>True</td>\n",
       "      <td>FALSE</td>\n",
       "      <td>FALSE</td>\n",
       "      <td>unknown</td>\n",
       "      <td>unknown</td>\n",
       "      <td>False</td>\n",
       "      <td>False</td>\n",
       "      <td>False</td>\n",
       "      <td>False</td>\n",
       "      <td>False</td>\n",
       "      <td>False</td>\n",
       "      <td>False</td>\n",
       "      <td>False</td>\n",
       "      <td>False</td>\n",
       "      <td>False</td>\n",
       "      <td>False</td>\n",
       "      <td>False</td>\n",
       "      <td>False</td>\n",
       "      <td>False</td>\n",
       "      <td>False</td>\n",
       "      <td>False</td>\n",
       "      <td>False</td>\n",
       "      <td>False</td>\n",
       "      <td>False</td>\n",
       "      <td>False</td>\n",
       "      <td>False</td>\n",
       "      <td>False</td>\n",
       "      <td>False</td>\n",
       "      <td>False</td>\n",
       "      <td>False</td>\n",
       "      <td>False</td>\n",
       "      <td>False</td>\n",
       "      <td>False</td>\n",
       "      <td>False</td>\n",
       "      <td>False</td>\n",
       "      <td>False</td>\n",
       "      <td>False</td>\n",
       "      <td>False</td>\n",
       "      <td>False</td>\n",
       "      <td>False</td>\n",
       "      <td>False</td>\n",
       "      <td>False</td>\n",
       "      <td>False</td>\n",
       "      <td>False</td>\n",
       "      <td>False</td>\n",
       "      <td>False</td>\n",
       "      <td>False</td>\n",
       "      <td>False</td>\n",
       "      <td>False</td>\n",
       "      <td>False</td>\n",
       "      <td>False</td>\n",
       "      <td>False</td>\n",
       "      <td>False</td>\n",
       "      <td>False</td>\n",
       "      <td>False</td>\n",
       "      <td>False</td>\n",
       "      <td>False</td>\n",
       "      <td>False</td>\n",
       "      <td>False</td>\n",
       "      <td>False</td>\n",
       "      <td>False</td>\n",
       "      <td>False</td>\n",
       "      <td>False</td>\n",
       "      <td>False</td>\n",
       "      <td>False</td>\n",
       "      <td>False</td>\n",
       "      <td>NaN</td>\n",
       "    </tr>\n",
       "    <tr>\n",
       "      <th>3</th>\n",
       "      <td>7</td>\n",
       "      <td>1993-9826--Terry L. Landingham</td>\n",
       "      <td>1</td>\n",
       "      <td>Black</td>\n",
       "      <td>Female</td>\n",
       "      <td>Jury strike sheet</td>\n",
       "      <td>Jury strike sheet</td>\n",
       "      <td>Juror chosen to serve on jury</td>\n",
       "      <td>Both State and Defense</td>\n",
       "      <td>1</td>\n",
       "      <td>Terry L. Landingham</td>\n",
       "      <td>1993-9826</td>\n",
       "      <td>False</td>\n",
       "      <td>False</td>\n",
       "      <td>Attala</td>\n",
       "      <td>Black</td>\n",
       "      <td>NaN</td>\n",
       "      <td>NaN</td>\n",
       "      <td>NaN</td>\n",
       "      <td>False</td>\n",
       "      <td>Joseph Loper, Jr</td>\n",
       "      <td>Kevin Horan</td>\n",
       "      <td>NaN</td>\n",
       "      <td>NaN</td>\n",
       "      <td>False</td>\n",
       "      <td>James H. Powell, III</td>\n",
       "      <td>NaN</td>\n",
       "      <td>NaN</td>\n",
       "      <td>False</td>\n",
       "      <td>97-3-7(2)(b)</td>\n",
       "      <td>Aggravated Assault</td>\n",
       "      <td>NaN</td>\n",
       "      <td>NaN</td>\n",
       "      <td>NaN</td>\n",
       "      <td>NaN</td>\n",
       "      <td>NaN</td>\n",
       "      <td>NaN</td>\n",
       "      <td>NaN</td>\n",
       "      <td>NaN</td>\n",
       "      <td>NaN</td>\n",
       "      <td>NaN</td>\n",
       "      <td>False</td>\n",
       "      <td>Guilty on at least one offense</td>\n",
       "      <td>True</td>\n",
       "      <td>False</td>\n",
       "      <td>False</td>\n",
       "      <td>True</td>\n",
       "      <td>5</td>\n",
       "      <td>7.0</td>\n",
       "      <td>1.0</td>\n",
       "      <td>False</td>\n",
       "      <td>FALSE</td>\n",
       "      <td>FALSE</td>\n",
       "      <td>unknown</td>\n",
       "      <td>unknown</td>\n",
       "      <td>False</td>\n",
       "      <td>False</td>\n",
       "      <td>False</td>\n",
       "      <td>False</td>\n",
       "      <td>False</td>\n",
       "      <td>False</td>\n",
       "      <td>False</td>\n",
       "      <td>False</td>\n",
       "      <td>False</td>\n",
       "      <td>False</td>\n",
       "      <td>False</td>\n",
       "      <td>False</td>\n",
       "      <td>False</td>\n",
       "      <td>False</td>\n",
       "      <td>True</td>\n",
       "      <td>False</td>\n",
       "      <td>False</td>\n",
       "      <td>False</td>\n",
       "      <td>False</td>\n",
       "      <td>True</td>\n",
       "      <td>False</td>\n",
       "      <td>False</td>\n",
       "      <td>False</td>\n",
       "      <td>False</td>\n",
       "      <td>False</td>\n",
       "      <td>False</td>\n",
       "      <td>False</td>\n",
       "      <td>False</td>\n",
       "      <td>False</td>\n",
       "      <td>False</td>\n",
       "      <td>False</td>\n",
       "      <td>False</td>\n",
       "      <td>False</td>\n",
       "      <td>False</td>\n",
       "      <td>False</td>\n",
       "      <td>False</td>\n",
       "      <td>False</td>\n",
       "      <td>False</td>\n",
       "      <td>False</td>\n",
       "      <td>False</td>\n",
       "      <td>False</td>\n",
       "      <td>False</td>\n",
       "      <td>False</td>\n",
       "      <td>False</td>\n",
       "      <td>False</td>\n",
       "      <td>False</td>\n",
       "      <td>False</td>\n",
       "      <td>False</td>\n",
       "      <td>False</td>\n",
       "      <td>False</td>\n",
       "      <td>False</td>\n",
       "      <td>False</td>\n",
       "      <td>False</td>\n",
       "      <td>False</td>\n",
       "      <td>False</td>\n",
       "      <td>False</td>\n",
       "      <td>False</td>\n",
       "      <td>False</td>\n",
       "      <td>False</td>\n",
       "      <td>False</td>\n",
       "      <td>False</td>\n",
       "      <td>NaN</td>\n",
       "    </tr>\n",
       "    <tr>\n",
       "      <th>4</th>\n",
       "      <td>9</td>\n",
       "      <td>1993-9826--Terry L. Landingham</td>\n",
       "      <td>1</td>\n",
       "      <td>White</td>\n",
       "      <td>Female</td>\n",
       "      <td>Jury strike sheet</td>\n",
       "      <td>Jury strike sheet</td>\n",
       "      <td>Struck by the defense</td>\n",
       "      <td>Both State and Defense</td>\n",
       "      <td>1</td>\n",
       "      <td>Terry L. Landingham</td>\n",
       "      <td>1993-9826</td>\n",
       "      <td>False</td>\n",
       "      <td>False</td>\n",
       "      <td>Attala</td>\n",
       "      <td>Black</td>\n",
       "      <td>NaN</td>\n",
       "      <td>NaN</td>\n",
       "      <td>NaN</td>\n",
       "      <td>False</td>\n",
       "      <td>Joseph Loper, Jr</td>\n",
       "      <td>Kevin Horan</td>\n",
       "      <td>NaN</td>\n",
       "      <td>NaN</td>\n",
       "      <td>False</td>\n",
       "      <td>James H. Powell, III</td>\n",
       "      <td>NaN</td>\n",
       "      <td>NaN</td>\n",
       "      <td>False</td>\n",
       "      <td>97-3-7(2)(b)</td>\n",
       "      <td>Aggravated Assault</td>\n",
       "      <td>NaN</td>\n",
       "      <td>NaN</td>\n",
       "      <td>NaN</td>\n",
       "      <td>NaN</td>\n",
       "      <td>NaN</td>\n",
       "      <td>NaN</td>\n",
       "      <td>NaN</td>\n",
       "      <td>NaN</td>\n",
       "      <td>NaN</td>\n",
       "      <td>NaN</td>\n",
       "      <td>False</td>\n",
       "      <td>Guilty on at least one offense</td>\n",
       "      <td>True</td>\n",
       "      <td>False</td>\n",
       "      <td>False</td>\n",
       "      <td>True</td>\n",
       "      <td>7</td>\n",
       "      <td>9.0</td>\n",
       "      <td>1.0</td>\n",
       "      <td>False</td>\n",
       "      <td>FALSE</td>\n",
       "      <td>FALSE</td>\n",
       "      <td>unknown</td>\n",
       "      <td>unknown</td>\n",
       "      <td>False</td>\n",
       "      <td>False</td>\n",
       "      <td>False</td>\n",
       "      <td>False</td>\n",
       "      <td>True</td>\n",
       "      <td>False</td>\n",
       "      <td>False</td>\n",
       "      <td>False</td>\n",
       "      <td>False</td>\n",
       "      <td>False</td>\n",
       "      <td>False</td>\n",
       "      <td>False</td>\n",
       "      <td>False</td>\n",
       "      <td>False</td>\n",
       "      <td>False</td>\n",
       "      <td>False</td>\n",
       "      <td>False</td>\n",
       "      <td>False</td>\n",
       "      <td>False</td>\n",
       "      <td>False</td>\n",
       "      <td>False</td>\n",
       "      <td>False</td>\n",
       "      <td>False</td>\n",
       "      <td>False</td>\n",
       "      <td>False</td>\n",
       "      <td>False</td>\n",
       "      <td>False</td>\n",
       "      <td>False</td>\n",
       "      <td>False</td>\n",
       "      <td>False</td>\n",
       "      <td>False</td>\n",
       "      <td>False</td>\n",
       "      <td>False</td>\n",
       "      <td>False</td>\n",
       "      <td>False</td>\n",
       "      <td>False</td>\n",
       "      <td>False</td>\n",
       "      <td>False</td>\n",
       "      <td>False</td>\n",
       "      <td>False</td>\n",
       "      <td>False</td>\n",
       "      <td>False</td>\n",
       "      <td>False</td>\n",
       "      <td>False</td>\n",
       "      <td>False</td>\n",
       "      <td>False</td>\n",
       "      <td>False</td>\n",
       "      <td>False</td>\n",
       "      <td>False</td>\n",
       "      <td>False</td>\n",
       "      <td>False</td>\n",
       "      <td>False</td>\n",
       "      <td>False</td>\n",
       "      <td>False</td>\n",
       "      <td>False</td>\n",
       "      <td>False</td>\n",
       "      <td>False</td>\n",
       "      <td>False</td>\n",
       "      <td>False</td>\n",
       "      <td>False</td>\n",
       "      <td>False</td>\n",
       "      <td>NaN</td>\n",
       "    </tr>\n",
       "  </tbody>\n",
       "</table>\n",
       "</div>"
      ],
      "text/plain": [
       "   id_x                           trial  trial__id   race  gender  \\\n",
       "0     1  1993-9826--Terry L. Landingham          1  White  Female   \n",
       "1     4  1993-9826--Terry L. Landingham          1  White  Female   \n",
       "2     6  1993-9826--Terry L. Landingham          1  White    Male   \n",
       "3     7  1993-9826--Terry L. Landingham          1  Black  Female   \n",
       "4     9  1993-9826--Terry L. Landingham          1  White  Female   \n",
       "\n",
       "         race_source      gender_source                      struck_by  \\\n",
       "0  Jury strike sheet  Jury strike sheet  Juror chosen to serve on jury   \n",
       "1  Jury strike sheet  Jury strike sheet  Juror chosen to serve on jury   \n",
       "2  Jury strike sheet  Jury strike sheet  Juror chosen to serve on jury   \n",
       "3  Jury strike sheet  Jury strike sheet  Juror chosen to serve on jury   \n",
       "4  Jury strike sheet  Jury strike sheet          Struck by the defense   \n",
       "\n",
       "       strike_eligibility  id_y       defendant_name cause_number  \\\n",
       "0  Both State and Defense     1  Terry L. Landingham    1993-9826   \n",
       "1  Both State and Defense     1  Terry L. Landingham    1993-9826   \n",
       "2  Both State and Defense     1  Terry L. Landingham    1993-9826   \n",
       "3  Both State and Defense     1  Terry L. Landingham    1993-9826   \n",
       "4  Both State and Defense     1  Terry L. Landingham    1993-9826   \n",
       "\n",
       "   state_strikes  defense_strikes  county defendant_race  \\\n",
       "0          False            False  Attala          Black   \n",
       "1          False            False  Attala          Black   \n",
       "2          False            False  Attala          Black   \n",
       "3          False            False  Attala          Black   \n",
       "4          False            False  Attala          Black   \n",
       "\n",
       "  second_defendant_race third_defendant_race  fourth_defendant_race  \\\n",
       "0                   NaN                  NaN                    NaN   \n",
       "1                   NaN                  NaN                    NaN   \n",
       "2                   NaN                  NaN                    NaN   \n",
       "3                   NaN                  NaN                    NaN   \n",
       "4                   NaN                  NaN                    NaN   \n",
       "\n",
       "   more_than_four_defendants             judge prosecutor_1 prosecutor_2  \\\n",
       "0                      False  Joseph Loper, Jr  Kevin Horan          NaN   \n",
       "1                      False  Joseph Loper, Jr  Kevin Horan          NaN   \n",
       "2                      False  Joseph Loper, Jr  Kevin Horan          NaN   \n",
       "3                      False  Joseph Loper, Jr  Kevin Horan          NaN   \n",
       "4                      False  Joseph Loper, Jr  Kevin Horan          NaN   \n",
       "\n",
       "  prosecutor_3  prosecutors_more_than_three           def_attny_1 def_attny_2  \\\n",
       "0          NaN                        False  James H. Powell, III         NaN   \n",
       "1          NaN                        False  James H. Powell, III         NaN   \n",
       "2          NaN                        False  James H. Powell, III         NaN   \n",
       "3          NaN                        False  James H. Powell, III         NaN   \n",
       "4          NaN                        False  James H. Powell, III         NaN   \n",
       "\n",
       "  def_attny_3  def_attnys_more_than_three offense_code_1     offense_title_1  \\\n",
       "0         NaN                       False   97-3-7(2)(b)  Aggravated Assault   \n",
       "1         NaN                       False   97-3-7(2)(b)  Aggravated Assault   \n",
       "2         NaN                       False   97-3-7(2)(b)  Aggravated Assault   \n",
       "3         NaN                       False   97-3-7(2)(b)  Aggravated Assault   \n",
       "4         NaN                       False   97-3-7(2)(b)  Aggravated Assault   \n",
       "\n",
       "  offense_code_2 offense_title_2 offense_code_3 offense_title_3  \\\n",
       "0            NaN             NaN            NaN             NaN   \n",
       "1            NaN             NaN            NaN             NaN   \n",
       "2            NaN             NaN            NaN             NaN   \n",
       "3            NaN             NaN            NaN             NaN   \n",
       "4            NaN             NaN            NaN             NaN   \n",
       "\n",
       "  offense_code_4 offense_title_4 offense_code_5 offense_title_5  \\\n",
       "0            NaN             NaN            NaN             NaN   \n",
       "1            NaN             NaN            NaN             NaN   \n",
       "2            NaN             NaN            NaN             NaN   \n",
       "3            NaN             NaN            NaN             NaN   \n",
       "4            NaN             NaN            NaN             NaN   \n",
       "\n",
       "  offense_code_6 offense_title_6  more_than_six  \\\n",
       "0            NaN             NaN          False   \n",
       "1            NaN             NaN          False   \n",
       "2            NaN             NaN          False   \n",
       "3            NaN             NaN          False   \n",
       "4            NaN             NaN          False   \n",
       "\n",
       "                          verdict  case_appealed  batson_claim_by_defense  \\\n",
       "0  Guilty on at least one offense           True                    False   \n",
       "1  Guilty on at least one offense           True                    False   \n",
       "2  Guilty on at least one offense           True                    False   \n",
       "3  Guilty on at least one offense           True                    False   \n",
       "4  Guilty on at least one offense           True                    False   \n",
       "\n",
       "   batson_claim_by_state  voir_dire_present  id  juror_id  \\\n",
       "0                  False               True   1       1.0   \n",
       "1                  False               True   3       4.0   \n",
       "2                  False               True   8       6.0   \n",
       "3                  False               True   5       7.0   \n",
       "4                  False               True   7       9.0   \n",
       "\n",
       "   juror_id__trial__id  no_responses married children religious education  \\\n",
       "0                  1.0         False   FALSE    FALSE   unknown   unknown   \n",
       "1                  1.0         False   FALSE    FALSE   unknown   unknown   \n",
       "2                  1.0          True   FALSE    FALSE   unknown   unknown   \n",
       "3                  1.0         False   FALSE    FALSE   unknown   unknown   \n",
       "4                  1.0         False   FALSE    FALSE   unknown   unknown   \n",
       "\n",
       "   leans_state  leans_defense  leans_ambi  moral_hardship  job_hardship  \\\n",
       "0        False          False       False           False         False   \n",
       "1        False          False       False           False         False   \n",
       "2        False          False       False           False         False   \n",
       "3        False          False       False           False         False   \n",
       "4        False          False       False           False          True   \n",
       "\n",
       "   caretaker  communication  medical  employed  social  prior_jury  \\\n",
       "0      False          False    False     False   False       False   \n",
       "1      False          False    False     False   False        True   \n",
       "2      False          False    False     False   False       False   \n",
       "3      False          False    False     False   False       False   \n",
       "4      False          False    False     False   False       False   \n",
       "\n",
       "   crime_victim  fam_crime_victim  accused  fam_accused  eyewitness  \\\n",
       "0          True             False    False        False       False   \n",
       "1         False             False    False        False       False   \n",
       "2         False             False    False        False       False   \n",
       "3         False             False    False         True       False   \n",
       "4         False             False    False        False       False   \n",
       "\n",
       "   fam_eyewitness  military  law_enforcement  fam_law_enforcement  \\\n",
       "0           False     False            False                False   \n",
       "1           False     False            False                False   \n",
       "2           False     False            False                False   \n",
       "3           False     False            False                 True   \n",
       "4           False     False            False                False   \n",
       "\n",
       "   premature_verdict  premature_guilt  premature_innocence  def_race  \\\n",
       "0              False            False                False     False   \n",
       "1              False            False                False     False   \n",
       "2              False            False                False     False   \n",
       "3              False            False                False     False   \n",
       "4              False            False                False     False   \n",
       "\n",
       "   vic_race  def_gender  vic_gender  def_social  vic_social  def_age  vic_age  \\\n",
       "0     False       False       False       False       False    False    False   \n",
       "1     False       False       False       False       False    False    False   \n",
       "2     False       False       False       False       False    False    False   \n",
       "3     False       False       False       False       False    False    False   \n",
       "4     False       False       False       False       False    False    False   \n",
       "\n",
       "   def_sexpref  vic_sexpref  def_incarcerated  vic_incarcerated  beliefs  \\\n",
       "0        False        False             False             False    False   \n",
       "1        False        False             False             False    False   \n",
       "2        False        False             False             False    False   \n",
       "3        False        False             False             False    False   \n",
       "4        False        False             False             False    False   \n",
       "\n",
       "   other_biases  innocence  take_stand  arrest_is_guilt  cant_decide  \\\n",
       "0         False      False       False            False        False   \n",
       "1         False      False       False            False        False   \n",
       "2         False      False       False            False        False   \n",
       "3         False      False       False            False        False   \n",
       "4         False      False       False            False        False   \n",
       "\n",
       "   cant_affirm  cant_decide_evidence  cant_follow  know_def  know_vic  \\\n",
       "0        False                 False        False     False     False   \n",
       "1        False                 False        False     False     False   \n",
       "2        False                 False        False     False     False   \n",
       "3        False                 False        False     False     False   \n",
       "4        False                 False        False     False     False   \n",
       "\n",
       "   know_wit  know_attny  civil_plantiff  civil_def  civil_witness  \\\n",
       "0     False       False           False      False          False   \n",
       "1     False       False           False      False          False   \n",
       "2     False       False           False      False          False   \n",
       "3     False       False           False      False          False   \n",
       "4     False       False           False      False          False   \n",
       "\n",
       "   witness_defense  witness_state  prior_info  death_hesitation  no_death  \\\n",
       "0            False          False       False             False     False   \n",
       "1            False          False       False             False     False   \n",
       "2            False          False       False             False     False   \n",
       "3            False          False       False             False     False   \n",
       "4            False          False       False             False     False   \n",
       "\n",
       "   no_life  no_cops  yes_cops  legally_disqualified  witness_ambi notes  \n",
       "0    False    False     False                 False         False   NaN  \n",
       "1    False    False     False                 False         False   NaN  \n",
       "2    False    False     False                 False         False   NaN  \n",
       "3    False    False     False                 False         False   NaN  \n",
       "4    False    False     False                 False         False   NaN  "
      ]
     },
     "execution_count": 296,
     "metadata": {},
     "output_type": "execute_result"
    }
   ],
   "source": [
    "#unión merge con voir\n",
    "\n",
    "#para ver todas las columnas\n",
    "pd.set_option('display.max_columns', None)\n",
    "\n",
    "#merge con todos los jurados aunque no conozcamos sus datos de encuesta ---> 14875\n",
    "# data = pd.merge(merged_data , data_voir_dire_answers, left_on='id_x', right_on='juror_id', how = 'outer')\n",
    "#merge con todos los jurados con sus datos de encuesta ---> 3545\n",
    "data = pd.merge(merged_jurors_trials , data_voir_dire_answers, left_on='id_x', right_on='juror_id')\n",
    "print(data.shape)\n",
    "\n",
    "data.head(5)"
   ]
  }
 ],
 "metadata": {
  "kernelspec": {
   "display_name": "dhdsblend2021",
   "language": "python",
   "name": "python3"
  },
  "language_info": {
   "codemirror_mode": {
    "name": "ipython",
    "version": 3
   },
   "file_extension": ".py",
   "mimetype": "text/x-python",
   "name": "python",
   "nbconvert_exporter": "python",
   "pygments_lexer": "ipython3",
   "version": "3.8.13"
  },
  "orig_nbformat": 4
 },
 "nbformat": 4,
 "nbformat_minor": 2
}
